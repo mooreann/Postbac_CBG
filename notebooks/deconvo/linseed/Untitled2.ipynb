{
 "cells": [
  {
   "cell_type": "code",
   "execution_count": 9,
   "metadata": {},
   "outputs": [
    {
     "name": "stderr",
     "output_type": "stream",
     "text": [
      "Installing package into ‘/home/mooreank/R/x86_64-redhat-linux-gnu-library/3.6’\n",
      "(as ‘lib’ is unspecified)\n"
     ]
    }
   ],
   "source": [
    "install.packages(\"BiocManager\")"
   ]
  },
  {
   "cell_type": "code",
   "execution_count": 11,
   "metadata": {},
   "outputs": [
    {
     "ename": "ERROR",
     "evalue": "Error: Bioconductor version '3.8' requires R version '3.5'; see\n  https://bioconductor.org/install\n",
     "output_type": "error",
     "traceback": [
      "Error: Bioconductor version '3.8' requires R version '3.5'; see\n  https://bioconductor.org/install\nTraceback:\n",
      "1. BiocManager::install(\"rtracklayer\")",
      "2. .version_validate(version)",
      "3. .stop(txt)",
      "4. stop(.msg(...), call. = call.)"
     ]
    }
   ],
   "source": [
    "BiocManager::install(\"rtracklayer\")"
   ]
  },
  {
   "cell_type": "code",
   "execution_count": 1,
   "metadata": {},
   "outputs": [
    {
     "ename": "ERROR",
     "evalue": "Error in library(rtracklayer): there is no package called ‘rtracklayer’\n",
     "output_type": "error",
     "traceback": [
      "Error in library(rtracklayer): there is no package called ‘rtracklayer’\nTraceback:\n",
      "1. library(rtracklayer)"
     ]
    }
   ],
   "source": [
    "library(rtracklayer)\n"
   ]
  }
 ],
 "metadata": {
  "kernelspec": {
   "display_name": "R",
   "language": "R",
   "name": "ir"
  },
  "language_info": {
   "codemirror_mode": "r",
   "file_extension": ".r",
   "mimetype": "text/x-r-source",
   "name": "R",
   "pygments_lexer": "r",
   "version": "3.6.0"
  }
 },
 "nbformat": 4,
 "nbformat_minor": 2
}
