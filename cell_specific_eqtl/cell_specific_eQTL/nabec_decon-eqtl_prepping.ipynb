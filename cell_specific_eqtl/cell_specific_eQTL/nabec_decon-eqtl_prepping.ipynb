{
 "cells": [
  {
   "cell_type": "markdown",
   "metadata": {},
   "source": [
    "# DECON-EQTL PART1: Prepping files to run with Decon-eQTL \n",
    "## (in lngnode2)\n",
    "\n",
    "### Sept 2, 2020"
   ]
  },
  {
   "cell_type": "markdown",
   "metadata": {},
   "source": [
    "## prepping per chromosome"
   ]
  },
  {
   "cell_type": "code",
   "execution_count": 3,
   "metadata": {},
   "outputs": [],
   "source": [
    "import pandas as pd\n",
    "import matplotlib.pyplot as plt\n",
    "import seaborn as sns\n",
    "\n",
    "cohort = 'nabec'\n",
    "CHROMOSOMES=[str(x) for x in list(range(1,23))]\n",
    "WRKDIR = f'/labshare/anni/eqtl/Decon-eQTL/{cohort}'\n",
    "#WRKDIR = '/data/LNG/anni/decon-eqtl/ppmi'\n",
    "fract_in = '/labshare/anni/deconvolution/scaden'\n",
    "#expr_in = \n",
    "geno_in = f'/labshare/raph/eqtl/{cohort}/genotypes/nabec.aug2020.chr*.p*'\n",
    "expr_in = f'/labshare/raph/eqtl/{cohort}/expression/nabec.aug2020.chr*.pheno'\n",
    "info_in = f'/labshare/raph/eqtl/{cohort}/sample_info/'\n",
    "\n",
    "\n",
    "expr_samples = f'/labshare/anni/deconvolution/{cohort}/{cohort}_gene_numreads.sf'\n",
    "fract_file = 'scaden_predictions_nabec_rosmap_seeded_NOOAMv4_200.txt'\n",
    "info_file = 'nabec.aug2020.sample_info.txt'\n",
    "subset_samples_file = 'nabec.deconeqtl.subset.samples.txt'\n",
    "gencode_file = '/labshare/anni/gencode/gencode.v32.transcripts.txt'\n",
    "\n"
   ]
  },
  {
   "cell_type": "markdown",
   "metadata": {},
   "source": [
    "## check sample info"
   ]
  },
  {
   "cell_type": "code",
   "execution_count": null,
   "metadata": {},
   "outputs": [],
   "source": [
    "info_df = pd.read_csv(f'{info_in}/{info_file}')\n",
    "info_df.head()"
   ]
  },
  {
   "cell_type": "markdown",
   "metadata": {},
   "source": [
    "## Prepping genotype files"
   ]
  },
  {
   "cell_type": "markdown",
   "metadata": {},
   "source": [
    "#### got files from /labseq/projects/nabec/wgs/genotypes/hg38\n",
    "#### only copied over chr22, need to copy rest"
   ]
  },
  {
   "cell_type": "markdown",
   "metadata": {},
   "source": [
    "### copying over genotypes per chrom"
   ]
  },
  {
   "cell_type": "code",
   "execution_count": 4,
   "metadata": {},
   "outputs": [],
   "source": [
    "## copy over all chrom files\n",
    "### from neurod.freeze9 files from /labshare/raph\n",
    "cmd = f'mkdir {WRKDIR}/genotypes'\n",
    "!{cmd}\n",
    "cmd = f'cp {geno_in} {WRKDIR}/genotypes/'\n",
    "!{cmd}\n"
   ]
  },
  {
   "cell_type": "code",
   "execution_count": 1,
   "metadata": {},
   "outputs": [],
   "source": [
    "##copy to biowulf\n",
    "#!cp /labshare/anni/eqtl/ppmi/plink/genotypes/* /labshare/anni/scp /Decon-eQTL/ppmi/genotypes/\n",
    "#!scp mooreank@156.40.49.21:/labshare/anni/eqtl/Decon-eQTL/ppmi/genotypes/* /data/LNG/anni/decon-eqtl"
   ]
  },
  {
   "cell_type": "markdown",
   "metadata": {},
   "source": [
    "### extract cohort samples from file"
   ]
  },
  {
   "cell_type": "markdown",
   "metadata": {},
   "source": [
    "#### "
   ]
  },
  {
   "cell_type": "code",
   "execution_count": 9,
   "metadata": {},
   "outputs": [
    {
     "name": "stdout",
     "output_type": "stream",
     "text": [
      "run in terminal:\n",
      "plink2 --pfile nabec.aug2020.chr1 --silent --geno 0.05 --maf 0.05 --hwe 0.000001 --make-pgen --out nabec.aug2020.chr1.geno05maf05hwe000001 &\n",
      "plink2 --pfile nabec.aug2020.chr2 --silent --geno 0.05 --maf 0.05 --hwe 0.000001 --make-pgen --out nabec.aug2020.chr2.geno05maf05hwe000001 &\n",
      "plink2 --pfile nabec.aug2020.chr3 --silent --geno 0.05 --maf 0.05 --hwe 0.000001 --make-pgen --out nabec.aug2020.chr3.geno05maf05hwe000001 &\n",
      "plink2 --pfile nabec.aug2020.chr4 --silent --geno 0.05 --maf 0.05 --hwe 0.000001 --make-pgen --out nabec.aug2020.chr4.geno05maf05hwe000001 &\n",
      "plink2 --pfile nabec.aug2020.chr5 --silent --geno 0.05 --maf 0.05 --hwe 0.000001 --make-pgen --out nabec.aug2020.chr5.geno05maf05hwe000001 &\n",
      "plink2 --pfile nabec.aug2020.chr6 --silent --geno 0.05 --maf 0.05 --hwe 0.000001 --make-pgen --out nabec.aug2020.chr6.geno05maf05hwe000001 &\n",
      "plink2 --pfile nabec.aug2020.chr7 --silent --geno 0.05 --maf 0.05 --hwe 0.000001 --make-pgen --out nabec.aug2020.chr7.geno05maf05hwe000001 &\n",
      "plink2 --pfile nabec.aug2020.chr8 --silent --geno 0.05 --maf 0.05 --hwe 0.000001 --make-pgen --out nabec.aug2020.chr8.geno05maf05hwe000001 &\n",
      "plink2 --pfile nabec.aug2020.chr9 --silent --geno 0.05 --maf 0.05 --hwe 0.000001 --make-pgen --out nabec.aug2020.chr9.geno05maf05hwe000001 &\n",
      "plink2 --pfile nabec.aug2020.chr10 --silent --geno 0.05 --maf 0.05 --hwe 0.000001 --make-pgen --out nabec.aug2020.chr10.geno05maf05hwe000001 &\n",
      "plink2 --pfile nabec.aug2020.chr11 --silent --geno 0.05 --maf 0.05 --hwe 0.000001 --make-pgen --out nabec.aug2020.chr11.geno05maf05hwe000001 &\n",
      "plink2 --pfile nabec.aug2020.chr12 --silent --geno 0.05 --maf 0.05 --hwe 0.000001 --make-pgen --out nabec.aug2020.chr12.geno05maf05hwe000001 &\n",
      "plink2 --pfile nabec.aug2020.chr13 --silent --geno 0.05 --maf 0.05 --hwe 0.000001 --make-pgen --out nabec.aug2020.chr13.geno05maf05hwe000001 &\n",
      "plink2 --pfile nabec.aug2020.chr14 --silent --geno 0.05 --maf 0.05 --hwe 0.000001 --make-pgen --out nabec.aug2020.chr14.geno05maf05hwe000001 &\n",
      "plink2 --pfile nabec.aug2020.chr15 --silent --geno 0.05 --maf 0.05 --hwe 0.000001 --make-pgen --out nabec.aug2020.chr15.geno05maf05hwe000001 &\n",
      "plink2 --pfile nabec.aug2020.chr16 --silent --geno 0.05 --maf 0.05 --hwe 0.000001 --make-pgen --out nabec.aug2020.chr16.geno05maf05hwe000001 &\n",
      "plink2 --pfile nabec.aug2020.chr17 --silent --geno 0.05 --maf 0.05 --hwe 0.000001 --make-pgen --out nabec.aug2020.chr17.geno05maf05hwe000001 &\n",
      "plink2 --pfile nabec.aug2020.chr18 --silent --geno 0.05 --maf 0.05 --hwe 0.000001 --make-pgen --out nabec.aug2020.chr18.geno05maf05hwe000001 &\n",
      "plink2 --pfile nabec.aug2020.chr19 --silent --geno 0.05 --maf 0.05 --hwe 0.000001 --make-pgen --out nabec.aug2020.chr19.geno05maf05hwe000001 &\n",
      "plink2 --pfile nabec.aug2020.chr20 --silent --geno 0.05 --maf 0.05 --hwe 0.000001 --make-pgen --out nabec.aug2020.chr20.geno05maf05hwe000001 &\n",
      "plink2 --pfile nabec.aug2020.chr21 --silent --geno 0.05 --maf 0.05 --hwe 0.000001 --make-pgen --out nabec.aug2020.chr21.geno05maf05hwe000001 &\n",
      "plink2 --pfile nabec.aug2020.chr22 --silent --geno 0.05 --maf 0.05 --hwe 0.000001 --make-pgen --out nabec.aug2020.chr22.geno05maf05hwe000001 &\n"
     ]
    }
   ],
   "source": [
    "\n",
    "## getting list of ppmi samples form psam file \n",
    "print('run in terminal:')\n",
    "\n",
    "##directory: /labsharea/anni/eqtl/Decon-eQTL/nabec/genotypes\n",
    "# print ('awk '\"'$1 ~ \"'\"PP-\"'\" {print $1\"'\" \"'\"$2}'\"' nabec.apr.2018.chr22.fam > nabec.apr.2018.samples')\n",
    "# print('')\n",
    "for chrom in CHROMOSOMES:\n",
    "    #print(\"\")\n",
    "    #print(f'plink2 --pfile neurod.freeze9.chr{chrom} --keep neurod.freeze9.ppmi.samples --maf 0.05 --geno 0.05 --make-pgen --out neurod.freeze9.ppmi.maf05geno05.chr{chrom}.samples &')\n",
    "    print(f'plink2 --pfile nabec.aug2020.chr{chrom} --silent --geno 0.05 --maf 0.05 --hwe 0.000001 --make-pgen --out nabec.aug2020.chr{chrom}.geno05maf05hwe000001 &')\n",
    "    \n",
    "    "
   ]
  },
  {
   "cell_type": "code",
   "execution_count": 23,
   "metadata": {},
   "outputs": [
    {
     "name": "stdout",
     "output_type": "stream",
     "text": [
      "run in terminal:\n",
      "plink2 --pfile nabec.aug2020.chr1.geno05maf05hwe000001 --silent --export A-transpose --out nabec.aug2020.chr1.geno05maf05hwe000001 &\n",
      "plink2 --pfile nabec.aug2020.chr2.geno05maf05hwe000001 --silent --export A-transpose --out nabec.aug2020.chr2.geno05maf05hwe000001 &\n",
      "plink2 --pfile nabec.aug2020.chr3.geno05maf05hwe000001 --silent --export A-transpose --out nabec.aug2020.chr3.geno05maf05hwe000001 &\n",
      "plink2 --pfile nabec.aug2020.chr4.geno05maf05hwe000001 --silent --export A-transpose --out nabec.aug2020.chr4.geno05maf05hwe000001 &\n",
      "plink2 --pfile nabec.aug2020.chr5.geno05maf05hwe000001 --silent --export A-transpose --out nabec.aug2020.chr5.geno05maf05hwe000001 &\n",
      "plink2 --pfile nabec.aug2020.chr6.geno05maf05hwe000001 --silent --export A-transpose --out nabec.aug2020.chr6.geno05maf05hwe000001 &\n",
      "plink2 --pfile nabec.aug2020.chr7.geno05maf05hwe000001 --silent --export A-transpose --out nabec.aug2020.chr7.geno05maf05hwe000001 &\n",
      "plink2 --pfile nabec.aug2020.chr8.geno05maf05hwe000001 --silent --export A-transpose --out nabec.aug2020.chr8.geno05maf05hwe000001 &\n",
      "plink2 --pfile nabec.aug2020.chr9.geno05maf05hwe000001 --silent --export A-transpose --out nabec.aug2020.chr9.geno05maf05hwe000001 &\n",
      "plink2 --pfile nabec.aug2020.chr10.geno05maf05hwe000001 --silent --export A-transpose --out nabec.aug2020.chr10.geno05maf05hwe000001 &\n",
      "plink2 --pfile nabec.aug2020.chr11.geno05maf05hwe000001 --silent --export A-transpose --out nabec.aug2020.chr11.geno05maf05hwe000001 &\n",
      "plink2 --pfile nabec.aug2020.chr12.geno05maf05hwe000001 --silent --export A-transpose --out nabec.aug2020.chr12.geno05maf05hwe000001 &\n",
      "plink2 --pfile nabec.aug2020.chr13.geno05maf05hwe000001 --silent --export A-transpose --out nabec.aug2020.chr13.geno05maf05hwe000001 &\n",
      "plink2 --pfile nabec.aug2020.chr14.geno05maf05hwe000001 --silent --export A-transpose --out nabec.aug2020.chr14.geno05maf05hwe000001 &\n",
      "plink2 --pfile nabec.aug2020.chr15.geno05maf05hwe000001 --silent --export A-transpose --out nabec.aug2020.chr15.geno05maf05hwe000001 &\n",
      "plink2 --pfile nabec.aug2020.chr16.geno05maf05hwe000001 --silent --export A-transpose --out nabec.aug2020.chr16.geno05maf05hwe000001 &\n",
      "plink2 --pfile nabec.aug2020.chr17.geno05maf05hwe000001 --silent --export A-transpose --out nabec.aug2020.chr17.geno05maf05hwe000001 &\n",
      "plink2 --pfile nabec.aug2020.chr18.geno05maf05hwe000001 --silent --export A-transpose --out nabec.aug2020.chr18.geno05maf05hwe000001 &\n",
      "plink2 --pfile nabec.aug2020.chr19.geno05maf05hwe000001 --silent --export A-transpose --out nabec.aug2020.chr19.geno05maf05hwe000001 &\n",
      "plink2 --pfile nabec.aug2020.chr20.geno05maf05hwe000001 --silent --export A-transpose --out nabec.aug2020.chr20.geno05maf05hwe000001 &\n",
      "plink2 --pfile nabec.aug2020.chr21.geno05maf05hwe000001 --silent --export A-transpose --out nabec.aug2020.chr21.geno05maf05hwe000001 &\n",
      "plink2 --pfile nabec.aug2020.chr22.geno05maf05hwe000001 --silent --export A-transpose --out nabec.aug2020.chr22.geno05maf05hwe000001 &\n"
     ]
    }
   ],
   "source": [
    "## converting plink genotype files to dosage files \n",
    "print('run in terminal:')\n",
    "for chrom in CHROMOSOMES:\n",
    "    print(f'plink2 --pfile nabec.aug2020.chr{chrom}.geno05maf05hwe000001 --silent --export A-transpose --out nabec.aug2020.chr{chrom}.geno05maf05hwe000001 &')\n",
    "      "
   ]
  },
  {
   "cell_type": "markdown",
   "metadata": {},
   "source": [
    "### separating pheno data per chrom (expression matrix) or just copy over"
   ]
  },
  {
   "cell_type": "code",
   "execution_count": 25,
   "metadata": {},
   "outputs": [],
   "source": [
    "#!cp /labshare/anni/eqtl/ppmi/plink/expression/ppmi.V08.chr* /labshare/anni/eqtl/Decon-eQTL/ppmi/expression/\n",
    "# !cp /labshare/anni/eqtl/ppmi/plink/expression/ppmi.V08.chr19* /labshare/anni/eqtl/Decon-eQTL/ppmi/expression/\n",
    "# !cp /labshare/anni/eqtl/ppmi/plink/expression/ppmi.V08.chr20* /labshare/anni/eqtl/Decon-eQTL/ppmi/expression/\n",
    "# !cp /labshare/anni/eqtl/ppmi/plink/expression/ppmi.V08.chr21* /labshare/anni/eqtl/Decon-eQTL/ppmi/expression/\n",
    "# !cp /labshare/anni/eqtl/ppmi/plink/expression/ppmi.V08.chr22* /labshare/anni/eqtl/Decon-eQTL/ppmi/expression/\n",
    "cmd = f'mkdir {WRKDIR}/expression'\n",
    "!{cmd}\n",
    "\n",
    "cmd = f'cp {expr_in} {WRKDIR}/expression/'\n",
    "!{cmd}"
   ]
  },
  {
   "cell_type": "markdown",
   "metadata": {},
   "source": [
    "## Get overlapping samples"
   ]
  },
  {
   "cell_type": "code",
   "execution_count": null,
   "metadata": {},
   "outputs": [],
   "source": [
    "# expr_df = pd.read_csv(f'{WRKDIR}/expression/nabec.aug2020.chr22.pheno',sep='\\t')\n",
    "# expr_samples = expr_df['IID'].tolist()\n",
    "# print(f'expr samples: {len(expr_samples)}')\n",
    "# print(expr_df.shape)\n",
    "# expr_df.head()"
   ]
  },
  {
   "cell_type": "code",
   "execution_count": 61,
   "metadata": {},
   "outputs": [
    {
     "name": "stdout",
     "output_type": "stream",
     "text": [
      "expr samples: 278\n",
      "geno samples: 328\n",
      "overlapping samples: 248\n"
     ]
    }
   ],
   "source": [
    "expr_df = pd.read_csv(f'{WRKDIR}/expression/nabec.aug2020.chr22.pheno',sep='\\t')\n",
    "expr_samples = expr_df['IID'].tolist()\n",
    "print(f'expr samples: {len(expr_samples)}')\n",
    "#expr_df.head()\n",
    "\n",
    "geno_df = pd.read_csv(f'{WRKDIR}/genotypes/nabec.aug2020.chr22.geno05maf05hwe000001.traw', sep='\\t')\n",
    "del geno_df['CHR']\n",
    "del geno_df['SNP']\n",
    "del geno_df['POS']\n",
    "del geno_df['COUNTED']\n",
    "del geno_df['ALT']\n",
    "del geno_df['(C)M']\n",
    "geno_columns = geno_df.columns.tolist()\n",
    "geno_samples = []\n",
    "for item in geno_columns:\n",
    "    name = item.split('_')[0]\n",
    "    geno_samples.append(name)\n",
    "print(f'geno samples: {len(geno_samples)}')\n",
    "\n",
    "\n",
    "overlap_samples = list(set(expr_samples) & set(geno_samples))\n",
    "print(f'overlapping samples: {len(overlap_samples)}')\n",
    "\n",
    "\n",
    "with open(f'{WRKDIR}/{subset_samples_file}', 'w') as output:\n",
    "    for x in overlap_samples:\n",
    "        output.write(str(x) + '\\n')"
   ]
  },
  {
   "cell_type": "markdown",
   "metadata": {},
   "source": [
    "## Finish prepping genotype and prep expression, subset by samples"
   ]
  },
  {
   "cell_type": "code",
   "execution_count": 26,
   "metadata": {},
   "outputs": [],
   "source": [
    "##functions\n",
    "\n",
    "import pandas as pd\n",
    "\n",
    "def format_geno(chrom):\n",
    "    in_file = f'{WRKDIR}/genotypes/nabec.aug2020.chr{chrom}.geno05maf05hwe000001.traw'\n",
    "    out_file = f'{WRKDIR}/genotypes/nabec.aug2020.chr{chrom}.geno05maf05hwe000001.format.traw'\n",
    "    change = pd.read_csv(in_file, sep='\\t')\n",
    "\n",
    "    #change.replace(dict(column1={'\\{_*\\}': ''}), regex=True)\n",
    "    #change.to_csv(f'{WRKDIR}/neurod.freeze9.ppmi.maf05geno05.chr22.dosage.trans.strip.traw.test', sep='\\t')\n",
    "\n",
    "    ##make SNP column CHR:POS:REF:ALT\n",
    "    change['CHR'] = \"chr\"+change['CHR'].astype(str)\n",
    "    change['POS'] = change['POS'].astype(str)\n",
    "    change['COUNTED'] = change['COUNTED'].astype(str)\n",
    "    change['ALT'] = change['ALT'].astype(str)\n",
    "    change['SNP'] = change[\"CHR\"]+':'+change[\"POS\"]+\":\"+change[\"COUNTED\"]+\":\"+change[\"ALT\"]\n",
    "\n",
    "    ##delete extra columns\n",
    "    del change['CHR']\n",
    "    del change['(C)M']\n",
    "    del change['POS']\n",
    "    del change['COUNTED']\n",
    "    del change['ALT']\n",
    "\n",
    "    ## get rid of SNP column header\n",
    "    #change.replace(dict(SNP={'\\{_*\\}': ''}), regex=True)\n",
    "    change = change.rename(columns = {'SNP':''})\n",
    "\n",
    "    ##replace column names \n",
    "    change_orig = pd.DataFrame(change.columns.tolist())\n",
    "    change_orig.columns = ['old']\n",
    "    change_orig['new'] = change_orig.old.str.split('_').str[0]\n",
    "\n",
    "\n",
    "    id_dict = dict(zip(change_orig['old'], change_orig['new'])) \n",
    "    #rename the features/columns using the dict (mapping)\n",
    "\n",
    "    change.rename(columns=id_dict, inplace=True)\n",
    "    geno_samples = change.columns.tolist()\n",
    "\n",
    "    change.index = change['']\n",
    "    del change['']\n",
    "    change.head()\n",
    "    #return change\n",
    "    print(f'geno chrom{chrom}: '+str(change.shape))\n",
    "    change.to_csv(out_file, sep='\\t')\n",
    "\n",
    "def subset_by_samples_geno(sample_incl_list, chrom):\n",
    "    in_file = f'{WRKDIR}/genotypes/nabec.aug2020.chr{chrom}.geno05maf05hwe000001.format.traw'\n",
    "    out_file = f'{WRKDIR}/genotypes/nabec.aug2020.chr{chrom}.geno05maf05hwe000001.subset.traw'\n",
    "    change = pd.read_csv(in_file, sep='\\t',index_col=0)\n",
    "    ### subset geno over overlapping samples\n",
    "    change = change[[c for c in change.columns if c in sample_incl]]\n",
    "    # geno_samples = geno_samples.sort()\n",
    "    # print(geno_samples[:5])\n",
    "    change.head()\n",
    "\n",
    "    print(f'geno subset chrom{chrom}: '+str(change.shape))\n",
    "    #print(change.head())\n",
    "    change.to_csv(out_file, sep='\\t', index=True)\n",
    "\n",
    "\n",
    "    \n",
    "def format_exp(chrom):\n",
    "    in_file = f'{WRKDIR}/expression/nabec.aug2020.chr{chrom}.pheno'\n",
    "    out_file = f'{WRKDIR}/expression/nabec.aug2020.chr{chrom}.format.pheno'\n",
    "    #exp_df = pd.read_csv(f'{WRKDIR}/expression/ppmi.V08.chr{chrom}.norm.umap_adj.pheno',sep='\\t', index_col=0)\n",
    "    exp_df = pd.read_csv(in_file,sep='\\t', index_col=0)\n",
    "    del exp_df['IID']\n",
    "    exp_df.index.name = ''\n",
    "    #exp_samples = exp_df.index.tolist() \n",
    "    print(f'expression chrom{chrom}: '+str(exp_df.shape))\n",
    "    exp_df = exp_df.T\n",
    "    #exp_df.head()   \n",
    "    #return exp_df\n",
    "    exp_df.to_csv(out_file,sep='\\t')\n",
    "\n",
    "    \n",
    "\n",
    "\n",
    "def subset_by_samples_exp(sample_incl_list, chrom):\n",
    "    ##subset expression df\n",
    "    in_file = f'{WRKDIR}/expression/nabec.aug2020.chr{chrom}.format.pheno'\n",
    "    out_file = f'{WRKDIR}/expression/nabec.aug2020.chr{chrom}.subset.pheno'\n",
    "    exp_df = pd.read_csv(in_file,sep='\\t', index_col=0)\n",
    "    #exp_df = exp_df[exp_df.index.isin(sample_incl)]\n",
    "    exp_df = exp_df[[c for c in exp_df.columns if c in sample_incl]]\n",
    "    #exp_df = exp_df.reindex(geno_samples)\n",
    "    exp_df = exp_df.reindex(sorted(exp_df.columns), axis=1)\n",
    "    print(f'expression subset chrom{chrom}: '+str(exp_df.shape))\n",
    "    exp_df.to_csv(out_file,sep='\\t',index=True)"
   ]
  },
  {
   "cell_type": "code",
   "execution_count": 75,
   "metadata": {},
   "outputs": [
    {
     "data": {
      "text/plain": [
       "248"
      ]
     },
     "execution_count": 75,
     "metadata": {},
     "output_type": "execute_result"
    }
   ],
   "source": [
    "##get list of samples to subset files\n",
    "# sample_incl = list(set(geno_samples) & set(exp_samples) & set(fract_samples))\n",
    "# len(sample_incl)\n",
    "\n",
    "# with open('/labshare/anni/eqtl/Decon-eQTL/ppmi/subset.ppmi.samples.txt', 'w') as f:\n",
    "#     for item in sample_incl:\n",
    "#         f.write(\"%s\\n\" % item)\n",
    "\n",
    "sample_df = pd.read_csv(f'{WRKDIR}/nabec.deconeqtl.subset.samples.txt', sep='\\t', header=None)\n",
    "#sample_df.head()\n",
    "sample_incl = sample_df[0].tolist()\n",
    "len(sample_incl)"
   ]
  },
  {
   "cell_type": "markdown",
   "metadata": {},
   "source": [
    "### Run format and subsetting of genotype and expression files based on subset sample list"
   ]
  },
  {
   "cell_type": "code",
   "execution_count": 76,
   "metadata": {},
   "outputs": [
    {
     "name": "stdout",
     "output_type": "stream",
     "text": [
      "geno chrom1: (457996, 328)\n",
      "geno subset chrom1: (457996, 248)\n",
      "expression chrom1: (278, 1675)\n",
      "expression subset chrom1: (1675, 248)\n",
      "geno chrom2: (495685, 328)\n",
      "geno subset chrom2: (495685, 248)\n",
      "expression chrom2: (278, 1185)\n",
      "expression subset chrom2: (1185, 248)\n",
      "geno chrom3: (428129, 328)\n",
      "geno subset chrom3: (428129, 248)\n",
      "expression chrom3: (278, 1024)\n",
      "expression subset chrom3: (1024, 248)\n",
      "geno chrom4: (440387, 328)\n",
      "geno subset chrom4: (440387, 248)\n",
      "expression chrom4: (278, 671)\n",
      "expression subset chrom4: (671, 248)\n",
      "geno chrom5: (386004, 328)\n",
      "geno subset chrom5: (386004, 248)\n",
      "expression chrom5: (278, 853)\n",
      "expression subset chrom5: (853, 248)\n",
      "geno chrom6: (405433, 328)\n",
      "geno subset chrom6: (405433, 248)\n",
      "expression chrom6: (278, 880)\n",
      "expression subset chrom6: (880, 248)\n",
      "geno chrom7: (351230, 328)\n",
      "geno subset chrom7: (351230, 248)\n",
      "expression chrom7: (278, 853)\n",
      "expression subset chrom7: (853, 248)\n",
      "geno chrom8: (327585, 328)\n",
      "geno subset chrom8: (327585, 248)\n",
      "expression chrom8: (278, 647)\n",
      "expression subset chrom8: (647, 248)\n",
      "geno chrom9: (257977, 328)\n",
      "geno subset chrom9: (257977, 248)\n",
      "expression chrom9: (278, 700)\n",
      "expression subset chrom9: (700, 248)\n",
      "geno chrom10: (309389, 328)\n",
      "geno subset chrom10: (309389, 248)\n",
      "expression chrom10: (278, 646)\n",
      "expression subset chrom10: (646, 248)\n",
      "geno chrom11: (301608, 328)\n",
      "geno subset chrom11: (301608, 248)\n",
      "expression chrom11: (278, 898)\n",
      "expression subset chrom11: (898, 248)\n",
      "geno chrom12: (288151, 328)\n",
      "geno subset chrom12: (288151, 248)\n",
      "expression chrom12: (278, 951)\n",
      "expression subset chrom12: (951, 248)\n",
      "geno chrom13: (223872, 328)\n",
      "geno subset chrom13: (223872, 248)\n",
      "expression chrom13: (278, 334)\n",
      "expression subset chrom13: (334, 248)\n",
      "geno chrom14: (192252, 328)\n",
      "geno subset chrom14: (192252, 248)\n",
      "expression chrom14: (278, 570)\n",
      "expression subset chrom14: (570, 248)\n",
      "geno chrom15: (165318, 328)\n",
      "geno subset chrom15: (165318, 248)\n",
      "expression chrom15: (278, 610)\n",
      "expression subset chrom15: (610, 248)\n",
      "geno chrom16: (178485, 328)\n",
      "geno subset chrom16: (178485, 248)\n",
      "expression chrom16: (278, 777)\n",
      "expression subset chrom16: (777, 248)\n",
      "geno chrom17: (158515, 328)\n",
      "geno subset chrom17: (158515, 248)\n",
      "expression chrom17: (278, 1001)\n",
      "expression subset chrom17: (1001, 248)\n",
      "geno chrom18: (172458, 328)\n",
      "geno subset chrom18: (172458, 248)\n",
      "expression chrom18: (278, 288)\n",
      "expression subset chrom18: (288, 248)\n",
      "geno chrom19: (131436, 328)\n",
      "geno subset chrom19: (131436, 248)\n",
      "expression chrom19: (278, 1114)\n",
      "expression subset chrom19: (1114, 248)\n",
      "geno chrom20: (134566, 328)\n",
      "geno subset chrom20: (134566, 248)\n",
      "expression chrom20: (278, 415)\n",
      "expression subset chrom20: (415, 248)\n",
      "geno chrom21: (84158, 328)\n",
      "geno subset chrom21: (84158, 248)\n",
      "expression chrom21: (278, 194)\n",
      "expression subset chrom21: (194, 248)\n",
      "geno chrom22: (79115, 328)\n",
      "geno subset chrom22: (79115, 248)\n",
      "expression chrom22: (278, 402)\n",
      "expression subset chrom22: (402, 248)\n"
     ]
    }
   ],
   "source": [
    "\n",
    "CHROMOSOMES_test=[str(x) for x in list(range(1,23))]\n",
    "#chrom = 1\n",
    "for chrom in CHROMOSOMES_test:\n",
    "    format_geno(chrom)\n",
    "    subset_by_samples_geno(sample_incl, chrom)\n",
    "    format_exp(chrom)\n",
    "    subset_by_samples_exp(sample_incl, chrom)\n",
    "    "
   ]
  },
  {
   "cell_type": "markdown",
   "metadata": {},
   "source": [
    "## loading sample fractions"
   ]
  },
  {
   "cell_type": "code",
   "execution_count": 12,
   "metadata": {},
   "outputs": [
    {
     "name": "stdout",
     "output_type": "stream",
     "text": [
      "(657, 6)\n"
     ]
    },
    {
     "data": {
      "image/png": "[encoded data removed]",
      "text/plain": [
       "<Figure size 576x576 with 1 Axes>"
      ]
     },
     "metadata": {
      "needs_background": "light"
     },
     "output_type": "display_data"
    }
   ],
   "source": [
    "scaden = pd.read_csv(f'{fract_in}/{fract_file}', sep='\\t')\n",
    "print(scaden.shape)\n",
    "scaden.set_index(['Unnamed: 0'], drop=True, inplace=True)\n",
    "scaden.head()\n",
    "\n",
    "scaden.sort_values(by=['Neuron', \\\n",
    "                                          'Oligodendrocyte']).plot.bar(stacked=True, \\\n",
    "                                                                   use_index=False, \\\n",
    "                                                                   grid=False, width=1, \\\n",
    "                                                                   figsize=(8,8),\n",
    "                                                                    xticks=None)\n",
    "plt.legend(bbox_to_anchor=(1.05, 1), loc=2, borderaxespad=0,prop={'size': 12})\n",
    "plt.title('BULK NABEC ROSMAP Scaden cell fractions')\n",
    "plt.show()\n",
    "\n",
    "#plt.savefig(f'{WRKDIR}/nabec_rosmap_bulk_scaden_brain_elevated_extra_cell_fractions.png')"
   ]
  },
  {
   "cell_type": "code",
   "execution_count": 78,
   "metadata": {},
   "outputs": [
    {
     "data": {
      "text/html": [
       "<div>\n",
       "<style scoped>\n",
       "    .dataframe tbody tr th:only-of-type {\n",
       "        vertical-align: middle;\n",
       "    }\n",
       "\n",
       "    .dataframe tbody tr th {\n",
       "        vertical-align: top;\n",
       "    }\n",
       "\n",
       "    .dataframe thead th {\n",
       "        text-align: right;\n",
       "    }\n",
       "</style>\n",
       "<table border=\"1\" class=\"dataframe\">\n",
       "  <thead>\n",
       "    <tr style=\"text-align: right;\">\n",
       "      <th></th>\n",
       "      <th>Microglia</th>\n",
       "      <th>Astrocyte</th>\n",
       "      <th>OPC</th>\n",
       "      <th>Oligodendrocyte</th>\n",
       "      <th>Neuron</th>\n",
       "    </tr>\n",
       "  </thead>\n",
       "  <tbody>\n",
       "    <tr>\n",
       "      <th>SM-CTDSC</th>\n",
       "      <td>0.140306</td>\n",
       "      <td>12.183997</td>\n",
       "      <td>0.007635</td>\n",
       "      <td>1.095105</td>\n",
       "      <td>86.572960</td>\n",
       "    </tr>\n",
       "    <tr>\n",
       "      <th>SM-CJGMZ</th>\n",
       "      <td>0.109217</td>\n",
       "      <td>12.782510</td>\n",
       "      <td>0.005036</td>\n",
       "      <td>1.072486</td>\n",
       "      <td>86.030750</td>\n",
       "    </tr>\n",
       "    <tr>\n",
       "      <th>SM-CJIXK</th>\n",
       "      <td>0.213305</td>\n",
       "      <td>25.155708</td>\n",
       "      <td>0.013709</td>\n",
       "      <td>1.590663</td>\n",
       "      <td>73.026610</td>\n",
       "    </tr>\n",
       "    <tr>\n",
       "      <th>SM-CJIZR</th>\n",
       "      <td>0.198984</td>\n",
       "      <td>12.740023</td>\n",
       "      <td>0.009282</td>\n",
       "      <td>0.874360</td>\n",
       "      <td>86.177350</td>\n",
       "    </tr>\n",
       "    <tr>\n",
       "      <th>SM-CTEET</th>\n",
       "      <td>0.248917</td>\n",
       "      <td>22.235920</td>\n",
       "      <td>0.016070</td>\n",
       "      <td>1.782549</td>\n",
       "      <td>75.716543</td>\n",
       "    </tr>\n",
       "  </tbody>\n",
       "</table>\n",
       "</div>"
      ],
      "text/plain": [
       "          Microglia  Astrocyte       OPC  Oligodendrocyte     Neuron\n",
       "SM-CTDSC   0.140306  12.183997  0.007635         1.095105  86.572960\n",
       "SM-CJGMZ   0.109217  12.782510  0.005036         1.072486  86.030750\n",
       "SM-CJIXK   0.213305  25.155708  0.013709         1.590663  73.026610\n",
       "SM-CJIZR   0.198984  12.740023  0.009282         0.874360  86.177350\n",
       "SM-CTEET   0.248917  22.235920  0.016070         1.782549  75.716543"
      ]
     },
     "execution_count": 78,
     "metadata": {},
     "output_type": "execute_result"
    }
   ],
   "source": [
    "fract_df = pd.read_csv(f'{fract_in}/{fract_file}',sep='\\t', index_col=0)\n",
    "fract_df = fract_df * 100\n",
    "fract_df.head()"
   ]
  },
  {
   "cell_type": "code",
   "execution_count": 81,
   "metadata": {},
   "outputs": [
    {
     "name": "stdout",
     "output_type": "stream",
     "text": [
      "(248, 5)\n"
     ]
    },
    {
     "data": {
      "text/html": [
       "<div>\n",
       "<style scoped>\n",
       "    .dataframe tbody tr th:only-of-type {\n",
       "        vertical-align: middle;\n",
       "    }\n",
       "\n",
       "    .dataframe tbody tr th {\n",
       "        vertical-align: top;\n",
       "    }\n",
       "\n",
       "    .dataframe thead th {\n",
       "        text-align: right;\n",
       "    }\n",
       "</style>\n",
       "<table border=\"1\" class=\"dataframe\">\n",
       "  <thead>\n",
       "    <tr style=\"text-align: right;\">\n",
       "      <th></th>\n",
       "      <th>Microglia</th>\n",
       "      <th>Astrocyte</th>\n",
       "      <th>OPC</th>\n",
       "      <th>Oligodendrocyte</th>\n",
       "      <th>Neuron</th>\n",
       "    </tr>\n",
       "  </thead>\n",
       "  <tbody>\n",
       "    <tr>\n",
       "      <th>SH-00-34</th>\n",
       "      <td>0.275147</td>\n",
       "      <td>5.734295</td>\n",
       "      <td>0.012469</td>\n",
       "      <td>0.078024</td>\n",
       "      <td>93.900067</td>\n",
       "    </tr>\n",
       "    <tr>\n",
       "      <th>SH-00-38</th>\n",
       "      <td>0.257504</td>\n",
       "      <td>5.944761</td>\n",
       "      <td>0.014112</td>\n",
       "      <td>0.944214</td>\n",
       "      <td>92.839410</td>\n",
       "    </tr>\n",
       "    <tr>\n",
       "      <th>SH-00-49</th>\n",
       "      <td>0.363019</td>\n",
       "      <td>8.467063</td>\n",
       "      <td>0.019880</td>\n",
       "      <td>1.950174</td>\n",
       "      <td>89.199860</td>\n",
       "    </tr>\n",
       "    <tr>\n",
       "      <th>SH-01-31</th>\n",
       "      <td>0.236132</td>\n",
       "      <td>6.409678</td>\n",
       "      <td>0.018348</td>\n",
       "      <td>0.243097</td>\n",
       "      <td>93.092746</td>\n",
       "    </tr>\n",
       "    <tr>\n",
       "      <th>SH-01-37</th>\n",
       "      <td>0.371429</td>\n",
       "      <td>6.352154</td>\n",
       "      <td>0.014456</td>\n",
       "      <td>0.155819</td>\n",
       "      <td>93.106145</td>\n",
       "    </tr>\n",
       "  </tbody>\n",
       "</table>\n",
       "</div>"
      ],
      "text/plain": [
       "          Microglia  Astrocyte       OPC  Oligodendrocyte     Neuron\n",
       "SH-00-34   0.275147   5.734295  0.012469         0.078024  93.900067\n",
       "SH-00-38   0.257504   5.944761  0.014112         0.944214  92.839410\n",
       "SH-00-49   0.363019   8.467063  0.019880         1.950174  89.199860\n",
       "SH-01-31   0.236132   6.409678  0.018348         0.243097  93.092746\n",
       "SH-01-37   0.371429   6.352154  0.014456         0.155819  93.106145"
      ]
     },
     "execution_count": 81,
     "metadata": {},
     "output_type": "execute_result"
    }
   ],
   "source": [
    "# samples_df = pd.read_csv(expr_samples, sep='\\t', index_col=0)\n",
    "# samples_list = samples_df.columns\n",
    "# print(len(samples_list))\n",
    "\n",
    "cohort_fract_df = fract_df[fract_df.index.isin(sample_incl)]\n",
    "print(cohort_fract_df.shape)\n",
    "cohort_fract_df.to_csv(f'{WRKDIR}/nabec.scaden.v4_200.cell_fract.subset.txt',sep='\\t',index=True)\n",
    "cohort_fract_df.head()\n",
    "# df.index.isin([1,3])"
   ]
  },
  {
   "cell_type": "code",
   "execution_count": 80,
   "metadata": {},
   "outputs": [
    {
     "name": "stdout",
     "output_type": "stream",
     "text": [
      "(248, 5)\n"
     ]
    },
    {
     "data": {
      "image/png": "[encoded data removed]",
      "text/plain": [
       "<Figure size 576x576 with 1 Axes>"
      ]
     },
     "metadata": {
      "needs_background": "light"
     },
     "output_type": "display_data"
    }
   ],
   "source": [
    "scaden = cohort_fract_df\n",
    "print(scaden.shape)\n",
    "#scaden.set_index(['Unnamed: 0'], drop=True, inplace=True)\n",
    "scaden.head()\n",
    "\n",
    "scaden.sort_values(by=['Neuron', \\\n",
    "                                          'Oligodendrocyte']).plot.bar(stacked=True, \\\n",
    "                                                                   use_index=False, \\\n",
    "                                                                   grid=False, width=1, \\\n",
    "                                                                   figsize=(8,8),\n",
    "                                                                    xticks=None)\n",
    "plt.legend(bbox_to_anchor=(1.05, 1), loc=2, borderaxespad=0,prop={'size': 12})\n",
    "plt.title(f'{cohort} Scaden cell fractions')\n",
    "plt.show()\n",
    "\n",
    "#plt.savefig(f'{WRKDIR}/nabec_rosmap_bulk_scaden_brain_elevated_extra_cell_fractions.png')"
   ]
  },
  {
   "cell_type": "markdown",
   "metadata": {},
   "source": [
    "## transfer files to biowulf"
   ]
  },
  {
   "cell_type": "code",
   "execution_count": 97,
   "metadata": {},
   "outputs": [
    {
     "data": {
      "text/plain": [
       "'/labshare/anni/eqtl/Decon-eQTL/nabec'"
      ]
     },
     "execution_count": 97,
     "metadata": {},
     "output_type": "execute_result"
    }
   ],
   "source": [
    "WRKDIR"
   ]
  },
  {
   "cell_type": "code",
   "execution_count": null,
   "metadata": {},
   "outputs": [],
   "source": []
  }
 ],
 "metadata": {
  "kernelspec": {
   "display_name": "Python 3",
   "language": "python",
   "name": "python3"
  },
  "language_info": {
   "codemirror_mode": {
    "name": "ipython",
    "version": 3
   },
   "file_extension": ".py",
   "mimetype": "text/x-python",
   "name": "python",
   "nbconvert_exporter": "python",
   "pygments_lexer": "ipython3",
   "version": "3.7.3"
  }
 },
 "nbformat": 4,
 "nbformat_minor": 4
}
