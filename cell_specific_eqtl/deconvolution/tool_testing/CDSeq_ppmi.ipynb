{
 "cells": [
  {
   "cell_type": "code",
   "execution_count": 2,
   "metadata": {},
   "outputs": [
    {
     "name": "stderr",
     "output_type": "stream",
     "text": [
      "Loading required package: usethis\n",
      "\n",
      "Downloading GitHub repo kkang7/CDSeq_R_Package@master\n",
      "\n"
     ]
    },
    {
     "name": "stdout",
     "output_type": "stream",
     "text": [
      "R.matlab     (NA          -> 3.6.2      ) [CRAN]\n",
      "RcppArmad... (0.9.800.3.0 -> 0.9.870.2.0) [CRAN]\n",
      "foreach      (1.4.7       -> 1.5.0      ) [CRAN]\n",
      "dirmult      (NA          -> 0.1.3-4    ) [CRAN]\n",
      "RcppThread   (NA          -> 0.5.4      ) [CRAN]\n",
      "R.methodsS3  (1.7.1       -> 1.8.0      ) [CRAN]\n"
     ]
    },
    {
     "name": "stderr",
     "output_type": "stream",
     "text": [
      "Installing 6 packages: R.matlab, RcppArmadillo, foreach, dirmult, RcppThread, R.methodsS3\n",
      "\n",
      "Installing packages into ‘/home/mooreank/R/x86_64-redhat-linux-gnu-library/3.6’\n",
      "(as ‘lib’ is unspecified)\n",
      "\n"
     ]
    },
    {
     "name": "stdout",
     "output_type": "stream",
     "text": [
      "\u001b[32m✔\u001b[39m  \u001b[38;5;247mchecking for file ‘/tmp/RtmpjM4mBs/remotes9a52279ada6e/kkang7-CDSeq_R_Package-0009459/DESCRIPTION’\u001b[39m\u001b[36m\u001b[36m (767ms)\u001b[36m\u001b[39m\n",
      "\u001b[38;5;247m─\u001b[39m\u001b[38;5;247m  \u001b[39m\u001b[38;5;247mpreparing ‘CDSeq’:\u001b[39m\u001b[36m\u001b[39m\n",
      "\u001b[32m✔\u001b[39m  \u001b[38;5;247mchecking DESCRIPTION meta-information\u001b[39m\u001b[36m\u001b[39m\n",
      "\u001b[38;5;247m─\u001b[39m\u001b[38;5;247m  \u001b[39m\u001b[38;5;247mcleaning src\u001b[39m\u001b[36m\u001b[39m\n",
      "\u001b[38;5;247m─\u001b[39m\u001b[38;5;247m  \u001b[39m\u001b[38;5;247mchecking for LF line-endings in source and make files and shell scripts\u001b[39m\u001b[36m\u001b[39m\n",
      "\u001b[38;5;247m─\u001b[39m\u001b[38;5;247m  \u001b[39m\u001b[38;5;247mchecking for empty or unneeded directories\u001b[39m\u001b[36m\u001b[39m\n",
      "\u001b[38;5;247m─\u001b[39m\u001b[38;5;247m  \u001b[39m\u001b[38;5;247mlooking to see if a ‘data/datalist’ file should be added\u001b[39m\u001b[36m\u001b[39m\n",
      "\u001b[38;5;247m─\u001b[39m\u001b[38;5;247m  \u001b[39m\u001b[38;5;247mbuilding ‘CDSeq_1.0.5.tar.gz’\u001b[39m\u001b[36m\u001b[39m\n",
      "   \n",
      "\r"
     ]
    },
    {
     "name": "stderr",
     "output_type": "stream",
     "text": [
      "Installing package into ‘/home/mooreank/R/x86_64-redhat-linux-gnu-library/3.6’\n",
      "(as ‘lib’ is unspecified)\n",
      "\n"
     ]
    }
   ],
   "source": [
    "# library(devtools)\n",
    "# install_github(\"kkang7/CDSeq_R_Package\")"
   ]
  },
  {
   "cell_type": "code",
   "execution_count": 1,
   "metadata": {},
   "outputs": [],
   "source": [
    "library(CDSeq)"
   ]
  },
  {
   "cell_type": "code",
   "execution_count": 2,
   "metadata": {},
   "outputs": [
    {
     "data": {
      "text/html": [
       "'/labshare/anni/deconvolution'"
      ],
      "text/latex": [
       "'/labshare/anni/deconvolution'"
      ],
      "text/markdown": [
       "'/labshare/anni/deconvolution'"
      ],
      "text/plain": [
       "[1] \"/labshare/anni/deconvolution\""
      ]
     },
     "metadata": {},
     "output_type": "display_data"
    }
   ],
   "source": [
    "getwd()"
   ]
  },
  {
   "cell_type": "code",
   "execution_count": 6,
   "metadata": {},
   "outputs": [],
   "source": [
    "#setwd('./nabec')\n",
    "setwd('../')"
   ]
  },
  {
   "cell_type": "code",
   "execution_count": null,
   "metadata": {},
   "outputs": [],
   "source": [
    "??CDSeq"
   ]
  },
  {
   "cell_type": "code",
   "execution_count": 2,
   "metadata": {},
   "outputs": [
    {
     "data": {
      "text/html": [
       "<table>\n",
       "<caption>A data.frame: 6 × 559</caption>\n",
       "<thead>\n",
       "\t<tr><th></th><th scope=col>PPMISI3000</th><th scope=col>PPMISI3001</th><th scope=col>PPMISI3002</th><th scope=col>PPMISI3003</th><th scope=col>PPMISI3004</th><th scope=col>PPMISI3008</th><th scope=col>PPMISI3010</th><th scope=col>PPMISI3012</th><th scope=col>PPMISI3013</th><th scope=col>PPMISI3016</th><th scope=col>⋯</th><th scope=col>PPMISI60035</th><th scope=col>PPMISI60036</th><th scope=col>PPMISI60045</th><th scope=col>PPMISI60046</th><th scope=col>PPMISI60057</th><th scope=col>PPMISI60059</th><th scope=col>PPMISI60060</th><th scope=col>PPMISI60063</th><th scope=col>PPMISI65003</th><th scope=col>PPMISI90456</th></tr>\n",
       "\t<tr><th></th><th scope=col>&lt;dbl&gt;</th><th scope=col>&lt;dbl&gt;</th><th scope=col>&lt;dbl&gt;</th><th scope=col>&lt;dbl&gt;</th><th scope=col>&lt;dbl&gt;</th><th scope=col>&lt;dbl&gt;</th><th scope=col>&lt;dbl&gt;</th><th scope=col>&lt;dbl&gt;</th><th scope=col>&lt;dbl&gt;</th><th scope=col>&lt;dbl&gt;</th><th scope=col>⋯</th><th scope=col>&lt;dbl&gt;</th><th scope=col>&lt;dbl&gt;</th><th scope=col>&lt;dbl&gt;</th><th scope=col>&lt;dbl&gt;</th><th scope=col>&lt;dbl&gt;</th><th scope=col>&lt;dbl&gt;</th><th scope=col>&lt;dbl&gt;</th><th scope=col>&lt;dbl&gt;</th><th scope=col>&lt;dbl&gt;</th><th scope=col>&lt;dbl&gt;</th></tr>\n",
       "</thead>\n",
       "<tbody>\n",
       "\t<tr><th scope=row>MIR517A</th><td> 0.000</td><td> 0</td><td> 0</td><td> 0</td><td> 0.000</td><td> 0</td><td> 0.000</td><td> 0</td><td> 0.000</td><td>0</td><td>⋯</td><td> 0.000</td><td> 0</td><td> 0</td><td> 0</td><td> 0</td><td> 0</td><td> 0</td><td> 0.0</td><td> 0</td><td> 0</td></tr>\n",
       "\t<tr><th scope=row>AC007952.5</th><td>92.848</td><td>48</td><td>71</td><td>32</td><td>39.824</td><td>36</td><td>17.999</td><td>42</td><td>91.651</td><td>5</td><td>⋯</td><td>69.458</td><td>81</td><td>21</td><td>43</td><td>46</td><td>65</td><td>51</td><td>56.9</td><td>49</td><td>24</td></tr>\n",
       "\t<tr><th scope=row>MIR518C</th><td> 0.000</td><td> 0</td><td> 0</td><td> 0</td><td> 0.000</td><td> 0</td><td> 0.000</td><td> 0</td><td> 0.000</td><td>0</td><td>⋯</td><td> 0.000</td><td> 0</td><td> 0</td><td> 0</td><td> 0</td><td> 0</td><td> 0</td><td> 0.0</td><td> 0</td><td> 0</td></tr>\n",
       "\t<tr><th scope=row>MIR520C</th><td> 0.000</td><td> 0</td><td> 0</td><td> 0</td><td> 0.000</td><td> 0</td><td> 0.000</td><td> 0</td><td> 0.000</td><td>0</td><td>⋯</td><td> 0.000</td><td> 0</td><td> 0</td><td> 0</td><td> 0</td><td> 0</td><td> 0</td><td> 0.0</td><td> 0</td><td> 0</td></tr>\n",
       "\t<tr><th scope=row>MIR526A1</th><td> 0.000</td><td> 0</td><td> 0</td><td> 0</td><td> 0.000</td><td> 0</td><td> 0.000</td><td> 0</td><td> 0.000</td><td>0</td><td>⋯</td><td> 0.000</td><td> 0</td><td> 0</td><td> 0</td><td> 0</td><td> 0</td><td> 0</td><td> 0.0</td><td> 0</td><td> 0</td></tr>\n",
       "\t<tr><th scope=row>AC099542.2</th><td> 0.000</td><td> 0</td><td> 0</td><td> 0</td><td> 0.000</td><td> 0</td><td> 0.000</td><td> 1</td><td> 0.000</td><td>0</td><td>⋯</td><td> 0.000</td><td> 0</td><td> 0</td><td> 0</td><td> 0</td><td> 0</td><td> 0</td><td> 0.0</td><td> 2</td><td> 0</td></tr>\n",
       "</tbody>\n",
       "</table>\n"
      ],
      "text/latex": [
       "A data.frame: 6 × 559\n",
       "\\begin{tabular}{r|lllllllllllllllllllll}\n",
       "  & PPMISI3000 & PPMISI3001 & PPMISI3002 & PPMISI3003 & PPMISI3004 & PPMISI3008 & PPMISI3010 & PPMISI3012 & PPMISI3013 & PPMISI3016 & ⋯ & PPMISI60035 & PPMISI60036 & PPMISI60045 & PPMISI60046 & PPMISI60057 & PPMISI60059 & PPMISI60060 & PPMISI60063 & PPMISI65003 & PPMISI90456\\\\\n",
       "  & <dbl> & <dbl> & <dbl> & <dbl> & <dbl> & <dbl> & <dbl> & <dbl> & <dbl> & <dbl> & ⋯ & <dbl> & <dbl> & <dbl> & <dbl> & <dbl> & <dbl> & <dbl> & <dbl> & <dbl> & <dbl>\\\\\n",
       "\\hline\n",
       "\tMIR517A &  0.000 &  0 &  0 &  0 &  0.000 &  0 &  0.000 &  0 &  0.000 & 0 & ⋯ &  0.000 &  0 &  0 &  0 &  0 &  0 &  0 &  0.0 &  0 &  0\\\\\n",
       "\tAC007952.5 & 92.848 & 48 & 71 & 32 & 39.824 & 36 & 17.999 & 42 & 91.651 & 5 & ⋯ & 69.458 & 81 & 21 & 43 & 46 & 65 & 51 & 56.9 & 49 & 24\\\\\n",
       "\tMIR518C &  0.000 &  0 &  0 &  0 &  0.000 &  0 &  0.000 &  0 &  0.000 & 0 & ⋯ &  0.000 &  0 &  0 &  0 &  0 &  0 &  0 &  0.0 &  0 &  0\\\\\n",
       "\tMIR520C &  0.000 &  0 &  0 &  0 &  0.000 &  0 &  0.000 &  0 &  0.000 & 0 & ⋯ &  0.000 &  0 &  0 &  0 &  0 &  0 &  0 &  0.0 &  0 &  0\\\\\n",
       "\tMIR526A1 &  0.000 &  0 &  0 &  0 &  0.000 &  0 &  0.000 &  0 &  0.000 & 0 & ⋯ &  0.000 &  0 &  0 &  0 &  0 &  0 &  0 &  0.0 &  0 &  0\\\\\n",
       "\tAC099542.2 &  0.000 &  0 &  0 &  0 &  0.000 &  0 &  0.000 &  1 &  0.000 & 0 & ⋯ &  0.000 &  0 &  0 &  0 &  0 &  0 &  0 &  0.0 &  2 &  0\\\\\n",
       "\\end{tabular}\n"
      ],
      "text/markdown": [
       "\n",
       "A data.frame: 6 × 559\n",
       "\n",
       "| <!--/--> | PPMISI3000 &lt;dbl&gt; | PPMISI3001 &lt;dbl&gt; | PPMISI3002 &lt;dbl&gt; | PPMISI3003 &lt;dbl&gt; | PPMISI3004 &lt;dbl&gt; | PPMISI3008 &lt;dbl&gt; | PPMISI3010 &lt;dbl&gt; | PPMISI3012 &lt;dbl&gt; | PPMISI3013 &lt;dbl&gt; | PPMISI3016 &lt;dbl&gt; | ⋯ ⋯ | PPMISI60035 &lt;dbl&gt; | PPMISI60036 &lt;dbl&gt; | PPMISI60045 &lt;dbl&gt; | PPMISI60046 &lt;dbl&gt; | PPMISI60057 &lt;dbl&gt; | PPMISI60059 &lt;dbl&gt; | PPMISI60060 &lt;dbl&gt; | PPMISI60063 &lt;dbl&gt; | PPMISI65003 &lt;dbl&gt; | PPMISI90456 &lt;dbl&gt; |\n",
       "|---|---|---|---|---|---|---|---|---|---|---|---|---|---|---|---|---|---|---|---|---|---|\n",
       "| MIR517A |  0.000 |  0 |  0 |  0 |  0.000 |  0 |  0.000 |  0 |  0.000 | 0 | ⋯ |  0.000 |  0 |  0 |  0 |  0 |  0 |  0 |  0.0 |  0 |  0 |\n",
       "| AC007952.5 | 92.848 | 48 | 71 | 32 | 39.824 | 36 | 17.999 | 42 | 91.651 | 5 | ⋯ | 69.458 | 81 | 21 | 43 | 46 | 65 | 51 | 56.9 | 49 | 24 |\n",
       "| MIR518C |  0.000 |  0 |  0 |  0 |  0.000 |  0 |  0.000 |  0 |  0.000 | 0 | ⋯ |  0.000 |  0 |  0 |  0 |  0 |  0 |  0 |  0.0 |  0 |  0 |\n",
       "| MIR520C |  0.000 |  0 |  0 |  0 |  0.000 |  0 |  0.000 |  0 |  0.000 | 0 | ⋯ |  0.000 |  0 |  0 |  0 |  0 |  0 |  0 |  0.0 |  0 |  0 |\n",
       "| MIR526A1 |  0.000 |  0 |  0 |  0 |  0.000 |  0 |  0.000 |  0 |  0.000 | 0 | ⋯ |  0.000 |  0 |  0 |  0 |  0 |  0 |  0 |  0.0 |  0 |  0 |\n",
       "| AC099542.2 |  0.000 |  0 |  0 |  0 |  0.000 |  0 |  0.000 |  1 |  0.000 | 0 | ⋯ |  0.000 |  0 |  0 |  0 |  0 |  0 |  0 |  0.0 |  2 |  0 |\n",
       "\n"
      ],
      "text/plain": [
       "           PPMISI3000 PPMISI3001 PPMISI3002 PPMISI3003 PPMISI3004 PPMISI3008\n",
       "MIR517A     0.000      0          0          0          0.000      0        \n",
       "AC007952.5 92.848     48         71         32         39.824     36        \n",
       "MIR518C     0.000      0          0          0          0.000      0        \n",
       "MIR520C     0.000      0          0          0          0.000      0        \n",
       "MIR526A1    0.000      0          0          0          0.000      0        \n",
       "AC099542.2  0.000      0          0          0          0.000      0        \n",
       "           PPMISI3010 PPMISI3012 PPMISI3013 PPMISI3016 ⋯ PPMISI60035\n",
       "MIR517A     0.000      0          0.000     0          ⋯  0.000     \n",
       "AC007952.5 17.999     42         91.651     5          ⋯ 69.458     \n",
       "MIR518C     0.000      0          0.000     0          ⋯  0.000     \n",
       "MIR520C     0.000      0          0.000     0          ⋯  0.000     \n",
       "MIR526A1    0.000      0          0.000     0          ⋯  0.000     \n",
       "AC099542.2  0.000      1          0.000     0          ⋯  0.000     \n",
       "           PPMISI60036 PPMISI60045 PPMISI60046 PPMISI60057 PPMISI60059\n",
       "MIR517A     0           0           0           0           0         \n",
       "AC007952.5 81          21          43          46          65         \n",
       "MIR518C     0           0           0           0           0         \n",
       "MIR520C     0           0           0           0           0         \n",
       "MIR526A1    0           0           0           0           0         \n",
       "AC099542.2  0           0           0           0           0         \n",
       "           PPMISI60060 PPMISI60063 PPMISI65003 PPMISI90456\n",
       "MIR517A     0           0.0         0           0         \n",
       "AC007952.5 51          56.9        49          24         \n",
       "MIR518C     0           0.0         0           0         \n",
       "MIR520C     0           0.0         0           0         \n",
       "MIR526A1    0           0.0         0           0         \n",
       "AC099542.2  0           0.0         2           0         "
      ]
     },
     "metadata": {},
     "output_type": "display_data"
    }
   ],
   "source": [
    "sample_mtx_file <- read.csv('./ppmi/ppmi_gene_numreads_V08_genenames_nodups.txt', sep = '\\t')\n",
    "sample_mtx <- sample_mtx_file[,-1]\n",
    "rownames(sample_mtx) <- sample_mtx_file[,1]\n",
    "head(sample_mtx)"
   ]
  },
  {
   "cell_type": "code",
   "execution_count": 4,
   "metadata": {},
   "outputs": [
    {
     "data": {
      "text/html": [
       "<style>\n",
       ".list-inline {list-style: none; margin:0; padding: 0}\n",
       ".list-inline>li {display: inline-block}\n",
       ".list-inline>li:not(:last-child)::after {content: \"\\00b7\"; padding: 0 .5ex}\n",
       "</style>\n",
       "<ol class=list-inline><li>59032</li><li>559</li></ol>\n"
      ],
      "text/latex": [
       "\\begin{enumerate*}\n",
       "\\item 59032\n",
       "\\item 559\n",
       "\\end{enumerate*}\n"
      ],
      "text/markdown": [
       "1. 59032\n",
       "2. 559\n",
       "\n",
       "\n"
      ],
      "text/plain": [
       "[1] 59032   559"
      ]
     },
     "metadata": {},
     "output_type": "display_data"
    }
   ],
   "source": [
    "dim(sample_mtx)"
   ]
  },
  {
   "cell_type": "code",
   "execution_count": null,
   "metadata": {},
   "outputs": [
    {
     "name": "stdout",
     "output_type": "stream",
     "text": [
      "\n",
      "============================================ CDSeq R package version 1.0.5 ==================================================\n",
      "|  Coders     : Kai Kang, David Huang                                                                                         |\n",
      "|  Reference 1: CDSeq: A novel complete deconvolution method for dissecting heterogeneous samples using gene expression data  |\n",
      "|  Reference 2: CDSeq: An R package for fast complete deconvolution using gene expression data                                |\n",
      "|  Maintainer : kangkai0714@gmail.com                                                                                         |\n",
      "===============================================================================================================================\n",
      "CDSeq is running in Reduce-Recover mode which breaks up the whole data into blocks. To run CDSeq on the whole data, please set block_number = 1.\n"
     ]
    },
    {
     "name": "stderr",
     "output_type": "stream",
     "text": [
      "Warning message in CDSeq(sample_mtx, beta = 0.5, alpha = 5, cell_type_number = 5, :\n",
      "“gene_length is NOT provided. CDSeq will estiamte read rate not gene rate. Please provide gene length if you are interested in GEP estimation.”\n",
      "Warning message in CDSeq(sample_mtx, beta = 0.5, alpha = 5, cell_type_number = 5, :\n",
      "“Reference gene expression profile is missing. Cell type identification and RPKM normalization will NOT be performed by CDSeq. Users can identify CDSeq-identified cell-types using marker genes or reference gene expression profiles.”\n",
      "Warning message in CDSeq(sample_mtx, beta = 0.5, alpha = 5, cell_type_number = 5, :\n",
      "“ bulk_data is NOT read count data. Please provide read counts data if possible for potentially better estimations.”\n",
      "cpu_number is not provided. CDSeq uses detectCores()-1 number of cpu cores for parallel computing.\n",
      "\n",
      "\n"
     ]
    }
   ],
   "source": [
    "# result = CDSeq(\n",
    "#   sample_mtx,      # this is the bulk RNAseq read counts \n",
    "#   beta = 0.5,     # hyperparameter for gene expression estimation, you could just use the default value\n",
    "#   alpha = 5,      # hyperparameter for cell fraction estimation, you could just use the default value\n",
    "#   cell_type_number = NULL, # you need to specify the number of cell types in two ways: 1. provide an integer, 2. provide a vector of integers in this case CDSeq will estimate the most likely number of cell types for you.\n",
    "#   mcmc_iterations = 700,   # iterations for Gibbs sampler \n",
    "#   dilution_factor = 1,     # this is for speed up computation when needed. CDSeq will work on bulk_data/dilution_factor (division) which will result in less reads and therefore run faster. \n",
    "#   gene_subset_size = NULL, # this is a new feature that we added for speeding up the computation. detail in the following.\n",
    "#   block_number = 1,        # this is a new feature used together with gene_subset_size. detail in the following.\n",
    "#   cpu_number = NULL,       # user control for how many cpu will be used\n",
    "#   gene_length = NULL,      # effective length of genes which equals to gene length - reads length + 1. this will be used for normalization of the gene expression estimates. \n",
    "#   reference_gep = NULL,    # this is the pure cell line gene expression profile. can be used for cell type identification for CDSeq-estimated cell types\n",
    "#   print_progress_msg_to_file = 0 # this is just an indicator of whether you want to print out the progress during the computation such as process ID, and the progress of the computation etc. \n",
    "# )\n",
    "result = CDSeq(\n",
    "  sample_mtx,      # this is the bulk RNAseq read counts \n",
    "  beta = 0.5,     # hyperparameter for gene expression estimation, you could just use the default value\n",
    "  alpha = 5,      # hyperparameter for cell fraction estimation, you could just use the default value\n",
    "  cell_type_number = 5, # you need to specify the number of cell types in two ways: 1. provide an integer, 2. provide a vector of integers in this case CDSeq will estimate the most likely number of cell types for you.\n",
    "  mcmc_iterations = 700,   # iterations for Gibbs sampler \n",
    "  dilution_factor = 200,     # this is for speed up computation when needed. CDSeq will work on bulk_data/dilution_factor (division) which will result in less reads and therefore run faster. \n",
    "  gene_subset_size = 2000, # this is a new feature that we added for speeding up the computation. detail in the following.\n",
    "  block_number = 30,        # this is a new feature used together with gene_subset_size. detail in the following.\n",
    "  reference_gep = NULL,    # this is the pure cell line gene expression profile. can be used for cell type identification for CDSeq-estimated cell types\n",
    ")\n",
    "\n",
    "\n",
    "##write to bash script, run in terminal\n",
    "##"
   ]
  },
  {
   "cell_type": "code",
   "execution_count": 8,
   "metadata": {},
   "outputs": [],
   "source": [
    "#result\n",
    "bulk_prop <- result$estProp\n",
    "write.csv(bulk_prop, './CDSeq_bulk_ppmi_V08_prop.csv')"
   ]
  },
  {
   "cell_type": "code",
   "execution_count": 9,
   "metadata": {},
   "outputs": [],
   "source": [
    "bulk_GEP <- result$estGEP\n",
    "write.csv(bulk_GEP, './CDSeq_bulk_ppmi_V08_GEPs.csv')"
   ]
  },
  {
   "cell_type": "code",
   "execution_count": null,
   "metadata": {},
   "outputs": [],
   "source": [
    "?gibbsSampler()"
   ]
  },
  {
   "cell_type": "code",
   "execution_count": null,
   "metadata": {},
   "outputs": [],
   "source": [
    "test <- CDSeq::gibbsSampler(mixtureSamples = sample_mtx)"
   ]
  },
  {
   "cell_type": "code",
   "execution_count": null,
   "metadata": {},
   "outputs": [],
   "source": []
  }
 ],
 "metadata": {
  "kernelspec": {
   "display_name": "R",
   "language": "R",
   "name": "ir"
  },
  "language_info": {
   "codemirror_mode": "r",
   "file_extension": ".r",
   "mimetype": "text/x-r-source",
   "name": "R",
   "pygments_lexer": "r",
   "version": "3.6.0"
  }
 },
 "nbformat": 4,
 "nbformat_minor": 4
}
