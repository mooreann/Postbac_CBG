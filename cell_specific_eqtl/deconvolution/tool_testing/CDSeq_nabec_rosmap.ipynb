{
 "cells": [
  {
   "cell_type": "code",
   "execution_count": 2,
   "metadata": {},
   "outputs": [
    {
     "name": "stderr",
     "output_type": "stream",
     "text": [
      "Loading required package: usethis\n",
      "\n",
      "Downloading GitHub repo kkang7/CDSeq_R_Package@master\n",
      "\n"
     ]
    },
    {
     "name": "stdout",
     "output_type": "stream",
     "text": [
      "R.matlab     (NA          -> 3.6.2      ) [CRAN]\n",
      "RcppArmad... (0.9.800.3.0 -> 0.9.870.2.0) [CRAN]\n",
      "foreach      (1.4.7       -> 1.5.0      ) [CRAN]\n",
      "dirmult      (NA          -> 0.1.3-4    ) [CRAN]\n",
      "RcppThread   (NA          -> 0.5.4      ) [CRAN]\n",
      "R.methodsS3  (1.7.1       -> 1.8.0      ) [CRAN]\n"
     ]
    },
    {
     "name": "stderr",
     "output_type": "stream",
     "text": [
      "Installing 6 packages: R.matlab, RcppArmadillo, foreach, dirmult, RcppThread, R.methodsS3\n",
      "\n",
      "Installing packages into ‘/home/mooreank/R/x86_64-redhat-linux-gnu-library/3.6’\n",
      "(as ‘lib’ is unspecified)\n",
      "\n"
     ]
    },
    {
     "name": "stdout",
     "output_type": "stream",
     "text": [
      "\u001b[32m✔\u001b[39m  \u001b[38;5;247mchecking for file ‘/tmp/RtmpjM4mBs/remotes9a52279ada6e/kkang7-CDSeq_R_Package-0009459/DESCRIPTION’\u001b[39m\u001b[36m\u001b[36m (767ms)\u001b[36m\u001b[39m\n",
      "\u001b[38;5;247m─\u001b[39m\u001b[38;5;247m  \u001b[39m\u001b[38;5;247mpreparing ‘CDSeq’:\u001b[39m\u001b[36m\u001b[39m\n",
      "\u001b[32m✔\u001b[39m  \u001b[38;5;247mchecking DESCRIPTION meta-information\u001b[39m\u001b[36m\u001b[39m\n",
      "\u001b[38;5;247m─\u001b[39m\u001b[38;5;247m  \u001b[39m\u001b[38;5;247mcleaning src\u001b[39m\u001b[36m\u001b[39m\n",
      "\u001b[38;5;247m─\u001b[39m\u001b[38;5;247m  \u001b[39m\u001b[38;5;247mchecking for LF line-endings in source and make files and shell scripts\u001b[39m\u001b[36m\u001b[39m\n",
      "\u001b[38;5;247m─\u001b[39m\u001b[38;5;247m  \u001b[39m\u001b[38;5;247mchecking for empty or unneeded directories\u001b[39m\u001b[36m\u001b[39m\n",
      "\u001b[38;5;247m─\u001b[39m\u001b[38;5;247m  \u001b[39m\u001b[38;5;247mlooking to see if a ‘data/datalist’ file should be added\u001b[39m\u001b[36m\u001b[39m\n",
      "\u001b[38;5;247m─\u001b[39m\u001b[38;5;247m  \u001b[39m\u001b[38;5;247mbuilding ‘CDSeq_1.0.5.tar.gz’\u001b[39m\u001b[36m\u001b[39m\n",
      "   \n",
      "\r"
     ]
    },
    {
     "name": "stderr",
     "output_type": "stream",
     "text": [
      "Installing package into ‘/home/mooreank/R/x86_64-redhat-linux-gnu-library/3.6’\n",
      "(as ‘lib’ is unspecified)\n",
      "\n"
     ]
    }
   ],
   "source": [
    "# library(devtools)\n",
    "# install_github(\"kkang7/CDSeq_R_Package\")"
   ]
  },
  {
   "cell_type": "code",
   "execution_count": 1,
   "metadata": {},
   "outputs": [],
   "source": [
    "library(CDSeq)"
   ]
  },
  {
   "cell_type": "code",
   "execution_count": 2,
   "metadata": {},
   "outputs": [
    {
     "data": {
      "text/html": [
       "'/labshare/anni/deconvolution'"
      ],
      "text/latex": [
       "'/labshare/anni/deconvolution'"
      ],
      "text/markdown": [
       "'/labshare/anni/deconvolution'"
      ],
      "text/plain": [
       "[1] \"/labshare/anni/deconvolution\""
      ]
     },
     "metadata": {},
     "output_type": "display_data"
    }
   ],
   "source": [
    "getwd()"
   ]
  },
  {
   "cell_type": "code",
   "execution_count": 6,
   "metadata": {},
   "outputs": [],
   "source": [
    "#setwd('./nabec')\n",
    "setwd('../')"
   ]
  },
  {
   "cell_type": "code",
   "execution_count": 4,
   "metadata": {},
   "outputs": [
    {
     "data": {
      "text/plain": [
       "R Information\n",
       "\n",
       "Demos with name or title matching ‘CDSeq’ using fuzzy matching:\n",
       "\n",
       "\n",
       "foreach::sincSEQ        computation of the sinc function\n",
       "\n",
       "\n",
       "Type 'demo(PKG::FOO)' to run demonstration 'PKG::FOO'.\n",
       "\n",
       "\n",
       "\n",
       "Help files with alias or concept or title matching ‘CDSeq’ using fuzzy\n",
       "matching:\n",
       "\n",
       "\n",
       "bit::vecseq             Vectorized Sequences\n",
       "  Aliases: vecseq\n",
       "CDSeq::CDSeq            Complete deconvolution using sequencing data.\n",
       "  Aliases: CDSeq\n",
       "CDSeq::CDSeq-R-package\n",
       "                        CDSeq: A package for complete deconvolution\n",
       "                        using sequencing data\n",
       "  Aliases: CDSeq-R-package\n",
       "CDSeq::cellTypeAssign   Assign cell types using correlation matrix\n",
       "                        computed using cell-type-specific GEPs and\n",
       "                        reference GEPs. 'cellTypeAssign' assigns\n",
       "                        CDSeq-identified cell types to reference\n",
       "                        profile.\n",
       "CDSeq::gene2rpkm        gene2rpkm outputs the rpkm normalizations of\n",
       "                        the CDSeq-estimated GEPs. 'gene2rpkm' outputs\n",
       "                        the rpkm normalizations of the CDSeq-estimated\n",
       "                        GEPs.\n",
       "CDSeq::gibbsSampler     This is the Gibbs sampler for CDSeq.\n",
       "                        'GibbsSampler' returns estimated GEPs and cell\n",
       "                        type proportions.\n",
       "CDSeq::logpost          logpost computes the log posterior of the CDSeq\n",
       "                        model. 'logpost' outputs the value of log\n",
       "                        posterior.\n",
       "CDSeq::read2gene        read2gene outputs the GEP normalized by gene\n",
       "                        length of the CDSeq-estimated GEPs. 'read2gene'\n",
       "                        outputs the gene length normalized\n",
       "                        CDSeq-estimated GEP.\n",
       "CVST::constructSequentialTest\n",
       "                        Construct and Handle Sequential Tests.\n",
       "  Aliases: constructSequentialTest\n",
       "edgeR::processAmplicons\n",
       "                        Process raw data from pooled genetic sequencing\n",
       "                        screens\n",
       "GenomeInfoDb::seqlevelsStyle\n",
       "                        Conveniently rename the seqlevels of an object\n",
       "                        according to a given style\n",
       "  Aliases: extractSeqlevels, extractSeqlevelsByGroup\n",
       "Matrix::abIndex-class   Class \"abIndex\" of Abstract Index Vectors\n",
       "  Aliases: coerce,numeric,seqMat-method\n",
       "survival::pbcseq        Mayo Clinic Primary Biliary Cirrhosis,\n",
       "                        sequential data\n",
       "  Aliases: pbcseq\n",
       "vctrs::vec_seq_along    Useful sequences\n",
       "  Aliases: vec_seq_along\n",
       "xts::timeBasedSeq       Create a Sequence or Range of Times\n",
       "  Aliases: timeBasedSeq\n",
       "\n",
       "\n",
       "Type '?PKG::FOO' to inspect entries 'PKG::FOO', or 'TYPE?PKG::FOO' for\n",
       "entries like 'PKG::FOO-TYPE'.\n",
       "\n",
       "\n"
      ]
     },
     "metadata": {},
     "output_type": "display_data"
    }
   ],
   "source": [
    "??CDSeq"
   ]
  },
  {
   "cell_type": "code",
   "execution_count": 3,
   "metadata": {},
   "outputs": [
    {
     "data": {
      "text/html": [
       "<table>\n",
       "<caption>A data.frame: 6 × 657</caption>\n",
       "<thead>\n",
       "\t<tr><th></th><th scope=col>SM.CTDSC</th><th scope=col>SM.CJGMZ</th><th scope=col>SM.CJIXK</th><th scope=col>SM.CJIZR</th><th scope=col>SM.CTEET</th><th scope=col>SM.CJJ1M</th><th scope=col>SM.CJIYJ</th><th scope=col>SM.CJIYA</th><th scope=col>SM.CTEER</th><th scope=col>SM.CJK3I</th><th scope=col>⋯</th><th scope=col>UMARY.72</th><th scope=col>UMARY.794</th><th scope=col>UMARY.813</th><th scope=col>UMARY.814</th><th scope=col>UMARY.818</th><th scope=col>UMARY.819</th><th scope=col>UMARY.871</th><th scope=col>UMARY.879</th><th scope=col>UMARY.914</th><th scope=col>UMARY.933</th></tr>\n",
       "\t<tr><th></th><th scope=col>&lt;dbl&gt;</th><th scope=col>&lt;dbl&gt;</th><th scope=col>&lt;dbl&gt;</th><th scope=col>&lt;dbl&gt;</th><th scope=col>&lt;dbl&gt;</th><th scope=col>&lt;dbl&gt;</th><th scope=col>&lt;dbl&gt;</th><th scope=col>&lt;dbl&gt;</th><th scope=col>&lt;dbl&gt;</th><th scope=col>&lt;dbl&gt;</th><th scope=col>⋯</th><th scope=col>&lt;dbl&gt;</th><th scope=col>&lt;dbl&gt;</th><th scope=col>&lt;dbl&gt;</th><th scope=col>&lt;dbl&gt;</th><th scope=col>&lt;dbl&gt;</th><th scope=col>&lt;dbl&gt;</th><th scope=col>&lt;dbl&gt;</th><th scope=col>&lt;dbl&gt;</th><th scope=col>&lt;dbl&gt;</th><th scope=col>&lt;dbl&gt;</th></tr>\n",
       "</thead>\n",
       "<tbody>\n",
       "\t<tr><th scope=row>MIR517A</th><td>0</td><td> 0.000</td><td>0</td><td> 0.000</td><td>0</td><td> 0.000</td><td> 0</td><td>0.000</td><td>0</td><td> 0.000</td><td>⋯</td><td>0</td><td>0</td><td>0</td><td>0</td><td>0</td><td>0</td><td>0</td><td>0</td><td> 0</td><td>0</td></tr>\n",
       "\t<tr><th scope=row>AC007952.5</th><td>4</td><td>13.219</td><td>3</td><td>15.429</td><td>2</td><td>13.038</td><td>11</td><td>2.359</td><td>8</td><td>11.238</td><td>⋯</td><td>6</td><td>5</td><td>1</td><td>2</td><td>1</td><td>0</td><td>1</td><td>1</td><td>11</td><td>2</td></tr>\n",
       "\t<tr><th scope=row>MIR518C</th><td>0</td><td> 0.000</td><td>0</td><td> 0.000</td><td>0</td><td> 0.000</td><td> 0</td><td>0.000</td><td>0</td><td> 0.000</td><td>⋯</td><td>0</td><td>0</td><td>0</td><td>0</td><td>0</td><td>0</td><td>0</td><td>0</td><td> 0</td><td>0</td></tr>\n",
       "\t<tr><th scope=row>MIR520C</th><td>0</td><td> 0.000</td><td>0</td><td> 0.000</td><td>0</td><td> 0.000</td><td> 0</td><td>0.000</td><td>0</td><td> 0.000</td><td>⋯</td><td>0</td><td>0</td><td>0</td><td>0</td><td>0</td><td>0</td><td>0</td><td>0</td><td> 0</td><td>0</td></tr>\n",
       "\t<tr><th scope=row>MIR526A1</th><td>0</td><td> 0.000</td><td>0</td><td> 0.000</td><td>0</td><td> 0.000</td><td> 0</td><td>0.000</td><td>0</td><td> 0.000</td><td>⋯</td><td>0</td><td>0</td><td>0</td><td>0</td><td>0</td><td>0</td><td>0</td><td>0</td><td> 0</td><td>0</td></tr>\n",
       "\t<tr><th scope=row>AC099542.2</th><td>0</td><td> 0.000</td><td>0</td><td> 0.000</td><td>0</td><td> 0.000</td><td> 0</td><td>1.000</td><td>0</td><td> 0.000</td><td>⋯</td><td>0</td><td>0</td><td>0</td><td>0</td><td>0</td><td>0</td><td>0</td><td>0</td><td> 0</td><td>0</td></tr>\n",
       "</tbody>\n",
       "</table>\n"
      ],
      "text/latex": [
       "A data.frame: 6 × 657\n",
       "\\begin{tabular}{r|lllllllllllllllllllll}\n",
       "  & SM.CTDSC & SM.CJGMZ & SM.CJIXK & SM.CJIZR & SM.CTEET & SM.CJJ1M & SM.CJIYJ & SM.CJIYA & SM.CTEER & SM.CJK3I & ⋯ & UMARY.72 & UMARY.794 & UMARY.813 & UMARY.814 & UMARY.818 & UMARY.819 & UMARY.871 & UMARY.879 & UMARY.914 & UMARY.933\\\\\n",
       "  & <dbl> & <dbl> & <dbl> & <dbl> & <dbl> & <dbl> & <dbl> & <dbl> & <dbl> & <dbl> & ⋯ & <dbl> & <dbl> & <dbl> & <dbl> & <dbl> & <dbl> & <dbl> & <dbl> & <dbl> & <dbl>\\\\\n",
       "\\hline\n",
       "\tMIR517A & 0 &  0.000 & 0 &  0.000 & 0 &  0.000 &  0 & 0.000 & 0 &  0.000 & ⋯ & 0 & 0 & 0 & 0 & 0 & 0 & 0 & 0 &  0 & 0\\\\\n",
       "\tAC007952.5 & 4 & 13.219 & 3 & 15.429 & 2 & 13.038 & 11 & 2.359 & 8 & 11.238 & ⋯ & 6 & 5 & 1 & 2 & 1 & 0 & 1 & 1 & 11 & 2\\\\\n",
       "\tMIR518C & 0 &  0.000 & 0 &  0.000 & 0 &  0.000 &  0 & 0.000 & 0 &  0.000 & ⋯ & 0 & 0 & 0 & 0 & 0 & 0 & 0 & 0 &  0 & 0\\\\\n",
       "\tMIR520C & 0 &  0.000 & 0 &  0.000 & 0 &  0.000 &  0 & 0.000 & 0 &  0.000 & ⋯ & 0 & 0 & 0 & 0 & 0 & 0 & 0 & 0 &  0 & 0\\\\\n",
       "\tMIR526A1 & 0 &  0.000 & 0 &  0.000 & 0 &  0.000 &  0 & 0.000 & 0 &  0.000 & ⋯ & 0 & 0 & 0 & 0 & 0 & 0 & 0 & 0 &  0 & 0\\\\\n",
       "\tAC099542.2 & 0 &  0.000 & 0 &  0.000 & 0 &  0.000 &  0 & 1.000 & 0 &  0.000 & ⋯ & 0 & 0 & 0 & 0 & 0 & 0 & 0 & 0 &  0 & 0\\\\\n",
       "\\end{tabular}\n"
      ],
      "text/markdown": [
       "\n",
       "A data.frame: 6 × 657\n",
       "\n",
       "| <!--/--> | SM.CTDSC &lt;dbl&gt; | SM.CJGMZ &lt;dbl&gt; | SM.CJIXK &lt;dbl&gt; | SM.CJIZR &lt;dbl&gt; | SM.CTEET &lt;dbl&gt; | SM.CJJ1M &lt;dbl&gt; | SM.CJIYJ &lt;dbl&gt; | SM.CJIYA &lt;dbl&gt; | SM.CTEER &lt;dbl&gt; | SM.CJK3I &lt;dbl&gt; | ⋯ ⋯ | UMARY.72 &lt;dbl&gt; | UMARY.794 &lt;dbl&gt; | UMARY.813 &lt;dbl&gt; | UMARY.814 &lt;dbl&gt; | UMARY.818 &lt;dbl&gt; | UMARY.819 &lt;dbl&gt; | UMARY.871 &lt;dbl&gt; | UMARY.879 &lt;dbl&gt; | UMARY.914 &lt;dbl&gt; | UMARY.933 &lt;dbl&gt; |\n",
       "|---|---|---|---|---|---|---|---|---|---|---|---|---|---|---|---|---|---|---|---|---|---|\n",
       "| MIR517A | 0 |  0.000 | 0 |  0.000 | 0 |  0.000 |  0 | 0.000 | 0 |  0.000 | ⋯ | 0 | 0 | 0 | 0 | 0 | 0 | 0 | 0 |  0 | 0 |\n",
       "| AC007952.5 | 4 | 13.219 | 3 | 15.429 | 2 | 13.038 | 11 | 2.359 | 8 | 11.238 | ⋯ | 6 | 5 | 1 | 2 | 1 | 0 | 1 | 1 | 11 | 2 |\n",
       "| MIR518C | 0 |  0.000 | 0 |  0.000 | 0 |  0.000 |  0 | 0.000 | 0 |  0.000 | ⋯ | 0 | 0 | 0 | 0 | 0 | 0 | 0 | 0 |  0 | 0 |\n",
       "| MIR520C | 0 |  0.000 | 0 |  0.000 | 0 |  0.000 |  0 | 0.000 | 0 |  0.000 | ⋯ | 0 | 0 | 0 | 0 | 0 | 0 | 0 | 0 |  0 | 0 |\n",
       "| MIR526A1 | 0 |  0.000 | 0 |  0.000 | 0 |  0.000 |  0 | 0.000 | 0 |  0.000 | ⋯ | 0 | 0 | 0 | 0 | 0 | 0 | 0 | 0 |  0 | 0 |\n",
       "| AC099542.2 | 0 |  0.000 | 0 |  0.000 | 0 |  0.000 |  0 | 1.000 | 0 |  0.000 | ⋯ | 0 | 0 | 0 | 0 | 0 | 0 | 0 | 0 |  0 | 0 |\n",
       "\n"
      ],
      "text/plain": [
       "           SM.CTDSC SM.CJGMZ SM.CJIXK SM.CJIZR SM.CTEET SM.CJJ1M SM.CJIYJ\n",
       "MIR517A    0         0.000   0         0.000   0         0.000    0      \n",
       "AC007952.5 4        13.219   3        15.429   2        13.038   11      \n",
       "MIR518C    0         0.000   0         0.000   0         0.000    0      \n",
       "MIR520C    0         0.000   0         0.000   0         0.000    0      \n",
       "MIR526A1   0         0.000   0         0.000   0         0.000    0      \n",
       "AC099542.2 0         0.000   0         0.000   0         0.000    0      \n",
       "           SM.CJIYA SM.CTEER SM.CJK3I ⋯ UMARY.72 UMARY.794 UMARY.813 UMARY.814\n",
       "MIR517A    0.000    0         0.000   ⋯ 0        0         0         0        \n",
       "AC007952.5 2.359    8        11.238   ⋯ 6        5         1         2        \n",
       "MIR518C    0.000    0         0.000   ⋯ 0        0         0         0        \n",
       "MIR520C    0.000    0         0.000   ⋯ 0        0         0         0        \n",
       "MIR526A1   0.000    0         0.000   ⋯ 0        0         0         0        \n",
       "AC099542.2 1.000    0         0.000   ⋯ 0        0         0         0        \n",
       "           UMARY.818 UMARY.819 UMARY.871 UMARY.879 UMARY.914 UMARY.933\n",
       "MIR517A    0         0         0         0          0        0        \n",
       "AC007952.5 1         0         1         1         11        2        \n",
       "MIR518C    0         0         0         0          0        0        \n",
       "MIR520C    0         0         0         0          0        0        \n",
       "MIR526A1   0         0         0         0          0        0        \n",
       "AC099542.2 0         0         0         0          0        0        "
      ]
     },
     "metadata": {},
     "output_type": "display_data"
    }
   ],
   "source": [
    "sample_mtx_file <- read.csv('./bulk_nabec_rosmap_gene_numreads_genenames_nodups.txt', sep = '\\t')\n",
    "sample_mtx <- sample_mtx_file[,-1]\n",
    "rownames(sample_mtx) <- sample_mtx_file[,1]\n",
    "head(sample_mtx)"
   ]
  },
  {
   "cell_type": "code",
   "execution_count": 4,
   "metadata": {},
   "outputs": [
    {
     "data": {
      "text/html": [
       "<style>\n",
       ".list-inline {list-style: none; margin:0; padding: 0}\n",
       ".list-inline>li {display: inline-block}\n",
       ".list-inline>li:not(:last-child)::after {content: \"\\00b7\"; padding: 0 .5ex}\n",
       "</style>\n",
       "<ol class=list-inline><li>59032</li><li>657</li></ol>\n"
      ],
      "text/latex": [
       "\\begin{enumerate*}\n",
       "\\item 59032\n",
       "\\item 657\n",
       "\\end{enumerate*}\n"
      ],
      "text/markdown": [
       "1. 59032\n",
       "2. 657\n",
       "\n",
       "\n"
      ],
      "text/plain": [
       "[1] 59032   657"
      ]
     },
     "metadata": {},
     "output_type": "display_data"
    }
   ],
   "source": [
    "dim(sample_mtx)"
   ]
  },
  {
   "cell_type": "code",
   "execution_count": 4,
   "metadata": {},
   "outputs": [
    {
     "name": "stdout",
     "output_type": "stream",
     "text": [
      "\n",
      "============================================ CDSeq R package version 1.0.5 ==================================================\n",
      "|  Coders     : Kai Kang, David Huang                                                                                         |\n",
      "|  Reference 1: CDSeq: A novel complete deconvolution method for dissecting heterogeneous samples using gene expression data  |\n",
      "|  Reference 2: CDSeq: An R package for fast complete deconvolution using gene expression data                                |\n",
      "|  Maintainer : kangkai0714@gmail.com                                                                                         |\n",
      "===============================================================================================================================\n",
      "CDSeq is running in Reduce-Recover mode which breaks up the whole data into blocks. To run CDSeq on the whole data, please set block_number = 1.\n"
     ]
    },
    {
     "name": "stderr",
     "output_type": "stream",
     "text": [
      "Warning message in CDSeq(sample_mtx, beta = 0.5, alpha = 5, cell_type_number = 5, :\n",
      "“gene_length is NOT provided. CDSeq will estiamte read rate not gene rate. Please provide gene length if you are interested in GEP estimation.”\n",
      "Warning message in CDSeq(sample_mtx, beta = 0.5, alpha = 5, cell_type_number = 5, :\n",
      "“Reference gene expression profile is missing. Cell type identification and RPKM normalization will NOT be performed by CDSeq. Users can identify CDSeq-identified cell-types using marker genes or reference gene expression profiles.”\n",
      "Warning message in CDSeq(sample_mtx, beta = 0.5, alpha = 5, cell_type_number = 5, :\n",
      "“ bulk_data is NOT read count data. Please provide read counts data if possible for potentially better estimations.”\n",
      "cpu_number is not provided. CDSeq uses detectCores()-1 number of cpu cores for parallel computing.\n",
      "\n",
      "\n"
     ]
    },
    {
     "name": "stdout",
     "output_type": "stream",
     "text": [
      "CDSeq is running in parallel, it may take some time...\n",
      "CDSeq completed successfully using 1.1344 hours\n"
     ]
    }
   ],
   "source": [
    "# result = CDSeq(\n",
    "#   sample_mtx,      # this is the bulk RNAseq read counts \n",
    "#   beta = 0.5,     # hyperparameter for gene expression estimation, you could just use the default value\n",
    "#   alpha = 5,      # hyperparameter for cell fraction estimation, you could just use the default value\n",
    "#   cell_type_number = NULL, # you need to specify the number of cell types in two ways: 1. provide an integer, 2. provide a vector of integers in this case CDSeq will estimate the most likely number of cell types for you.\n",
    "#   mcmc_iterations = 700,   # iterations for Gibbs sampler \n",
    "#   dilution_factor = 1,     # this is for speed up computation when needed. CDSeq will work on bulk_data/dilution_factor (division) which will result in less reads and therefore run faster. \n",
    "#   gene_subset_size = NULL, # this is a new feature that we added for speeding up the computation. detail in the following.\n",
    "#   block_number = 1,        # this is a new feature used together with gene_subset_size. detail in the following.\n",
    "#   cpu_number = NULL,       # user control for how many cpu will be used\n",
    "#   gene_length = NULL,      # effective length of genes which equals to gene length - reads length + 1. this will be used for normalization of the gene expression estimates. \n",
    "#   reference_gep = NULL,    # this is the pure cell line gene expression profile. can be used for cell type identification for CDSeq-estimated cell types\n",
    "#   print_progress_msg_to_file = 0 # this is just an indicator of whether you want to print out the progress during the computation such as process ID, and the progress of the computation etc. \n",
    "# )\n",
    "result = CDSeq(\n",
    "  sample_mtx,      # this is the bulk RNAseq read counts \n",
    "  beta = 0.5,     # hyperparameter for gene expression estimation, you could just use the default value\n",
    "  alpha = 5,      # hyperparameter for cell fraction estimation, you could just use the default value\n",
    "  cell_type_number = 5, # you need to specify the number of cell types in two ways: 1. provide an integer, 2. provide a vector of integers in this case CDSeq will estimate the most likely number of cell types for you.\n",
    "  mcmc_iterations = 700,   # iterations for Gibbs sampler \n",
    "  dilution_factor = 100,     # this is for speed up computation when needed. CDSeq will work on bulk_data/dilution_factor (division) which will result in less reads and therefore run faster. \n",
    "  gene_subset_size = 1000, # this is a new feature that we added for speeding up the computation. detail in the following.\n",
    "  block_number = 30,        # this is a new feature used together with gene_subset_size. detail in the following.\n",
    "  reference_gep = NULL,    # this is the pure cell line gene expression profile. can be used for cell type identification for CDSeq-estimated cell types\n",
    ")\n",
    "\n"
   ]
  },
  {
   "cell_type": "code",
   "execution_count": 8,
   "metadata": {},
   "outputs": [],
   "source": [
    "#result\n",
    "bulk_prop <- result$estProp\n",
    "write.csv(bulk_prop, './CDSeq_bulk_nabec_rosmap_prop.csv')"
   ]
  },
  {
   "cell_type": "code",
   "execution_count": 9,
   "metadata": {},
   "outputs": [],
   "source": [
    "bulk_GEP <- result$estGEP\n",
    "write.csv(bulk_GEP, './CDSeq_bulk_nabec_rosmap_GEPs.csv')"
   ]
  },
  {
   "cell_type": "code",
   "execution_count": null,
   "metadata": {},
   "outputs": [],
   "source": [
    "?gibbsSampler()"
   ]
  },
  {
   "cell_type": "code",
   "execution_count": null,
   "metadata": {},
   "outputs": [],
   "source": [
    "test <- CDSeq::gibbsSampler(mixtureSamples = sample_mtx)"
   ]
  },
  {
   "cell_type": "code",
   "execution_count": null,
   "metadata": {},
   "outputs": [],
   "source": []
  }
 ],
 "metadata": {
  "kernelspec": {
   "display_name": "R",
   "language": "R",
   "name": "ir"
  },
  "language_info": {
   "codemirror_mode": "r",
   "file_extension": ".r",
   "mimetype": "text/x-r-source",
   "name": "R",
   "pygments_lexer": "r",
   "version": "3.6.0"
  }
 },
 "nbformat": 4,
 "nbformat_minor": 4
}
