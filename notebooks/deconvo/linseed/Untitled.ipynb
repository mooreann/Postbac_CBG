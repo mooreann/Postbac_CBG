{
 "cells": [
  {
   "cell_type": "code",
   "execution_count": 1,
   "metadata": {},
   "outputs": [
    {
     "name": "stderr",
     "output_type": "stream",
     "text": [
      "Installing package into ‘/home/mooreank/R/x86_64-redhat-linux-gnu-library/3.6’\n",
      "(as ‘lib’ is unspecified)\n",
      "also installing the dependencies ‘lsei’, ‘gbRd’, ‘caTools’, ‘sitmo’, ‘npsurv’, ‘globals’, ‘listenv’, ‘Rdpack’, ‘gplots’, ‘RSpectra’, ‘RcppParallel’, ‘dqrng’, ‘cowplot’, ‘fitdistrplus’, ‘future’, ‘future.apply’, ‘ggrepel’, ‘ica’, ‘irlba’, ‘leiden’, ‘metap’, ‘pbapply’, ‘plotly’, ‘png’, ‘RANN’, ‘RcppAnnoy’, ‘reticulate’, ‘ROCR’, ‘sctransform’, ‘SDMTools’, ‘tsne’, ‘uwot’\n",
      "\n",
      "Warning message in install.packages(\"Seurat\"):\n",
      "“installation of package ‘globals’ had non-zero exit status”Warning message in install.packages(\"Seurat\"):\n",
      "“installation of package ‘png’ had non-zero exit status”Warning message in install.packages(\"Seurat\"):\n",
      "“installation of package ‘Seurat’ had non-zero exit status”"
     ]
    }
   ],
   "source": [
    "install.packages('Seurat')"
   ]
  },
  {
   "cell_type": "code",
   "execution_count": null,
   "metadata": {},
   "outputs": [],
   "source": [
    "library(Seurat)"
   ]
  },
  {
   "cell_type": "code",
   "execution_count": null,
   "metadata": {},
   "outputs": [],
   "source": []
  }
 ],
 "metadata": {
  "kernelspec": {
   "display_name": "R",
   "language": "R",
   "name": "ir"
  },
  "language_info": {
   "codemirror_mode": "r",
   "file_extension": ".r",
   "mimetype": "text/x-r-source",
   "name": "R",
   "pygments_lexer": "r",
   "version": "3.6.0"
  }
 },
 "nbformat": 4,
 "nbformat_minor": 2
}
