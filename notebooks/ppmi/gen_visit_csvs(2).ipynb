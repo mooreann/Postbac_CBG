{
 "cells": [
  {
   "cell_type": "code",
   "execution_count": 1,
   "metadata": {},
   "outputs": [],
   "source": [
    "#index_sub_df.py\n",
    "\n",
    "import numpy as np\n",
    "import pandas as pd\n",
    "import matplotlib.pyplot as plt\n",
    "import seaborn as sns\n",
    "\n",
    "WRKDIR = '/labseq/projects/ppmi/wb_rna/plink/results/'\n",
    "visits_oi = ['BL','V02','V04','V06','V08']\n",
    "\n"
   ]
  },
  {
   "cell_type": "code",
   "execution_count": 6,
   "metadata": {},
   "outputs": [],
   "source": [
    "final_indexes = []\n",
    "\n",
    "#opening index pair files, loading as list\n",
    "for x in visits_oi:  \n",
    "    final_index_file = ('/home/mooreank/{}_index_pairs.txt').format(x)\n",
    "    with open(final_index_file) as f:\n",
    "        finalindexlist = [line.rstrip('\\n') for line in open(final_index_file)]\n",
    "        for item in finalindexlist:\n",
    "            final_indexes.append(item)\n",
    "\n",
    "final_indexes = set(final_indexes)      "
   ]
  },
  {
   "cell_type": "code",
   "execution_count": 8,
   "metadata": {},
   "outputs": [],
   "source": [
    "test = 'V08'\n",
    "#make dataframe of all data from each visit\n",
    "filename_test = '{}eqtl.{}.oi.plink.glm.linear'.format(WRKDIR,test)\n",
    "test_all = pd.read_csv(filename_test, sep = '\\s+')\n",
    "test_all['INDEX PAIR'] = test_all['GENEID'].map(str)+\"_\"+ test_all['ID']\n",
    "test_all['ZSCORE'] = test_all['BETA']/one_all['SE']\n",
    "test_all['VISIT'] = test\n",
    "\n",
    "#dataframe of only index pairs from created list\n",
    "test_sub_df = test_all[test_all['INDEX PAIR'].isin(final_indexes)]\n",
    "\n",
    "test_filtered = pd.DataFrame()\n",
    "for hybrid in (test_sub_df['INDEX PAIR']).tolist():\n",
    "        #create sub df of just one hybrids rows\n",
    "        hybrid_df = test_sub_df.loc[test_sub_df['INDEX PAIR'] == hybrid]\n",
    "        #find min p value\n",
    "        min_value = min(hybrid_df['P'])\n",
    "        p_df = (hybrid_df.loc[hybrid_df['P'] == min_value])\n",
    "        #find max absolute value beta\n",
    "        p_df['ABS_BETA'] = abs(p_df['BETA'])\n",
    "        p_df_sort = p_df.sort_values(by=['ABS_BETA'], ascending = False)\n",
    "        index_beta = p_df_sort['BETA'].values[0]\n",
    "        final_row = test_sub_df.loc[test_sub_df['BETA']==index_beta]\n",
    "        test_filtered = test_filtered.append(final_row)\n",
    "        \n",
    "test_filtered.to_csv('/home/mooreank/V08_filtered_index.csv', index=False)"
   ]
  },
  {
   "cell_type": "code",
   "execution_count": null,
   "metadata": {},
   "outputs": [],
   "source": [
    "test_filtered = pd.DataFrame()\n",
    "for hybrid in (test_sub_df['INDEX PAIR']).tolist():\n",
    "        #create sub df of just one hybrids rows\n",
    "        hybrid_df = test_sub_df.loc[test_sub_df['INDEX PAIR'] == hybrid]\n",
    "        #find min p value\n",
    "        min_value = min(hybrid_df['P'])\n",
    "        p_df = (hybrid_df.loc[hybrid_df['P'] == min_value])\n",
    "        #find max absolute value beta\n",
    "        p_df['ABS_BETA'] = abs(p_df['BETA'])\n",
    "        p_df_sort = p_df.sort_values(by=['ABS_BETA'], ascending = False)\n",
    "        index_beta = p_df_sort['BETA'].values[0]\n",
    "        final_row = test_sub_df.loc[test_sub_df['BETA']==index_beta]\n",
    "        test_filtered = test_filtered.append(final_row)\n",
    "        \n",
    "test_filtered.to_csv('/home/mooreank/BL_filtered_index.csv', index=False)\n",
    "\n"
   ]
  },
  {
   "cell_type": "code",
   "execution_count": null,
   "metadata": {},
   "outputs": [],
   "source": [
    "two = 'V04'\n",
    "#make dataframe of all data from each visit\n",
    "filename_two = '{}eqtl.{}.oi.plink.glm.linear'.format(WRKDIR,two)\n",
    "two_all = pd.read_csv(filename_two, sep = '\\s+')\n",
    "two_all['INDEX PAIR'] = two_all['GENEID'].map(str)+\"_\"+ two_all['ID']\n",
    "two_all['ZSCORE'] = two_all['BETA']/two_all['SE']\n",
    "two_all['VISIT'] = two"
   ]
  },
  {
   "cell_type": "code",
   "execution_count": null,
   "metadata": {},
   "outputs": [],
   "source": [
    "#dataframe of only index pairs from created list\n",
    "two_sub_df = two_all[two_all['INDEX PAIR'].isin(final_indexes)]"
   ]
  },
  {
   "cell_type": "code",
   "execution_count": null,
   "metadata": {},
   "outputs": [],
   "source": [
    "#selecting index pair with minimun p value\n",
    "two_filtered = pd.DataFrame()\n",
    "for hybrid in (two_sub_df['INDEX PAIR']).tolist():\n",
    "        #create sub df of just one hybrids rows\n",
    "        hybrid_df = two_sub_df.loc[two_sub_df['INDEX PAIR'] == hybrid]\n",
    "        #find min p value\n",
    "        min_value = min(hybrid_df['P'])\n",
    "        p_df = (hybrid_df.loc[hybrid_df['P'] == min_value])\n",
    "        #find max absolute value beta\n",
    "        p_df['ABS_BETA'] = abs(p_df['BETA'])\n",
    "        p_df_sort = p_df.sort_values(by=['ABS_BETA'], ascending = False)\n",
    "        index_beta = p_df_sort['BETA'].values[0]\n",
    "        final_row = two_sub_df.loc[two_sub_df['BETA']==index_beta]\n",
    "        two_filtered = two_filtered.append(final_row)\n",
    "        \n",
    "two_filtered.to_csv('/home/mooreank/VO4_filtered_index.csv', index=False)\n",
    "\n"
   ]
  }
 ],
 "metadata": {
  "kernelspec": {
   "display_name": "Python 3",
   "language": "python",
   "name": "python3"
  },
  "language_info": {
   "codemirror_mode": {
    "name": "ipython",
    "version": 3
   },
   "file_extension": ".py",
   "mimetype": "text/x-python",
   "name": "python",
   "nbconvert_exporter": "python",
   "pygments_lexer": "ipython3",
   "version": "3.7.3"
  }
 },
 "nbformat": 4,
 "nbformat_minor": 2
}
