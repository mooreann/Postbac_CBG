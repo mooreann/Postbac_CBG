{
 "cells": [
  {
   "cell_type": "code",
   "execution_count": null,
   "metadata": {},
   "outputs": [],
   "source": [
    "%%bash \n",
    "\n",
    "##\n",
    "#CONVERTING VCF TO BINARY PLINK FILES\n",
    "\n",
    "plink --vcf topmed.freeze5b.chr2.vcf.gz --make-bed --out /labshare/anni/TOPMed/topmed.freeze5b.chr2\n",
    "\n",
    "plink --vcf topmed.freeze5b.chr2.vcf.gz --make-bed --keep-allele-order --out /labshare/anni/TOPMed_order/topmed.freeze5b.chr22\n"
   ]
  },
  {
   "cell_type": "code",
   "execution_count": 1,
   "metadata": {},
   "outputs": [
    {
     "name": "stdout",
     "output_type": "stream",
     "text": [
      "plink2 --vcf topmed.freeze5b.chr1.vcf.gz --mac 5 --make-pgen --out /labshare/anni/genome_vars/topmed.freeze5b.chr1.mac5 &\n",
      "plink2 --vcf topmed.freeze5b.chr2.vcf.gz --mac 5 --make-pgen --out /labshare/anni/genome_vars/topmed.freeze5b.chr2.mac5 &\n",
      "plink2 --vcf topmed.freeze5b.chr3.vcf.gz --mac 5 --make-pgen --out /labshare/anni/genome_vars/topmed.freeze5b.chr3.mac5 &\n",
      "plink2 --vcf topmed.freeze5b.chr4.vcf.gz --mac 5 --make-pgen --out /labshare/anni/genome_vars/topmed.freeze5b.chr4.mac5 &\n",
      "plink2 --vcf topmed.freeze5b.chr5.vcf.gz --mac 5 --make-pgen --out /labshare/anni/genome_vars/topmed.freeze5b.chr5.mac5 &\n",
      "plink2 --vcf topmed.freeze5b.chr6.vcf.gz --mac 5 --make-pgen --out /labshare/anni/genome_vars/topmed.freeze5b.chr6.mac5 &\n",
      "plink2 --vcf topmed.freeze5b.chr7.vcf.gz --mac 5 --make-pgen --out /labshare/anni/genome_vars/topmed.freeze5b.chr7.mac5 &\n",
      "plink2 --vcf topmed.freeze5b.chr8.vcf.gz --mac 5 --make-pgen --out /labshare/anni/genome_vars/topmed.freeze5b.chr8.mac5 &\n",
      "plink2 --vcf topmed.freeze5b.chr9.vcf.gz --mac 5 --make-pgen --out /labshare/anni/genome_vars/topmed.freeze5b.chr9.mac5 &\n",
      "plink2 --vcf topmed.freeze5b.chr10.vcf.gz --mac 5 --make-pgen --out /labshare/anni/genome_vars/topmed.freeze5b.chr10.mac5 &\n",
      "plink2 --vcf topmed.freeze5b.chr11.vcf.gz --mac 5 --make-pgen --out /labshare/anni/genome_vars/topmed.freeze5b.chr11.mac5 &\n",
      "plink2 --vcf topmed.freeze5b.chr12.vcf.gz --mac 5 --make-pgen --out /labshare/anni/genome_vars/topmed.freeze5b.chr12.mac5 &\n",
      "plink2 --vcf topmed.freeze5b.chr13.vcf.gz --mac 5 --make-pgen --out /labshare/anni/genome_vars/topmed.freeze5b.chr13.mac5 &\n",
      "plink2 --vcf topmed.freeze5b.chr14.vcf.gz --mac 5 --make-pgen --out /labshare/anni/genome_vars/topmed.freeze5b.chr14.mac5 &\n",
      "plink2 --vcf topmed.freeze5b.chr15.vcf.gz --mac 5 --make-pgen --out /labshare/anni/genome_vars/topmed.freeze5b.chr15.mac5 &\n",
      "plink2 --vcf topmed.freeze5b.chr16.vcf.gz --mac 5 --make-pgen --out /labshare/anni/genome_vars/topmed.freeze5b.chr16.mac5 &\n",
      "plink2 --vcf topmed.freeze5b.chr17.vcf.gz --mac 5 --make-pgen --out /labshare/anni/genome_vars/topmed.freeze5b.chr17.mac5 &\n",
      "plink2 --vcf topmed.freeze5b.chr18.vcf.gz --mac 5 --make-pgen --out /labshare/anni/genome_vars/topmed.freeze5b.chr18.mac5 &\n",
      "plink2 --vcf topmed.freeze5b.chr19.vcf.gz --mac 5 --make-pgen --out /labshare/anni/genome_vars/topmed.freeze5b.chr19.mac5 &\n",
      "plink2 --vcf topmed.freeze5b.chr20.vcf.gz --mac 5 --make-pgen --out /labshare/anni/genome_vars/topmed.freeze5b.chr20.mac5 &\n",
      "plink2 --vcf topmed.freeze5b.chr21.vcf.gz --mac 5 --make-pgen --out /labshare/anni/genome_vars/topmed.freeze5b.chr21.mac5 &\n",
      "plink2 --vcf topmed.freeze5b.chr22.vcf.gz --mac 5 --make-pgen --out /labshare/anni/genome_vars/topmed.freeze5b.chr22.mac5 &\n"
     ]
    }
   ],
   "source": [
    "##convert topmed to plink binary files\n",
    "##filter topmed plink files\n",
    "#directory = /labshare/raph/spd/finemap/reference_panels/\n",
    "\n",
    "###ONLY MAC >= 5 \n",
    "##directory = /labshare/raph/datasets/wgs_ref_haplos/hg38/\n",
    "out = '/labshare/anni/genome_vars/'\n",
    "\n",
    "###need to use plaink2 for whole genome variant comparison bc of allele flipping\n",
    "for num in range(1,23):\n",
    "    print(\"plink2 --vcf topmed.freeze5b.chr{}.vcf.gz --mac 5 --make-pgen --out {}topmed.freeze5b.chr{}.mac5 &\".format(num,out,num))"
   ]
  },
  {
   "cell_type": "code",
   "execution_count": 2,
   "metadata": {},
   "outputs": [
    {
     "name": "stdout",
     "output_type": "stream",
     "text": [
      "plink2 --vcf topmed.freeze5b.chr1.vcf.gz --maf 0.001 --make-pgen --out /labshare/anni/genome_vars/topmed.freeze5b.chr1.maf0.001 &\n",
      "plink2 --vcf topmed.freeze5b.chr2.vcf.gz --maf 0.001 --make-pgen --out /labshare/anni/genome_vars/topmed.freeze5b.chr2.maf0.001 &\n",
      "plink2 --vcf topmed.freeze5b.chr3.vcf.gz --maf 0.001 --make-pgen --out /labshare/anni/genome_vars/topmed.freeze5b.chr3.maf0.001 &\n",
      "plink2 --vcf topmed.freeze5b.chr4.vcf.gz --maf 0.001 --make-pgen --out /labshare/anni/genome_vars/topmed.freeze5b.chr4.maf0.001 &\n",
      "plink2 --vcf topmed.freeze5b.chr5.vcf.gz --maf 0.001 --make-pgen --out /labshare/anni/genome_vars/topmed.freeze5b.chr5.maf0.001 &\n",
      "plink2 --vcf topmed.freeze5b.chr6.vcf.gz --maf 0.001 --make-pgen --out /labshare/anni/genome_vars/topmed.freeze5b.chr6.maf0.001 &\n",
      "plink2 --vcf topmed.freeze5b.chr7.vcf.gz --maf 0.001 --make-pgen --out /labshare/anni/genome_vars/topmed.freeze5b.chr7.maf0.001 &\n",
      "plink2 --vcf topmed.freeze5b.chr8.vcf.gz --maf 0.001 --make-pgen --out /labshare/anni/genome_vars/topmed.freeze5b.chr8.maf0.001 &\n",
      "plink2 --vcf topmed.freeze5b.chr9.vcf.gz --maf 0.001 --make-pgen --out /labshare/anni/genome_vars/topmed.freeze5b.chr9.maf0.001 &\n",
      "plink2 --vcf topmed.freeze5b.chr10.vcf.gz --maf 0.001 --make-pgen --out /labshare/anni/genome_vars/topmed.freeze5b.chr10.maf0.001 &\n",
      "plink2 --vcf topmed.freeze5b.chr11.vcf.gz --maf 0.001 --make-pgen --out /labshare/anni/genome_vars/topmed.freeze5b.chr11.maf0.001 &\n",
      "plink2 --vcf topmed.freeze5b.chr12.vcf.gz --maf 0.001 --make-pgen --out /labshare/anni/genome_vars/topmed.freeze5b.chr12.maf0.001 &\n",
      "plink2 --vcf topmed.freeze5b.chr13.vcf.gz --maf 0.001 --make-pgen --out /labshare/anni/genome_vars/topmed.freeze5b.chr13.maf0.001 &\n",
      "plink2 --vcf topmed.freeze5b.chr14.vcf.gz --maf 0.001 --make-pgen --out /labshare/anni/genome_vars/topmed.freeze5b.chr14.maf0.001 &\n",
      "plink2 --vcf topmed.freeze5b.chr15.vcf.gz --maf 0.001 --make-pgen --out /labshare/anni/genome_vars/topmed.freeze5b.chr15.maf0.001 &\n",
      "plink2 --vcf topmed.freeze5b.chr16.vcf.gz --maf 0.001 --make-pgen --out /labshare/anni/genome_vars/topmed.freeze5b.chr16.maf0.001 &\n",
      "plink2 --vcf topmed.freeze5b.chr17.vcf.gz --maf 0.001 --make-pgen --out /labshare/anni/genome_vars/topmed.freeze5b.chr17.maf0.001 &\n",
      "plink2 --vcf topmed.freeze5b.chr18.vcf.gz --maf 0.001 --make-pgen --out /labshare/anni/genome_vars/topmed.freeze5b.chr18.maf0.001 &\n",
      "plink2 --vcf topmed.freeze5b.chr19.vcf.gz --maf 0.001 --make-pgen --out /labshare/anni/genome_vars/topmed.freeze5b.chr19.maf0.001 &\n",
      "plink2 --vcf topmed.freeze5b.chr20.vcf.gz --maf 0.001 --make-pgen --out /labshare/anni/genome_vars/topmed.freeze5b.chr20.maf0.001 &\n",
      "plink2 --vcf topmed.freeze5b.chr21.vcf.gz --maf 0.001 --make-pgen --out /labshare/anni/genome_vars/topmed.freeze5b.chr21.maf0.001 &\n",
      "plink2 --vcf topmed.freeze5b.chr22.vcf.gz --maf 0.001 --make-pgen --out /labshare/anni/genome_vars/topmed.freeze5b.chr22.maf0.001 &\n"
     ]
    }
   ],
   "source": [
    "##convert topmed to plink binary files\n",
    "##filter topmed plink files\n",
    "#directory = /labshare/raph/spd/finemap/reference_panels/\n",
    "\n",
    "##ONLY MAF >= 0.001\n",
    "##directory = /labshare/raph/datasets/wgs_ref_haplos/hg38/\n",
    "out = '/labshare/anni/genome_vars/'\n",
    "\n",
    "for num in range(1,23):\n",
    "    print(\"plink2 --vcf topmed.freeze5b.chr{}.vcf.gz --maf 0.001 --make-pgen --out {}topmed.freeze5b.chr{}.maf0.001 &\".format(num,out,num))"
   ]
  },
  {
   "cell_type": "code",
   "execution_count": 3,
   "metadata": {},
   "outputs": [
    {
     "name": "stdout",
     "output_type": "stream",
     "text": [
      "plink2 --vcf neurod.june2019.chr1.gtonly.vcf.gz --mac 5 --make-pgen --out /labshare/anni/genome_vars/neurod.june2019.chr1.gtonly.mac5 &\n",
      "plink2 --vcf neurod.june2019.chr2.gtonly.vcf.gz --mac 5 --make-pgen --out /labshare/anni/genome_vars/neurod.june2019.chr2.gtonly.mac5 &\n",
      "plink2 --vcf neurod.june2019.chr3.gtonly.vcf.gz --mac 5 --make-pgen --out /labshare/anni/genome_vars/neurod.june2019.chr3.gtonly.mac5 &\n",
      "plink2 --vcf neurod.june2019.chr4.gtonly.vcf.gz --mac 5 --make-pgen --out /labshare/anni/genome_vars/neurod.june2019.chr4.gtonly.mac5 &\n",
      "plink2 --vcf neurod.june2019.chr5.gtonly.vcf.gz --mac 5 --make-pgen --out /labshare/anni/genome_vars/neurod.june2019.chr5.gtonly.mac5 &\n",
      "plink2 --vcf neurod.june2019.chr6.gtonly.vcf.gz --mac 5 --make-pgen --out /labshare/anni/genome_vars/neurod.june2019.chr6.gtonly.mac5 &\n",
      "plink2 --vcf neurod.june2019.chr7.gtonly.vcf.gz --mac 5 --make-pgen --out /labshare/anni/genome_vars/neurod.june2019.chr7.gtonly.mac5 &\n",
      "plink2 --vcf neurod.june2019.chr8.gtonly.vcf.gz --mac 5 --make-pgen --out /labshare/anni/genome_vars/neurod.june2019.chr8.gtonly.mac5 &\n",
      "plink2 --vcf neurod.june2019.chr9.gtonly.vcf.gz --mac 5 --make-pgen --out /labshare/anni/genome_vars/neurod.june2019.chr9.gtonly.mac5 &\n",
      "plink2 --vcf neurod.june2019.chr10.gtonly.vcf.gz --mac 5 --make-pgen --out /labshare/anni/genome_vars/neurod.june2019.chr10.gtonly.mac5 &\n",
      "plink2 --vcf neurod.june2019.chr11.gtonly.vcf.gz --mac 5 --make-pgen --out /labshare/anni/genome_vars/neurod.june2019.chr11.gtonly.mac5 &\n",
      "plink2 --vcf neurod.june2019.chr12.gtonly.vcf.gz --mac 5 --make-pgen --out /labshare/anni/genome_vars/neurod.june2019.chr12.gtonly.mac5 &\n",
      "plink2 --vcf neurod.june2019.chr13.gtonly.vcf.gz --mac 5 --make-pgen --out /labshare/anni/genome_vars/neurod.june2019.chr13.gtonly.mac5 &\n",
      "plink2 --vcf neurod.june2019.chr14.gtonly.vcf.gz --mac 5 --make-pgen --out /labshare/anni/genome_vars/neurod.june2019.chr14.gtonly.mac5 &\n",
      "plink2 --vcf neurod.june2019.chr15.gtonly.vcf.gz --mac 5 --make-pgen --out /labshare/anni/genome_vars/neurod.june2019.chr15.gtonly.mac5 &\n",
      "plink2 --vcf neurod.june2019.chr16.gtonly.vcf.gz --mac 5 --make-pgen --out /labshare/anni/genome_vars/neurod.june2019.chr16.gtonly.mac5 &\n",
      "plink2 --vcf neurod.june2019.chr17.gtonly.vcf.gz --mac 5 --make-pgen --out /labshare/anni/genome_vars/neurod.june2019.chr17.gtonly.mac5 &\n",
      "plink2 --vcf neurod.june2019.chr18.gtonly.vcf.gz --mac 5 --make-pgen --out /labshare/anni/genome_vars/neurod.june2019.chr18.gtonly.mac5 &\n",
      "plink2 --vcf neurod.june2019.chr19.gtonly.vcf.gz --mac 5 --make-pgen --out /labshare/anni/genome_vars/neurod.june2019.chr19.gtonly.mac5 &\n",
      "plink2 --vcf neurod.june2019.chr20.gtonly.vcf.gz --mac 5 --make-pgen --out /labshare/anni/genome_vars/neurod.june2019.chr20.gtonly.mac5 &\n",
      "plink2 --vcf neurod.june2019.chr21.gtonly.vcf.gz --mac 5 --make-pgen --out /labshare/anni/genome_vars/neurod.june2019.chr21.gtonly.mac5 &\n",
      "plink2 --vcf neurod.june2019.chr22.gtonly.vcf.gz --mac 5 --make-pgen --out /labshare/anni/genome_vars/neurod.june2019.chr22.gtonly.mac5 &\n"
     ]
    }
   ],
   "source": [
    "#convert neurod to plink binary files\n",
    "##filter topmed plink files\n",
    "\n",
    "##ONLY MAC >= 5 \n",
    "#directory = /labseq/projects/neurod_wgs/genotypes/\n",
    "out = '/labshare/anni/genome_vars/'\n",
    "\n",
    "\n",
    "for num in range(1,23):\n",
    "    print(\"plink2 --vcf neurod.june2019.chr{}.gtonly.vcf.gz --mac 5 --make-pgen --out {}neurod.june2019.chr{}.gtonly.mac5 &\".format(num,out,num))"
   ]
  },
  {
   "cell_type": "code",
   "execution_count": 4,
   "metadata": {},
   "outputs": [
    {
     "name": "stdout",
     "output_type": "stream",
     "text": [
      "plink2 --vcf neurod.june2019.chr1.gtonly.vcf.gz --maf 0.001 --make-pgen --out /labshare/anni/genome_vars/neurod.june2019.chr1.gtonly.maf0.001 &\n",
      "plink2 --vcf neurod.june2019.chr2.gtonly.vcf.gz --maf 0.001 --make-pgen --out /labshare/anni/genome_vars/neurod.june2019.chr2.gtonly.maf0.001 &\n",
      "plink2 --vcf neurod.june2019.chr3.gtonly.vcf.gz --maf 0.001 --make-pgen --out /labshare/anni/genome_vars/neurod.june2019.chr3.gtonly.maf0.001 &\n",
      "plink2 --vcf neurod.june2019.chr4.gtonly.vcf.gz --maf 0.001 --make-pgen --out /labshare/anni/genome_vars/neurod.june2019.chr4.gtonly.maf0.001 &\n",
      "plink2 --vcf neurod.june2019.chr5.gtonly.vcf.gz --maf 0.001 --make-pgen --out /labshare/anni/genome_vars/neurod.june2019.chr5.gtonly.maf0.001 &\n",
      "plink2 --vcf neurod.june2019.chr6.gtonly.vcf.gz --maf 0.001 --make-pgen --out /labshare/anni/genome_vars/neurod.june2019.chr6.gtonly.maf0.001 &\n",
      "plink2 --vcf neurod.june2019.chr7.gtonly.vcf.gz --maf 0.001 --make-pgen --out /labshare/anni/genome_vars/neurod.june2019.chr7.gtonly.maf0.001 &\n",
      "plink2 --vcf neurod.june2019.chr8.gtonly.vcf.gz --maf 0.001 --make-pgen --out /labshare/anni/genome_vars/neurod.june2019.chr8.gtonly.maf0.001 &\n",
      "plink2 --vcf neurod.june2019.chr9.gtonly.vcf.gz --maf 0.001 --make-pgen --out /labshare/anni/genome_vars/neurod.june2019.chr9.gtonly.maf0.001 &\n",
      "plink2 --vcf neurod.june2019.chr10.gtonly.vcf.gz --maf 0.001 --make-pgen --out /labshare/anni/genome_vars/neurod.june2019.chr10.gtonly.maf0.001 &\n",
      "plink2 --vcf neurod.june2019.chr11.gtonly.vcf.gz --maf 0.001 --make-pgen --out /labshare/anni/genome_vars/neurod.june2019.chr11.gtonly.maf0.001 &\n",
      "plink2 --vcf neurod.june2019.chr12.gtonly.vcf.gz --maf 0.001 --make-pgen --out /labshare/anni/genome_vars/neurod.june2019.chr12.gtonly.maf0.001 &\n",
      "plink2 --vcf neurod.june2019.chr13.gtonly.vcf.gz --maf 0.001 --make-pgen --out /labshare/anni/genome_vars/neurod.june2019.chr13.gtonly.maf0.001 &\n",
      "plink2 --vcf neurod.june2019.chr14.gtonly.vcf.gz --maf 0.001 --make-pgen --out /labshare/anni/genome_vars/neurod.june2019.chr14.gtonly.maf0.001 &\n",
      "plink2 --vcf neurod.june2019.chr15.gtonly.vcf.gz --maf 0.001 --make-pgen --out /labshare/anni/genome_vars/neurod.june2019.chr15.gtonly.maf0.001 &\n",
      "plink2 --vcf neurod.june2019.chr16.gtonly.vcf.gz --maf 0.001 --make-pgen --out /labshare/anni/genome_vars/neurod.june2019.chr16.gtonly.maf0.001 &\n",
      "plink2 --vcf neurod.june2019.chr17.gtonly.vcf.gz --maf 0.001 --make-pgen --out /labshare/anni/genome_vars/neurod.june2019.chr17.gtonly.maf0.001 &\n",
      "plink2 --vcf neurod.june2019.chr18.gtonly.vcf.gz --maf 0.001 --make-pgen --out /labshare/anni/genome_vars/neurod.june2019.chr18.gtonly.maf0.001 &\n",
      "plink2 --vcf neurod.june2019.chr19.gtonly.vcf.gz --maf 0.001 --make-pgen --out /labshare/anni/genome_vars/neurod.june2019.chr19.gtonly.maf0.001 &\n",
      "plink2 --vcf neurod.june2019.chr20.gtonly.vcf.gz --maf 0.001 --make-pgen --out /labshare/anni/genome_vars/neurod.june2019.chr20.gtonly.maf0.001 &\n",
      "plink2 --vcf neurod.june2019.chr21.gtonly.vcf.gz --maf 0.001 --make-pgen --out /labshare/anni/genome_vars/neurod.june2019.chr21.gtonly.maf0.001 &\n",
      "plink2 --vcf neurod.june2019.chr22.gtonly.vcf.gz --maf 0.001 --make-pgen --out /labshare/anni/genome_vars/neurod.june2019.chr22.gtonly.maf0.001 &\n"
     ]
    }
   ],
   "source": [
    "#convert neurod to plink binary files\n",
    "##filter topmed plink files\n",
    "\n",
    "##ONLY MAF >= 0.001\n",
    "#directory = /labseq/projects/neurod_wgs/genotypes/\n",
    "out = '/labshare/anni/genome_vars/'\n",
    "\n",
    "for num in range(1,23):\n",
    "    print(\"plink2 --vcf neurod.june2019.chr{}.gtonly.vcf.gz --maf 0.001 --make-pgen --out {}neurod.june2019.chr{}.gtonly.maf0.001 &\".format(num,out,num))"
   ]
  },
  {
   "cell_type": "code",
   "execution_count": 18,
   "metadata": {},
   "outputs": [
    {
     "name": "stdout",
     "output_type": "stream",
     "text": [
      "awk '$1 !~ \"#\" {print \"chr\"$1\":\"$2\":\"$4\":\"$5}' mac5.topmed.freeze5b.chr1.pvar > /labshare/anni/genome_vars/topmed.freeze5b.chr1.mac5.plink2.vars &\n",
      "awk '$1 !~ \"#\" {print \"chr\"$1\":\"$2\":\"$4\":\"$5}' mac5.topmed.freeze5b.chr2.pvar > /labshare/anni/genome_vars/topmed.freeze5b.chr2.mac5.plink2.vars &\n",
      "awk '$1 !~ \"#\" {print \"chr\"$1\":\"$2\":\"$4\":\"$5}' mac5.topmed.freeze5b.chr3.pvar > /labshare/anni/genome_vars/topmed.freeze5b.chr3.mac5.plink2.vars &\n",
      "awk '$1 !~ \"#\" {print \"chr\"$1\":\"$2\":\"$4\":\"$5}' mac5.topmed.freeze5b.chr4.pvar > /labshare/anni/genome_vars/topmed.freeze5b.chr4.mac5.plink2.vars &\n",
      "awk '$1 !~ \"#\" {print \"chr\"$1\":\"$2\":\"$4\":\"$5}' mac5.topmed.freeze5b.chr5.pvar > /labshare/anni/genome_vars/topmed.freeze5b.chr5.mac5.plink2.vars &\n",
      "awk '$1 !~ \"#\" {print \"chr\"$1\":\"$2\":\"$4\":\"$5}' mac5.topmed.freeze5b.chr6.pvar > /labshare/anni/genome_vars/topmed.freeze5b.chr6.mac5.plink2.vars &\n",
      "awk '$1 !~ \"#\" {print \"chr\"$1\":\"$2\":\"$4\":\"$5}' mac5.topmed.freeze5b.chr7.pvar > /labshare/anni/genome_vars/topmed.freeze5b.chr7.mac5.plink2.vars &\n",
      "awk '$1 !~ \"#\" {print \"chr\"$1\":\"$2\":\"$4\":\"$5}' mac5.topmed.freeze5b.chr8.pvar > /labshare/anni/genome_vars/topmed.freeze5b.chr8.mac5.plink2.vars &\n",
      "awk '$1 !~ \"#\" {print \"chr\"$1\":\"$2\":\"$4\":\"$5}' mac5.topmed.freeze5b.chr9.pvar > /labshare/anni/genome_vars/topmed.freeze5b.chr9.mac5.plink2.vars &\n",
      "awk '$1 !~ \"#\" {print \"chr\"$1\":\"$2\":\"$4\":\"$5}' mac5.topmed.freeze5b.chr10.pvar > /labshare/anni/genome_vars/topmed.freeze5b.chr10.mac5.plink2.vars &\n",
      "awk '$1 !~ \"#\" {print \"chr\"$1\":\"$2\":\"$4\":\"$5}' mac5.topmed.freeze5b.chr11.pvar > /labshare/anni/genome_vars/topmed.freeze5b.chr11.mac5.plink2.vars &\n",
      "awk '$1 !~ \"#\" {print \"chr\"$1\":\"$2\":\"$4\":\"$5}' mac5.topmed.freeze5b.chr12.pvar > /labshare/anni/genome_vars/topmed.freeze5b.chr12.mac5.plink2.vars &\n",
      "awk '$1 !~ \"#\" {print \"chr\"$1\":\"$2\":\"$4\":\"$5}' mac5.topmed.freeze5b.chr13.pvar > /labshare/anni/genome_vars/topmed.freeze5b.chr13.mac5.plink2.vars &\n",
      "awk '$1 !~ \"#\" {print \"chr\"$1\":\"$2\":\"$4\":\"$5}' mac5.topmed.freeze5b.chr14.pvar > /labshare/anni/genome_vars/topmed.freeze5b.chr14.mac5.plink2.vars &\n",
      "awk '$1 !~ \"#\" {print \"chr\"$1\":\"$2\":\"$4\":\"$5}' mac5.topmed.freeze5b.chr15.pvar > /labshare/anni/genome_vars/topmed.freeze5b.chr15.mac5.plink2.vars &\n",
      "awk '$1 !~ \"#\" {print \"chr\"$1\":\"$2\":\"$4\":\"$5}' mac5.topmed.freeze5b.chr16.pvar > /labshare/anni/genome_vars/topmed.freeze5b.chr16.mac5.plink2.vars &\n",
      "awk '$1 !~ \"#\" {print \"chr\"$1\":\"$2\":\"$4\":\"$5}' mac5.topmed.freeze5b.chr17.pvar > /labshare/anni/genome_vars/topmed.freeze5b.chr17.mac5.plink2.vars &\n",
      "awk '$1 !~ \"#\" {print \"chr\"$1\":\"$2\":\"$4\":\"$5}' mac5.topmed.freeze5b.chr18.pvar > /labshare/anni/genome_vars/topmed.freeze5b.chr18.mac5.plink2.vars &\n",
      "awk '$1 !~ \"#\" {print \"chr\"$1\":\"$2\":\"$4\":\"$5}' mac5.topmed.freeze5b.chr19.pvar > /labshare/anni/genome_vars/topmed.freeze5b.chr19.mac5.plink2.vars &\n",
      "awk '$1 !~ \"#\" {print \"chr\"$1\":\"$2\":\"$4\":\"$5}' mac5.topmed.freeze5b.chr20.pvar > /labshare/anni/genome_vars/topmed.freeze5b.chr20.mac5.plink2.vars &\n",
      "awk '$1 !~ \"#\" {print \"chr\"$1\":\"$2\":\"$4\":\"$5}' mac5.topmed.freeze5b.chr21.pvar > /labshare/anni/genome_vars/topmed.freeze5b.chr21.mac5.plink2.vars &\n",
      "awk '$1 !~ \"#\" {print \"chr\"$1\":\"$2\":\"$4\":\"$5}' mac5.topmed.freeze5b.chr22.pvar > /labshare/anni/genome_vars/topmed.freeze5b.chr22.mac5.plink2.vars &\n",
      "\n",
      "awk '{print \"chr\"$1\":\"$4\":\"$5\":\"$6}' maf0.001.topmed.freeze5b.chr1.pgen > /labshare/anni/genome_vars/topmed.freeze5b.chr1.maf0.001.plink2.vars &\n",
      "awk '{print \"chr\"$1\":\"$4\":\"$5\":\"$6}' maf0.001.topmed.freeze5b.chr2.pgen > /labshare/anni/genome_vars/topmed.freeze5b.chr2.maf0.001.plink2.vars &\n",
      "awk '{print \"chr\"$1\":\"$4\":\"$5\":\"$6}' maf0.001.topmed.freeze5b.chr3.pgen > /labshare/anni/genome_vars/topmed.freeze5b.chr3.maf0.001.plink2.vars &\n",
      "awk '{print \"chr\"$1\":\"$4\":\"$5\":\"$6}' maf0.001.topmed.freeze5b.chr4.pgen > /labshare/anni/genome_vars/topmed.freeze5b.chr4.maf0.001.plink2.vars &\n",
      "awk '{print \"chr\"$1\":\"$4\":\"$5\":\"$6}' maf0.001.topmed.freeze5b.chr5.pgen > /labshare/anni/genome_vars/topmed.freeze5b.chr5.maf0.001.plink2.vars &\n",
      "awk '{print \"chr\"$1\":\"$4\":\"$5\":\"$6}' maf0.001.topmed.freeze5b.chr6.pgen > /labshare/anni/genome_vars/topmed.freeze5b.chr6.maf0.001.plink2.vars &\n",
      "awk '{print \"chr\"$1\":\"$4\":\"$5\":\"$6}' maf0.001.topmed.freeze5b.chr7.pgen > /labshare/anni/genome_vars/topmed.freeze5b.chr7.maf0.001.plink2.vars &\n",
      "awk '{print \"chr\"$1\":\"$4\":\"$5\":\"$6}' maf0.001.topmed.freeze5b.chr8.pgen > /labshare/anni/genome_vars/topmed.freeze5b.chr8.maf0.001.plink2.vars &\n",
      "awk '{print \"chr\"$1\":\"$4\":\"$5\":\"$6}' maf0.001.topmed.freeze5b.chr9.pgen > /labshare/anni/genome_vars/topmed.freeze5b.chr9.maf0.001.plink2.vars &\n",
      "awk '{print \"chr\"$1\":\"$4\":\"$5\":\"$6}' maf0.001.topmed.freeze5b.chr10.pgen > /labshare/anni/genome_vars/topmed.freeze5b.chr10.maf0.001.plink2.vars &\n",
      "awk '{print \"chr\"$1\":\"$4\":\"$5\":\"$6}' maf0.001.topmed.freeze5b.chr11.pgen > /labshare/anni/genome_vars/topmed.freeze5b.chr11.maf0.001.plink2.vars &\n",
      "awk '{print \"chr\"$1\":\"$4\":\"$5\":\"$6}' maf0.001.topmed.freeze5b.chr12.pgen > /labshare/anni/genome_vars/topmed.freeze5b.chr12.maf0.001.plink2.vars &\n",
      "awk '{print \"chr\"$1\":\"$4\":\"$5\":\"$6}' maf0.001.topmed.freeze5b.chr13.pgen > /labshare/anni/genome_vars/topmed.freeze5b.chr13.maf0.001.plink2.vars &\n",
      "awk '{print \"chr\"$1\":\"$4\":\"$5\":\"$6}' maf0.001.topmed.freeze5b.chr14.pgen > /labshare/anni/genome_vars/topmed.freeze5b.chr14.maf0.001.plink2.vars &\n",
      "awk '{print \"chr\"$1\":\"$4\":\"$5\":\"$6}' maf0.001.topmed.freeze5b.chr15.pgen > /labshare/anni/genome_vars/topmed.freeze5b.chr15.maf0.001.plink2.vars &\n",
      "awk '{print \"chr\"$1\":\"$4\":\"$5\":\"$6}' maf0.001.topmed.freeze5b.chr16.pgen > /labshare/anni/genome_vars/topmed.freeze5b.chr16.maf0.001.plink2.vars &\n",
      "awk '{print \"chr\"$1\":\"$4\":\"$5\":\"$6}' maf0.001.topmed.freeze5b.chr17.pgen > /labshare/anni/genome_vars/topmed.freeze5b.chr17.maf0.001.plink2.vars &\n",
      "awk '{print \"chr\"$1\":\"$4\":\"$5\":\"$6}' maf0.001.topmed.freeze5b.chr18.pgen > /labshare/anni/genome_vars/topmed.freeze5b.chr18.maf0.001.plink2.vars &\n",
      "awk '{print \"chr\"$1\":\"$4\":\"$5\":\"$6}' maf0.001.topmed.freeze5b.chr19.pgen > /labshare/anni/genome_vars/topmed.freeze5b.chr19.maf0.001.plink2.vars &\n",
      "awk '{print \"chr\"$1\":\"$4\":\"$5\":\"$6}' maf0.001.topmed.freeze5b.chr20.pgen > /labshare/anni/genome_vars/topmed.freeze5b.chr20.maf0.001.plink2.vars &\n",
      "awk '{print \"chr\"$1\":\"$4\":\"$5\":\"$6}' maf0.001.topmed.freeze5b.chr21.pgen > /labshare/anni/genome_vars/topmed.freeze5b.chr21.maf0.001.plink2.vars &\n",
      "awk '{print \"chr\"$1\":\"$4\":\"$5\":\"$6}' maf0.001.topmed.freeze5b.chr22.pgen > /labshare/anni/genome_vars/topmed.freeze5b.chr22.maf0.001.plink2.vars &\n"
     ]
    }
   ],
   "source": [
    "##make separate file of just topmed variants\n",
    "##directory = /labshare/anni/TOPMed2/\n",
    "\n",
    "out = '/labshare/anni/genome_vars/'\n",
    "for num in range(1,23):\n",
    "    print(\"\"\"awk '$1 !~ \"#\" {{print \"chr\"$1\":\"$2\":\"$4\":\"$5}}' mac5.topmed.freeze5b.chr{}.pvar > {}topmed.freeze5b.chr{}.mac5.plink2.vars &\"\"\".format(num,out,num))\n",
    "\n",
    "print(\"\")    \n",
    "    \n",
    "##make separate file of just topmed variants\n",
    "for num in range(1,23):\n",
    "    print(\"\"\"awk '{{print \"chr\"$1\":\"$4\":\"$5\":\"$6}}' maf0.001.topmed.freeze5b.chr{}.pgen > {}topmed.freeze5b.chr{}.maf0.001.plink2.vars &\"\"\".format(num,out,num))\n"
   ]
  },
  {
   "cell_type": "code",
   "execution_count": 8,
   "metadata": {},
   "outputs": [
    {
     "name": "stdout",
     "output_type": "stream",
     "text": [
      "awk '{print $2}' neurod.june2019.chr1.gtonly.mac5.pgen > neurod.june2019.chr1.gtonly.mac5.plink2.vars &\n",
      "awk '{print $2}' neurod.june2019.chr2.gtonly.mac5.pgen > neurod.june2019.chr2.gtonly.mac5.plink2.vars &\n",
      "awk '{print $2}' neurod.june2019.chr3.gtonly.mac5.pgen > neurod.june2019.chr3.gtonly.mac5.plink2.vars &\n",
      "awk '{print $2}' neurod.june2019.chr4.gtonly.mac5.pgen > neurod.june2019.chr4.gtonly.mac5.plink2.vars &\n",
      "awk '{print $2}' neurod.june2019.chr5.gtonly.mac5.pgen > neurod.june2019.chr5.gtonly.mac5.plink2.vars &\n",
      "awk '{print $2}' neurod.june2019.chr6.gtonly.mac5.pgen > neurod.june2019.chr6.gtonly.mac5.plink2.vars &\n",
      "awk '{print $2}' neurod.june2019.chr7.gtonly.mac5.pgen > neurod.june2019.chr7.gtonly.mac5.plink2.vars &\n",
      "awk '{print $2}' neurod.june2019.chr8.gtonly.mac5.pgen > neurod.june2019.chr8.gtonly.mac5.plink2.vars &\n",
      "awk '{print $2}' neurod.june2019.chr9.gtonly.mac5.pgen > neurod.june2019.chr9.gtonly.mac5.plink2.vars &\n",
      "awk '{print $2}' neurod.june2019.chr10.gtonly.mac5.pgen > neurod.june2019.chr10.gtonly.mac5.plink2.vars &\n",
      "awk '{print $2}' neurod.june2019.chr11.gtonly.mac5.pgen > neurod.june2019.chr11.gtonly.mac5.plink2.vars &\n",
      "awk '{print $2}' neurod.june2019.chr12.gtonly.mac5.pgen > neurod.june2019.chr12.gtonly.mac5.plink2.vars &\n",
      "awk '{print $2}' neurod.june2019.chr13.gtonly.mac5.pgen > neurod.june2019.chr13.gtonly.mac5.plink2.vars &\n",
      "awk '{print $2}' neurod.june2019.chr14.gtonly.mac5.pgen > neurod.june2019.chr14.gtonly.mac5.plink2.vars &\n",
      "awk '{print $2}' neurod.june2019.chr15.gtonly.mac5.pgen > neurod.june2019.chr15.gtonly.mac5.plink2.vars &\n",
      "awk '{print $2}' neurod.june2019.chr16.gtonly.mac5.pgen > neurod.june2019.chr16.gtonly.mac5.plink2.vars &\n",
      "awk '{print $2}' neurod.june2019.chr17.gtonly.mac5.pgen > neurod.june2019.chr17.gtonly.mac5.plink2.vars &\n",
      "awk '{print $2}' neurod.june2019.chr18.gtonly.mac5.pgen > neurod.june2019.chr18.gtonly.mac5.plink2.vars &\n",
      "awk '{print $2}' neurod.june2019.chr19.gtonly.mac5.pgen > neurod.june2019.chr19.gtonly.mac5.plink2.vars &\n",
      "awk '{print $2}' neurod.june2019.chr20.gtonly.mac5.pgen > neurod.june2019.chr20.gtonly.mac5.plink2.vars &\n",
      "awk '{print $2}' neurod.june2019.chr21.gtonly.mac5.pgen > neurod.june2019.chr21.gtonly.mac5.plink2.vars &\n",
      "awk '{print $2}' neurod.june2019.chr22.gtonly.mac5.pgen > neurod.june2019.chr22.gtonly.mac5.plink2.vars &\n",
      "\n",
      "awk '{print $2}' neurod.june2019.chr1.gtonly.maf0.001.pgen > neurod.june2019.chr1.gtonly.maf0.001.plink2.vars &\n",
      "awk '{print $2}' neurod.june2019.chr2.gtonly.maf0.001.pgen > neurod.june2019.chr2.gtonly.maf0.001.plink2.vars &\n",
      "awk '{print $2}' neurod.june2019.chr3.gtonly.maf0.001.pgen > neurod.june2019.chr3.gtonly.maf0.001.plink2.vars &\n",
      "awk '{print $2}' neurod.june2019.chr4.gtonly.maf0.001.pgen > neurod.june2019.chr4.gtonly.maf0.001.plink2.vars &\n",
      "awk '{print $2}' neurod.june2019.chr5.gtonly.maf0.001.pgen > neurod.june2019.chr5.gtonly.maf0.001.plink2.vars &\n",
      "awk '{print $2}' neurod.june2019.chr6.gtonly.maf0.001.pgen > neurod.june2019.chr6.gtonly.maf0.001.plink2.vars &\n",
      "awk '{print $2}' neurod.june2019.chr7.gtonly.maf0.001.pgen > neurod.june2019.chr7.gtonly.maf0.001.plink2.vars &\n",
      "awk '{print $2}' neurod.june2019.chr8.gtonly.maf0.001.pgen > neurod.june2019.chr8.gtonly.maf0.001.plink2.vars &\n",
      "awk '{print $2}' neurod.june2019.chr9.gtonly.maf0.001.pgen > neurod.june2019.chr9.gtonly.maf0.001.plink2.vars &\n",
      "awk '{print $2}' neurod.june2019.chr10.gtonly.maf0.001.pgen > neurod.june2019.chr10.gtonly.maf0.001.plink2.vars &\n",
      "awk '{print $2}' neurod.june2019.chr11.gtonly.maf0.001.pgen > neurod.june2019.chr11.gtonly.maf0.001.plink2.vars &\n",
      "awk '{print $2}' neurod.june2019.chr12.gtonly.maf0.001.pgen > neurod.june2019.chr12.gtonly.maf0.001.plink2.vars &\n",
      "awk '{print $2}' neurod.june2019.chr13.gtonly.maf0.001.pgen > neurod.june2019.chr13.gtonly.maf0.001.plink2.vars &\n",
      "awk '{print $2}' neurod.june2019.chr14.gtonly.maf0.001.pgen > neurod.june2019.chr14.gtonly.maf0.001.plink2.vars &\n",
      "awk '{print $2}' neurod.june2019.chr15.gtonly.maf0.001.pgen > neurod.june2019.chr15.gtonly.maf0.001.plink2.vars &\n",
      "awk '{print $2}' neurod.june2019.chr16.gtonly.maf0.001.pgen > neurod.june2019.chr16.gtonly.maf0.001.plink2.vars &\n",
      "awk '{print $2}' neurod.june2019.chr17.gtonly.maf0.001.pgen > neurod.june2019.chr17.gtonly.maf0.001.plink2.vars &\n",
      "awk '{print $2}' neurod.june2019.chr18.gtonly.maf0.001.pgen > neurod.june2019.chr18.gtonly.maf0.001.plink2.vars &\n",
      "awk '{print $2}' neurod.june2019.chr19.gtonly.maf0.001.pgen > neurod.june2019.chr19.gtonly.maf0.001.plink2.vars &\n",
      "awk '{print $2}' neurod.june2019.chr20.gtonly.maf0.001.pgen > neurod.june2019.chr20.gtonly.maf0.001.plink2.vars &\n",
      "awk '{print $2}' neurod.june2019.chr21.gtonly.maf0.001.pgen > neurod.june2019.chr21.gtonly.maf0.001.plink2.vars &\n",
      "awk '{print $2}' neurod.june2019.chr22.gtonly.maf0.001.pgen > neurod.june2019.chr22.gtonly.maf0.001.plink2.vars &\n"
     ]
    }
   ],
   "source": [
    "##make separate file of just topmed variants\n",
    "for num in range(1,23):\n",
    "    print(\"awk '{{print $2}}' neurod.june2019.chr{}.gtonly.mac5.pgen > neurod.june2019.chr{}.gtonly.mac5.plink2.vars &\".format(num,num))\n",
    "\n",
    "print(\"\")    \n",
    "    \n",
    "##make separate file of just topmed variants\n",
    "for num in range(1,23):\n",
    "    print(\"awk '{{print $2}}' neurod.june2019.chr{}.gtonly.maf0.001.pgen > neurod.june2019.chr{}.gtonly.maf0.001.plink2.vars &\".format(num,num))\n"
   ]
  },
  {
   "cell_type": "code",
   "execution_count": 36,
   "metadata": {},
   "outputs": [
    {
     "name": "stdout",
     "output_type": "stream",
     "text": [
      "grep -wFf topmed.freeze5b.all.pd_regions.filtered.sorted.plinkfilt.vars /labshare/anni/LNG1.9/neurod.june2019.all.pd_regions.filtered.sorted.plinkfilt.vars > /labshare/anni/TOPMed_neurod/topmed.neurod.all.pd_regions.filtered.sorted.plinkfilt.vars\n"
     ]
    }
   ],
   "source": [
    "##make list of topmed/neurod overlapping variant ids\n",
    "##directory in topmed files\n",
    "\n",
    "# topmed = \"topmed.freeze5b.all.pd_regions.filtered.sorted.plinkfilt.vars\"\n",
    "# neurod = \"/labshare/anni/LNG1.9/neurod.june2019.all.pd_regions.filtered.sorted.plinkfilt.vars\"\n",
    "# output = \"/labshare/anni/TOPMed_neurod/topmed.neurod.all.pd_regions.filtered.sorted.plinkfilt.vars\"\n",
    "\n",
    "# print(\"grep -wFf {} {} > {}\".format(topmed, neurod, output))"
   ]
  },
  {
   "cell_type": "code",
   "execution_count": null,
   "metadata": {},
   "outputs": [],
   "source": [
    "##lifting HRC from GRCh37 to hg 19\n",
    "(Dir = ~/picard)\n",
    "\n",
    "java -jar build/libs/picard.jar LiftoverVcf \\\n",
    "I=/labshare/anni/HRC/HRC.r1-1.GRCh37.wgs.mac5.sites.vcf.gz \\\n",
    "O=/labshare/anni/HRC/lifted.hg19.HRC.r1-1.GRCh37.wgs.mac5.sites.vcf.gz \\\n",
    "CHAIN=/labshare/raph/datasets/ucsc/chains/GRCh37ToHg19.over.chain.gz \\\n",
    "REJECT=rejected.hg19.variants.vcf \\\n",
    "R=/labseq/Genomes/hg19/hg19_genome.fa\n",
    "\n"
   ]
  },
  {
   "cell_type": "code",
   "execution_count": null,
   "metadata": {},
   "outputs": [],
   "source": [
    "##lifting HRC from hg19 to hg38\n",
    "\n",
    "java -jar build/libs/picard.jar LiftoverVcf \\\n",
    "I=/labshare/anni/HRC/lifted.hg19HRC.r1-1.GRCh37.wgs.mac5.sites.vcf.gz \\\n",
    "O=/labshare/anni/HRC/lifted.hg38.HRC.r1-1.GRCh37.wgs.mac5.sites.vcf.gz \\\n",
    "CHAIN=/labshare/raph/datasets/ucsc/chains/hg19ToHg38.over.chain.gz \\\n",
    "REJECT=rejected.hg38.variants.vcf \\\n",
    "R=/labseq/Genomes/GRCh38_hg38/broad.v0/Homo_sapiens_assembly38.fasta"
   ]
  },
  {
   "cell_type": "code",
   "execution_count": 2,
   "metadata": {},
   "outputs": [
    {
     "name": "stdout",
     "output_type": "stream",
     "text": [
      "grep -Fvxf /labshare/raph/spd/finemap/reference_panels/topmed.freeze5b.variants.failed_svm_disc.chr1.list mac5.neurod.june2019.chr1.var > /labshare/anni/genome_vars/neurod.june2019.chr1.gtonly.mac5.nofailed.plink2.vars &\n",
      "grep -Fvxf /labshare/raph/spd/finemap/reference_panels/topmed.freeze5b.variants.failed_svm_disc.chr2.list mac5.neurod.june2019.chr2.var > /labshare/anni/genome_vars/neurod.june2019.chr2.gtonly.mac5.nofailed.plink2.vars &\n",
      "grep -Fvxf /labshare/raph/spd/finemap/reference_panels/topmed.freeze5b.variants.failed_svm_disc.chr3.list mac5.neurod.june2019.chr3.var > /labshare/anni/genome_vars/neurod.june2019.chr3.gtonly.mac5.nofailed.plink2.vars &\n",
      "grep -Fvxf /labshare/raph/spd/finemap/reference_panels/topmed.freeze5b.variants.failed_svm_disc.chr4.list mac5.neurod.june2019.chr4.var > /labshare/anni/genome_vars/neurod.june2019.chr4.gtonly.mac5.nofailed.plink2.vars &\n",
      "grep -Fvxf /labshare/raph/spd/finemap/reference_panels/topmed.freeze5b.variants.failed_svm_disc.chr5.list mac5.neurod.june2019.chr5.var > /labshare/anni/genome_vars/neurod.june2019.chr5.gtonly.mac5.nofailed.plink2.vars &\n",
      "grep -Fvxf /labshare/raph/spd/finemap/reference_panels/topmed.freeze5b.variants.failed_svm_disc.chr6.list mac5.neurod.june2019.chr6.var > /labshare/anni/genome_vars/neurod.june2019.chr6.gtonly.mac5.nofailed.plink2.vars &\n",
      "grep -Fvxf /labshare/raph/spd/finemap/reference_panels/topmed.freeze5b.variants.failed_svm_disc.chr7.list mac5.neurod.june2019.chr7.var > /labshare/anni/genome_vars/neurod.june2019.chr7.gtonly.mac5.nofailed.plink2.vars &\n",
      "grep -Fvxf /labshare/raph/spd/finemap/reference_panels/topmed.freeze5b.variants.failed_svm_disc.chr8.list mac5.neurod.june2019.chr8.var > /labshare/anni/genome_vars/neurod.june2019.chr8.gtonly.mac5.nofailed.plink2.vars &\n",
      "grep -Fvxf /labshare/raph/spd/finemap/reference_panels/topmed.freeze5b.variants.failed_svm_disc.chr9.list mac5.neurod.june2019.chr9.var > /labshare/anni/genome_vars/neurod.june2019.chr9.gtonly.mac5.nofailed.plink2.vars &\n",
      "grep -Fvxf /labshare/raph/spd/finemap/reference_panels/topmed.freeze5b.variants.failed_svm_disc.chr10.list mac5.neurod.june2019.chr10.var > /labshare/anni/genome_vars/neurod.june2019.chr10.gtonly.mac5.nofailed.plink2.vars &\n",
      "grep -Fvxf /labshare/raph/spd/finemap/reference_panels/topmed.freeze5b.variants.failed_svm_disc.chr11.list mac5.neurod.june2019.chr11.var > /labshare/anni/genome_vars/neurod.june2019.chr11.gtonly.mac5.nofailed.plink2.vars &\n",
      "grep -Fvxf /labshare/raph/spd/finemap/reference_panels/topmed.freeze5b.variants.failed_svm_disc.chr12.list mac5.neurod.june2019.chr12.var > /labshare/anni/genome_vars/neurod.june2019.chr12.gtonly.mac5.nofailed.plink2.vars &\n",
      "grep -Fvxf /labshare/raph/spd/finemap/reference_panels/topmed.freeze5b.variants.failed_svm_disc.chr13.list mac5.neurod.june2019.chr13.var > /labshare/anni/genome_vars/neurod.june2019.chr13.gtonly.mac5.nofailed.plink2.vars &\n",
      "grep -Fvxf /labshare/raph/spd/finemap/reference_panels/topmed.freeze5b.variants.failed_svm_disc.chr14.list mac5.neurod.june2019.chr14.var > /labshare/anni/genome_vars/neurod.june2019.chr14.gtonly.mac5.nofailed.plink2.vars &\n",
      "grep -Fvxf /labshare/raph/spd/finemap/reference_panels/topmed.freeze5b.variants.failed_svm_disc.chr15.list mac5.neurod.june2019.chr15.var > /labshare/anni/genome_vars/neurod.june2019.chr15.gtonly.mac5.nofailed.plink2.vars &\n",
      "grep -Fvxf /labshare/raph/spd/finemap/reference_panels/topmed.freeze5b.variants.failed_svm_disc.chr16.list mac5.neurod.june2019.chr16.var > /labshare/anni/genome_vars/neurod.june2019.chr16.gtonly.mac5.nofailed.plink2.vars &\n",
      "grep -Fvxf /labshare/raph/spd/finemap/reference_panels/topmed.freeze5b.variants.failed_svm_disc.chr17.list mac5.neurod.june2019.chr17.var > /labshare/anni/genome_vars/neurod.june2019.chr17.gtonly.mac5.nofailed.plink2.vars &\n",
      "grep -Fvxf /labshare/raph/spd/finemap/reference_panels/topmed.freeze5b.variants.failed_svm_disc.chr18.list mac5.neurod.june2019.chr18.var > /labshare/anni/genome_vars/neurod.june2019.chr18.gtonly.mac5.nofailed.plink2.vars &\n",
      "grep -Fvxf /labshare/raph/spd/finemap/reference_panels/topmed.freeze5b.variants.failed_svm_disc.chr19.list mac5.neurod.june2019.chr19.var > /labshare/anni/genome_vars/neurod.june2019.chr19.gtonly.mac5.nofailed.plink2.vars &\n",
      "grep -Fvxf /labshare/raph/spd/finemap/reference_panels/topmed.freeze5b.variants.failed_svm_disc.chr20.list mac5.neurod.june2019.chr20.var > /labshare/anni/genome_vars/neurod.june2019.chr20.gtonly.mac5.nofailed.plink2.vars &\n",
      "grep -Fvxf /labshare/raph/spd/finemap/reference_panels/topmed.freeze5b.variants.failed_svm_disc.chr21.list mac5.neurod.june2019.chr21.var > /labshare/anni/genome_vars/neurod.june2019.chr21.gtonly.mac5.nofailed.plink2.vars &\n",
      "grep -Fvxf /labshare/raph/spd/finemap/reference_panels/topmed.freeze5b.variants.failed_svm_disc.chr22.list mac5.neurod.june2019.chr22.var > /labshare/anni/genome_vars/neurod.june2019.chr22.gtonly.mac5.nofailed.plink2.vars &\n",
      "\n",
      "grep -Fvxf /labshare/raph/spd/finemap/reference_panels/topmed.freeze5b.variants.failed_svm_disc.chr1.list maf0.001.neurod.june2019.chr1.var > /labshare/anni/genome_vars/neurod.june2019.chr1.gtonly.maf0.001.nofailed.plink2.vars &\n",
      "grep -Fvxf /labshare/raph/spd/finemap/reference_panels/topmed.freeze5b.variants.failed_svm_disc.chr2.list maf0.001.neurod.june2019.chr2.var > /labshare/anni/genome_vars/neurod.june2019.chr2.gtonly.maf0.001.nofailed.plink2.vars &\n",
      "grep -Fvxf /labshare/raph/spd/finemap/reference_panels/topmed.freeze5b.variants.failed_svm_disc.chr3.list maf0.001.neurod.june2019.chr3.var > /labshare/anni/genome_vars/neurod.june2019.chr3.gtonly.maf0.001.nofailed.plink2.vars &\n",
      "grep -Fvxf /labshare/raph/spd/finemap/reference_panels/topmed.freeze5b.variants.failed_svm_disc.chr4.list maf0.001.neurod.june2019.chr4.var > /labshare/anni/genome_vars/neurod.june2019.chr4.gtonly.maf0.001.nofailed.plink2.vars &\n",
      "grep -Fvxf /labshare/raph/spd/finemap/reference_panels/topmed.freeze5b.variants.failed_svm_disc.chr5.list maf0.001.neurod.june2019.chr5.var > /labshare/anni/genome_vars/neurod.june2019.chr5.gtonly.maf0.001.nofailed.plink2.vars &\n",
      "grep -Fvxf /labshare/raph/spd/finemap/reference_panels/topmed.freeze5b.variants.failed_svm_disc.chr6.list maf0.001.neurod.june2019.chr6.var > /labshare/anni/genome_vars/neurod.june2019.chr6.gtonly.maf0.001.nofailed.plink2.vars &\n",
      "grep -Fvxf /labshare/raph/spd/finemap/reference_panels/topmed.freeze5b.variants.failed_svm_disc.chr7.list maf0.001.neurod.june2019.chr7.var > /labshare/anni/genome_vars/neurod.june2019.chr7.gtonly.maf0.001.nofailed.plink2.vars &\n",
      "grep -Fvxf /labshare/raph/spd/finemap/reference_panels/topmed.freeze5b.variants.failed_svm_disc.chr8.list maf0.001.neurod.june2019.chr8.var > /labshare/anni/genome_vars/neurod.june2019.chr8.gtonly.maf0.001.nofailed.plink2.vars &\n",
      "grep -Fvxf /labshare/raph/spd/finemap/reference_panels/topmed.freeze5b.variants.failed_svm_disc.chr9.list maf0.001.neurod.june2019.chr9.var > /labshare/anni/genome_vars/neurod.june2019.chr9.gtonly.maf0.001.nofailed.plink2.vars &\n",
      "grep -Fvxf /labshare/raph/spd/finemap/reference_panels/topmed.freeze5b.variants.failed_svm_disc.chr10.list maf0.001.neurod.june2019.chr10.var > /labshare/anni/genome_vars/neurod.june2019.chr10.gtonly.maf0.001.nofailed.plink2.vars &\n",
      "grep -Fvxf /labshare/raph/spd/finemap/reference_panels/topmed.freeze5b.variants.failed_svm_disc.chr11.list maf0.001.neurod.june2019.chr11.var > /labshare/anni/genome_vars/neurod.june2019.chr11.gtonly.maf0.001.nofailed.plink2.vars &\n",
      "grep -Fvxf /labshare/raph/spd/finemap/reference_panels/topmed.freeze5b.variants.failed_svm_disc.chr12.list maf0.001.neurod.june2019.chr12.var > /labshare/anni/genome_vars/neurod.june2019.chr12.gtonly.maf0.001.nofailed.plink2.vars &\n",
      "grep -Fvxf /labshare/raph/spd/finemap/reference_panels/topmed.freeze5b.variants.failed_svm_disc.chr13.list maf0.001.neurod.june2019.chr13.var > /labshare/anni/genome_vars/neurod.june2019.chr13.gtonly.maf0.001.nofailed.plink2.vars &\n",
      "grep -Fvxf /labshare/raph/spd/finemap/reference_panels/topmed.freeze5b.variants.failed_svm_disc.chr14.list maf0.001.neurod.june2019.chr14.var > /labshare/anni/genome_vars/neurod.june2019.chr14.gtonly.maf0.001.nofailed.plink2.vars &\n",
      "grep -Fvxf /labshare/raph/spd/finemap/reference_panels/topmed.freeze5b.variants.failed_svm_disc.chr15.list maf0.001.neurod.june2019.chr15.var > /labshare/anni/genome_vars/neurod.june2019.chr15.gtonly.maf0.001.nofailed.plink2.vars &\n",
      "grep -Fvxf /labshare/raph/spd/finemap/reference_panels/topmed.freeze5b.variants.failed_svm_disc.chr16.list maf0.001.neurod.june2019.chr16.var > /labshare/anni/genome_vars/neurod.june2019.chr16.gtonly.maf0.001.nofailed.plink2.vars &\n",
      "grep -Fvxf /labshare/raph/spd/finemap/reference_panels/topmed.freeze5b.variants.failed_svm_disc.chr17.list maf0.001.neurod.june2019.chr17.var > /labshare/anni/genome_vars/neurod.june2019.chr17.gtonly.maf0.001.nofailed.plink2.vars &\n",
      "grep -Fvxf /labshare/raph/spd/finemap/reference_panels/topmed.freeze5b.variants.failed_svm_disc.chr18.list maf0.001.neurod.june2019.chr18.var > /labshare/anni/genome_vars/neurod.june2019.chr18.gtonly.maf0.001.nofailed.plink2.vars &\n",
      "grep -Fvxf /labshare/raph/spd/finemap/reference_panels/topmed.freeze5b.variants.failed_svm_disc.chr19.list maf0.001.neurod.june2019.chr19.var > /labshare/anni/genome_vars/neurod.june2019.chr19.gtonly.maf0.001.nofailed.plink2.vars &\n",
      "grep -Fvxf /labshare/raph/spd/finemap/reference_panels/topmed.freeze5b.variants.failed_svm_disc.chr20.list maf0.001.neurod.june2019.chr20.var > /labshare/anni/genome_vars/neurod.june2019.chr20.gtonly.maf0.001.nofailed.plink2.vars &\n",
      "grep -Fvxf /labshare/raph/spd/finemap/reference_panels/topmed.freeze5b.variants.failed_svm_disc.chr21.list maf0.001.neurod.june2019.chr21.var > /labshare/anni/genome_vars/neurod.june2019.chr21.gtonly.maf0.001.nofailed.plink2.vars &\n",
      "grep -Fvxf /labshare/raph/spd/finemap/reference_panels/topmed.freeze5b.variants.failed_svm_disc.chr22.list maf0.001.neurod.june2019.chr22.var > /labshare/anni/genome_vars/neurod.june2019.chr22.gtonly.maf0.001.nofailed.plink2.vars &\n"
     ]
    }
   ],
   "source": [
    "##removing TOPMed failed variants from LNG genome sets (mac5, maf 0.001)\n",
    "##directory = '/labshare/anni/LNG2/'\n",
    "\n",
    "out = '/labshare/anni/genome_vars/'\n",
    "\n",
    "for num in range (1,23):\n",
    "    print(\"grep -Fvxf /labshare/raph/spd/finemap/reference_panels/topmed.freeze5b.variants.failed_svm_disc.chr{}.list mac5.neurod.june2019.chr{}.var > {}neurod.june2019.chr{}.gtonly.mac5.nofailed.plink2.vars &\".format(num,num,out,num))\n",
    "    \n",
    "print(\"\")\n",
    "\n",
    "for num in range (1,23):\n",
    "    print(\"grep -Fvxf /labshare/raph/spd/finemap/reference_panels/topmed.freeze5b.variants.failed_svm_disc.chr{}.list maf0.001.neurod.june2019.chr{}.var > {}neurod.june2019.chr{}.gtonly.maf0.001.nofailed.plink2.vars &\".format(num,num,out,num))\n",
    "    "
   ]
  },
  {
   "cell_type": "code",
   "execution_count": 1,
   "metadata": {},
   "outputs": [
    {
     "name": "stdout",
     "output_type": "stream",
     "text": [
      "grep -Fvxf /labshare/raph/spd/finemap/reference_panels/topmed.freeze5b.variants.failed_svm_disc.chr1.list mac5.topmed.freeze5b.chr1.var > /labshare/anni/genome_vars/topmed.freeze5b.chr1.mac5.nofailed.plink2.vars &\n",
      "grep -Fvxf /labshare/raph/spd/finemap/reference_panels/topmed.freeze5b.variants.failed_svm_disc.chr2.list mac5.topmed.freeze5b.chr2.var > /labshare/anni/genome_vars/topmed.freeze5b.chr2.mac5.nofailed.plink2.vars &\n",
      "grep -Fvxf /labshare/raph/spd/finemap/reference_panels/topmed.freeze5b.variants.failed_svm_disc.chr3.list mac5.topmed.freeze5b.chr3.var > /labshare/anni/genome_vars/topmed.freeze5b.chr3.mac5.nofailed.plink2.vars &\n",
      "grep -Fvxf /labshare/raph/spd/finemap/reference_panels/topmed.freeze5b.variants.failed_svm_disc.chr4.list mac5.topmed.freeze5b.chr4.var > /labshare/anni/genome_vars/topmed.freeze5b.chr4.mac5.nofailed.plink2.vars &\n",
      "grep -Fvxf /labshare/raph/spd/finemap/reference_panels/topmed.freeze5b.variants.failed_svm_disc.chr5.list mac5.topmed.freeze5b.chr5.var > /labshare/anni/genome_vars/topmed.freeze5b.chr5.mac5.nofailed.plink2.vars &\n",
      "grep -Fvxf /labshare/raph/spd/finemap/reference_panels/topmed.freeze5b.variants.failed_svm_disc.chr6.list mac5.topmed.freeze5b.chr6.var > /labshare/anni/genome_vars/topmed.freeze5b.chr6.mac5.nofailed.plink2.vars &\n",
      "grep -Fvxf /labshare/raph/spd/finemap/reference_panels/topmed.freeze5b.variants.failed_svm_disc.chr7.list mac5.topmed.freeze5b.chr7.var > /labshare/anni/genome_vars/topmed.freeze5b.chr7.mac5.nofailed.plink2.vars &\n",
      "grep -Fvxf /labshare/raph/spd/finemap/reference_panels/topmed.freeze5b.variants.failed_svm_disc.chr8.list mac5.topmed.freeze5b.chr8.var > /labshare/anni/genome_vars/topmed.freeze5b.chr8.mac5.nofailed.plink2.vars &\n",
      "grep -Fvxf /labshare/raph/spd/finemap/reference_panels/topmed.freeze5b.variants.failed_svm_disc.chr9.list mac5.topmed.freeze5b.chr9.var > /labshare/anni/genome_vars/topmed.freeze5b.chr9.mac5.nofailed.plink2.vars &\n",
      "grep -Fvxf /labshare/raph/spd/finemap/reference_panels/topmed.freeze5b.variants.failed_svm_disc.chr10.list mac5.topmed.freeze5b.chr10.var > /labshare/anni/genome_vars/topmed.freeze5b.chr10.mac5.nofailed.plink2.vars &\n",
      "grep -Fvxf /labshare/raph/spd/finemap/reference_panels/topmed.freeze5b.variants.failed_svm_disc.chr11.list mac5.topmed.freeze5b.chr11.var > /labshare/anni/genome_vars/topmed.freeze5b.chr11.mac5.nofailed.plink2.vars &\n",
      "grep -Fvxf /labshare/raph/spd/finemap/reference_panels/topmed.freeze5b.variants.failed_svm_disc.chr12.list mac5.topmed.freeze5b.chr12.var > /labshare/anni/genome_vars/topmed.freeze5b.chr12.mac5.nofailed.plink2.vars &\n",
      "grep -Fvxf /labshare/raph/spd/finemap/reference_panels/topmed.freeze5b.variants.failed_svm_disc.chr13.list mac5.topmed.freeze5b.chr13.var > /labshare/anni/genome_vars/topmed.freeze5b.chr13.mac5.nofailed.plink2.vars &\n",
      "grep -Fvxf /labshare/raph/spd/finemap/reference_panels/topmed.freeze5b.variants.failed_svm_disc.chr14.list mac5.topmed.freeze5b.chr14.var > /labshare/anni/genome_vars/topmed.freeze5b.chr14.mac5.nofailed.plink2.vars &\n",
      "grep -Fvxf /labshare/raph/spd/finemap/reference_panels/topmed.freeze5b.variants.failed_svm_disc.chr15.list mac5.topmed.freeze5b.chr15.var > /labshare/anni/genome_vars/topmed.freeze5b.chr15.mac5.nofailed.plink2.vars &\n",
      "grep -Fvxf /labshare/raph/spd/finemap/reference_panels/topmed.freeze5b.variants.failed_svm_disc.chr16.list mac5.topmed.freeze5b.chr16.var > /labshare/anni/genome_vars/topmed.freeze5b.chr16.mac5.nofailed.plink2.vars &\n",
      "grep -Fvxf /labshare/raph/spd/finemap/reference_panels/topmed.freeze5b.variants.failed_svm_disc.chr17.list mac5.topmed.freeze5b.chr17.var > /labshare/anni/genome_vars/topmed.freeze5b.chr17.mac5.nofailed.plink2.vars &\n",
      "grep -Fvxf /labshare/raph/spd/finemap/reference_panels/topmed.freeze5b.variants.failed_svm_disc.chr18.list mac5.topmed.freeze5b.chr18.var > /labshare/anni/genome_vars/topmed.freeze5b.chr18.mac5.nofailed.plink2.vars &\n",
      "grep -Fvxf /labshare/raph/spd/finemap/reference_panels/topmed.freeze5b.variants.failed_svm_disc.chr19.list mac5.topmed.freeze5b.chr19.var > /labshare/anni/genome_vars/topmed.freeze5b.chr19.mac5.nofailed.plink2.vars &\n",
      "grep -Fvxf /labshare/raph/spd/finemap/reference_panels/topmed.freeze5b.variants.failed_svm_disc.chr20.list mac5.topmed.freeze5b.chr20.var > /labshare/anni/genome_vars/topmed.freeze5b.chr20.mac5.nofailed.plink2.vars &\n",
      "grep -Fvxf /labshare/raph/spd/finemap/reference_panels/topmed.freeze5b.variants.failed_svm_disc.chr21.list mac5.topmed.freeze5b.chr21.var > /labshare/anni/genome_vars/topmed.freeze5b.chr21.mac5.nofailed.plink2.vars &\n",
      "grep -Fvxf /labshare/raph/spd/finemap/reference_panels/topmed.freeze5b.variants.failed_svm_disc.chr22.list mac5.topmed.freeze5b.chr22.var > /labshare/anni/genome_vars/topmed.freeze5b.chr22.mac5.nofailed.plink2.vars &\n",
      "\n",
      "grep -Fvxf /labshare/raph/spd/finemap/reference_panels/topmed.freeze5b.variants.failed_svm_disc.chr1.list maf0.001.topmed.freeze5b.chr1.var > /labshare/anni/genome_vars/topmed.freeze5b.chr1.maf0.001.nofailed.plink2.vars &\n",
      "grep -Fvxf /labshare/raph/spd/finemap/reference_panels/topmed.freeze5b.variants.failed_svm_disc.chr2.list maf0.001.topmed.freeze5b.chr2.var > /labshare/anni/genome_vars/topmed.freeze5b.chr2.maf0.001.nofailed.plink2.vars &\n",
      "grep -Fvxf /labshare/raph/spd/finemap/reference_panels/topmed.freeze5b.variants.failed_svm_disc.chr3.list maf0.001.topmed.freeze5b.chr3.var > /labshare/anni/genome_vars/topmed.freeze5b.chr3.maf0.001.nofailed.plink2.vars &\n",
      "grep -Fvxf /labshare/raph/spd/finemap/reference_panels/topmed.freeze5b.variants.failed_svm_disc.chr4.list maf0.001.topmed.freeze5b.chr4.var > /labshare/anni/genome_vars/topmed.freeze5b.chr4.maf0.001.nofailed.plink2.vars &\n",
      "grep -Fvxf /labshare/raph/spd/finemap/reference_panels/topmed.freeze5b.variants.failed_svm_disc.chr5.list maf0.001.topmed.freeze5b.chr5.var > /labshare/anni/genome_vars/topmed.freeze5b.chr5.maf0.001.nofailed.plink2.vars &\n",
      "grep -Fvxf /labshare/raph/spd/finemap/reference_panels/topmed.freeze5b.variants.failed_svm_disc.chr6.list maf0.001.topmed.freeze5b.chr6.var > /labshare/anni/genome_vars/topmed.freeze5b.chr6.maf0.001.nofailed.plink2.vars &\n",
      "grep -Fvxf /labshare/raph/spd/finemap/reference_panels/topmed.freeze5b.variants.failed_svm_disc.chr7.list maf0.001.topmed.freeze5b.chr7.var > /labshare/anni/genome_vars/topmed.freeze5b.chr7.maf0.001.nofailed.plink2.vars &\n",
      "grep -Fvxf /labshare/raph/spd/finemap/reference_panels/topmed.freeze5b.variants.failed_svm_disc.chr8.list maf0.001.topmed.freeze5b.chr8.var > /labshare/anni/genome_vars/topmed.freeze5b.chr8.maf0.001.nofailed.plink2.vars &\n",
      "grep -Fvxf /labshare/raph/spd/finemap/reference_panels/topmed.freeze5b.variants.failed_svm_disc.chr9.list maf0.001.topmed.freeze5b.chr9.var > /labshare/anni/genome_vars/topmed.freeze5b.chr9.maf0.001.nofailed.plink2.vars &\n",
      "grep -Fvxf /labshare/raph/spd/finemap/reference_panels/topmed.freeze5b.variants.failed_svm_disc.chr10.list maf0.001.topmed.freeze5b.chr10.var > /labshare/anni/genome_vars/topmed.freeze5b.chr10.maf0.001.nofailed.plink2.vars &\n",
      "grep -Fvxf /labshare/raph/spd/finemap/reference_panels/topmed.freeze5b.variants.failed_svm_disc.chr11.list maf0.001.topmed.freeze5b.chr11.var > /labshare/anni/genome_vars/topmed.freeze5b.chr11.maf0.001.nofailed.plink2.vars &\n",
      "grep -Fvxf /labshare/raph/spd/finemap/reference_panels/topmed.freeze5b.variants.failed_svm_disc.chr12.list maf0.001.topmed.freeze5b.chr12.var > /labshare/anni/genome_vars/topmed.freeze5b.chr12.maf0.001.nofailed.plink2.vars &\n",
      "grep -Fvxf /labshare/raph/spd/finemap/reference_panels/topmed.freeze5b.variants.failed_svm_disc.chr13.list maf0.001.topmed.freeze5b.chr13.var > /labshare/anni/genome_vars/topmed.freeze5b.chr13.maf0.001.nofailed.plink2.vars &\n",
      "grep -Fvxf /labshare/raph/spd/finemap/reference_panels/topmed.freeze5b.variants.failed_svm_disc.chr14.list maf0.001.topmed.freeze5b.chr14.var > /labshare/anni/genome_vars/topmed.freeze5b.chr14.maf0.001.nofailed.plink2.vars &\n",
      "grep -Fvxf /labshare/raph/spd/finemap/reference_panels/topmed.freeze5b.variants.failed_svm_disc.chr15.list maf0.001.topmed.freeze5b.chr15.var > /labshare/anni/genome_vars/topmed.freeze5b.chr15.maf0.001.nofailed.plink2.vars &\n",
      "grep -Fvxf /labshare/raph/spd/finemap/reference_panels/topmed.freeze5b.variants.failed_svm_disc.chr16.list maf0.001.topmed.freeze5b.chr16.var > /labshare/anni/genome_vars/topmed.freeze5b.chr16.maf0.001.nofailed.plink2.vars &\n",
      "grep -Fvxf /labshare/raph/spd/finemap/reference_panels/topmed.freeze5b.variants.failed_svm_disc.chr17.list maf0.001.topmed.freeze5b.chr17.var > /labshare/anni/genome_vars/topmed.freeze5b.chr17.maf0.001.nofailed.plink2.vars &\n",
      "grep -Fvxf /labshare/raph/spd/finemap/reference_panels/topmed.freeze5b.variants.failed_svm_disc.chr18.list maf0.001.topmed.freeze5b.chr18.var > /labshare/anni/genome_vars/topmed.freeze5b.chr18.maf0.001.nofailed.plink2.vars &\n",
      "grep -Fvxf /labshare/raph/spd/finemap/reference_panels/topmed.freeze5b.variants.failed_svm_disc.chr19.list maf0.001.topmed.freeze5b.chr19.var > /labshare/anni/genome_vars/topmed.freeze5b.chr19.maf0.001.nofailed.plink2.vars &\n",
      "grep -Fvxf /labshare/raph/spd/finemap/reference_panels/topmed.freeze5b.variants.failed_svm_disc.chr20.list maf0.001.topmed.freeze5b.chr20.var > /labshare/anni/genome_vars/topmed.freeze5b.chr20.maf0.001.nofailed.plink2.vars &\n",
      "grep -Fvxf /labshare/raph/spd/finemap/reference_panels/topmed.freeze5b.variants.failed_svm_disc.chr21.list maf0.001.topmed.freeze5b.chr21.var > /labshare/anni/genome_vars/topmed.freeze5b.chr21.maf0.001.nofailed.plink2.vars &\n",
      "grep -Fvxf /labshare/raph/spd/finemap/reference_panels/topmed.freeze5b.variants.failed_svm_disc.chr22.list maf0.001.topmed.freeze5b.chr22.var > /labshare/anni/genome_vars/topmed.freeze5b.chr22.maf0.001.nofailed.plink2.vars &\n"
     ]
    }
   ],
   "source": [
    "##removing TOPMed failed variants from topmed genome sets (mac5, maf 0.001)\n",
    "out = '/labshare/anni/genome_vars/'\n",
    "\n",
    "for num in range (1,23):\n",
    "    print(\"grep -Fvxf /labshare/raph/spd/finemap/reference_panels/topmed.freeze5b.variants.failed_svm_disc.chr{}.list mac5.topmed.freeze5b.chr{}.var > {}topmed.freeze5b.chr{}.mac5.nofailed.plink2.vars &\".format(num,num,out,num))\n",
    "    \n",
    "print(\"\")\n",
    "\n",
    "for num in range (1,23):\n",
    "    print(\"grep -Fvxf /labshare/raph/spd/finemap/reference_panels/topmed.freeze5b.variants.failed_svm_disc.chr{}.list maf0.001.topmed.freeze5b.chr{}.var > {}topmed.freeze5b.chr{}.maf0.001.nofailed.plink2.vars &\".format(num,num,out,num))\n",
    "        "
   ]
  },
  {
   "cell_type": "code",
   "execution_count": 3,
   "metadata": {},
   "outputs": [
    {
     "name": "stdout",
     "output_type": "stream",
     "text": [
      "cat neurod.june2019.chr*.gtonly.mac5.nofailed.plink2.vars > neurod.june2019.all.gtonly.mac5.nofailed.plink2.vars &\n",
      "cat neurod.june2019.chr*.gtonly.maf0.001.nofailed.plink2.vars > neurod.june2019.all.gtonly.maf0.001.nofailed.plink2.vars &\n"
     ]
    }
   ],
   "source": [
    "##directory = /labshare/raph/spd/finemap/reference_panels/\n",
    "##get full list of topmemd failed variants to remove from LNG\n",
    "\n",
    "print('cat neurod.june2019.chr*.gtonly.mac5.nofailed.plink2.vars > neurod.june2019.all.gtonly.mac5.nofailed.plink2.vars &')\n",
    "\n",
    "print('cat neurod.june2019.chr*.gtonly.maf0.001.nofailed.plink2.vars > neurod.june2019.all.gtonly.maf0.001.nofailed.plink2.vars &')"
   ]
  },
  {
   "cell_type": "code",
   "execution_count": 12,
   "metadata": {},
   "outputs": [
    {
     "name": "stdout",
     "output_type": "stream",
     "text": [
      "cat topmed.freeze5b.chr*.mac5.nofailed.plink2.vars > topmed.freeze5b.all.mac5.nofailed.plink2.vars\n",
      "cat topmed.freeze5b.chr*.maf0.001.nofailed.plink2.vars > topmed.freeze5b.all.maf0.001.nofailed.plink2.vars\n"
     ]
    }
   ],
   "source": [
    "##directory = /labshare/raph/spd/finemap/reference_panels/\n",
    "##get full list of topmemd failed variants to remove from LNG\n",
    "\n",
    "print('cat topmed.freeze5b.chr*.mac5.nofailed.plink2.vars > topmed.freeze5b.all.mac5.nofailed.plink2.vars')\n",
    "\n",
    "print('cat topmed.freeze5b.chr*.maf0.001.nofailed.plink2.vars > topmed.freeze5b.all.maf0.001.nofailed.plink2.vars')"
   ]
  },
  {
   "cell_type": "code",
   "execution_count": 2,
   "metadata": {},
   "outputs": [
    {
     "name": "stdout",
     "output_type": "stream",
     "text": [
      "bcftools query -f '%CHROM'\":\"'%POS'\":\"'%REF'\":\"'%ALT %AF\\n' lifted.hg38.HRC.r1-1.GRCh37.wgs.mac5.sites.vcf.gz > lifted.hg38.HRC.r1-1.GRCh37.wgs.mac5.sites.AF.var\n"
     ]
    }
   ],
   "source": [
    "##getting list of HRC variants with AF\n",
    "\n",
    "\n",
    "print(\"\"\"bcftools query -f '%CHROM'\":\"'%POS'\":\"'%REF'\":\"'%ALT %AF\\\\n' lifted.hg38.HRC.r1-1.GRCh37.wgs.mac5.sites.vcf.gz > lifted.hg38.HRC.r1-1.GRCh37.wgs.mac5.sites.AF.var\"\"\")\n",
    "\n"
   ]
  },
  {
   "cell_type": "code",
   "execution_count": 3,
   "metadata": {},
   "outputs": [
    {
     "name": "stdout",
     "output_type": "stream",
     "text": [
      "awk '{ if ($2 >= 0.001) { print } }' lifted.hg38.HRC.r1-1.GRCh37.wgs.mac5.sites.AF.var > lifted.hg38.HRC.r1-1.GRCh37.wgs.mac5.sites.AF0.001.var\n"
     ]
    }
   ],
   "source": [
    "##filtering pd_region HRC by AF (allele frequency), maf 0.001\n",
    "\n",
    "print(\"\"\"awk '{ if ($2 >= 0.001) { print } }' lifted.hg38.HRC.r1-1.GRCh37.wgs.mac5.sites.AF.var > lifted.hg38.HRC.r1-1.GRCh37.wgs.mac5.sites.AF0.001.var\"\"\")"
   ]
  },
  {
   "cell_type": "code",
   "execution_count": 6,
   "metadata": {},
   "outputs": [
    {
     "name": "stdout",
     "output_type": "stream",
     "text": [
      "bcftools query -f '%CHROM'\":\"'%POS'\":\"'%REF'\":\"'%ALT\\n' topmed.freeze5b.chr1.vcf.gz > /labshare/anni/genome_vars/topmed.freeze5b.chr1.vars &\n",
      "bcftools query -f '%CHROM'\":\"'%POS'\":\"'%REF'\":\"'%ALT\\n' topmed.freeze5b.chr2.vcf.gz > /labshare/anni/genome_vars/topmed.freeze5b.chr2.vars &\n",
      "bcftools query -f '%CHROM'\":\"'%POS'\":\"'%REF'\":\"'%ALT\\n' topmed.freeze5b.chr3.vcf.gz > /labshare/anni/genome_vars/topmed.freeze5b.chr3.vars &\n",
      "bcftools query -f '%CHROM'\":\"'%POS'\":\"'%REF'\":\"'%ALT\\n' topmed.freeze5b.chr4.vcf.gz > /labshare/anni/genome_vars/topmed.freeze5b.chr4.vars &\n",
      "bcftools query -f '%CHROM'\":\"'%POS'\":\"'%REF'\":\"'%ALT\\n' topmed.freeze5b.chr5.vcf.gz > /labshare/anni/genome_vars/topmed.freeze5b.chr5.vars &\n",
      "bcftools query -f '%CHROM'\":\"'%POS'\":\"'%REF'\":\"'%ALT\\n' topmed.freeze5b.chr6.vcf.gz > /labshare/anni/genome_vars/topmed.freeze5b.chr6.vars &\n",
      "bcftools query -f '%CHROM'\":\"'%POS'\":\"'%REF'\":\"'%ALT\\n' topmed.freeze5b.chr7.vcf.gz > /labshare/anni/genome_vars/topmed.freeze5b.chr7.vars &\n",
      "bcftools query -f '%CHROM'\":\"'%POS'\":\"'%REF'\":\"'%ALT\\n' topmed.freeze5b.chr8.vcf.gz > /labshare/anni/genome_vars/topmed.freeze5b.chr8.vars &\n",
      "bcftools query -f '%CHROM'\":\"'%POS'\":\"'%REF'\":\"'%ALT\\n' topmed.freeze5b.chr9.vcf.gz > /labshare/anni/genome_vars/topmed.freeze5b.chr9.vars &\n",
      "bcftools query -f '%CHROM'\":\"'%POS'\":\"'%REF'\":\"'%ALT\\n' topmed.freeze5b.chr10.vcf.gz > /labshare/anni/genome_vars/topmed.freeze5b.chr10.vars &\n",
      "bcftools query -f '%CHROM'\":\"'%POS'\":\"'%REF'\":\"'%ALT\\n' topmed.freeze5b.chr11.vcf.gz > /labshare/anni/genome_vars/topmed.freeze5b.chr11.vars &\n",
      "bcftools query -f '%CHROM'\":\"'%POS'\":\"'%REF'\":\"'%ALT\\n' topmed.freeze5b.chr12.vcf.gz > /labshare/anni/genome_vars/topmed.freeze5b.chr12.vars &\n",
      "bcftools query -f '%CHROM'\":\"'%POS'\":\"'%REF'\":\"'%ALT\\n' topmed.freeze5b.chr13.vcf.gz > /labshare/anni/genome_vars/topmed.freeze5b.chr13.vars &\n",
      "bcftools query -f '%CHROM'\":\"'%POS'\":\"'%REF'\":\"'%ALT\\n' topmed.freeze5b.chr14.vcf.gz > /labshare/anni/genome_vars/topmed.freeze5b.chr14.vars &\n",
      "bcftools query -f '%CHROM'\":\"'%POS'\":\"'%REF'\":\"'%ALT\\n' topmed.freeze5b.chr15.vcf.gz > /labshare/anni/genome_vars/topmed.freeze5b.chr15.vars &\n",
      "bcftools query -f '%CHROM'\":\"'%POS'\":\"'%REF'\":\"'%ALT\\n' topmed.freeze5b.chr16.vcf.gz > /labshare/anni/genome_vars/topmed.freeze5b.chr16.vars &\n",
      "bcftools query -f '%CHROM'\":\"'%POS'\":\"'%REF'\":\"'%ALT\\n' topmed.freeze5b.chr17.vcf.gz > /labshare/anni/genome_vars/topmed.freeze5b.chr17.vars &\n",
      "bcftools query -f '%CHROM'\":\"'%POS'\":\"'%REF'\":\"'%ALT\\n' topmed.freeze5b.chr18.vcf.gz > /labshare/anni/genome_vars/topmed.freeze5b.chr18.vars &\n",
      "bcftools query -f '%CHROM'\":\"'%POS'\":\"'%REF'\":\"'%ALT\\n' topmed.freeze5b.chr19.vcf.gz > /labshare/anni/genome_vars/topmed.freeze5b.chr19.vars &\n",
      "bcftools query -f '%CHROM'\":\"'%POS'\":\"'%REF'\":\"'%ALT\\n' topmed.freeze5b.chr20.vcf.gz > /labshare/anni/genome_vars/topmed.freeze5b.chr20.vars &\n",
      "bcftools query -f '%CHROM'\":\"'%POS'\":\"'%REF'\":\"'%ALT\\n' topmed.freeze5b.chr21.vcf.gz > /labshare/anni/genome_vars/topmed.freeze5b.chr21.vars &\n",
      "bcftools query -f '%CHROM'\":\"'%POS'\":\"'%REF'\":\"'%ALT\\n' topmed.freeze5b.chr22.vcf.gz > /labshare/anni/genome_vars/topmed.freeze5b.chr22.vars &\n"
     ]
    }
   ],
   "source": [
    "##getting all variant ids for topmed whole genome (unfiltered by mac/maf)\n",
    "##directory=/raph/datasets/wgs_ref_haplos/hg38/\n",
    "\n",
    "# for num in range(1,23):\n",
    "#     print(\"\"\"bcftools query -f '%CHROM'\":\"'%POS'\":\"'%REF'\":\"'%ALT\\\\n' topmed.freeze5b.chr{}.vcf.gz > /labshare/anni/genome_vars/topmed.freeze5b.chr{}.vars &\"\"\".format(num,num))\n"
   ]
  },
  {
   "cell_type": "code",
   "execution_count": 4,
   "metadata": {},
   "outputs": [
    {
     "name": "stdout",
     "output_type": "stream",
     "text": [
      "bcftools query -f '%CHROM'\":\"'%POS'\":\"'%REF'\":\"'%ALT\\n' neurod.june2019.chr1.gtonly.vcf.gz > /labshare/anni/genome_vars/neurod.june2019.chr1.gtonly.vars &\n",
      "bcftools query -f '%CHROM'\":\"'%POS'\":\"'%REF'\":\"'%ALT\\n' neurod.june2019.chr2.gtonly.vcf.gz > /labshare/anni/genome_vars/neurod.june2019.chr2.gtonly.vars &\n",
      "bcftools query -f '%CHROM'\":\"'%POS'\":\"'%REF'\":\"'%ALT\\n' neurod.june2019.chr3.gtonly.vcf.gz > /labshare/anni/genome_vars/neurod.june2019.chr3.gtonly.vars &\n",
      "bcftools query -f '%CHROM'\":\"'%POS'\":\"'%REF'\":\"'%ALT\\n' neurod.june2019.chr4.gtonly.vcf.gz > /labshare/anni/genome_vars/neurod.june2019.chr4.gtonly.vars &\n",
      "bcftools query -f '%CHROM'\":\"'%POS'\":\"'%REF'\":\"'%ALT\\n' neurod.june2019.chr5.gtonly.vcf.gz > /labshare/anni/genome_vars/neurod.june2019.chr5.gtonly.vars &\n",
      "bcftools query -f '%CHROM'\":\"'%POS'\":\"'%REF'\":\"'%ALT\\n' neurod.june2019.chr6.gtonly.vcf.gz > /labshare/anni/genome_vars/neurod.june2019.chr6.gtonly.vars &\n",
      "bcftools query -f '%CHROM'\":\"'%POS'\":\"'%REF'\":\"'%ALT\\n' neurod.june2019.chr7.gtonly.vcf.gz > /labshare/anni/genome_vars/neurod.june2019.chr7.gtonly.vars &\n",
      "bcftools query -f '%CHROM'\":\"'%POS'\":\"'%REF'\":\"'%ALT\\n' neurod.june2019.chr8.gtonly.vcf.gz > /labshare/anni/genome_vars/neurod.june2019.chr8.gtonly.vars &\n",
      "bcftools query -f '%CHROM'\":\"'%POS'\":\"'%REF'\":\"'%ALT\\n' neurod.june2019.chr9.gtonly.vcf.gz > /labshare/anni/genome_vars/neurod.june2019.chr9.gtonly.vars &\n",
      "bcftools query -f '%CHROM'\":\"'%POS'\":\"'%REF'\":\"'%ALT\\n' neurod.june2019.chr10.gtonly.vcf.gz > /labshare/anni/genome_vars/neurod.june2019.chr10.gtonly.vars &\n",
      "bcftools query -f '%CHROM'\":\"'%POS'\":\"'%REF'\":\"'%ALT\\n' neurod.june2019.chr11.gtonly.vcf.gz > /labshare/anni/genome_vars/neurod.june2019.chr11.gtonly.vars &\n",
      "bcftools query -f '%CHROM'\":\"'%POS'\":\"'%REF'\":\"'%ALT\\n' neurod.june2019.chr12.gtonly.vcf.gz > /labshare/anni/genome_vars/neurod.june2019.chr12.gtonly.vars &\n",
      "bcftools query -f '%CHROM'\":\"'%POS'\":\"'%REF'\":\"'%ALT\\n' neurod.june2019.chr13.gtonly.vcf.gz > /labshare/anni/genome_vars/neurod.june2019.chr13.gtonly.vars &\n",
      "bcftools query -f '%CHROM'\":\"'%POS'\":\"'%REF'\":\"'%ALT\\n' neurod.june2019.chr14.gtonly.vcf.gz > /labshare/anni/genome_vars/neurod.june2019.chr14.gtonly.vars &\n",
      "bcftools query -f '%CHROM'\":\"'%POS'\":\"'%REF'\":\"'%ALT\\n' neurod.june2019.chr15.gtonly.vcf.gz > /labshare/anni/genome_vars/neurod.june2019.chr15.gtonly.vars &\n",
      "bcftools query -f '%CHROM'\":\"'%POS'\":\"'%REF'\":\"'%ALT\\n' neurod.june2019.chr16.gtonly.vcf.gz > /labshare/anni/genome_vars/neurod.june2019.chr16.gtonly.vars &\n",
      "bcftools query -f '%CHROM'\":\"'%POS'\":\"'%REF'\":\"'%ALT\\n' neurod.june2019.chr17.gtonly.vcf.gz > /labshare/anni/genome_vars/neurod.june2019.chr17.gtonly.vars &\n",
      "bcftools query -f '%CHROM'\":\"'%POS'\":\"'%REF'\":\"'%ALT\\n' neurod.june2019.chr18.gtonly.vcf.gz > /labshare/anni/genome_vars/neurod.june2019.chr18.gtonly.vars &\n",
      "bcftools query -f '%CHROM'\":\"'%POS'\":\"'%REF'\":\"'%ALT\\n' neurod.june2019.chr19.gtonly.vcf.gz > /labshare/anni/genome_vars/neurod.june2019.chr19.gtonly.vars &\n",
      "bcftools query -f '%CHROM'\":\"'%POS'\":\"'%REF'\":\"'%ALT\\n' neurod.june2019.chr20.gtonly.vcf.gz > /labshare/anni/genome_vars/neurod.june2019.chr20.gtonly.vars &\n",
      "bcftools query -f '%CHROM'\":\"'%POS'\":\"'%REF'\":\"'%ALT\\n' neurod.june2019.chr21.gtonly.vcf.gz > /labshare/anni/genome_vars/neurod.june2019.chr21.gtonly.vars &\n",
      "bcftools query -f '%CHROM'\":\"'%POS'\":\"'%REF'\":\"'%ALT\\n' neurod.june2019.chr22.gtonly.vcf.gz > /labshare/anni/genome_vars/neurod.june2019.chr22.gtonly.vars &\n"
     ]
    }
   ],
   "source": [
    "##getting all variant ids for neurod whole genome (no mac/maf filtering)\n",
    "##directory=/labseq/projects/neurod_wgs/genotype/\n",
    "\n",
    "for num in range(1,23):\n",
    "    print(\"\"\"bcftools query -f '%CHROM'\":\"'%POS'\":\"'%REF'\":\"'%ALT\\\\n' neurod.june2019.chr{}.gtonly.vcf.gz > /labshare/anni/genome_vars/neurod.june2019.chr{}.gtonly.vars &\"\"\".format(num,num))\n",
    "\n"
   ]
  },
  {
   "cell_type": "code",
   "execution_count": null,
   "metadata": {},
   "outputs": [],
   "source": [
    "%%bash\n",
    "\n",
    "#REWRITING SNP IDS TO chr#:pos:ref:alt\n",
    "\n",
    "awk '{if($2 == \".\") {print $1,”chr”$1\":\"$4\":\"$5\":\"$6,$4,$5,$6} else {print $0}}' topmed.freeze5b.chr21.bim > TOPMed_clean/topmed.freeze5b.chr21_clean.bim\n",
    "\n",
    "awk '{if($2 == \".\") {print $1,”chr”$1\":\"$4\":\"$5\":\"$6,$4,$5,$6} else {print $0}}' neurod.june2019.chr22.gtonly.bim > LNG_clean/neurod.june2019.chr22_clean.gtonly.bim\n",
    "\n",
    "awk '$1 !~ \"#\" {print \"chr\"$1\":\"$4\":\"$5\":\"$6}' topmed.freeze5b.chr21.bim > topmed.freeze5b.chr21.var\n",
    "\n",
    "awk '{print $2}' neurod.june2019.chr22.gtonly.bim > neurod.june2019.chr22.vars\n",
    "\n",
    "*\n",
    "awk '$2=\"chr\"$2' topmed.freeze5b.chr5_clean.bim > topmed.freeze5b.chr5_final.bim\n",
    "\n",
    "(Plink2)\n",
    "awk '$1 !~ \"#\" {print \"chr\"$1\":\"$2\":\"$4\":\"$5}' topmed.freeze5b.chr22.pvar > /labshare/anni/vars/topmed.freeze5b.chr22.var\n",
    "awk '{print $3}' neurod.june2019.chr22.pvar > /labshare/anni/vars/neurod.june2019.chr22.var\n",
    "awk '$1 !~ \"#\" {print $2,$6}’ topmed.freeze5b.chr22.pvar > /labshare/anni/vars/\n",
    "\n"
   ]
  },
  {
   "cell_type": "code",
   "execution_count": null,
   "metadata": {},
   "outputs": [],
   "source": [
    "#FILETRING MAF AND MAC IN PLINK2 FILES\n",
    "\n",
    " plink2 --pfile topmed.freeze5b.chr21 --maf 0.001 --mac 5 --make-pgen --out filtered.topmed.freeze5b.chr21\n",
    "\n",
    "COPYING FAM/BED FILES SO THEYRE IN THE SAME LOCATION\n",
    "\n",
    "cp topmed.freeze5b.chr2.fam TOPMed_clean/topmed.freeze5b.chr2_clean.fam\n",
    "\n",
    "cp topmed.freeze5b.chr2.bed TOPMed_clean/topmed.freeze5b.chr2_clean.bed\n",
    "\n",
    "SORTING THROUGH TO SEE IF ANY SNPS HAVE , (MULTIALLELIC)\n",
    "\n",
    "awk '$1 ~ /,/ { print }’ TOPMed/chr22_check.txt > multiall_chr22.txt"
   ]
  }
 ],
 "metadata": {
  "kernelspec": {
   "display_name": "Python 3",
   "language": "python",
   "name": "python3"
  },
  "language_info": {
   "codemirror_mode": {
    "name": "ipython",
    "version": 3
   },
   "file_extension": ".py",
   "mimetype": "text/x-python",
   "name": "python",
   "nbconvert_exporter": "python",
   "pygments_lexer": "ipython3",
   "version": "3.7.3"
  }
 },
 "nbformat": 4,
 "nbformat_minor": 2
}
