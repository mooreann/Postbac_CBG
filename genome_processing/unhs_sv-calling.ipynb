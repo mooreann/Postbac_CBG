{
 "cells": [
  {
   "cell_type": "markdown",
   "metadata": {},
   "source": [
    "# Running SV calling\n",
    "\n",
    "## February 2020\n",
    "### based on script from Jinhui Ding (CBG)"
   ]
  },
  {
   "cell_type": "code",
   "execution_count": null,
   "metadata": {},
   "outputs": [],
   "source": [
    "##setting up environment\n",
    "import pandas as pd\n",
    "\n",
    "WRKDIR = '/home/mooreank/sv-manta'"
   ]
  },
  {
   "cell_type": "code",
   "execution_count": 21,
   "metadata": {},
   "outputs": [],
   "source": [
    "\n",
    "##Manta SV\n",
    "WRKDIR='/home/mooreank/WGS_sample_processing'\n",
    "PROJECT_ID='nih-nia-lng-cbg'\n",
    "COHORT='UNHS'\n",
    "IN_LIST=samples\n",
    "PIPEYAML='/labshare/Jinhui/to_Anni/Manta_v1.6.yaml'\n",
    "LABELNAME='manta'\n",
    "LCCOHORT = f'{COHORT}'.lower()\n",
    "\n",
    "\n",
    "#LCCOHORT=$(echo ${COHORT} | awk '{ print tolower($1) }')\n",
    "##now loop over the list file running the Manta yaml per sample in the list file\n",
    "def writecommands(sample_list, out_file_name):\n",
    "    out_file = open(f'{out_file_name}', \"w\")\n",
    "    for SAMPLE in samples:\n",
    "        LABEL=f'{SAMPLE} OPID='\n",
    "        cmd = f'gcloud alpha genomics pipelines run \\\n",
    "    --project {PROJECT_ID}  \\\n",
    "    --pipeline-file {PIPEYAML} \\\n",
    "    --zones us-central1-f \\\n",
    "    --inputs EXECTOOLmanta=gs://nihnia-dementia-wgs/resources/tools/manta-1.6.0/manta-1.6.0.centos6_x86_64.tar.gz \\\n",
    "    --inputs REFSEQ=gs://nihnia-dementia-wgs/resources/broad/hg38/v0/Homo_sapiens_assembly38.fasta \\\n",
    "    --inputs REFSEQINDEX=gs://nihnia-dementia-wgs/resources/broad/hg38/v0/Homo_sapiens_assembly38.fasta.fai \\\n",
    "    --inputs INCRAM=gs://nihnialngcbg-testing/UNHS/crams/{SAMPLE}/{SAMPLE}.cram  \\\n",
    "    --inputs INCRAMINDEX=gs://nihnialngcbg-testing/UNHS/crams/{SAMPLE}/{SAMPLE}.cram.crai \\\n",
    "    --outputs OUTSUMMARY=gs://nihnialngcbg-testing/UNHS/sv-manta/{SAMPLE}/{SAMPLE}.alignmentStatsSummary.txt \\\n",
    "    --outputs OUTSMALLINDELS=gs://nihnialngcbg-testing/UNHS/sv-manta/{SAMPLE}/{SAMPLE}.candidateSmallIndels.vcf.gz \\\n",
    "    --outputs OUTSMALLINDELSINDEX=gs://nihnialngcbg-testing/UNHS/sv-manta/{SAMPLE}/{SAMPLE}.candidateSmallIndels.vcf.gz.tbi \\\n",
    "    --outputs OUTSV=gs://nihnialngcbg-testing/UNHS/sv-manta/{SAMPLE}/{SAMPLE}.candidateSV.vcf.gz \\\n",
    "    --outputs OUTSVINDEX=gs://nihnialngcbg-testing/UNHS/sv-manta/{SAMPLE}/{SAMPLE}.candidateSV.vcf.gz.tbi \\\n",
    "    --outputs OUTDIPLOIDSV=gs://nihnialngcbg-testing/UNHS/sv-manta/{SAMPLE}/{SAMPLE}.diploidSV.vcf.gz \\\n",
    "    --outputs OUTDIPLOIDSVINDEX=gs://nihnialngcbg-testing/UNHS/sv-manta/{SAMPLE}/{SAMPLE}.diploidSV.vcf.gz.tbi \\\n",
    "    --outputs OUTSTATSTSV=gs://nihnialngcbg-testing/UNHS/sv-manta/{SAMPLE}/{SAMPLE}.svCandidateGenerationStats.tsv \\\n",
    "    --outputs OUTSTATSXML=gs://nihnialngcbg-testing/UNHS/sv-manta/{SAMPLE}/{SAMPLE}.svCandidateGenerationStats.xml \\\n",
    "    --outputs OUTGRAPHTSV=gs://nihnialngcbg-testing/UNHS/sv-manta/{SAMPLE}/{SAMPLE}.svLocusGraphStats.tsv \\\n",
    "    --logging gs://nihnialngcbg-testing/UNHS/logs/Manta/{SAMPLE} \\\n",
    "    --labels=pipe=manta,sample={LABELNAME},cohort={LCCOHORT}'\n",
    "\n",
    "        \n",
    "        print(f'echo -n {LABEL}', file=out_file)\n",
    "        print(f'{cmd}\\n', file=out_file)\n"
   ]
  },
  {
   "cell_type": "code",
   "execution_count": 22,
   "metadata": {},
   "outputs": [
    {
     "name": "stdout",
     "output_type": "stream",
     "text": [
      "#run these commands at terminal:\n",
      "\n",
      "chmod +x /home/mooreank/WGS_sample_processing/UNHS.manta.run.sh\n",
      "nohup /home/mooreank/WGS_sample_processing/UNHS.manta.run.sh > /home/mooreank/WGS_sample_processing/unhs.UNHS.manta.run.log &\n"
     ]
    }
   ],
   "source": [
    "\n",
    "script_file = f'{WRKDIR}/UNHS.manta.run.sh'\n",
    "\n",
    "writecommands(samples, script_file)\n",
    "\n",
    "#iterate over samples formatting the cmds\n",
    "\n",
    "# with open(temp_script_file, 'w') as file_handler:\n",
    "#         for this_cmd in cmds:\n",
    "#             file_handler.write(\"{}\\n\".format(this_cmd))\n",
    "            \n",
    "print('#run these commands at terminal:\\n')\n",
    "print('chmod +x ' + script_file)\n",
    "print('nohup ' + script_file + ' > {}/{}.UNHS.manta.run.log &'.format(WRKDIR,COHORT.lower()))\n",
    "\n",
    "################"
   ]
  },
  {
   "cell_type": "code",
   "execution_count": null,
   "metadata": {},
   "outputs": [],
   "source": [
    "#the above google genomics pipeline (ggp) commands should return on OPIDs\n",
    "#grab to previous operation IDs to use here as opids list\n",
    "opid = 'EJucjt-JLhiA5ans-qTawPMBINn1oK--DSoPcHJvZHVjdGlvblF1ZXVl'\n",
    "#for opid in opids:\n",
    "!gcloud alpha genomics operations describe {opid} --format='yaml(done, error, metadata.events)'"
   ]
  },
  {
   "cell_type": "code",
   "execution_count": null,
   "metadata": {},
   "outputs": [],
   "source": [
    "for sample in samples_list:\n",
    "    cmd = f'gunzip {sample}.diploidSV.vcf.gz'\n",
    "    print(cmd)"
   ]
  },
  {
   "cell_type": "code",
   "execution_count": null,
   "metadata": {},
   "outputs": [],
   "source": [
    "##used Mantas convertInversion.py script to covert version 1.6 output back to 1.4 to deal w inversion (ran on local)\n",
    "print('ran in terminal, python 2 environment of local ((needs to run with python2!))')\n",
    "print('')\n",
    "for sample in samples_list:\n",
    "    cmd = f'python convertInversion.py /Users/mooreank/anaconda3/bin/samtools Homo_sapiens_assembly38.fasta {sample}.diploidSV.vcf > {sample}.diploidSV.1.4.vcf'\n",
    "    print(cmd)"
   ]
  },
  {
   "cell_type": "code",
   "execution_count": null,
   "metadata": {},
   "outputs": [],
   "source": [
    "#ran in local\n",
    "\n",
    "#For SVTK, https://github.com/talkowski-lab/svtk, here are the major steps to run on local LNG servers:\n",
    "########\n",
    "WRKDIR='/Users/mooreank/Desktop/Mark/UNHS/sv-manta'\n",
    "\n",
    "##problem files\n",
    "error_list = []\n",
    "##clean Manta output: 1.select \"PASS\" calls 2.remove chr, [, ]\n",
    "for sample in error_list:\n",
    "    ###keeping all PASS\n",
    "    cmd = f\"\"\"awk '$1 ~ \"#\" {{ print }} $1 !~ \"#\"  && $7 == \"NoPairedSupport\" {{ print }}' {WRKDIR}/{sample}.diploidSV.vcf > {WRKDIR}/{sample}.diploidSV.nopaired.vcf\"\"\"\n",
    "    print(cmd)\n",
    "\n",
    "    "
   ]
  },
  {
   "cell_type": "code",
   "execution_count": null,
   "metadata": {},
   "outputs": [],
   "source": [
    "#ran in local\n",
    "\n",
    "#For SVTK, https://github.com/talkowski-lab/svtk, here are the major steps to run on local LNG servers:\n",
    "########\n",
    "WRKDIR='/Users/mooreank/Desktop/Mark/UNHS/sv-manta'\n",
    "\n",
    "##clean Manta output: 1.select \"PASS\" calls 2.remove chr, [, ]\n",
    "for sample in samples_list:\n",
    "    ###keeping all PASS\n",
    "    cmd = f\"\"\"awk '$1 ~ \"#\" {{ print }} $1 !~ \"#\"  && $7 == \"PASS\" {{ print }}' {WRKDIR}/{sample}.diploidSV.1.4.vcf > {WRKDIR}/temp.{sample}.diploidSV.1.4.vcf\"\"\"\n",
    "    print(cmd)\n",
    "    \n",
    "    \n",
    "    \n",
    "print(\"\")    \n",
    "    \n",
    "for sample in samples_list:   \n",
    "    cmd2 = f\"\"\"awk '{{ gsub(/chr/, \"\"); print}}' {WRKDIR}/temp.{sample}.diploidSV.1.4.vcf > {WRKDIR}/{sample}.diploidSV.1.4.edit.vcf\"\"\"\n",
    "    print(cmd2)\n",
    "    "
   ]
  },
  {
   "cell_type": "code",
   "execution_count": 10,
   "metadata": {},
   "outputs": [],
   "source": [
    "#remove temp files\n",
    "cmd4 = f'rm {WRKDIR}/temp*diploidSV.vcf'\n",
    "#cmd5 = f'rm {WRKDIR}/temp2.{sample}.diploidSV.vcf'  \n",
    "!{cmd4}\n",
    "\n",
    "    ##get rid of chr within brackets, check manta version 1.4/1.6, dont have to rerun if theres no inversions?"
   ]
  },
  {
   "cell_type": "code",
   "execution_count": null,
   "metadata": {},
   "outputs": [],
   "source": [
    "# ##checking for inversions -> found none in any files\n",
    "# for sample in samples_list:\n",
    "#     cmd = f\"\"\"awk '$5 == \"<INV>\" {{print}}' {WRKDIR}/{sample}.diploidSV.edit.vcf > {sample}.test.vcf\"\"\"\n",
    "#     print(cmd)\n",
    "    "
   ]
  },
  {
   "cell_type": "code",
   "execution_count": null,
   "metadata": {},
   "outputs": [],
   "source": [
    "##ran on node 2 \n",
    "\n",
    "for sample in samples_list:\n",
    "    ##per sample run svtk standardize\n",
    "    cmd = f'svtk standardize {sample}.diploidSV.1.4.edit.vcf {sample}.diploidSV.standardize.vcf manta'\n",
    "    print(cmd)\n",
    "print('')\n"
   ]
  },
  {
   "cell_type": "code",
   "execution_count": 16,
   "metadata": {},
   "outputs": [],
   "source": [
    "##ran on node2\n",
    "\n",
    "##create a list file with path to the per sample standardize.vcf files\n",
    "\n",
    "WRKDIR = '/home/mooreank/sv-manta'\n",
    "out_file_name = f'{WRKDIR}/sv-manta.standardize.vcf.list'\n",
    "\n",
    "# out_file = open(f'{out_file_name}', \"w\")\n",
    "# for sample in samples_list:\n",
    "    \n",
    "#     direct = f'{WRKDIR}/{sample}.diploidSV.standardize.vcf'\n",
    "#     print(f'{direct}', file=out_file)\n",
    "\n",
    "with open(f'{out_file_name}', \"w\") as output:\n",
    "    for sample in samples_list:\n",
    "        direct = f'{WRKDIR}/{sample}.diploidSV.standardize.vcf'\n",
    "        output.write(direct + '\\n')\n",
    "    \n",
    "    \n",
    "#########     "
   ]
  },
  {
   "cell_type": "code",
   "execution_count": 17,
   "metadata": {},
   "outputs": [
    {
     "name": "stdout",
     "output_type": "stream",
     "text": [
      "run in terminal:\n",
      "\n",
      "svtk vcfcluster -t INS,DEL,DUP,INV,BND /home/mooreank/sv-manta/sv-manta.standardize.vcf.list sv-manta.standardize.cluster.vcf\n"
     ]
    }
   ],
   "source": [
    "print('run in terminal:')\n",
    "print(\"\")\n",
    "cmd2 = f'svtk vcfcluster -t INS,DEL,DUP,INV,BND {WRKDIR}/sv-manta.standardize.vcf.list sv-manta.standardize.cluster.vcf'\n",
    "print(cmd2)"
   ]
  },
  {
   "cell_type": "code",
   "execution_count": null,
   "metadata": {},
   "outputs": [],
   "source": []
  }
 ],
 "metadata": {
  "kernelspec": {
   "display_name": "Python 3",
   "language": "python",
   "name": "python3"
  },
  "language_info": {
   "codemirror_mode": {
    "name": "ipython",
    "version": 3
   },
   "file_extension": ".py",
   "mimetype": "text/x-python",
   "name": "python",
   "nbconvert_exporter": "python",
   "pygments_lexer": "ipython3",
   "version": "3.7.3"
  }
 },
 "nbformat": 4,
 "nbformat_minor": 2
}
