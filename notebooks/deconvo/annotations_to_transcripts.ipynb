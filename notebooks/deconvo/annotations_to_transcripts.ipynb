{
 "cells": [
  {
   "cell_type": "code",
   "execution_count": 3,
   "metadata": {},
   "outputs": [
    {
     "name": "stderr",
     "output_type": "stream",
     "text": [
      "Bioconductor version 3.9 (BiocManager 1.30.7), R 3.6.1 (2019-07-05)\n",
      "Installing package(s) 'rtracklayer'\n"
     ]
    }
   ],
   "source": [
    "if (!requireNamespace(\"BiocManager\", quietly = TRUE))\n",
    "    install.packages(\"BiocManager\")\n",
    "\n",
    "BiocManager::install(\"rtracklayer\")"
   ]
  },
  {
   "cell_type": "code",
   "execution_count": 42,
   "metadata": {},
   "outputs": [],
   "source": [
    "library('rtracklayer')"
   ]
  },
  {
   "cell_type": "code",
   "execution_count": 43,
   "metadata": {},
   "outputs": [
    {
     "data": {
      "text/html": [
       "'/Users/mooreank/Desktop/Raph/Deconvolution/transcript_data'"
      ],
      "text/latex": [
       "'/Users/mooreank/Desktop/Raph/Deconvolution/transcript\\_data'"
      ],
      "text/markdown": [
       "'/Users/mooreank/Desktop/Raph/Deconvolution/transcript_data'"
      ],
      "text/plain": [
       "[1] \"/Users/mooreank/Desktop/Raph/Deconvolution/transcript_data\""
      ]
     },
     "metadata": {},
     "output_type": "display_data"
    }
   ],
   "source": [
    "getwd()"
   ]
  },
  {
   "cell_type": "code",
   "execution_count": 2,
   "metadata": {},
   "outputs": [],
   "source": [
    "setwd('./transcript_data/')"
   ]
  },
  {
   "cell_type": "code",
   "execution_count": 6,
   "metadata": {},
   "outputs": [],
   "source": [
    "file <- import('gencode.v32.annotation.gtf')\n",
    "file_df <- as.data.frame(file)"
   ]
  },
  {
   "cell_type": "code",
   "execution_count": 30,
   "metadata": {},
   "outputs": [
    {
     "data": {
      "text/html": [
       "<table>\n",
       "<caption>A data.frame: 20 × 26</caption>\n",
       "<thead>\n",
       "\t<tr><th scope=col>seqnames</th><th scope=col>start</th><th scope=col>end</th><th scope=col>width</th><th scope=col>strand</th><th scope=col>source</th><th scope=col>type</th><th scope=col>score</th><th scope=col>phase</th><th scope=col>gene_id</th><th scope=col>⋯</th><th scope=col>transcript_type</th><th scope=col>transcript_name</th><th scope=col>transcript_support_level</th><th scope=col>tag</th><th scope=col>havana_transcript</th><th scope=col>exon_number</th><th scope=col>exon_id</th><th scope=col>ont</th><th scope=col>protein_id</th><th scope=col>ccdsid</th></tr>\n",
       "\t<tr><th scope=col>&lt;fct&gt;</th><th scope=col>&lt;int&gt;</th><th scope=col>&lt;int&gt;</th><th scope=col>&lt;int&gt;</th><th scope=col>&lt;fct&gt;</th><th scope=col>&lt;fct&gt;</th><th scope=col>&lt;fct&gt;</th><th scope=col>&lt;dbl&gt;</th><th scope=col>&lt;int&gt;</th><th scope=col>&lt;chr&gt;</th><th scope=col>⋯</th><th scope=col>&lt;chr&gt;</th><th scope=col>&lt;chr&gt;</th><th scope=col>&lt;chr&gt;</th><th scope=col>&lt;chr&gt;</th><th scope=col>&lt;chr&gt;</th><th scope=col>&lt;chr&gt;</th><th scope=col>&lt;chr&gt;</th><th scope=col>&lt;chr&gt;</th><th scope=col>&lt;chr&gt;</th><th scope=col>&lt;chr&gt;</th></tr>\n",
       "</thead>\n",
       "<tbody>\n",
       "\t<tr><td>chr1</td><td>11869</td><td>14409</td><td> 2541</td><td>+</td><td>HAVANA</td><td>gene      </td><td>NA</td><td>NA</td><td>ENSG00000223972.5</td><td>⋯</td><td>NA                                </td><td>NA         </td><td>NA</td><td>NA   </td><td>NA                  </td><td>NA</td><td>NA               </td><td>NA         </td><td>NA</td><td>NA</td></tr>\n",
       "\t<tr><td>chr1</td><td>11869</td><td>14409</td><td> 2541</td><td>+</td><td>HAVANA</td><td>transcript</td><td>NA</td><td>NA</td><td>ENSG00000223972.5</td><td>⋯</td><td>lncRNA                            </td><td>DDX11L1-202</td><td>1 </td><td>basic</td><td>OTTHUMT00000362751.1</td><td>NA</td><td>NA               </td><td>NA         </td><td>NA</td><td>NA</td></tr>\n",
       "\t<tr><td>chr1</td><td>11869</td><td>12227</td><td>  359</td><td>+</td><td>HAVANA</td><td>exon      </td><td>NA</td><td>NA</td><td>ENSG00000223972.5</td><td>⋯</td><td>lncRNA                            </td><td>DDX11L1-202</td><td>1 </td><td>basic</td><td>OTTHUMT00000362751.1</td><td>1 </td><td>ENSE00002234944.1</td><td>NA         </td><td>NA</td><td>NA</td></tr>\n",
       "\t<tr><td>chr1</td><td>12613</td><td>12721</td><td>  109</td><td>+</td><td>HAVANA</td><td>exon      </td><td>NA</td><td>NA</td><td>ENSG00000223972.5</td><td>⋯</td><td>lncRNA                            </td><td>DDX11L1-202</td><td>1 </td><td>basic</td><td>OTTHUMT00000362751.1</td><td>2 </td><td>ENSE00003582793.1</td><td>NA         </td><td>NA</td><td>NA</td></tr>\n",
       "\t<tr><td>chr1</td><td>13221</td><td>14409</td><td> 1189</td><td>+</td><td>HAVANA</td><td>exon      </td><td>NA</td><td>NA</td><td>ENSG00000223972.5</td><td>⋯</td><td>lncRNA                            </td><td>DDX11L1-202</td><td>1 </td><td>basic</td><td>OTTHUMT00000362751.1</td><td>3 </td><td>ENSE00002312635.1</td><td>NA         </td><td>NA</td><td>NA</td></tr>\n",
       "\t<tr><td>chr1</td><td>12010</td><td>13670</td><td> 1661</td><td>+</td><td>HAVANA</td><td>transcript</td><td>NA</td><td>NA</td><td>ENSG00000223972.5</td><td>⋯</td><td>transcribed_unprocessed_pseudogene</td><td>DDX11L1-201</td><td>NA</td><td>basic</td><td>OTTHUMT00000002844.2</td><td>NA</td><td>NA               </td><td>PGO:0000019</td><td>NA</td><td>NA</td></tr>\n",
       "\t<tr><td>chr1</td><td>12010</td><td>12057</td><td>   48</td><td>+</td><td>HAVANA</td><td>exon      </td><td>NA</td><td>NA</td><td>ENSG00000223972.5</td><td>⋯</td><td>transcribed_unprocessed_pseudogene</td><td>DDX11L1-201</td><td>NA</td><td>basic</td><td>OTTHUMT00000002844.2</td><td>1 </td><td>ENSE00001948541.1</td><td>PGO:0000019</td><td>NA</td><td>NA</td></tr>\n",
       "\t<tr><td>chr1</td><td>12179</td><td>12227</td><td>   49</td><td>+</td><td>HAVANA</td><td>exon      </td><td>NA</td><td>NA</td><td>ENSG00000223972.5</td><td>⋯</td><td>transcribed_unprocessed_pseudogene</td><td>DDX11L1-201</td><td>NA</td><td>basic</td><td>OTTHUMT00000002844.2</td><td>2 </td><td>ENSE00001671638.2</td><td>PGO:0000019</td><td>NA</td><td>NA</td></tr>\n",
       "\t<tr><td>chr1</td><td>12613</td><td>12697</td><td>   85</td><td>+</td><td>HAVANA</td><td>exon      </td><td>NA</td><td>NA</td><td>ENSG00000223972.5</td><td>⋯</td><td>transcribed_unprocessed_pseudogene</td><td>DDX11L1-201</td><td>NA</td><td>basic</td><td>OTTHUMT00000002844.2</td><td>3 </td><td>ENSE00001758273.2</td><td>PGO:0000019</td><td>NA</td><td>NA</td></tr>\n",
       "\t<tr><td>chr1</td><td>12975</td><td>13052</td><td>   78</td><td>+</td><td>HAVANA</td><td>exon      </td><td>NA</td><td>NA</td><td>ENSG00000223972.5</td><td>⋯</td><td>transcribed_unprocessed_pseudogene</td><td>DDX11L1-201</td><td>NA</td><td>basic</td><td>OTTHUMT00000002844.2</td><td>4 </td><td>ENSE00001799933.2</td><td>PGO:0000019</td><td>NA</td><td>NA</td></tr>\n",
       "\t<tr><td>chr1</td><td>13221</td><td>13374</td><td>  154</td><td>+</td><td>HAVANA</td><td>exon      </td><td>NA</td><td>NA</td><td>ENSG00000223972.5</td><td>⋯</td><td>transcribed_unprocessed_pseudogene</td><td>DDX11L1-201</td><td>NA</td><td>basic</td><td>OTTHUMT00000002844.2</td><td>5 </td><td>ENSE00001746346.2</td><td>PGO:0000019</td><td>NA</td><td>NA</td></tr>\n",
       "\t<tr><td>chr1</td><td>13453</td><td>13670</td><td>  218</td><td>+</td><td>HAVANA</td><td>exon      </td><td>NA</td><td>NA</td><td>ENSG00000223972.5</td><td>⋯</td><td>transcribed_unprocessed_pseudogene</td><td>DDX11L1-201</td><td>NA</td><td>basic</td><td>OTTHUMT00000002844.2</td><td>6 </td><td>ENSE00001863096.1</td><td>PGO:0000019</td><td>NA</td><td>NA</td></tr>\n",
       "\t<tr><td>chr1</td><td>14404</td><td>29570</td><td>15167</td><td>-</td><td>HAVANA</td><td>gene      </td><td>NA</td><td>NA</td><td>ENSG00000227232.5</td><td>⋯</td><td>NA                                </td><td>NA         </td><td>NA</td><td>NA   </td><td>NA                  </td><td>NA</td><td>NA               </td><td>NA         </td><td>NA</td><td>NA</td></tr>\n",
       "\t<tr><td>chr1</td><td>14404</td><td>29570</td><td>15167</td><td>-</td><td>HAVANA</td><td>transcript</td><td>NA</td><td>NA</td><td>ENSG00000227232.5</td><td>⋯</td><td>unprocessed_pseudogene            </td><td>WASH7P-201 </td><td>NA</td><td>basic</td><td>OTTHUMT00000002839.1</td><td>NA</td><td>NA               </td><td>PGO:0000005</td><td>NA</td><td>NA</td></tr>\n",
       "\t<tr><td>chr1</td><td>29534</td><td>29570</td><td>   37</td><td>-</td><td>HAVANA</td><td>exon      </td><td>NA</td><td>NA</td><td>ENSG00000227232.5</td><td>⋯</td><td>unprocessed_pseudogene            </td><td>WASH7P-201 </td><td>NA</td><td>basic</td><td>OTTHUMT00000002839.1</td><td>1 </td><td>ENSE00001890219.1</td><td>PGO:0000005</td><td>NA</td><td>NA</td></tr>\n",
       "\t<tr><td>chr1</td><td>24738</td><td>24891</td><td>  154</td><td>-</td><td>HAVANA</td><td>exon      </td><td>NA</td><td>NA</td><td>ENSG00000227232.5</td><td>⋯</td><td>unprocessed_pseudogene            </td><td>WASH7P-201 </td><td>NA</td><td>basic</td><td>OTTHUMT00000002839.1</td><td>2 </td><td>ENSE00003507205.1</td><td>PGO:0000005</td><td>NA</td><td>NA</td></tr>\n",
       "\t<tr><td>chr1</td><td>18268</td><td>18366</td><td>   99</td><td>-</td><td>HAVANA</td><td>exon      </td><td>NA</td><td>NA</td><td>ENSG00000227232.5</td><td>⋯</td><td>unprocessed_pseudogene            </td><td>WASH7P-201 </td><td>NA</td><td>basic</td><td>OTTHUMT00000002839.1</td><td>3 </td><td>ENSE00003477500.1</td><td>PGO:0000005</td><td>NA</td><td>NA</td></tr>\n",
       "\t<tr><td>chr1</td><td>17915</td><td>18061</td><td>  147</td><td>-</td><td>HAVANA</td><td>exon      </td><td>NA</td><td>NA</td><td>ENSG00000227232.5</td><td>⋯</td><td>unprocessed_pseudogene            </td><td>WASH7P-201 </td><td>NA</td><td>basic</td><td>OTTHUMT00000002839.1</td><td>4 </td><td>ENSE00003565697.1</td><td>PGO:0000005</td><td>NA</td><td>NA</td></tr>\n",
       "\t<tr><td>chr1</td><td>17606</td><td>17742</td><td>  137</td><td>-</td><td>HAVANA</td><td>exon      </td><td>NA</td><td>NA</td><td>ENSG00000227232.5</td><td>⋯</td><td>unprocessed_pseudogene            </td><td>WASH7P-201 </td><td>NA</td><td>basic</td><td>OTTHUMT00000002839.1</td><td>5 </td><td>ENSE00003475637.1</td><td>PGO:0000005</td><td>NA</td><td>NA</td></tr>\n",
       "\t<tr><td>chr1</td><td>17233</td><td>17368</td><td>  136</td><td>-</td><td>HAVANA</td><td>exon      </td><td>NA</td><td>NA</td><td>ENSG00000227232.5</td><td>⋯</td><td>unprocessed_pseudogene            </td><td>WASH7P-201 </td><td>NA</td><td>basic</td><td>OTTHUMT00000002839.1</td><td>6 </td><td>ENSE00003502542.1</td><td>PGO:0000005</td><td>NA</td><td>NA</td></tr>\n",
       "</tbody>\n",
       "</table>\n"
      ],
      "text/latex": [
       "A data.frame: 20 × 26\n",
       "\\begin{tabular}{r|llllllllllllllllllllllllll}\n",
       " seqnames & start & end & width & strand & source & type & score & phase & gene\\_id & gene\\_type & gene\\_name & level & hgnc\\_id & havana\\_gene & transcript\\_id & transcript\\_type & transcript\\_name & transcript\\_support\\_level & tag & havana\\_transcript & exon\\_number & exon\\_id & ont & protein\\_id & ccdsid\\\\\n",
       " <fct> & <int> & <int> & <int> & <fct> & <fct> & <fct> & <dbl> & <int> & <chr> & <chr> & <chr> & <chr> & <chr> & <chr> & <chr> & <chr> & <chr> & <chr> & <chr> & <chr> & <chr> & <chr> & <chr> & <chr> & <chr>\\\\\n",
       "\\hline\n",
       "\t chr1 & 11869 & 14409 &  2541 & + & HAVANA & gene       & NA & NA & ENSG00000223972.5 & transcribed\\_unprocessed\\_pseudogene & DDX11L1 & 2 & HGNC:37102 & OTTHUMG00000000961.2 & NA                & NA                                 & NA          & NA & NA    & NA                   & NA & NA                & NA          & NA & NA\\\\\n",
       "\t chr1 & 11869 & 14409 &  2541 & + & HAVANA & transcript & NA & NA & ENSG00000223972.5 & transcribed\\_unprocessed\\_pseudogene & DDX11L1 & 2 & HGNC:37102 & OTTHUMG00000000961.2 & ENST00000456328.2 & lncRNA                             & DDX11L1-202 & 1  & basic & OTTHUMT00000362751.1 & NA & NA                & NA          & NA & NA\\\\\n",
       "\t chr1 & 11869 & 12227 &   359 & + & HAVANA & exon       & NA & NA & ENSG00000223972.5 & transcribed\\_unprocessed\\_pseudogene & DDX11L1 & 2 & HGNC:37102 & OTTHUMG00000000961.2 & ENST00000456328.2 & lncRNA                             & DDX11L1-202 & 1  & basic & OTTHUMT00000362751.1 & 1  & ENSE00002234944.1 & NA          & NA & NA\\\\\n",
       "\t chr1 & 12613 & 12721 &   109 & + & HAVANA & exon       & NA & NA & ENSG00000223972.5 & transcribed\\_unprocessed\\_pseudogene & DDX11L1 & 2 & HGNC:37102 & OTTHUMG00000000961.2 & ENST00000456328.2 & lncRNA                             & DDX11L1-202 & 1  & basic & OTTHUMT00000362751.1 & 2  & ENSE00003582793.1 & NA          & NA & NA\\\\\n",
       "\t chr1 & 13221 & 14409 &  1189 & + & HAVANA & exon       & NA & NA & ENSG00000223972.5 & transcribed\\_unprocessed\\_pseudogene & DDX11L1 & 2 & HGNC:37102 & OTTHUMG00000000961.2 & ENST00000456328.2 & lncRNA                             & DDX11L1-202 & 1  & basic & OTTHUMT00000362751.1 & 3  & ENSE00002312635.1 & NA          & NA & NA\\\\\n",
       "\t chr1 & 12010 & 13670 &  1661 & + & HAVANA & transcript & NA & NA & ENSG00000223972.5 & transcribed\\_unprocessed\\_pseudogene & DDX11L1 & 2 & HGNC:37102 & OTTHUMG00000000961.2 & ENST00000450305.2 & transcribed\\_unprocessed\\_pseudogene & DDX11L1-201 & NA & basic & OTTHUMT00000002844.2 & NA & NA                & PGO:0000019 & NA & NA\\\\\n",
       "\t chr1 & 12010 & 12057 &    48 & + & HAVANA & exon       & NA & NA & ENSG00000223972.5 & transcribed\\_unprocessed\\_pseudogene & DDX11L1 & 2 & HGNC:37102 & OTTHUMG00000000961.2 & ENST00000450305.2 & transcribed\\_unprocessed\\_pseudogene & DDX11L1-201 & NA & basic & OTTHUMT00000002844.2 & 1  & ENSE00001948541.1 & PGO:0000019 & NA & NA\\\\\n",
       "\t chr1 & 12179 & 12227 &    49 & + & HAVANA & exon       & NA & NA & ENSG00000223972.5 & transcribed\\_unprocessed\\_pseudogene & DDX11L1 & 2 & HGNC:37102 & OTTHUMG00000000961.2 & ENST00000450305.2 & transcribed\\_unprocessed\\_pseudogene & DDX11L1-201 & NA & basic & OTTHUMT00000002844.2 & 2  & ENSE00001671638.2 & PGO:0000019 & NA & NA\\\\\n",
       "\t chr1 & 12613 & 12697 &    85 & + & HAVANA & exon       & NA & NA & ENSG00000223972.5 & transcribed\\_unprocessed\\_pseudogene & DDX11L1 & 2 & HGNC:37102 & OTTHUMG00000000961.2 & ENST00000450305.2 & transcribed\\_unprocessed\\_pseudogene & DDX11L1-201 & NA & basic & OTTHUMT00000002844.2 & 3  & ENSE00001758273.2 & PGO:0000019 & NA & NA\\\\\n",
       "\t chr1 & 12975 & 13052 &    78 & + & HAVANA & exon       & NA & NA & ENSG00000223972.5 & transcribed\\_unprocessed\\_pseudogene & DDX11L1 & 2 & HGNC:37102 & OTTHUMG00000000961.2 & ENST00000450305.2 & transcribed\\_unprocessed\\_pseudogene & DDX11L1-201 & NA & basic & OTTHUMT00000002844.2 & 4  & ENSE00001799933.2 & PGO:0000019 & NA & NA\\\\\n",
       "\t chr1 & 13221 & 13374 &   154 & + & HAVANA & exon       & NA & NA & ENSG00000223972.5 & transcribed\\_unprocessed\\_pseudogene & DDX11L1 & 2 & HGNC:37102 & OTTHUMG00000000961.2 & ENST00000450305.2 & transcribed\\_unprocessed\\_pseudogene & DDX11L1-201 & NA & basic & OTTHUMT00000002844.2 & 5  & ENSE00001746346.2 & PGO:0000019 & NA & NA\\\\\n",
       "\t chr1 & 13453 & 13670 &   218 & + & HAVANA & exon       & NA & NA & ENSG00000223972.5 & transcribed\\_unprocessed\\_pseudogene & DDX11L1 & 2 & HGNC:37102 & OTTHUMG00000000961.2 & ENST00000450305.2 & transcribed\\_unprocessed\\_pseudogene & DDX11L1-201 & NA & basic & OTTHUMT00000002844.2 & 6  & ENSE00001863096.1 & PGO:0000019 & NA & NA\\\\\n",
       "\t chr1 & 14404 & 29570 & 15167 & - & HAVANA & gene       & NA & NA & ENSG00000227232.5 & unprocessed\\_pseudogene             & WASH7P  & 2 & HGNC:38034 & OTTHUMG00000000958.1 & NA                & NA                                 & NA          & NA & NA    & NA                   & NA & NA                & NA          & NA & NA\\\\\n",
       "\t chr1 & 14404 & 29570 & 15167 & - & HAVANA & transcript & NA & NA & ENSG00000227232.5 & unprocessed\\_pseudogene             & WASH7P  & 2 & HGNC:38034 & OTTHUMG00000000958.1 & ENST00000488147.1 & unprocessed\\_pseudogene             & WASH7P-201  & NA & basic & OTTHUMT00000002839.1 & NA & NA                & PGO:0000005 & NA & NA\\\\\n",
       "\t chr1 & 29534 & 29570 &    37 & - & HAVANA & exon       & NA & NA & ENSG00000227232.5 & unprocessed\\_pseudogene             & WASH7P  & 2 & HGNC:38034 & OTTHUMG00000000958.1 & ENST00000488147.1 & unprocessed\\_pseudogene             & WASH7P-201  & NA & basic & OTTHUMT00000002839.1 & 1  & ENSE00001890219.1 & PGO:0000005 & NA & NA\\\\\n",
       "\t chr1 & 24738 & 24891 &   154 & - & HAVANA & exon       & NA & NA & ENSG00000227232.5 & unprocessed\\_pseudogene             & WASH7P  & 2 & HGNC:38034 & OTTHUMG00000000958.1 & ENST00000488147.1 & unprocessed\\_pseudogene             & WASH7P-201  & NA & basic & OTTHUMT00000002839.1 & 2  & ENSE00003507205.1 & PGO:0000005 & NA & NA\\\\\n",
       "\t chr1 & 18268 & 18366 &    99 & - & HAVANA & exon       & NA & NA & ENSG00000227232.5 & unprocessed\\_pseudogene             & WASH7P  & 2 & HGNC:38034 & OTTHUMG00000000958.1 & ENST00000488147.1 & unprocessed\\_pseudogene             & WASH7P-201  & NA & basic & OTTHUMT00000002839.1 & 3  & ENSE00003477500.1 & PGO:0000005 & NA & NA\\\\\n",
       "\t chr1 & 17915 & 18061 &   147 & - & HAVANA & exon       & NA & NA & ENSG00000227232.5 & unprocessed\\_pseudogene             & WASH7P  & 2 & HGNC:38034 & OTTHUMG00000000958.1 & ENST00000488147.1 & unprocessed\\_pseudogene             & WASH7P-201  & NA & basic & OTTHUMT00000002839.1 & 4  & ENSE00003565697.1 & PGO:0000005 & NA & NA\\\\\n",
       "\t chr1 & 17606 & 17742 &   137 & - & HAVANA & exon       & NA & NA & ENSG00000227232.5 & unprocessed\\_pseudogene             & WASH7P  & 2 & HGNC:38034 & OTTHUMG00000000958.1 & ENST00000488147.1 & unprocessed\\_pseudogene             & WASH7P-201  & NA & basic & OTTHUMT00000002839.1 & 5  & ENSE00003475637.1 & PGO:0000005 & NA & NA\\\\\n",
       "\t chr1 & 17233 & 17368 &   136 & - & HAVANA & exon       & NA & NA & ENSG00000227232.5 & unprocessed\\_pseudogene             & WASH7P  & 2 & HGNC:38034 & OTTHUMG00000000958.1 & ENST00000488147.1 & unprocessed\\_pseudogene             & WASH7P-201  & NA & basic & OTTHUMT00000002839.1 & 6  & ENSE00003502542.1 & PGO:0000005 & NA & NA\\\\\n",
       "\\end{tabular}\n"
      ],
      "text/markdown": [
       "\n",
       "A data.frame: 20 × 26\n",
       "\n",
       "| seqnames &lt;fct&gt; | start &lt;int&gt; | end &lt;int&gt; | width &lt;int&gt; | strand &lt;fct&gt; | source &lt;fct&gt; | type &lt;fct&gt; | score &lt;dbl&gt; | phase &lt;int&gt; | gene_id &lt;chr&gt; | ⋯ ⋯ | transcript_type &lt;chr&gt; | transcript_name &lt;chr&gt; | transcript_support_level &lt;chr&gt; | tag &lt;chr&gt; | havana_transcript &lt;chr&gt; | exon_number &lt;chr&gt; | exon_id &lt;chr&gt; | ont &lt;chr&gt; | protein_id &lt;chr&gt; | ccdsid &lt;chr&gt; |\n",
       "|---|---|---|---|---|---|---|---|---|---|---|---|---|---|---|---|---|---|---|---|---|\n",
       "| chr1 | 11869 | 14409 |  2541 | + | HAVANA | gene       | NA | NA | ENSG00000223972.5 | ⋯ | NA                                 | NA          | NA | NA    | NA                   | NA | NA                | NA          | NA | NA |\n",
       "| chr1 | 11869 | 14409 |  2541 | + | HAVANA | transcript | NA | NA | ENSG00000223972.5 | ⋯ | lncRNA                             | DDX11L1-202 | 1  | basic | OTTHUMT00000362751.1 | NA | NA                | NA          | NA | NA |\n",
       "| chr1 | 11869 | 12227 |   359 | + | HAVANA | exon       | NA | NA | ENSG00000223972.5 | ⋯ | lncRNA                             | DDX11L1-202 | 1  | basic | OTTHUMT00000362751.1 | 1  | ENSE00002234944.1 | NA          | NA | NA |\n",
       "| chr1 | 12613 | 12721 |   109 | + | HAVANA | exon       | NA | NA | ENSG00000223972.5 | ⋯ | lncRNA                             | DDX11L1-202 | 1  | basic | OTTHUMT00000362751.1 | 2  | ENSE00003582793.1 | NA          | NA | NA |\n",
       "| chr1 | 13221 | 14409 |  1189 | + | HAVANA | exon       | NA | NA | ENSG00000223972.5 | ⋯ | lncRNA                             | DDX11L1-202 | 1  | basic | OTTHUMT00000362751.1 | 3  | ENSE00002312635.1 | NA          | NA | NA |\n",
       "| chr1 | 12010 | 13670 |  1661 | + | HAVANA | transcript | NA | NA | ENSG00000223972.5 | ⋯ | transcribed_unprocessed_pseudogene | DDX11L1-201 | NA | basic | OTTHUMT00000002844.2 | NA | NA                | PGO:0000019 | NA | NA |\n",
       "| chr1 | 12010 | 12057 |    48 | + | HAVANA | exon       | NA | NA | ENSG00000223972.5 | ⋯ | transcribed_unprocessed_pseudogene | DDX11L1-201 | NA | basic | OTTHUMT00000002844.2 | 1  | ENSE00001948541.1 | PGO:0000019 | NA | NA |\n",
       "| chr1 | 12179 | 12227 |    49 | + | HAVANA | exon       | NA | NA | ENSG00000223972.5 | ⋯ | transcribed_unprocessed_pseudogene | DDX11L1-201 | NA | basic | OTTHUMT00000002844.2 | 2  | ENSE00001671638.2 | PGO:0000019 | NA | NA |\n",
       "| chr1 | 12613 | 12697 |    85 | + | HAVANA | exon       | NA | NA | ENSG00000223972.5 | ⋯ | transcribed_unprocessed_pseudogene | DDX11L1-201 | NA | basic | OTTHUMT00000002844.2 | 3  | ENSE00001758273.2 | PGO:0000019 | NA | NA |\n",
       "| chr1 | 12975 | 13052 |    78 | + | HAVANA | exon       | NA | NA | ENSG00000223972.5 | ⋯ | transcribed_unprocessed_pseudogene | DDX11L1-201 | NA | basic | OTTHUMT00000002844.2 | 4  | ENSE00001799933.2 | PGO:0000019 | NA | NA |\n",
       "| chr1 | 13221 | 13374 |   154 | + | HAVANA | exon       | NA | NA | ENSG00000223972.5 | ⋯ | transcribed_unprocessed_pseudogene | DDX11L1-201 | NA | basic | OTTHUMT00000002844.2 | 5  | ENSE00001746346.2 | PGO:0000019 | NA | NA |\n",
       "| chr1 | 13453 | 13670 |   218 | + | HAVANA | exon       | NA | NA | ENSG00000223972.5 | ⋯ | transcribed_unprocessed_pseudogene | DDX11L1-201 | NA | basic | OTTHUMT00000002844.2 | 6  | ENSE00001863096.1 | PGO:0000019 | NA | NA |\n",
       "| chr1 | 14404 | 29570 | 15167 | - | HAVANA | gene       | NA | NA | ENSG00000227232.5 | ⋯ | NA                                 | NA          | NA | NA    | NA                   | NA | NA                | NA          | NA | NA |\n",
       "| chr1 | 14404 | 29570 | 15167 | - | HAVANA | transcript | NA | NA | ENSG00000227232.5 | ⋯ | unprocessed_pseudogene             | WASH7P-201  | NA | basic | OTTHUMT00000002839.1 | NA | NA                | PGO:0000005 | NA | NA |\n",
       "| chr1 | 29534 | 29570 |    37 | - | HAVANA | exon       | NA | NA | ENSG00000227232.5 | ⋯ | unprocessed_pseudogene             | WASH7P-201  | NA | basic | OTTHUMT00000002839.1 | 1  | ENSE00001890219.1 | PGO:0000005 | NA | NA |\n",
       "| chr1 | 24738 | 24891 |   154 | - | HAVANA | exon       | NA | NA | ENSG00000227232.5 | ⋯ | unprocessed_pseudogene             | WASH7P-201  | NA | basic | OTTHUMT00000002839.1 | 2  | ENSE00003507205.1 | PGO:0000005 | NA | NA |\n",
       "| chr1 | 18268 | 18366 |    99 | - | HAVANA | exon       | NA | NA | ENSG00000227232.5 | ⋯ | unprocessed_pseudogene             | WASH7P-201  | NA | basic | OTTHUMT00000002839.1 | 3  | ENSE00003477500.1 | PGO:0000005 | NA | NA |\n",
       "| chr1 | 17915 | 18061 |   147 | - | HAVANA | exon       | NA | NA | ENSG00000227232.5 | ⋯ | unprocessed_pseudogene             | WASH7P-201  | NA | basic | OTTHUMT00000002839.1 | 4  | ENSE00003565697.1 | PGO:0000005 | NA | NA |\n",
       "| chr1 | 17606 | 17742 |   137 | - | HAVANA | exon       | NA | NA | ENSG00000227232.5 | ⋯ | unprocessed_pseudogene             | WASH7P-201  | NA | basic | OTTHUMT00000002839.1 | 5  | ENSE00003475637.1 | PGO:0000005 | NA | NA |\n",
       "| chr1 | 17233 | 17368 |   136 | - | HAVANA | exon       | NA | NA | ENSG00000227232.5 | ⋯ | unprocessed_pseudogene             | WASH7P-201  | NA | basic | OTTHUMT00000002839.1 | 6  | ENSE00003502542.1 | PGO:0000005 | NA | NA |\n",
       "\n"
      ],
      "text/plain": [
       "   seqnames start end   width strand source type       score phase\n",
       "1  chr1     11869 14409  2541 +      HAVANA gene       NA    NA   \n",
       "2  chr1     11869 14409  2541 +      HAVANA transcript NA    NA   \n",
       "3  chr1     11869 12227   359 +      HAVANA exon       NA    NA   \n",
       "4  chr1     12613 12721   109 +      HAVANA exon       NA    NA   \n",
       "5  chr1     13221 14409  1189 +      HAVANA exon       NA    NA   \n",
       "6  chr1     12010 13670  1661 +      HAVANA transcript NA    NA   \n",
       "7  chr1     12010 12057    48 +      HAVANA exon       NA    NA   \n",
       "8  chr1     12179 12227    49 +      HAVANA exon       NA    NA   \n",
       "9  chr1     12613 12697    85 +      HAVANA exon       NA    NA   \n",
       "10 chr1     12975 13052    78 +      HAVANA exon       NA    NA   \n",
       "11 chr1     13221 13374   154 +      HAVANA exon       NA    NA   \n",
       "12 chr1     13453 13670   218 +      HAVANA exon       NA    NA   \n",
       "13 chr1     14404 29570 15167 -      HAVANA gene       NA    NA   \n",
       "14 chr1     14404 29570 15167 -      HAVANA transcript NA    NA   \n",
       "15 chr1     29534 29570    37 -      HAVANA exon       NA    NA   \n",
       "16 chr1     24738 24891   154 -      HAVANA exon       NA    NA   \n",
       "17 chr1     18268 18366    99 -      HAVANA exon       NA    NA   \n",
       "18 chr1     17915 18061   147 -      HAVANA exon       NA    NA   \n",
       "19 chr1     17606 17742   137 -      HAVANA exon       NA    NA   \n",
       "20 chr1     17233 17368   136 -      HAVANA exon       NA    NA   \n",
       "   gene_id           ⋯ transcript_type                    transcript_name\n",
       "1  ENSG00000223972.5 ⋯ NA                                 NA             \n",
       "2  ENSG00000223972.5 ⋯ lncRNA                             DDX11L1-202    \n",
       "3  ENSG00000223972.5 ⋯ lncRNA                             DDX11L1-202    \n",
       "4  ENSG00000223972.5 ⋯ lncRNA                             DDX11L1-202    \n",
       "5  ENSG00000223972.5 ⋯ lncRNA                             DDX11L1-202    \n",
       "6  ENSG00000223972.5 ⋯ transcribed_unprocessed_pseudogene DDX11L1-201    \n",
       "7  ENSG00000223972.5 ⋯ transcribed_unprocessed_pseudogene DDX11L1-201    \n",
       "8  ENSG00000223972.5 ⋯ transcribed_unprocessed_pseudogene DDX11L1-201    \n",
       "9  ENSG00000223972.5 ⋯ transcribed_unprocessed_pseudogene DDX11L1-201    \n",
       "10 ENSG00000223972.5 ⋯ transcribed_unprocessed_pseudogene DDX11L1-201    \n",
       "11 ENSG00000223972.5 ⋯ transcribed_unprocessed_pseudogene DDX11L1-201    \n",
       "12 ENSG00000223972.5 ⋯ transcribed_unprocessed_pseudogene DDX11L1-201    \n",
       "13 ENSG00000227232.5 ⋯ NA                                 NA             \n",
       "14 ENSG00000227232.5 ⋯ unprocessed_pseudogene             WASH7P-201     \n",
       "15 ENSG00000227232.5 ⋯ unprocessed_pseudogene             WASH7P-201     \n",
       "16 ENSG00000227232.5 ⋯ unprocessed_pseudogene             WASH7P-201     \n",
       "17 ENSG00000227232.5 ⋯ unprocessed_pseudogene             WASH7P-201     \n",
       "18 ENSG00000227232.5 ⋯ unprocessed_pseudogene             WASH7P-201     \n",
       "19 ENSG00000227232.5 ⋯ unprocessed_pseudogene             WASH7P-201     \n",
       "20 ENSG00000227232.5 ⋯ unprocessed_pseudogene             WASH7P-201     \n",
       "   transcript_support_level tag   havana_transcript    exon_number\n",
       "1  NA                       NA    NA                   NA         \n",
       "2  1                        basic OTTHUMT00000362751.1 NA         \n",
       "3  1                        basic OTTHUMT00000362751.1 1          \n",
       "4  1                        basic OTTHUMT00000362751.1 2          \n",
       "5  1                        basic OTTHUMT00000362751.1 3          \n",
       "6  NA                       basic OTTHUMT00000002844.2 NA         \n",
       "7  NA                       basic OTTHUMT00000002844.2 1          \n",
       "8  NA                       basic OTTHUMT00000002844.2 2          \n",
       "9  NA                       basic OTTHUMT00000002844.2 3          \n",
       "10 NA                       basic OTTHUMT00000002844.2 4          \n",
       "11 NA                       basic OTTHUMT00000002844.2 5          \n",
       "12 NA                       basic OTTHUMT00000002844.2 6          \n",
       "13 NA                       NA    NA                   NA         \n",
       "14 NA                       basic OTTHUMT00000002839.1 NA         \n",
       "15 NA                       basic OTTHUMT00000002839.1 1          \n",
       "16 NA                       basic OTTHUMT00000002839.1 2          \n",
       "17 NA                       basic OTTHUMT00000002839.1 3          \n",
       "18 NA                       basic OTTHUMT00000002839.1 4          \n",
       "19 NA                       basic OTTHUMT00000002839.1 5          \n",
       "20 NA                       basic OTTHUMT00000002839.1 6          \n",
       "   exon_id           ont         protein_id ccdsid\n",
       "1  NA                NA          NA         NA    \n",
       "2  NA                NA          NA         NA    \n",
       "3  ENSE00002234944.1 NA          NA         NA    \n",
       "4  ENSE00003582793.1 NA          NA         NA    \n",
       "5  ENSE00002312635.1 NA          NA         NA    \n",
       "6  NA                PGO:0000019 NA         NA    \n",
       "7  ENSE00001948541.1 PGO:0000019 NA         NA    \n",
       "8  ENSE00001671638.2 PGO:0000019 NA         NA    \n",
       "9  ENSE00001758273.2 PGO:0000019 NA         NA    \n",
       "10 ENSE00001799933.2 PGO:0000019 NA         NA    \n",
       "11 ENSE00001746346.2 PGO:0000019 NA         NA    \n",
       "12 ENSE00001863096.1 PGO:0000019 NA         NA    \n",
       "13 NA                NA          NA         NA    \n",
       "14 NA                PGO:0000005 NA         NA    \n",
       "15 ENSE00001890219.1 PGO:0000005 NA         NA    \n",
       "16 ENSE00003507205.1 PGO:0000005 NA         NA    \n",
       "17 ENSE00003477500.1 PGO:0000005 NA         NA    \n",
       "18 ENSE00003565697.1 PGO:0000005 NA         NA    \n",
       "19 ENSE00003475637.1 PGO:0000005 NA         NA    \n",
       "20 ENSE00003502542.1 PGO:0000005 NA         NA    "
      ]
     },
     "metadata": {},
     "output_type": "display_data"
    }
   ],
   "source": [
    "head(file_df, n=20)"
   ]
  },
  {
   "cell_type": "code",
   "execution_count": 11,
   "metadata": {},
   "outputs": [
    {
     "data": {
      "text/html": [
       "<ol class=list-inline>\n",
       "\t<li>'seqnames'</li>\n",
       "\t<li>'start'</li>\n",
       "\t<li>'end'</li>\n",
       "\t<li>'width'</li>\n",
       "\t<li>'strand'</li>\n",
       "\t<li>'source'</li>\n",
       "\t<li>'type'</li>\n",
       "\t<li>'score'</li>\n",
       "\t<li>'phase'</li>\n",
       "\t<li>'gene_id'</li>\n",
       "\t<li>'gene_type'</li>\n",
       "\t<li>'gene_name'</li>\n",
       "\t<li>'level'</li>\n",
       "\t<li>'hgnc_id'</li>\n",
       "\t<li>'havana_gene'</li>\n",
       "\t<li>'transcript_id'</li>\n",
       "\t<li>'transcript_type'</li>\n",
       "\t<li>'transcript_name'</li>\n",
       "\t<li>'transcript_support_level'</li>\n",
       "\t<li>'tag'</li>\n",
       "\t<li>'havana_transcript'</li>\n",
       "\t<li>'exon_number'</li>\n",
       "\t<li>'exon_id'</li>\n",
       "\t<li>'ont'</li>\n",
       "\t<li>'protein_id'</li>\n",
       "\t<li>'ccdsid'</li>\n",
       "</ol>\n"
      ],
      "text/latex": [
       "\\begin{enumerate*}\n",
       "\\item 'seqnames'\n",
       "\\item 'start'\n",
       "\\item 'end'\n",
       "\\item 'width'\n",
       "\\item 'strand'\n",
       "\\item 'source'\n",
       "\\item 'type'\n",
       "\\item 'score'\n",
       "\\item 'phase'\n",
       "\\item 'gene\\_id'\n",
       "\\item 'gene\\_type'\n",
       "\\item 'gene\\_name'\n",
       "\\item 'level'\n",
       "\\item 'hgnc\\_id'\n",
       "\\item 'havana\\_gene'\n",
       "\\item 'transcript\\_id'\n",
       "\\item 'transcript\\_type'\n",
       "\\item 'transcript\\_name'\n",
       "\\item 'transcript\\_support\\_level'\n",
       "\\item 'tag'\n",
       "\\item 'havana\\_transcript'\n",
       "\\item 'exon\\_number'\n",
       "\\item 'exon\\_id'\n",
       "\\item 'ont'\n",
       "\\item 'protein\\_id'\n",
       "\\item 'ccdsid'\n",
       "\\end{enumerate*}\n"
      ],
      "text/markdown": [
       "1. 'seqnames'\n",
       "2. 'start'\n",
       "3. 'end'\n",
       "4. 'width'\n",
       "5. 'strand'\n",
       "6. 'source'\n",
       "7. 'type'\n",
       "8. 'score'\n",
       "9. 'phase'\n",
       "10. 'gene_id'\n",
       "11. 'gene_type'\n",
       "12. 'gene_name'\n",
       "13. 'level'\n",
       "14. 'hgnc_id'\n",
       "15. 'havana_gene'\n",
       "16. 'transcript_id'\n",
       "17. 'transcript_type'\n",
       "18. 'transcript_name'\n",
       "19. 'transcript_support_level'\n",
       "20. 'tag'\n",
       "21. 'havana_transcript'\n",
       "22. 'exon_number'\n",
       "23. 'exon_id'\n",
       "24. 'ont'\n",
       "25. 'protein_id'\n",
       "26. 'ccdsid'\n",
       "\n",
       "\n"
      ],
      "text/plain": [
       " [1] \"seqnames\"                 \"start\"                   \n",
       " [3] \"end\"                      \"width\"                   \n",
       " [5] \"strand\"                   \"source\"                  \n",
       " [7] \"type\"                     \"score\"                   \n",
       " [9] \"phase\"                    \"gene_id\"                 \n",
       "[11] \"gene_type\"                \"gene_name\"               \n",
       "[13] \"level\"                    \"hgnc_id\"                 \n",
       "[15] \"havana_gene\"              \"transcript_id\"           \n",
       "[17] \"transcript_type\"          \"transcript_name\"         \n",
       "[19] \"transcript_support_level\" \"tag\"                     \n",
       "[21] \"havana_transcript\"        \"exon_number\"             \n",
       "[23] \"exon_id\"                  \"ont\"                     \n",
       "[25] \"protein_id\"               \"ccdsid\"                  "
      ]
     },
     "metadata": {},
     "output_type": "display_data"
    }
   ],
   "source": [
    "colnames(file_df)"
   ]
  },
  {
   "cell_type": "code",
   "execution_count": 31,
   "metadata": {},
   "outputs": [],
   "source": [
    "transcripts <- subset(file_df, type=='transcript')"
   ]
  },
  {
   "cell_type": "code",
   "execution_count": 50,
   "metadata": {},
   "outputs": [],
   "source": [
    "#good <- subset(file_df, transcript_support_level!='5')\n",
    "#good <- file_df[(file_df['transcript_support_level']!='5'|file_df['score']!='3')]\n",
    "good <- subset(transcripts, (transcript_support_level!= 5 & level!= 3))\n",
    "gooder <- subset(good, (transcript_support_level!= 4 & level!= 3))\n",
    "\n",
    "bad <- subset(transcripts, (transcript_support_level == 5 & level== 3))\n",
    "bad2 <-  subset(bad, (transcript_support_level == 4 & level== 3))\n",
    "bad_all "
   ]
  },
  {
   "cell_type": "code",
   "execution_count": 57,
   "metadata": {},
   "outputs": [],
   "source": [
    "#good <- subset(file_df, transcript_support_level!='5')\n",
    "#good <- file_df[(file_df['transcript_support_level']!='5'|file_df['score']!='3')]\n",
    "good <- subset(transcripts, (transcript_support_level!= 4 & transcript_support_level!= 5 & level!= 3))\n",
    "\n",
    "bad <- subset(transcripts, ((transcript_support_level == 4 | transcript_support_level == 5) & level== 3))\n"
   ]
  },
  {
   "cell_type": "code",
   "execution_count": 35,
   "metadata": {},
   "outputs": [
    {
     "data": {
      "text/html": [
       "<table>\n",
       "<caption>A data.frame: 6 × 26</caption>\n",
       "<thead>\n",
       "\t<tr><th></th><th scope=col>seqnames</th><th scope=col>start</th><th scope=col>end</th><th scope=col>width</th><th scope=col>strand</th><th scope=col>source</th><th scope=col>type</th><th scope=col>score</th><th scope=col>phase</th><th scope=col>gene_id</th><th scope=col>⋯</th><th scope=col>transcript_type</th><th scope=col>transcript_name</th><th scope=col>transcript_support_level</th><th scope=col>tag</th><th scope=col>havana_transcript</th><th scope=col>exon_number</th><th scope=col>exon_id</th><th scope=col>ont</th><th scope=col>protein_id</th><th scope=col>ccdsid</th></tr>\n",
       "\t<tr><th></th><th scope=col>&lt;fct&gt;</th><th scope=col>&lt;int&gt;</th><th scope=col>&lt;int&gt;</th><th scope=col>&lt;int&gt;</th><th scope=col>&lt;fct&gt;</th><th scope=col>&lt;fct&gt;</th><th scope=col>&lt;fct&gt;</th><th scope=col>&lt;dbl&gt;</th><th scope=col>&lt;int&gt;</th><th scope=col>&lt;chr&gt;</th><th scope=col>⋯</th><th scope=col>&lt;chr&gt;</th><th scope=col>&lt;chr&gt;</th><th scope=col>&lt;chr&gt;</th><th scope=col>&lt;chr&gt;</th><th scope=col>&lt;chr&gt;</th><th scope=col>&lt;chr&gt;</th><th scope=col>&lt;chr&gt;</th><th scope=col>&lt;chr&gt;</th><th scope=col>&lt;chr&gt;</th><th scope=col>&lt;chr&gt;</th></tr>\n",
       "</thead>\n",
       "<tbody>\n",
       "\t<tr><th scope=row>92</th><td>chr1</td><td>120725</td><td>133723</td><td>12999</td><td>-</td><td>ENSEMBL</td><td>transcript</td><td>NA</td><td>NA</td><td>ENSG00000238009.6 </td><td>⋯</td><td>lncRNA        </td><td>AL627309.1-205</td><td>5</td><td>basic               </td><td>NA</td><td>NA</td><td>NA</td><td>NA</td><td>NA               </td><td>NA</td></tr>\n",
       "\t<tr><th scope=row>935</th><td>chr1</td><td>925741</td><td>944581</td><td>18841</td><td>+</td><td>ENSEMBL</td><td>transcript</td><td>NA</td><td>NA</td><td>ENSG00000187634.12</td><td>⋯</td><td>protein_coding</td><td>SAMD11-213    </td><td>5</td><td>appris_alternative_2</td><td>NA</td><td>NA</td><td>NA</td><td>NA</td><td>ENSP00000480870.1</td><td>NA</td></tr>\n",
       "\t<tr><th scope=row>962</th><td>chr1</td><td>925741</td><td>944581</td><td>18841</td><td>+</td><td>ENSEMBL</td><td>transcript</td><td>NA</td><td>NA</td><td>ENSG00000187634.12</td><td>⋯</td><td>protein_coding</td><td>SAMD11-217    </td><td>5</td><td>appris_alternative_2</td><td>NA</td><td>NA</td><td>NA</td><td>NA</td><td>ENSP00000482138.1</td><td>NA</td></tr>\n",
       "\t<tr><th scope=row>995</th><td>chr1</td><td>925741</td><td>944581</td><td>18841</td><td>+</td><td>ENSEMBL</td><td>transcript</td><td>NA</td><td>NA</td><td>ENSG00000187634.12</td><td>⋯</td><td>protein_coding</td><td>SAMD11-214    </td><td>5</td><td>basic               </td><td>NA</td><td>NA</td><td>NA</td><td>NA</td><td>ENSP00000480678.1</td><td>NA</td></tr>\n",
       "\t<tr><th scope=row>1024</th><td>chr1</td><td>925741</td><td>944581</td><td>18841</td><td>+</td><td>ENSEMBL</td><td>transcript</td><td>NA</td><td>NA</td><td>ENSG00000187634.12</td><td>⋯</td><td>protein_coding</td><td>SAMD11-210    </td><td>5</td><td>basic               </td><td>NA</td><td>NA</td><td>NA</td><td>NA</td><td>ENSP00000478421.1</td><td>NA</td></tr>\n",
       "\t<tr><th scope=row>1055</th><td>chr1</td><td>925741</td><td>944581</td><td>18841</td><td>+</td><td>ENSEMBL</td><td>transcript</td><td>NA</td><td>NA</td><td>ENSG00000187634.12</td><td>⋯</td><td>protein_coding</td><td>SAMD11-215    </td><td>5</td><td>appris_alternative_2</td><td>NA</td><td>NA</td><td>NA</td><td>NA</td><td>ENSP00000484256.1</td><td>NA</td></tr>\n",
       "</tbody>\n",
       "</table>\n"
      ],
      "text/latex": [
       "A data.frame: 6 × 26\n",
       "\\begin{tabular}{r|llllllllllllllllllllllllll}\n",
       "  & seqnames & start & end & width & strand & source & type & score & phase & gene\\_id & gene\\_type & gene\\_name & level & hgnc\\_id & havana\\_gene & transcript\\_id & transcript\\_type & transcript\\_name & transcript\\_support\\_level & tag & havana\\_transcript & exon\\_number & exon\\_id & ont & protein\\_id & ccdsid\\\\\n",
       "  & <fct> & <int> & <int> & <int> & <fct> & <fct> & <fct> & <dbl> & <int> & <chr> & <chr> & <chr> & <chr> & <chr> & <chr> & <chr> & <chr> & <chr> & <chr> & <chr> & <chr> & <chr> & <chr> & <chr> & <chr> & <chr>\\\\\n",
       "\\hline\n",
       "\t92 & chr1 & 120725 & 133723 & 12999 & - & ENSEMBL & transcript & NA & NA & ENSG00000238009.6  & lncRNA         & AL627309.1 & 3 & NA         & OTTHUMG00000001096.2  & ENST00000610542.1 & lncRNA         & AL627309.1-205 & 5 & basic                & NA & NA & NA & NA & NA                & NA\\\\\n",
       "\t935 & chr1 & 925741 & 944581 & 18841 & + & ENSEMBL & transcript & NA & NA & ENSG00000187634.12 & protein\\_coding & SAMD11     & 3 & HGNC:28706 & OTTHUMG00000040719.11 & ENST00000618181.4 & protein\\_coding & SAMD11-213     & 5 & appris\\_alternative\\_2 & NA & NA & NA & NA & ENSP00000480870.1 & NA\\\\\n",
       "\t962 & chr1 & 925741 & 944581 & 18841 & + & ENSEMBL & transcript & NA & NA & ENSG00000187634.12 & protein\\_coding & SAMD11     & 3 & HGNC:28706 & OTTHUMG00000040719.11 & ENST00000622503.4 & protein\\_coding & SAMD11-217     & 5 & appris\\_alternative\\_2 & NA & NA & NA & NA & ENSP00000482138.1 & NA\\\\\n",
       "\t995 & chr1 & 925741 & 944581 & 18841 & + & ENSEMBL & transcript & NA & NA & ENSG00000187634.12 & protein\\_coding & SAMD11     & 3 & HGNC:28706 & OTTHUMG00000040719.11 & ENST00000618323.4 & protein\\_coding & SAMD11-214     & 5 & basic                & NA & NA & NA & NA & ENSP00000480678.1 & NA\\\\\n",
       "\t1024 & chr1 & 925741 & 944581 & 18841 & + & ENSEMBL & transcript & NA & NA & ENSG00000187634.12 & protein\\_coding & SAMD11     & 3 & HGNC:28706 & OTTHUMG00000040719.11 & ENST00000616016.4 & protein\\_coding & SAMD11-210     & 5 & basic                & NA & NA & NA & NA & ENSP00000478421.1 & NA\\\\\n",
       "\t1055 & chr1 & 925741 & 944581 & 18841 & + & ENSEMBL & transcript & NA & NA & ENSG00000187634.12 & protein\\_coding & SAMD11     & 3 & HGNC:28706 & OTTHUMG00000040719.11 & ENST00000618779.4 & protein\\_coding & SAMD11-215     & 5 & appris\\_alternative\\_2 & NA & NA & NA & NA & ENSP00000484256.1 & NA\\\\\n",
       "\\end{tabular}\n"
      ],
      "text/markdown": [
       "\n",
       "A data.frame: 6 × 26\n",
       "\n",
       "| <!--/--> | seqnames &lt;fct&gt; | start &lt;int&gt; | end &lt;int&gt; | width &lt;int&gt; | strand &lt;fct&gt; | source &lt;fct&gt; | type &lt;fct&gt; | score &lt;dbl&gt; | phase &lt;int&gt; | gene_id &lt;chr&gt; | ⋯ ⋯ | transcript_type &lt;chr&gt; | transcript_name &lt;chr&gt; | transcript_support_level &lt;chr&gt; | tag &lt;chr&gt; | havana_transcript &lt;chr&gt; | exon_number &lt;chr&gt; | exon_id &lt;chr&gt; | ont &lt;chr&gt; | protein_id &lt;chr&gt; | ccdsid &lt;chr&gt; |\n",
       "|---|---|---|---|---|---|---|---|---|---|---|---|---|---|---|---|---|---|---|---|---|---|\n",
       "| 92 | chr1 | 120725 | 133723 | 12999 | - | ENSEMBL | transcript | NA | NA | ENSG00000238009.6  | ⋯ | lncRNA         | AL627309.1-205 | 5 | basic                | NA | NA | NA | NA | NA                | NA |\n",
       "| 935 | chr1 | 925741 | 944581 | 18841 | + | ENSEMBL | transcript | NA | NA | ENSG00000187634.12 | ⋯ | protein_coding | SAMD11-213     | 5 | appris_alternative_2 | NA | NA | NA | NA | ENSP00000480870.1 | NA |\n",
       "| 962 | chr1 | 925741 | 944581 | 18841 | + | ENSEMBL | transcript | NA | NA | ENSG00000187634.12 | ⋯ | protein_coding | SAMD11-217     | 5 | appris_alternative_2 | NA | NA | NA | NA | ENSP00000482138.1 | NA |\n",
       "| 995 | chr1 | 925741 | 944581 | 18841 | + | ENSEMBL | transcript | NA | NA | ENSG00000187634.12 | ⋯ | protein_coding | SAMD11-214     | 5 | basic                | NA | NA | NA | NA | ENSP00000480678.1 | NA |\n",
       "| 1024 | chr1 | 925741 | 944581 | 18841 | + | ENSEMBL | transcript | NA | NA | ENSG00000187634.12 | ⋯ | protein_coding | SAMD11-210     | 5 | basic                | NA | NA | NA | NA | ENSP00000478421.1 | NA |\n",
       "| 1055 | chr1 | 925741 | 944581 | 18841 | + | ENSEMBL | transcript | NA | NA | ENSG00000187634.12 | ⋯ | protein_coding | SAMD11-215     | 5 | appris_alternative_2 | NA | NA | NA | NA | ENSP00000484256.1 | NA |\n",
       "\n"
      ],
      "text/plain": [
       "     seqnames start  end    width strand source  type       score phase\n",
       "92   chr1     120725 133723 12999 -      ENSEMBL transcript NA    NA   \n",
       "935  chr1     925741 944581 18841 +      ENSEMBL transcript NA    NA   \n",
       "962  chr1     925741 944581 18841 +      ENSEMBL transcript NA    NA   \n",
       "995  chr1     925741 944581 18841 +      ENSEMBL transcript NA    NA   \n",
       "1024 chr1     925741 944581 18841 +      ENSEMBL transcript NA    NA   \n",
       "1055 chr1     925741 944581 18841 +      ENSEMBL transcript NA    NA   \n",
       "     gene_id            ⋯ transcript_type transcript_name\n",
       "92   ENSG00000238009.6  ⋯ lncRNA          AL627309.1-205 \n",
       "935  ENSG00000187634.12 ⋯ protein_coding  SAMD11-213     \n",
       "962  ENSG00000187634.12 ⋯ protein_coding  SAMD11-217     \n",
       "995  ENSG00000187634.12 ⋯ protein_coding  SAMD11-214     \n",
       "1024 ENSG00000187634.12 ⋯ protein_coding  SAMD11-210     \n",
       "1055 ENSG00000187634.12 ⋯ protein_coding  SAMD11-215     \n",
       "     transcript_support_level tag                  havana_transcript\n",
       "92   5                        basic                NA               \n",
       "935  5                        appris_alternative_2 NA               \n",
       "962  5                        appris_alternative_2 NA               \n",
       "995  5                        basic                NA               \n",
       "1024 5                        basic                NA               \n",
       "1055 5                        appris_alternative_2 NA               \n",
       "     exon_number exon_id ont protein_id        ccdsid\n",
       "92   NA          NA      NA  NA                NA    \n",
       "935  NA          NA      NA  ENSP00000480870.1 NA    \n",
       "962  NA          NA      NA  ENSP00000482138.1 NA    \n",
       "995  NA          NA      NA  ENSP00000480678.1 NA    \n",
       "1024 NA          NA      NA  ENSP00000478421.1 NA    \n",
       "1055 NA          NA      NA  ENSP00000484256.1 NA    "
      ]
     },
     "metadata": {},
     "output_type": "display_data"
    }
   ],
   "source": [
    "head(bad)"
   ]
  },
  {
   "cell_type": "code",
   "execution_count": null,
   "metadata": {},
   "outputs": [],
   "source": [
    "#head(list(bad['level']))"
   ]
  },
  {
   "cell_type": "code",
   "execution_count": 58,
   "metadata": {},
   "outputs": [
    {
     "name": "stdout",
     "output_type": "stream",
     "text": [
      "[1] 227462     26\n",
      "[1] 131775     26\n",
      "[1] 3662   26\n"
     ]
    }
   ],
   "source": [
    "print(dim(transcripts))\n",
    "print(dim(good))\n",
    "#print(dim(gooder))\n",
    "print(dim(bad))"
   ]
  },
  {
   "cell_type": "code",
   "execution_count": 61,
   "metadata": {},
   "outputs": [
    {
     "data": {
      "text/html": [
       "<ol>\n",
       "\t<li>NULL</li>\n",
       "</ol>\n"
      ],
      "text/latex": [
       "\\begin{enumerate}\n",
       "\\item NULL\n",
       "\\end{enumerate}\n"
      ],
      "text/markdown": [
       "1. NULL\n",
       "\n",
       "\n"
      ],
      "text/plain": [
       "[[1]]\n",
       "NULL\n"
      ]
     },
     "metadata": {},
     "output_type": "display_data"
    }
   ],
   "source": [
    "trans_type <- list(bad$transcript_type)\n",
    "trans_type[10]"
   ]
  },
  {
   "cell_type": "code",
   "execution_count": 62,
   "metadata": {},
   "outputs": [],
   "source": [
    "write.table(bad, file='tsl4.5.level3.gencode.v32.transcripts.txt', sep='\\t')"
   ]
  },
  {
   "cell_type": "code",
   "execution_count": null,
   "metadata": {},
   "outputs": [],
   "source": [
    "write.table(good, file='tsl4.5.level3.gencode.v32.transcripts.txt', sep='\\t')"
   ]
  },
  {
   "cell_type": "code",
   "execution_count": 19,
   "metadata": {},
   "outputs": [],
   "source": [
    "write.table(transcript, file='gencode.v32.transcripts.txt.gz', sep='\\t')"
   ]
  },
  {
   "cell_type": "code",
   "execution_count": null,
   "metadata": {},
   "outputs": [],
   "source": []
  }
 ],
 "metadata": {
  "kernelspec": {
   "display_name": "R",
   "language": "R",
   "name": "ir"
  },
  "language_info": {
   "codemirror_mode": "r",
   "file_extension": ".r",
   "mimetype": "text/x-r-source",
   "name": "R",
   "pygments_lexer": "r",
   "version": "3.6.1"
  }
 },
 "nbformat": 4,
 "nbformat_minor": 2
}
