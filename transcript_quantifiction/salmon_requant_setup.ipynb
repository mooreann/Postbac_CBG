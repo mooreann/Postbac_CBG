{
 "cells": [
  {
   "cell_type": "markdown",
   "metadata": {},
   "source": [
    "# Setting up resources to quantify transcripts with Salmon on GCP\n",
    "## PART2: run quantification\n",
    "\n",
    "https://salmon.readthedocs.io/en/latest/salmon.html\n"
   ]
  },
  {
   "cell_type": "markdown",
   "metadata": {},
   "source": [
    "#### Jan 07, 2020"
   ]
  },
  {
   "cell_type": "code",
   "execution_count": 75,
   "metadata": {},
   "outputs": [],
   "source": [
    "# setup notebook global vars\n",
    "import pandas as pd\n",
    "\n",
    "#gcp \n",
    "project_id = 'nih-nia-lng-cbg'\n",
    "prj_bucket = 'gs://nihnialngcbg-eqtl'\n",
    "my_user='mooreank'\n",
    "data = 'nabec'\n",
    "reference = 'chess'\n",
    "docker_img = 'us.gcr.io/nih-nia-lng-cbg/nihnialngcbg-salmon:2020-1'\n",
    "WRKDIR = '/Users/mooreank/Desktop/Raph/requant/salmon'"
   ]
  },
  {
   "cell_type": "markdown",
   "metadata": {},
   "source": [
    "#### Generate list of samples (change directories if necessary)"
   ]
  },
  {
   "cell_type": "code",
   "execution_count": 13,
   "metadata": {},
   "outputs": [],
   "source": [
    "##get full sample list to run from fastqs\n",
    "\n",
    "#gsutil ls gs://nihnialngcbg-eqtl/rosmap/fastqs/*_R1.fastq.gz > bucket.fastqs.list\n",
    "!gsutil ls gs://nihnialngcbg-eqtl/nabec/totalrna/fastqs/*_R2.fastq.gz > /Users/mooreank/Desktop/Raph/requant/salmon/nabec.samples.list\n",
    "#sed -i s\"/_R1\\.fastq\\.gz//\"g bucket.fastqs.list\n",
    "!sed -i -e s\"/_R2\\.fastq\\.gz//\"g /Users/mooreank/Desktop/Raph/requant/salmon/nabec.samples.list\n",
    "!sed -i -e s\"/gs\\:\\/\\/nihnialngcbg-eqtl\\/nabec\\/totalrna\\/fastqs\\///\"g /Users/mooreank/Desktop/Raph/requant/salmon/nabec.samples.list\n",
    "\n",
    "#!head -10 rosmap.samples.list > rosmap.samples.list.test\n"
   ]
  },
  {
   "cell_type": "code",
   "execution_count": null,
   "metadata": {},
   "outputs": [],
   "source": [
    "###get list of samples in python \n",
    "sample_file = f'{WRKDIR}/{data}.samples.list'\n",
    "\n",
    "samples_list= []\n",
    "with open(sample_file, 'r') as fi:\n",
    "    for line in fi:\n",
    "        line = line.strip()\n",
    "        samples_list.append(str(line))\n"
   ]
  },
  {
   "cell_type": "code",
   "execution_count": 87,
   "metadata": {},
   "outputs": [
    {
     "data": {
      "text/plain": [
       "339"
      ]
     },
     "execution_count": 87,
     "metadata": {},
     "output_type": "execute_result"
    }
   ],
   "source": [
    "len(samples_list)"
   ]
  },
  {
   "cell_type": "code",
   "execution_count": 23,
   "metadata": {},
   "outputs": [],
   "source": [
    "#test = samples_list[:2]"
   ]
  },
  {
   "cell_type": "markdown",
   "metadata": {},
   "source": [
    "#### Run requantification"
   ]
  },
  {
   "cell_type": "code",
   "execution_count": null,
   "metadata": {},
   "outputs": [],
   "source": [
    "###for chess reference\n",
    "\n",
    "# run a test of quantifying an RNA sample\n",
    "# in_bucket = 'gs://nihnialngcbg-eqtl/rosmap'\n",
    "# out_bucket = 'gs://nihnialngcbg-eqtl/rosmap_test'\n",
    "# sample = ''\n",
    "# project_id = 'nih-nia-lng-cbg'\n",
    "# prj_bucket = 'gs://nihnialngcbg-eqtl'\n",
    "# docker_img = 'us.gcr.io/nih-nia-lng-cbg/nihnialngcbg-salmon:2020-1'\n",
    "# my_user = 'mooreank'\n",
    "\n",
    "\n",
    "\n",
    "# gcp_lsci_pipe_cmd = 'mkdir -p /gcloud-shared/reference; \\\n",
    "# gsutil -mq cp ${SALMONTRANSCRIPTMODELS}/* /gcloud-shared/reference; \\\n",
    "# salmon --no-version-check quant -i /gcloud-shared/reference -l A -1 ${FASTQR1} -2 ${FASTQR2} \\\n",
    "# --validateMappings --seqBias --gcBias --posBias --threads $(nproc) \\\n",
    "# -o /gcloud-shared/sample; \\\n",
    "# gsutil -mq cp -r /gcloud-shared/sample ${GS_OUTPATH}; \\\n",
    "# ls -lhR /gcloud-shared'\n",
    "\n",
    "# gcp_lsci_pipe_vars = f'SALMONTRANSCRIPTMODELS={prj_bucket}/resources/references/\\\n",
    "# salmon/chess/reference,\\\n",
    "# GS_OUTPATH={out_bucket}/quants/chess/{sample},\\\n",
    "# FASTQR1=/gcloud-shared/inputR1.gz,\\\n",
    "# FASTQR2=/gcloud-shared/inputR2.gz'\n",
    "\n",
    "# cloud_cmd = f'gcloud beta lifesciences pipelines run \\\n",
    "# --project {project_id} \\\n",
    "# --docker-image {docker_img} \\\n",
    "# --machine-type n1-standard-4 \\\n",
    "# --logging {out_bucket}/logs/salmon/{sample} \\\n",
    "# --command-line \\'{gcp_lsci_pipe_cmd}\\' \\\n",
    "# --inputs FASTQR1={in_bucket}/fastqs/${{sample}}_R1.fastq.gz \\\n",
    "# --inputs FASTQR2={in_bucket}/fastqs/${{sample}}R2.fastq.gz \\\n",
    "# --env-vars {gcp_lsci_pipe_vars} \\\n",
    "# --labels=pipe=salmonquant,sample={sample},user={my_user} \\\n",
    "# --preemptible ' \n",
    "\n",
    "# print(f'{cloud_cmd}\\n')\n",
    "\n",
    "# #!{cloud_cmd}\n",
    "\n"
   ]
  },
  {
   "cell_type": "code",
   "execution_count": 99,
   "metadata": {},
   "outputs": [],
   "source": [
    "###WORKS ROSMAP\n",
    "\n",
    "def requant_commands(sample_list, out_file_name, in_bucket, out_bucket):\n",
    "    out_file = open(f'{out_file_name}', \"w\")\n",
    "    for sample in sample_list:        \n",
    "    \n",
    "        gcp_lsci_pipe_cmd = 'mkdir -p /gcloud-shared/reference; \\\n",
    "gsutil -mq cp ${SALMONTRANSCRIPTMODELS}/* /gcloud-shared/reference; \\\n",
    "salmon --no-version-check quant -i /gcloud-shared/reference -l A -1 ${FASTQR1} -2 ${FASTQR2} \\\n",
    "--validateMappings --seqBias --gcBias --posBias --threads $(nproc) -o /gcloud-shared/sample; \\\n",
    "gsutil -mq cp -r /gcloud-shared/sample ${GS_OUTPATH}; \\\n",
    "ls -lhR /gcloud-shared'\n",
    "\n",
    "        gcp_lsci_pipe_vars = f'SALMONTRANSCRIPTMODELS={prj_bucket}/resources/references/salmon/{reference},\\\n",
    "GS_OUTPATH={out_bucket}/quants/{reference}/{sample},\\\n",
    "FASTQR1=/gcloud-shared/inputR1.gz,\\\n",
    "FASTQR2=/gcloud-shared/inputR2.gz'\n",
    "\n",
    "        cloud_cmd = f'gcloud beta lifesciences pipelines run \\\n",
    "--project {project_id} \\\n",
    "--docker-image {docker_img} \\\n",
    "--machine-type n1-standard-4 \\\n",
    "--logging {out_bucket}/logs/salmon/{sample}/ \\\n",
    "--command-line \\'{gcp_lsci_pipe_cmd}\\' \\\n",
    "--inputs FASTQR1={in_bucket}/fastqs/{sample}_R1.fastq.gz \\\n",
    "--inputs FASTQR2={in_bucket}/fastqs/{sample}_R2.fastq.gz \\\n",
    "--env-vars {gcp_lsci_pipe_vars} \\\n",
    "--boot-disk-size 20 \\\n",
    "--labels=pipe=salmonquant,sample={sample},user={my_user}'\n",
    "        label = f'{sample} OPID='\n",
    "        print(f'echo -n {label}', file=out_file)\n",
    "        print(f'{cloud_cmd}\\n', file=out_file)\n",
    "#         print(f'echo -n \"{sample} OPID=\"', file=out_file)\n",
    "#         print(f'{cloud_cmd}\\n', file=out_file)\n"
   ]
  },
  {
   "cell_type": "code",
   "execution_count": 227,
   "metadata": {},
   "outputs": [],
   "source": [
    "###WORKS NABEC    \n",
    "\n",
    "def requant_commands_nabec(sample_list, out_file_name, in_bucket, out_bucket):\n",
    "    out_file = open(f'{out_file_name}', \"w\")\n",
    "    for sample in sample_list:        \n",
    "        mod_sample = sample.lower()\n",
    "        gcp_lsci_pipe_cmd = 'mkdir -p /gcloud-shared/reference; \\\n",
    "gsutil -mq cp ${SALMONTRANSCRIPTMODELS}/* /gcloud-shared/reference; \\\n",
    "salmon --no-version-check quant -i /gcloud-shared/reference -l A -1 ${FASTQR1} -2 ${FASTQR2} \\\n",
    "--validateMappings --seqBias --gcBias --posBias --threads $(nproc) -o /gcloud-shared/sample; \\\n",
    "gsutil -mq cp -r /gcloud-shared/sample ${GS_OUTPATH}; \\\n",
    "ls -lhR /gcloud-shared'\n",
    "\n",
    "        gcp_lsci_pipe_vars = f'SALMONTRANSCRIPTMODELS={prj_bucket}/resources/references/salmon/{reference},\\\n",
    "GS_OUTPATH={out_bucket}/quants/{reference}/{sample},\\\n",
    "FASTQR1=/gcloud-shared/inputR1.gz,\\\n",
    "FASTQR2=/gcloud-shared/inputR2.gz'\n",
    "\n",
    "        cloud_cmd = f'gcloud beta lifesciences pipelines run \\\n",
    "--project {project_id} \\\n",
    "--docker-image {docker_img} \\\n",
    "--machine-type n1-standard-4 \\\n",
    "--logging {out_bucket}/logs/salmon/{sample}/ \\\n",
    "--command-line \\'{gcp_lsci_pipe_cmd}\\' \\\n",
    "--inputs FASTQR1={in_bucket}/totalrna/fastqs/{sample}_R1.fastq.gz \\\n",
    "--inputs FASTQR2={in_bucket}/totalrna/fastqs/{sample}_R2.fastq.gz \\\n",
    "--env-vars {gcp_lsci_pipe_vars} \\\n",
    "--boot-disk-size 50 \\\n",
    "--labels=pipe=salmonquant,sample={mod_sample},user={my_user}'\n",
    "        label = f'{sample} OPID='\n",
    "        print(f'echo -n {label}', file=out_file)\n",
    "        print(f'{cloud_cmd}\\n', file=out_file)\n",
    "#         print(f'echo -n \"{sample} OPID=\"', file=out_file)\n",
    "#         print(f'{cloud_cmd}\\n', file=out_file)\n",
    "#--preemptible\n"
   ]
  },
  {
   "cell_type": "code",
   "execution_count": 39,
   "metadata": {},
   "outputs": [],
   "source": [
    "\n",
    "#Run requant with list of samples\n",
    "\n",
    "WRKDIR = '/Users/mooreank/Desktop/Raph/requant/salmon'\n",
    "reference = 'gencode_32_filtered'\n",
    "data = 'nabec'\n",
    "in_bucket = f'gs://nihnialngcbg-eqtl/{data}'\n",
    "out_bucket = f'gs://nihnialngcbg-eqtl/{data}'           \n",
    "file_name = f'{WRKDIR}/{data}_requant_commands_{reference}.sh'\n",
    "\n",
    "\n",
    "#run requant function\n",
    "#requant_commands(samples_list,file_name, in_bucket, out_bucket)\n",
    "requant_commands_nabec(samples_list,file_name, in_bucket, out_bucket)\n",
    "\n"
   ]
  },
  {
   "cell_type": "code",
   "execution_count": null,
   "metadata": {},
   "outputs": [],
   "source": [
    "###filtered 32 gencode x nabec (run 2/18/2020 1:30pm)\n",
    "#run requant commands script in terminal\n",
    "term_cmd = f'bash {file_name}'\n",
    "!{term_cmd}"
   ]
  },
  {
   "cell_type": "code",
   "execution_count": null,
   "metadata": {},
   "outputs": [],
   "source": [
    "###chess, nabec (run 2/13/2020 10:12am)\n",
    "\n",
    "##run requant commands script in terminal\n",
    "term_cmd = f'bash {file_name}'\n",
    "!{term_cmd}"
   ]
  },
  {
   "cell_type": "markdown",
   "metadata": {},
   "source": [
    "#### Check for requant fails"
   ]
  },
  {
   "cell_type": "code",
   "execution_count": 119,
   "metadata": {},
   "outputs": [
    {
     "name": "stdout",
     "output_type": "stream",
     "text": [
      "gsutil ls gs://nihnialngcbg-eqtl/nabec/quants/gencode_32_filtered/*/quant.sf | wc -l\n",
      "     311\n"
     ]
    }
   ],
   "source": [
    "#get number of quants in out folder\n",
    "\n",
    "data= 'nabec'\n",
    "reference = 'gencode_32_filtered'\n",
    "check = f'gsutil ls {prj_bucket}/{data}/quants/{reference}/*/quant.sf | wc -l'\n",
    "print(check)\n",
    "!{check}"
   ]
  },
  {
   "cell_type": "code",
   "execution_count": 137,
   "metadata": {},
   "outputs": [
    {
     "name": "stdout",
     "output_type": "stream",
     "text": [
      "Input fastqs:\n",
      "     311\n"
     ]
    }
   ],
   "source": [
    "#need to change directories\n",
    "#get a list of all input fastqs again\n",
    "# !gsutil ls gs://nihnialngcbg-eqtl/rosmap/fastqs/*_R2.fastq.gz > /Users/mooreank/Desktop/Raph/requant/salmon/rosmap.samples.list\n",
    "\n",
    "\n",
    "# !sed -i s\"/gs:\\/\\/nihnialngcgb-eqtl\\/rosmap\\/fastqs\\///\"g /Users/mooreank/Desktop/Raph/requant/salmon/rosmap.samples.list\n",
    "# !sed -i -e s\"/_R2\\.fastq\\.gz//\"g /Users/mooreank/Desktop/Raph/requant/salmon/rosmap.samples.list\n",
    "# !sed -i -e s\"/gs\\:\\/\\/nihnialngcbg-eqtl\\/rosmap\\/fastqs\\///\"g /Users/mooreank/Desktop/Raph/requant/salmon/rosmap.samples.list\n",
    "\n",
    "#!head -10 rosmap.samples.list > rosmap.samples.list.test\n",
    "    \n",
    "print(\"Input fastqs:\")\n",
    "#!less /Users/mooreank/Desktop/Raph/requant/salmon/rosmap.samples.list | wc -l\n",
    "cmd = f'less /Users/mooreank/Desktop/Raph/requant/salmon/{data}.samples.list | wc -l'\n",
    "!{cmd}\n"
   ]
  },
  {
   "cell_type": "code",
   "execution_count": 225,
   "metadata": {},
   "outputs": [
    {
     "name": "stdout",
     "output_type": "stream",
     "text": [
      "Quant files created:\n",
      "     308\n"
     ]
    }
   ],
   "source": [
    "#get a list of files that were successfully created\n",
    "##need to manually change reference path\n",
    "reference = 'chess'\n",
    "cmd = f'gsutil -mq ls gs://nihnialngcbg-eqtl/{data}/quants/{reference}/*/quant.sf > /Users/mooreank/Desktop/Raph/requant/salmon/{data}.found.files'\n",
    "!{cmd}\n",
    "cmd2 = f'sed -i -e s\"/gs:\\/\\/nihnialngcbg-eqtl\\/{data}\\/quants\\/{reference}\\///\"g /Users/mooreank/Desktop/Raph/requant/salmon/{data}.found.files'\n",
    "!{cmd2}\n",
    "cmd3 = f'sed -i -e s\"/\\/quant.sf//\"g /Users/mooreank/Desktop/Raph/requant/salmon/{data}.found.files'\n",
    "!{cmd3}\n",
    "\n",
    "print(\"Quant files created:\")\n",
    "cmd4 = f'less /Users/mooreank/Desktop/Raph/requant/salmon/{data}.found.files | wc -l'\n",
    "!{cmd4}"
   ]
  },
  {
   "cell_type": "code",
   "execution_count": 230,
   "metadata": {},
   "outputs": [
    {
     "name": "stdout",
     "output_type": "stream",
     "text": [
      "Input fastqs:\n",
      "(339, 1)\n",
      "Created quants:\n",
      "(337, 1)\n",
      "Missing samples:\n",
      "2\n",
      "(2, 1)\n",
      "\n",
      "Missing sample IDs:\n",
      "['191_120424', '380_120503']\n"
     ]
    }
   ],
   "source": [
    "#check for any missing expected quant files\n",
    "\n",
    "data = 'rosmap'\n",
    "WRKDIR = '/Users/mooreank/Desktop/Raph/requant/salmon'\n",
    "#expected_file = f'{WRKDIR}/{data}.samples.list'\n",
    "expected_file = f'{WRKDIR}/{data}.samples.list'\n",
    "observed_file = f'{WRKDIR}/{data}.found.files'\n",
    "missing_file = f'{WRKDIR}/{data}.missing.samples.list'\n",
    "\n",
    "expected = pd.read_csv(expected_file,header=None)\n",
    "observed = pd.read_csv(observed_file,header=None)\n",
    "\n",
    "print(\"Input fastqs:\")\n",
    "print(expected.shape)\n",
    "print(\"Created quants:\")\n",
    "print(observed.shape)\n",
    "\n",
    "print(\"Missing samples:\")\n",
    "print(len(set(expected[0]) - set(observed[0])))\n",
    "\n",
    "missing = expected.loc[~expected[0].isin(observed[0])]\n",
    "missing_samples = missing[0].tolist()\n",
    "print(missing.shape)\n",
    "\n",
    "#save the missing list\n",
    "missing.to_csv(missing_file,header=None,index=None)\n",
    "\n",
    "print('')\n",
    "print(\"Missing sample IDs:\")\n",
    "print(missing_samples)"
   ]
  },
  {
   "cell_type": "code",
   "execution_count": 110,
   "metadata": {},
   "outputs": [
    {
     "data": {
      "text/plain": [
       "'chess'"
      ]
     },
     "execution_count": 110,
     "metadata": {},
     "output_type": "execute_result"
    }
   ],
   "source": [
    "reference"
   ]
  },
  {
   "cell_type": "markdown",
   "metadata": {},
   "source": [
    "#### Rerun requant with list of missing samples"
   ]
  },
  {
   "cell_type": "code",
   "execution_count": 231,
   "metadata": {},
   "outputs": [],
   "source": [
    "in_bucket = f'gs://nihnialngcbg-eqtl/{data}'\n",
    "out_bucket = f'gs://nihnialngcbg-eqtl/{data}'  \n",
    "file_name = f'{WRKDIR}/{data}_requant_commands_missing_{reference}.sh'\n",
    "\n",
    "#run requant function\n",
    "requant_commands(missing_samples,file_name, in_bucket, out_bucket)\n",
    "#requant_commands_nabec(missing_samples,file_name, in_bucket, out_bucket)"
   ]
  },
  {
   "cell_type": "code",
   "execution_count": null,
   "metadata": {},
   "outputs": [],
   "source": [
    "##for nabec x chess run 2/21/2020 3:10pm\n",
    "##run requant commands script in terminal\n",
    "term_cmd = f'bash {file_name}'\n",
    "!{term_cmd}"
   ]
  },
  {
   "cell_type": "code",
   "execution_count": null,
   "metadata": {},
   "outputs": [],
   "source": [
    "# ##for gencode_32_filtered run 2/10/2020 2:56pm\n",
    "# ##run requant commands script in terminal\n",
    "# term_cmd = f'bash {file_name}'\n",
    "# !{term_cmd}"
   ]
  },
  {
   "cell_type": "code",
   "execution_count": null,
   "metadata": {},
   "outputs": [],
   "source": [
    "##for chess x rosmap run 2/19/2020 3:00pm\n",
    "##run requant commands script in terminal\n",
    "term_cmd = f'bash {file_name}'\n",
    "!{term_cmd}"
   ]
  },
  {
   "cell_type": "markdown",
   "metadata": {},
   "source": [
    "### check job status, id OPID above"
   ]
  },
  {
   "cell_type": "code",
   "execution_count": null,
   "metadata": {},
   "outputs": [],
   "source": [
    "\n",
    "op_id = 2765249889847837074\n",
    "\n",
    "!gcloud beta lifesciences operations describe {op_id}"
   ]
  },
  {
   "cell_type": "code",
   "execution_count": null,
   "metadata": {},
   "outputs": [],
   "source": [
    "##make to txt file\n",
    "# sample_list = samples\n",
    "# gcloud_quants_dir = '/gcloud-shared/quants'\n",
    "# sample_dir_file = \"sample_gcloud_directories.txt\"\n",
    "# out_file = open(f'{sample_dir_file}', \"w\")    \n",
    "# for x in sample_list:    \n",
    "#     print((f'{gcloud_quants_dir}/'+x), file=out_file)\n",
    "#     print(f'{gcloud_quants_dir}/'+x)"
   ]
  },
  {
   "cell_type": "markdown",
   "metadata": {},
   "source": [
    "#### Run quantmerge on all quant files"
   ]
  },
  {
   "cell_type": "code",
   "execution_count": 219,
   "metadata": {},
   "outputs": [],
   "source": [
    "###get list of samples in python \n",
    "data = 'nabec'\n",
    "WRKDIR = '/Users/mooreank/Desktop/Raph/requant/salmon'\n",
    "sample_file = f'{WRKDIR}/{data}.samples.list'\n",
    "\n",
    "samples_list= []\n",
    "with open(sample_file, 'r') as fi:\n",
    "    for line in fi:\n",
    "        line = line.strip()\n",
    "        samples_list.append(str(line))\n"
   ]
  },
  {
   "cell_type": "markdown",
   "metadata": {},
   "source": [
    "## Rename samples"
   ]
  },
  {
   "cell_type": "code",
   "execution_count": null,
   "metadata": {},
   "outputs": [],
   "source": [
    "##rna to dna names (rosmap)\n",
    "#gs://nihnialngcbg-eqtl/rosmap/rna.to.dna.names.map\n",
    "data = 'nabec'\n",
    "WRKDIR = '/Users/mooreank/Desktop/Raph/requant'\n",
    "dna_names = pd.read_csv(f'{WRKDIR}/{data}/rna.to.dna.names.map', sep='\\t', header=None, index_col=False)\n",
    "#dna_names = dna_names.set_index(0)\n",
    "#dna_names = dna_names.reindex(samples_list)\n",
    "rna_samples = dna_names[0].tolist()\n",
    "print(len(rna_samples))\n",
    "dna_samples = dna_names[1].tolist()\n",
    "print(len(dna_samples))\n",
    "\n",
    "print(dna_names.shape)\n",
    "dna_names.head()"
   ]
  },
  {
   "cell_type": "code",
   "execution_count": 123,
   "metadata": {},
   "outputs": [],
   "source": [
    "rna_test = rna_samples[:10]\n",
    "dna_test = dna_samples[:10]"
   ]
  },
  {
   "cell_type": "code",
   "execution_count": 212,
   "metadata": {},
   "outputs": [],
   "source": [
    "# #no new names\n",
    "# def quantmerge_command(out_bucket, in_bucket, out_file_name, sample_list, column_type, quant_type):\n",
    "#     gcloud_quants_dir = '/gcloud-shared/quants'\n",
    "#     sample_string = ''\n",
    "#     for x in sample_list:\n",
    "#         sample_string = sample_string+f'{gcloud_quants_dir}/'+x+' '\n",
    "#     if quant_type == 'gene':\n",
    "#         gene = '--genes '\n",
    "#     else:\n",
    "#         gene = ''\n",
    "#     if column_type == 'tpm':\n",
    "#         column_type = ''\n",
    "#     if column_type == 'numreads':\n",
    "#         column_type = '--column numreads '\n",
    "    \n",
    "#     gcp_lsci_pipe_cmd = f'mkdir -p /gcloud-shared/quants; \\\n",
    "# mkdir -p /gcloud-shared/merge; \\\n",
    "# gsutil -mq cp -r ${{QUANTS}}/* /gcloud-shared/quants/; \\\n",
    "# salmon --no-version-check quantmerge --quants {sample_string}{column_type}{gene}-o /gcloud-shared/merge/{out_file_name}; \\\n",
    "# gsutil -mq cp /gcloud-shared/merge/* ${{GS_OUTPATH}}; \\\n",
    "# ls -lhR /gcloud-shared'\n",
    "\n",
    "#     gcp_lsci_pipe_vars = f'QUANTS={in_bucket}/quants/{reference},\\\n",
    "# GS_OUTPATH={out_bucket}/quantmerge/{reference}/'\n",
    "        \n",
    "#     cloud_cmd = f'gcloud beta lifesciences pipelines run \\\n",
    "# --project {project_id} \\\n",
    "# --docker-image {docker_img} \\\n",
    "# --machine-type n1-standard-4 \\\n",
    "# --logging {out_bucket}/logs/salmon_merge/{reference}_merge.log \\\n",
    "# --command-line \\'{gcp_lsci_pipe_cmd}\\' \\\n",
    "# --env-vars {gcp_lsci_pipe_vars} \\\n",
    "# --boot-disk-size 60 \\\n",
    "# --labels=pipe=salmonquantmerge,user={my_user}'\n",
    "#     #--preemptible'\n",
    "#     #print(f'echo -n \"{sample} OPID=\"', file=out_file)\n",
    "#     #print(f'{cloud_cmd}\\n', file=out_file)\n",
    "#     #print(f'echo -n \"{sample} OPID=\"')\n",
    "#     print(f'{cloud_cmd}\\n')\n",
    "#     !{cloud_cmd}\n",
    "\n",
    "    "
   ]
  },
  {
   "cell_type": "markdown",
   "metadata": {},
   "source": [
    "## Merge samples with new sample names"
   ]
  },
  {
   "cell_type": "code",
   "execution_count": 216,
   "metadata": {},
   "outputs": [],
   "source": [
    "##with new sample names \n",
    "def quantmerge_command_names(in_bucket, out_bucket, out_file_name, sample_list, dna_names, column_type, quant_type):\n",
    "    gcloud_quants_dir = '/gcloud-shared/quants'\n",
    "    sample_string = ''\n",
    "    for x in sample_list:\n",
    "        sample_string = sample_string+f'{gcloud_quants_dir}/'+x+' '\n",
    "    dna_string = ''\n",
    "    for x in dna_names:\n",
    "        dna_string = dna_string+x+' '\n",
    "    if quant_type == 'gene':\n",
    "        gene = '--genes '\n",
    "    else:\n",
    "        gene = ''\n",
    "    if column_type == 'tpm':\n",
    "        column_type = ''\n",
    "    if column_type == 'numreads':\n",
    "        column_type = '--column numreads '\n",
    "    \n",
    "    gcp_lsci_pipe_cmd = f'mkdir -p /gcloud-shared/quants; \\\n",
    "mkdir -p /gcloud-shared/merge; \\\n",
    "gsutil -mq cp -r ${{QUANTS}}/* /gcloud-shared/quants/; \\\n",
    "salmon --no-version-check quantmerge --quants {sample_string}--names {dna_string}{column_type}{gene}-o /gcloud-shared/merge/{out_file_name}; \\\n",
    "gsutil -mq cp /gcloud-shared/merge/{out_file_name} ${{GS_OUTPATH}}; \\\n",
    "ls -lhR /gcloud-shared'\n",
    "\n",
    "    gcp_lsci_pipe_vars = f'QUANTS={in_bucket}/quants/{reference},\\\n",
    "GS_OUTPATH={out_bucket}/quantmerge/{reference}/'\n",
    "        \n",
    "    cloud_cmd = f'gcloud beta lifesciences pipelines run \\\n",
    "--project {project_id} \\\n",
    "--docker-image {docker_img} \\\n",
    "--machine-type n1-standard-4 \\\n",
    "--logging {out_bucket}/logs/salmon/quantmerge \\\n",
    "--command-line \\'{gcp_lsci_pipe_cmd}\\' \\\n",
    "--env-vars {gcp_lsci_pipe_vars} \\\n",
    "--boot-disk-size 20 \\\n",
    "--labels=pipe=salmonquantmerge,user={my_user}'\n",
    "    #--preemptible'\n",
    "    #print(f'echo -n \"{sample} OPID=\"', file=out_file)\n",
    "    #print(f'{cloud_cmd}\\n', file=out_file)\n",
    "    #print(f'echo -n \"{sample} OPID=\"')\n",
    "    print(f'{cloud_cmd}\\n')\n",
    "    !{cloud_cmd}\n",
    "\n",
    "    "
   ]
  },
  {
   "cell_type": "code",
   "execution_count": 167,
   "metadata": {},
   "outputs": [
    {
     "data": {
      "text/plain": [
       "339"
      ]
     },
     "execution_count": 167,
     "metadata": {},
     "output_type": "execute_result"
    }
   ],
   "source": [
    "len(samples_list)"
   ]
  },
  {
   "cell_type": "code",
   "execution_count": null,
   "metadata": {},
   "outputs": [],
   "source": [
    "##change column_type for tpms vs numreads and quant_type for transcript vs gene quant\n",
    "\n",
    "data = 'nabec'\n",
    "reference = 'gencode_32_filtered'\n",
    "#column_type = 'tpm'\n",
    "column_type = 'numreads'\n",
    "#quant_type = 'transcript'\n",
    "quant_type = 'gene'\n",
    "\n",
    "\n",
    "in_bucket = f'gs://nihnialngcbg-eqtl/{data}'\n",
    "out_bucket = f'gs://nihnialngcbg-eqtl/{data}'\n",
    "out_file_name = f'{data}_{quant_type}_{column_type}.sf'\n",
    "\n",
    "\n",
    "\n",
    "quantmerge_command_names(in_bucket, out_bucket, out_file_name, rna_samples, dna_samples, column_type, quant_type)\n",
    "#quantmerge_command(in_bucket, out_bucket, out_file_name, samples_list, column_type, quant_type)\n",
    "#quantmerge_command_names_test(in_bucket, out_bucket, out_file_name, rna_samples, dna_samples)"
   ]
  },
  {
   "cell_type": "code",
   "execution_count": null,
   "metadata": {},
   "outputs": [],
   "source": [
    "#check job status, id OPID above\n",
    "op_id = 12446396281431860167\n",
    "\n",
    "!gcloud beta lifesciences operations describe {op_id}"
   ]
  },
  {
   "cell_type": "code",
   "execution_count": 74,
   "metadata": {},
   "outputs": [
    {
     "name": "stdout",
     "output_type": "stream",
     "text": [
      "#full job worker node count\n",
      "       9\n",
      "#number of all running instances in project\n",
      "      27\n"
     ]
    }
   ],
   "source": [
    "#see how many GCE (Google Compute Engine) instances are running your jobs\n",
    "PIPELABEL='salmonquantmerge'\n",
    "PROJECT_ID='nih-nia-lng-cbg'\n",
    "COHORT='rosmap'\n",
    "MYUSER='mooreank'\n",
    "\n",
    "print('#full job worker node count')\n",
    "cmd = f'gcloud compute instances list --project {PROJECT_ID} \\\n",
    "--filter \"labels:({PIPELABEL} {COHORT} {MYUSER})\" | grep RUNNING | wc -l'\n",
    "!{cmd}\n",
    "\n",
    "print('#number of all running instances in project')\n",
    "cmd2 = f'gcloud compute instances list --project {PROJECT_ID} | grep RUNNING | wc -l'\n",
    "!{cmd2}"
   ]
  },
  {
   "cell_type": "code",
   "execution_count": null,
   "metadata": {},
   "outputs": [],
   "source": []
  }
 ],
 "metadata": {
  "kernelspec": {
   "display_name": "Python 3",
   "language": "python",
   "name": "python3"
  },
  "language_info": {
   "codemirror_mode": {
    "name": "ipython",
    "version": 3
   },
   "file_extension": ".py",
   "mimetype": "text/x-python",
   "name": "python",
   "nbconvert_exporter": "python",
   "pygments_lexer": "ipython3",
   "version": "3.7.3"
  }
 },
 "nbformat": 4,
 "nbformat_minor": 4
}
