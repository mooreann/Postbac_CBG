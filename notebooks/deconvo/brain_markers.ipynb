{
 "cells": [
  {
   "cell_type": "code",
   "execution_count": 1,
   "metadata": {},
   "outputs": [],
   "source": [
    "import pandas as pd\n",
    "import numpy as np\n",
    "\n",
    "WRKDIR = 'Users/mooreank/Desktop/Raph/Deconvolution'"
   ]
  },
  {
   "cell_type": "code",
   "execution_count": 2,
   "metadata": {},
   "outputs": [],
   "source": [
    "#load expression data\n",
    "#quants_df = pd.read_hdf('ppmi.v121018.vst.quants.hdf5')\n",
    "quants_df = pd.read_csv('nabec_5cell_genes.csv')\n",
    "#load the gencode transcript annotations data\n",
    "gencode = pd.read_csv('gencode.v29.transcripts.txt.gz', sep='\\t', comment='#')\n",
    "#gencode = pd.read_csv('gencode.v32.transcripts.txt', sep='\\t', comment='#')\n",
    "pd.set_option('display.max_columns', None)"
   ]
  },
  {
   "cell_type": "code",
   "execution_count": 3,
   "metadata": {},
   "outputs": [],
   "source": [
    "#create a dictionary of gene IDs (current feature/column labels) to gene names map\n",
    "#id_dict = dict(zip(gencode['gene_id'], gencode['gene_name'])) \n",
    "id_dict = dict(zip(gencode['transcript_id'], gencode['gene_name'])) \n",
    "#rename the features/columns using the dict (mapping)\n",
    "quants_df.replace(id_dict, inplace=True)"
   ]
  },
  {
   "cell_type": "code",
   "execution_count": 5,
   "metadata": {},
   "outputs": [
    {
     "data": {
      "text/html": [
       "<div>\n",
       "<style scoped>\n",
       "    .dataframe tbody tr th:only-of-type {\n",
       "        vertical-align: middle;\n",
       "    }\n",
       "\n",
       "    .dataframe tbody tr th {\n",
       "        vertical-align: top;\n",
       "    }\n",
       "\n",
       "    .dataframe thead th {\n",
       "        text-align: right;\n",
       "    }\n",
       "</style>\n",
       "<table border=\"1\" class=\"dataframe\">\n",
       "  <thead>\n",
       "    <tr style=\"text-align: right;\">\n",
       "      <th></th>\n",
       "      <th>Unnamed: 0</th>\n",
       "      <th>X1</th>\n",
       "      <th>X2</th>\n",
       "      <th>X3</th>\n",
       "      <th>X4</th>\n",
       "      <th>X5</th>\n",
       "    </tr>\n",
       "  </thead>\n",
       "  <tbody>\n",
       "    <tr>\n",
       "      <th>0</th>\n",
       "      <td>1</td>\n",
       "      <td>NPDC1</td>\n",
       "      <td>RAPGEF5</td>\n",
       "      <td>RBM12</td>\n",
       "      <td>AC010733.2</td>\n",
       "      <td>BRWD1</td>\n",
       "    </tr>\n",
       "    <tr>\n",
       "      <th>1</th>\n",
       "      <td>2</td>\n",
       "      <td>CASKIN1</td>\n",
       "      <td>HSPA2</td>\n",
       "      <td>ZNF451</td>\n",
       "      <td>MORC4</td>\n",
       "      <td>CNOT7</td>\n",
       "    </tr>\n",
       "    <tr>\n",
       "      <th>2</th>\n",
       "      <td>3</td>\n",
       "      <td>TMEM59L</td>\n",
       "      <td>TF</td>\n",
       "      <td>SMCHD1</td>\n",
       "      <td>FSIP2</td>\n",
       "      <td>TRIM37</td>\n",
       "    </tr>\n",
       "    <tr>\n",
       "      <th>3</th>\n",
       "      <td>4</td>\n",
       "      <td>TMEM132A</td>\n",
       "      <td>PLP1</td>\n",
       "      <td>AFF4</td>\n",
       "      <td>LACTB2-AS1</td>\n",
       "      <td>G3BP2</td>\n",
       "    </tr>\n",
       "    <tr>\n",
       "      <th>4</th>\n",
       "      <td>5</td>\n",
       "      <td>GRIN1</td>\n",
       "      <td>TF</td>\n",
       "      <td>EPM2AIP1</td>\n",
       "      <td>NEDD4</td>\n",
       "      <td>TMEM14A</td>\n",
       "    </tr>\n",
       "  </tbody>\n",
       "</table>\n",
       "</div>"
      ],
      "text/plain": [
       "   Unnamed: 0        X1       X2        X3          X4       X5\n",
       "0           1     NPDC1  RAPGEF5     RBM12  AC010733.2    BRWD1\n",
       "1           2   CASKIN1    HSPA2    ZNF451       MORC4    CNOT7\n",
       "2           3   TMEM59L       TF    SMCHD1       FSIP2   TRIM37\n",
       "3           4  TMEM132A     PLP1      AFF4  LACTB2-AS1    G3BP2\n",
       "4           5     GRIN1       TF  EPM2AIP1       NEDD4  TMEM14A"
      ]
     },
     "execution_count": 5,
     "metadata": {},
     "output_type": "execute_result"
    }
   ],
   "source": [
    "quants_df.head()"
   ]
  },
  {
   "cell_type": "code",
   "execution_count": 4,
   "metadata": {},
   "outputs": [],
   "source": [
    "oligo = ['PLP1','CNP','SCL44A1','MBP','ABCC9','ACSS1','AHCYL1','CXCR7','DDAH1','EMX2OS','GNA14','GPR125','IL33',\n",
    "         'LRRC16A','MT3','PAPLN','RHOJ','SLC14A1','UGT8','OPALIN','ERMN','TF','KLK6','CNDP1','TRIM59','MBP','MOBP'\n",
    "         ,'UGT8','ANLN','CLDN11','MAG','ST18','RNASE1','CAPN3','CARNS1','FOLH1']\n",
    "\n",
    "neuron = ['DCX','SLC12A5','GAD1','RELN','SYT1','GABRB2','SNAP25','STMN2','SCN2A','MEG3','GAD1','GABRA1','GABRG2','RTN1','VSNL1','PNMA2','THY1','GABBR2','MYT1L','SLC4A10','FXYD6']\n",
    "\n",
    "microglia = ['ITGAM','TLR7','TLR2','AIF1','PTPRC','C3','LAPTMS','ITGAX','PLEK','CLEC7A','AIF1','ADAM28','CD74','CD53','ALOX5AP','CSF1R','TYROBP','MS4A7','RGS1','OLR1','C3AR1','C1QA']\n",
    "\n",
    "astrocyte = ['GFAP','GJA1','PPAP2B','ALDH1L1','SLC1A3','SLC4A4','CLU','ALDOC','NDRG2','SNTA1','TIMP3','TPD52L1','WIF1',\n",
    "            'AQP4','AGXT2L1','GPR98','SLC01C1','SLC25A','FGFR3','GFAP','MGST1','AGT','NPRG2','EDNRB','SLC24A1B','GJA1','BMPR1B','IL33','MLC1','SLC39A12','GJB6','F3','SDC4','SFXN5','STON2']"
   ]
  },
  {
   "cell_type": "code",
   "execution_count": 5,
   "metadata": {},
   "outputs": [
    {
     "name": "stdout",
     "output_type": "stream",
     "text": [
      "oligodendrocyte: 0\n",
      "neuron: 1\n",
      "microglia: 0\n",
      "astrocyte: 0\n"
     ]
    }
   ],
   "source": [
    "X1 = quants_df['X1'].tolist()\n",
    "oligo_list = set(X1) & set(oligo)\n",
    "neuron_list = set(X1) & set(neuron)\n",
    "micro_list = set(X1) & set(microglia)\n",
    "astro_list = set(X1) & set(astrocyte)\n",
    "\n",
    "print('oligodendrocyte: '+str(len(oligo_list)))\n",
    "print('neuron: '+str(len(neuron_list)))\n",
    "print('microglia: '+str(len(micro_list)))\n",
    "print('astrocyte: '+str(len(astro_list)))"
   ]
  },
  {
   "cell_type": "code",
   "execution_count": 6,
   "metadata": {},
   "outputs": [
    {
     "name": "stdout",
     "output_type": "stream",
     "text": [
      "oligodendrocyte: 11\n",
      "neuron: 0\n",
      "microglia: 0\n",
      "astrocyte: 0\n"
     ]
    }
   ],
   "source": [
    "X2 = quants_df['X2'].tolist()\n",
    "oligo_list = set(X2) & set(oligo)\n",
    "neuron_list = set(X2) & set(neuron)\n",
    "micro_list = set(X2) & set(microglia)\n",
    "astro_list = set(X2) & set(astrocyte)\n",
    "\n",
    "print('oligodendrocyte: '+str(len(oligo_list)))\n",
    "print('neuron: '+str(len(neuron_list)))\n",
    "print('microglia: '+str(len(micro_list)))\n",
    "print('astrocyte: '+str(len(astro_list)))"
   ]
  },
  {
   "cell_type": "code",
   "execution_count": 7,
   "metadata": {},
   "outputs": [
    {
     "name": "stdout",
     "output_type": "stream",
     "text": [
      "oligodendrocyte: 0\n",
      "neuron: 0\n",
      "microglia: 0\n",
      "astrocyte: 0\n"
     ]
    }
   ],
   "source": [
    "X3 = quants_df['X3'].tolist()\n",
    "oligo_list = set(X3) & set(oligo)\n",
    "neuron_list = set(X3) & set(neuron)\n",
    "micro_list = set(X3) & set(microglia)\n",
    "astro_list = set(X3) & set(astrocyte)\n",
    "\n",
    "print('oligodendrocyte: '+str(len(oligo_list)))\n",
    "print('neuron: '+str(len(neuron_list)))\n",
    "print('microglia: '+str(len(micro_list)))\n",
    "print('astrocyte: '+str(len(astro_list)))"
   ]
  },
  {
   "cell_type": "code",
   "execution_count": 8,
   "metadata": {},
   "outputs": [
    {
     "name": "stdout",
     "output_type": "stream",
     "text": [
      "oligodendrocyte: 1\n",
      "neuron: 0\n",
      "microglia: 0\n",
      "astrocyte: 0\n"
     ]
    }
   ],
   "source": [
    "X4 = quants_df['X4'].tolist()\n",
    "oligo_list = set(X4) & set(oligo)\n",
    "neuron_list = set(X4) & set(neuron)\n",
    "micro_list = set(X4) & set(microglia)\n",
    "astro_list = set(X4) & set(astrocyte)\n",
    "\n",
    "print('oligodendrocyte: '+str(len(oligo_list)))\n",
    "print('neuron: '+str(len(neuron_list)))\n",
    "print('microglia: '+str(len(micro_list)))\n",
    "print('astrocyte: '+str(len(astro_list)))"
   ]
  },
  {
   "cell_type": "code",
   "execution_count": 9,
   "metadata": {},
   "outputs": [
    {
     "name": "stdout",
     "output_type": "stream",
     "text": [
      "oligodendrocyte: 0\n",
      "neuron: 0\n",
      "microglia: 0\n",
      "astrocyte: 0\n"
     ]
    }
   ],
   "source": [
    "X5 = quants_df['X5'].tolist()\n",
    "oligo_list = set(X5) & set(oligo)\n",
    "neuron_list = set(X5) & set(neuron)\n",
    "micro_list = set(X5) & set(microglia)\n",
    "astro_list = set(X5) & set(astrocyte)\n",
    "\n",
    "print('oligodendrocyte: '+str(len(oligo_list)))\n",
    "print('neuron: '+str(len(neuron_list)))\n",
    "print('microglia: '+str(len(micro_list)))\n",
    "print('astrocyte: '+str(len(astro_list)))"
   ]
  },
  {
   "cell_type": "code",
   "execution_count": null,
   "metadata": {},
   "outputs": [],
   "source": []
  }
 ],
 "metadata": {
  "kernelspec": {
   "display_name": "Python 3",
   "language": "python",
   "name": "python3"
  },
  "language_info": {
   "codemirror_mode": {
    "name": "ipython",
    "version": 3
   },
   "file_extension": ".py",
   "mimetype": "text/x-python",
   "name": "python",
   "nbconvert_exporter": "python",
   "pygments_lexer": "ipython3",
   "version": "3.7.3"
  }
 },
 "nbformat": 4,
 "nbformat_minor": 2
}
