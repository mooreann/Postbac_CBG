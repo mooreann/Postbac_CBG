{
 "cells": [
  {
   "cell_type": "markdown",
   "metadata": {},
   "source": [
    "# Setting up resources to quantify transcript with Salmon on GCP\n",
    "\n",
    "### PART1: generate salmon index\n",
    "https://salmon.readthedocs.io/en/latest/salmon.html\n"
   ]
  },
  {
   "cell_type": "markdown",
   "metadata": {},
   "source": [
    "#### Jan 07, 2020"
   ]
  },
  {
   "cell_type": "code",
   "execution_count": 2,
   "metadata": {},
   "outputs": [],
   "source": [
    "# setup notebook global vars\n",
    "#gcp \n",
    "project_id = 'nih-nia-lng-cbg'\n",
    "prj_bucket = 'gs://nihnialngcbg-eqtl'\n",
    "my_user='mooreank'\n"
   ]
  },
  {
   "cell_type": "markdown",
   "metadata": {},
   "source": [
    "#### pull chess reference transcripts for indexing"
   ]
  },
  {
   "cell_type": "code",
   "execution_count": 66,
   "metadata": {},
   "outputs": [],
   "source": [
    "# pull Chess reference transcripts for indexing\n",
    "#setup the local reference files on labseq for gencode_37 from GRCh38/hg38\n",
    "chess_src_path = f'http://ccb.jhu.edu/chess/\\\n",
    "/release_{gencode_lastest}'\n",
    "chess_gtf = f'chess2.2_and_refseq.gtf.gz'\n",
    "chess_fa = f'hg38_p8.fa.gz'\n",
    "#gencode_local_dir = f'/labseq/Genomes/GRCh38_hg38/gencode_{gencode_lastest}'\n",
    "chess_local_dir = f'/Users/mooreank/Desktop/Raph/requant/chess'\n"
   ]
  },
  {
   "cell_type": "markdown",
   "metadata": {},
   "source": [
    "#### pull Gencode reference transcripts for indexing"
   ]
  },
  {
   "cell_type": "code",
   "execution_count": 66,
   "metadata": {},
   "outputs": [],
   "source": [
    "# pull Gencode reference transcripts for indexing\n",
    "#setup the local reference files on labseq for gencode_37 from GRCh38/hg38\n",
    "gencode_lastest = '32'\n",
    "gencode_src_path = f'ftp://ftp.ebi.ac.uk/pub/databases/gencode/Gencode_human\\\n",
    "/release_{gencode_lastest}'\n",
    "gencode_gtf = f'gencode.v{gencode_lastest}.annotation.gtf.gz'\n",
    "gencode_fa = f'gencode.v{gencode_lastest}.transcripts.fa.gz'\n",
    "#gencode_local_dir = f'/labseq/Genomes/GRCh38_hg38/gencode_{gencode_lastest}'\n",
    "gencode_local_dir = f'/Users/mooreank/Desktop/Raph/requant/gencode'\n"
   ]
  },
  {
   "cell_type": "code",
   "execution_count": null,
   "metadata": {},
   "outputs": [],
   "source": [
    "#make sure local path is created\n",
    "!mkdir -p {chess_local_dir}\n",
    "\n",
    "#pull the gencode reference\n",
    "!curl --silent -L {chess_src_path}/{chess_gtf} \\\n",
    "--output {chess_local_dir}/{chess_gtf}\n",
    "\n",
    "!curl --silent -L {chess_src_path}/{chess_fa} \\\n",
    "--output {chess_local_dir}/{chess_fa}"
   ]
  },
  {
   "cell_type": "code",
   "execution_count": null,
   "metadata": {},
   "outputs": [],
   "source": [
    "#make sure local path is created\n",
    "!mkdir -p {gencode_local_dir}\n",
    "\n",
    "#pull the gencode reference\n",
    "!curl --silent -L {gencode_src_path}/{gencode_gtf} \\\n",
    "--output {gencode_local_dir}/{gencode_gtf}\n",
    "\n",
    "!curl --silent -L {gencode_src_path}/{gencode_fa} \\\n",
    "--output {gencode_local_dir}/{gencode_fa}"
   ]
  },
  {
   "cell_type": "markdown",
   "metadata": {},
   "source": [
    "#### prep reference transcriptome as need"
   ]
  },
  {
   "cell_type": "code",
   "execution_count": 94,
   "metadata": {},
   "outputs": [],
   "source": [
    "# need to use salmon decoy prep script (?)\n",
    "\n",
    "!gunzip {chess_local_dir}/{chess_fa}"
   ]
  },
  {
   "cell_type": "code",
   "execution_count": 70,
   "metadata": {},
   "outputs": [],
   "source": [
    "# for CHESS\n",
    "# need to create transcript fasta from GTF and reference genome\n",
    "# need to modify fasta entries labels with transcript and gene IDs and gene name\n",
    "import pandas as pd\n",
    "import numpy as np\n",
    "\n",
    "WRKDIR = '/Users/mooreank/Desktop/Raph/requant/chess/'\n",
    "\n",
    "chess = pd.read_csv('{}chess2.2_and_refseq.gtf'.format(WRKDIR), sep='\\t', header = None)\n",
    "chess = pd.DataFrame(chess)\n",
    "chess.columns = ['Chrom','Source','Type','Start','End','','','','Split']\n",
    "\n",
    "chess['Split'] = chess['Split'].str.rstrip(';')\n",
    "chess[['Transcript_id', 'Gene_id','Gene_name']] = chess.Split.str.split(\";\",expand=True) \n",
    "del chess['Split']\n",
    "\n",
    "chess.loc[chess['Gene_name'].isnull(), 'Gene_name'] = 'None'\n",
    "chess['Transcript_id'] = chess['Transcript_id'].map(lambda x: x.lstrip('transcript_id \"').rstrip('\"'))\n",
    "chess['Gene_id'] = chess['Gene_id'].map(lambda x: x.lstrip('gene_id \"').rstrip('\"'))\n",
    "chess['Gene_name'] = chess['Gene_name'].map(lambda x: x.lstrip('gene_name \"').rstrip('\"'))\n",
    "\n",
    "chess['Fasta_id'] = chess['Transcript_id'].map(str)+\"|\"+chess['Gene_id'].map(str)+\"|\"+chess['Gene_name'].map(str)+\"|\"+chess['Start'].map(str)+\"|\"+chess['End'].map(str)+'|'+chess['Type']\n",
    "\n",
    "\n",
    "chess_transc = chess[chess['Type'] == 'transcript']\n",
    "\n",
    "##make dict of transcript_id and fast id\n",
    "keys = chess_transc['Transcript_id'].tolist()\n",
    "values = chess_transc['Fasta_id'].tolist()\n",
    "headers = dict(zip(keys, values))\n",
    "\n",
    "from Bio import SeqIO\n",
    "\n",
    "original_file = '/Users/mooreank/Desktop/Raph/requant/chess/chess.refseq.transcriptome.fa'\n",
    "corrected_file = '/Users/mooreank/Desktop/Raph/requant/chess/chess.refseq.transcriptome.corrected.fa'\n",
    "\n",
    "with open(original_file) as original, open(corrected_file, 'w') as corrected:\n",
    "    records = SeqIO.parse(original_file, 'fasta')\n",
    "    for record in records:\n",
    "        for key, value in headers.items():\n",
    "            if key == record.id:\n",
    "                record.id = value\n",
    "                #print(record)\n",
    "                SeqIO.write(record, corrected, 'fasta')\n",
    "\n",
    "\n",
    "# need to use salmon decoy prep script (?)\n"
   ]
  },
  {
   "cell_type": "markdown",
   "metadata": {},
   "source": [
    "#### filter gencode transcript based on transcript rating (run as python file)"
   ]
  },
  {
   "cell_type": "markdown",
   "metadata": {},
   "source": [
    "#### get list of bad transcript record ids"
   ]
  },
  {
   "cell_type": "code",
   "execution_count": 5,
   "metadata": {},
   "outputs": [
    {
     "name": "stderr",
     "output_type": "stream",
     "text": [
      "INFO:root:Extracted GTF attributes: ['gene_id', 'gene_type', 'gene_name', 'level', 'hgnc_id', 'havana_gene', 'transcript_id', 'transcript_type', 'transcript_name', 'transcript_support_level', 'tag', 'havana_transcript', 'exon_number', 'exon_id', 'ont', 'protein_id', 'ccdsid']\n"
     ]
    },
    {
     "data": {
      "text/html": [
       "<div>\n",
       "<style scoped>\n",
       "    .dataframe tbody tr th:only-of-type {\n",
       "        vertical-align: middle;\n",
       "    }\n",
       "\n",
       "    .dataframe tbody tr th {\n",
       "        vertical-align: top;\n",
       "    }\n",
       "\n",
       "    .dataframe thead th {\n",
       "        text-align: right;\n",
       "    }\n",
       "</style>\n",
       "<table border=\"1\" class=\"dataframe\">\n",
       "  <thead>\n",
       "    <tr style=\"text-align: right;\">\n",
       "      <th></th>\n",
       "      <th>seqname</th>\n",
       "      <th>source</th>\n",
       "      <th>feature</th>\n",
       "      <th>start</th>\n",
       "      <th>end</th>\n",
       "      <th>score</th>\n",
       "      <th>strand</th>\n",
       "      <th>frame</th>\n",
       "      <th>gene_id</th>\n",
       "      <th>gene_type</th>\n",
       "      <th>gene_name</th>\n",
       "      <th>level</th>\n",
       "      <th>hgnc_id</th>\n",
       "      <th>havana_gene</th>\n",
       "      <th>transcript_id</th>\n",
       "      <th>transcript_type</th>\n",
       "      <th>transcript_name</th>\n",
       "      <th>transcript_support_level</th>\n",
       "      <th>tag</th>\n",
       "      <th>havana_transcript</th>\n",
       "      <th>exon_number</th>\n",
       "      <th>exon_id</th>\n",
       "      <th>ont</th>\n",
       "      <th>protein_id</th>\n",
       "      <th>ccdsid</th>\n",
       "    </tr>\n",
       "  </thead>\n",
       "  <tbody>\n",
       "    <tr>\n",
       "      <th>0</th>\n",
       "      <td>chr1</td>\n",
       "      <td>HAVANA</td>\n",
       "      <td>gene</td>\n",
       "      <td>11869</td>\n",
       "      <td>14409</td>\n",
       "      <td>NaN</td>\n",
       "      <td>+</td>\n",
       "      <td>0</td>\n",
       "      <td>ENSG00000223972.5</td>\n",
       "      <td>transcribed_unprocessed_pseudogene</td>\n",
       "      <td>DDX11L1</td>\n",
       "      <td>2</td>\n",
       "      <td>HGNC:37102</td>\n",
       "      <td>OTTHUMG00000000961.2</td>\n",
       "      <td></td>\n",
       "      <td></td>\n",
       "      <td></td>\n",
       "      <td></td>\n",
       "      <td></td>\n",
       "      <td></td>\n",
       "      <td></td>\n",
       "      <td></td>\n",
       "      <td></td>\n",
       "      <td></td>\n",
       "      <td></td>\n",
       "    </tr>\n",
       "    <tr>\n",
       "      <th>1</th>\n",
       "      <td>chr1</td>\n",
       "      <td>HAVANA</td>\n",
       "      <td>transcript</td>\n",
       "      <td>11869</td>\n",
       "      <td>14409</td>\n",
       "      <td>NaN</td>\n",
       "      <td>+</td>\n",
       "      <td>0</td>\n",
       "      <td>ENSG00000223972.5</td>\n",
       "      <td>transcribed_unprocessed_pseudogene</td>\n",
       "      <td>DDX11L1</td>\n",
       "      <td>2</td>\n",
       "      <td>HGNC:37102</td>\n",
       "      <td>OTTHUMG00000000961.2</td>\n",
       "      <td>ENST00000456328.2</td>\n",
       "      <td>lncRNA</td>\n",
       "      <td>DDX11L1-202</td>\n",
       "      <td>1</td>\n",
       "      <td>basic</td>\n",
       "      <td>OTTHUMT00000362751.1</td>\n",
       "      <td></td>\n",
       "      <td></td>\n",
       "      <td></td>\n",
       "      <td></td>\n",
       "      <td></td>\n",
       "    </tr>\n",
       "    <tr>\n",
       "      <th>2</th>\n",
       "      <td>chr1</td>\n",
       "      <td>HAVANA</td>\n",
       "      <td>exon</td>\n",
       "      <td>11869</td>\n",
       "      <td>12227</td>\n",
       "      <td>NaN</td>\n",
       "      <td>+</td>\n",
       "      <td>0</td>\n",
       "      <td>ENSG00000223972.5</td>\n",
       "      <td>transcribed_unprocessed_pseudogene</td>\n",
       "      <td>DDX11L1</td>\n",
       "      <td>2</td>\n",
       "      <td>HGNC:37102</td>\n",
       "      <td>OTTHUMG00000000961.2</td>\n",
       "      <td>ENST00000456328.2</td>\n",
       "      <td>lncRNA</td>\n",
       "      <td>DDX11L1-202</td>\n",
       "      <td>1</td>\n",
       "      <td>basic</td>\n",
       "      <td>OTTHUMT00000362751.1</td>\n",
       "      <td>1</td>\n",
       "      <td>ENSE00002234944.1</td>\n",
       "      <td></td>\n",
       "      <td></td>\n",
       "      <td></td>\n",
       "    </tr>\n",
       "    <tr>\n",
       "      <th>3</th>\n",
       "      <td>chr1</td>\n",
       "      <td>HAVANA</td>\n",
       "      <td>exon</td>\n",
       "      <td>12613</td>\n",
       "      <td>12721</td>\n",
       "      <td>NaN</td>\n",
       "      <td>+</td>\n",
       "      <td>0</td>\n",
       "      <td>ENSG00000223972.5</td>\n",
       "      <td>transcribed_unprocessed_pseudogene</td>\n",
       "      <td>DDX11L1</td>\n",
       "      <td>2</td>\n",
       "      <td>HGNC:37102</td>\n",
       "      <td>OTTHUMG00000000961.2</td>\n",
       "      <td>ENST00000456328.2</td>\n",
       "      <td>lncRNA</td>\n",
       "      <td>DDX11L1-202</td>\n",
       "      <td>1</td>\n",
       "      <td>basic</td>\n",
       "      <td>OTTHUMT00000362751.1</td>\n",
       "      <td>2</td>\n",
       "      <td>ENSE00003582793.1</td>\n",
       "      <td></td>\n",
       "      <td></td>\n",
       "      <td></td>\n",
       "    </tr>\n",
       "    <tr>\n",
       "      <th>4</th>\n",
       "      <td>chr1</td>\n",
       "      <td>HAVANA</td>\n",
       "      <td>exon</td>\n",
       "      <td>13221</td>\n",
       "      <td>14409</td>\n",
       "      <td>NaN</td>\n",
       "      <td>+</td>\n",
       "      <td>0</td>\n",
       "      <td>ENSG00000223972.5</td>\n",
       "      <td>transcribed_unprocessed_pseudogene</td>\n",
       "      <td>DDX11L1</td>\n",
       "      <td>2</td>\n",
       "      <td>HGNC:37102</td>\n",
       "      <td>OTTHUMG00000000961.2</td>\n",
       "      <td>ENST00000456328.2</td>\n",
       "      <td>lncRNA</td>\n",
       "      <td>DDX11L1-202</td>\n",
       "      <td>1</td>\n",
       "      <td>basic</td>\n",
       "      <td>OTTHUMT00000362751.1</td>\n",
       "      <td>3</td>\n",
       "      <td>ENSE00002312635.1</td>\n",
       "      <td></td>\n",
       "      <td></td>\n",
       "      <td></td>\n",
       "    </tr>\n",
       "  </tbody>\n",
       "</table>\n",
       "</div>"
      ],
      "text/plain": [
       "  seqname  source     feature  start    end  score strand frame  \\\n",
       "0    chr1  HAVANA        gene  11869  14409    NaN      +     0   \n",
       "1    chr1  HAVANA  transcript  11869  14409    NaN      +     0   \n",
       "2    chr1  HAVANA        exon  11869  12227    NaN      +     0   \n",
       "3    chr1  HAVANA        exon  12613  12721    NaN      +     0   \n",
       "4    chr1  HAVANA        exon  13221  14409    NaN      +     0   \n",
       "\n",
       "             gene_id                           gene_type gene_name level  \\\n",
       "0  ENSG00000223972.5  transcribed_unprocessed_pseudogene   DDX11L1     2   \n",
       "1  ENSG00000223972.5  transcribed_unprocessed_pseudogene   DDX11L1     2   \n",
       "2  ENSG00000223972.5  transcribed_unprocessed_pseudogene   DDX11L1     2   \n",
       "3  ENSG00000223972.5  transcribed_unprocessed_pseudogene   DDX11L1     2   \n",
       "4  ENSG00000223972.5  transcribed_unprocessed_pseudogene   DDX11L1     2   \n",
       "\n",
       "      hgnc_id           havana_gene      transcript_id transcript_type  \\\n",
       "0  HGNC:37102  OTTHUMG00000000961.2                                      \n",
       "1  HGNC:37102  OTTHUMG00000000961.2  ENST00000456328.2          lncRNA   \n",
       "2  HGNC:37102  OTTHUMG00000000961.2  ENST00000456328.2          lncRNA   \n",
       "3  HGNC:37102  OTTHUMG00000000961.2  ENST00000456328.2          lncRNA   \n",
       "4  HGNC:37102  OTTHUMG00000000961.2  ENST00000456328.2          lncRNA   \n",
       "\n",
       "  transcript_name transcript_support_level    tag     havana_transcript  \\\n",
       "0                                                                         \n",
       "1     DDX11L1-202                        1  basic  OTTHUMT00000362751.1   \n",
       "2     DDX11L1-202                        1  basic  OTTHUMT00000362751.1   \n",
       "3     DDX11L1-202                        1  basic  OTTHUMT00000362751.1   \n",
       "4     DDX11L1-202                        1  basic  OTTHUMT00000362751.1   \n",
       "\n",
       "  exon_number            exon_id ont protein_id ccdsid  \n",
       "0                                                       \n",
       "1                                                       \n",
       "2           1  ENSE00002234944.1                        \n",
       "3           2  ENSE00003582793.1                        \n",
       "4           3  ENSE00002312635.1                        "
      ]
     },
     "execution_count": 5,
     "metadata": {},
     "output_type": "execute_result"
    }
   ],
   "source": [
    "# FOR GENCODE\n",
    "# exclude transcripts with low level support, ie only keep 'goodish' \\\n",
    "# exclude Ensembl TSL levels 4 or 5 AND Gencode level 3\n",
    "\n",
    "##generating text file of transcript ids to remove from transcriptome fasta\n",
    "#!/usr/bin/env python\n",
    "\n",
    "import pandas as pd\n",
    "import gtfparse as gtf\n",
    "pd.set_option('display.max_columns', None)\n",
    "gencode_lastest = '32'\n",
    "\n",
    "WRKDIR = '/Users/mooreank/Desktop/Raph/requant/gencode/'\n",
    "#annot_file = f'{WRKDIR}gencode.v32.annotation.gtf'\n",
    "#annot_file = f'{WRKDIR}gencode.v29.transcripts.txt.gz'\n",
    "\n",
    "gencode_gtf = gencode_gtf = f'{WRKDIR}gencode.v{gencode_lastest}.annotation.gtf'\n",
    "annot_df = gtf.read_gtf(gencode_gtf)\n",
    "#annot_df = pd.read_csv(annot_file, sep = '\\t')\n",
    "annot_df.head()\n",
    "\n",
    "annot_trans = annot_df[annot_df['feature'] == 'transcript']\n",
    "#annot_trans = annot_df[annot_df['type'] == 'transcript']\n",
    "\n",
    "filter1 = annot_trans[(annot_trans['transcript_support_level'] == '4') & (annot_trans['level'] == '3')]\n",
    "filter1_list = filter1['transcript_id'].tolist()\n",
    "print(len(filter1_list))\n",
    "#filter2.head()\n",
    "\n",
    "filter2 = annot_trans[(annot_trans['transcript_support_level'] == '5') & (annot_trans['level'] == '3')]\n",
    "filter2_list = filter2['transcript_id'].tolist()\n",
    "print(len(filter2_list))\n",
    "#filter3.head()\n",
    "\n",
    "#all_bad = set(filter1_list+filter2_list+filter3_list)\n",
    "all_bad = set(filter1_list+filter2_list)\n",
    "len(all_bad)\n",
    "\n",
    "with open('/Users/mooreank/Desktop/Raph/salmon/gencode/bad.gencode.v32.transcript_ids.updated.txt', 'w') as f:\n",
    "    for item in all_bad:\n",
    "        f.write(\"%s\\n\" % item)"
   ]
  },
  {
   "cell_type": "markdown",
   "metadata": {},
   "source": [
    "### removing bad transcripts from reference transcriptome fasta"
   ]
  },
  {
   "cell_type": "code",
   "execution_count": null,
   "metadata": {},
   "outputs": [],
   "source": [
    "# FOR GENCODE\n",
    "#!/usr/bin/env python\n",
    "\n",
    "#import sys\n",
    "#from sets import Set\n",
    "from Bio import SeqIO\n",
    "\n",
    "gencode_fa = 'gencode.v32.transcripts.fa'\n",
    "WRKDIR = '/home/mooreank/salmon/'\n",
    "ids = '{}bad.gencode.v32.transcript_ids.txt'.format(WRKDIR)\n",
    "#original_fasta = '{}gencode.v32.transcripts.fa'.format(WRKDIR)\n",
    "#corrected_fasta = '{}filtered.gencode.v32.transcripts.fa'.format(WRKDIR)\n",
    "\n",
    "# read the first file given and generate a set (faster iteration respect lists\n",
    "##get list of transcript ids to remove\n",
    "identifiers = []\n",
    "\n",
    "with open(ids, 'r') as fi:\n",
    "    for line in fi:\n",
    "        line = line.strip()\n",
    "        identifiers.append(str(line).replace(\">\", \"\"))\n",
    "        \n",
    "##get list of all record ids in original fasta\n",
    "record_ids = []\n",
    "\n",
    "#with open('{}gencode.v32.transcripts.fa'.format(WRKDIR)) as original_fasta:\n",
    "with open(gencode_fa) as original_fasta:\n",
    "    records = SeqIO.parse(original_fasta, 'fasta')\n",
    "    for record in records:\n",
    "        record_ids.append(record.id)\n",
    "\n",
    "\n",
    "\n",
    "##get list of record ids to keep\n",
    "filtered = [i for i in record_ids if not any(i for j in identifiers if str(j) in i)]\n",
    "\n",
    "\n",
    "##run through original fasta and keep only records with record ids in filtered list\n",
    "#with open('{}gencode.v32.transcripts.fa'.format(WRKDIR)) as original_fasta, open('{}/nohup.filtered.gencode.v32.transcripts.fa'.format(WRKDIR), 'w') as corrected_fasta:\n",
    "with open(gencode_fa) as original_fasta, open('{}/nohup.filtered.gencode.v32.transcripts.fa'.format(WRKDIR), 'w') as corrected_fasta:\n",
    "        records = SeqIO.parse(original_fasta, 'fasta')\n",
    "        for record in records:\n",
    "            for x in filtered:\n",
    "                if x == record.id:\n",
    "                    SeqIO.write(record, corrected_fasta, 'fasta')"
   ]
  },
  {
   "cell_type": "markdown",
   "metadata": {},
   "source": [
    "#### push prepped transcriptomes"
   ]
  },
  {
   "cell_type": "code",
   "execution_count": 63,
   "metadata": {},
   "outputs": [
    {
     "name": "stdout",
     "output_type": "stream",
     "text": [
      "gsutil -mq cp /labseq/Genomes/GRCh38_hg38/gencode_32/gencode.v32.transcripts.fa gs://nihnialngcbg-eqtl/resources/references/gencode.v32.transcripts.fa\n",
      "CommandException: No URLs matched: /labseq/Genomes/GRCh38_hg38/gencode_32/gencode.v32.transcripts.fa\n",
      "CommandException: 1 file/object could not be transferred.\n"
     ]
    }
   ],
   "source": [
    "#### push CHESS\n",
    "local_transcriptome_fasta = f'{chess_local_dir}/{chess_fa}'.replace('.gz','')\n",
    "gcs_transcriptome_fasta = f'{prj_bucket}/resources/references/{gencode_fa}'.replace('.gz','')\n",
    "#gcs_transcriptome_fasta = f'{prj_bucket}/resources/references/salmon/chess/chess.refseq.transcriptome.corrected.fa'\n",
    "\n",
    "gcloud_cmd = f'gsutil -mq cp {local_transcriptome_fasta} {gcs_transcriptome_fasta}'\n",
    "\n",
    "print(gcloud_cmd)\n",
    "\n",
    "!{gcloud_cmd}"
   ]
  },
  {
   "cell_type": "code",
   "execution_count": null,
   "metadata": {},
   "outputs": [],
   "source": [
    "#### push GENCODE\n",
    "gencode_fa = 'filtered.gencode.v32.transcripts.updated.fa'\n",
    "local_transcriptome_fasta = f'{gencode_local_dir}/{gencode_fa}'.replace('.gz','')\n",
    "#gcs_transcriptome_fasta = f'{prj_bucket}/resources/references/{gencode_fa}'.replace('.gz','')\n",
    "gcs_transcriptome_fasta = f'{prj_bucket}/resources/references/salmon/gencode_v32_filtered/{gencode_fa}'.replace('.gz','')\n",
    "\n",
    "gcloud_cmd = f'gsutil -mq cp {local_transcriptome_fasta} {gcs_transcriptome_fasta}'\n",
    "\n",
    "print(gcloud_cmd)\n",
    "\n",
    "!{gcloud_cmd}"
   ]
  },
  {
   "cell_type": "code",
   "execution_count": 76,
   "metadata": {},
   "outputs": [
    {
     "name": "stdout",
     "output_type": "stream",
     "text": [
      "/labseq/Genomes/GRCh38_hg38/gencode_32/gencode.v32.transcripts.fa\n",
      "gs://nihnialngcbg-eqtl/resources/references/salmon/chess/chess.refseq.transcriptome.corrected.fa\n"
     ]
    }
   ],
   "source": [
    "print(local_transcriptome_fasta)\n",
    "print(gcs_transcriptome_fasta)"
   ]
  },
  {
   "cell_type": "markdown",
   "metadata": {},
   "source": [
    "#### create salmon index for the reference transcriptome (chess)"
   ]
  },
  {
   "cell_type": "code",
   "execution_count": 3,
   "metadata": {},
   "outputs": [
    {
     "name": "stdout",
     "output_type": "stream",
     "text": [
      "gcloud beta lifesciences pipelines run --project nih-nia-lng-cbg --docker-image us.gcr.io/nih-nia-lng-cbg/nihnialngcbg-salmon:2020-1 --machine-type n1-standard-4 --zones us-central1-f --logging gs://nihnialngcbg-eqtl/resources/references/logs/salmon_index_chess.log --command-line 'mkdir -p /gcloud-shared/reference; salmon --no-version-check index -t ${REF_TX_FASTA} -i /gcloud-shared/reference -k 31 --gencode --threads $(nproc); gsutil -mq cp -r /gcloud-shared/reference ${GS_SALMON_INDEX_OUT}; ls -lhR /gcloud-shared' --inputs REF_TX_FASTA=gs://nihnialngcbg-eqtl/resources/references/salmon/chess/chess.refseq.transcriptome.corrected.fa --env-vars GS_SALMON_INDEX_OUT=gs://nihnialngcbg-eqtl/resources/references/salmon/chess_test --labels=pipe=salmonindex,reference=gencode,user=mooreank --preemptible\n",
      "\n",
      "Running [projects/463418702553/locations/us-central1/operations/4827236342629327656].\n"
     ]
    }
   ],
   "source": [
    "##CHESS VERSION\n",
    "\n",
    "gcs_transcriptome_fasta = f'{prj_bucket}/resources/references/salmon/chess/chess.refseq.transcriptome.corrected.fa'\n",
    "\n",
    "\n",
    "# use a GCP lifesciences job to generate the salmon index(?)\n",
    "docker_img = 'us.gcr.io/nih-nia-lng-cbg/nihnialngcbg-salmon:2020-1'\n",
    "\n",
    "# gcs_transcriptome_fasta = f'{prj_bucket}/resources/references/salmon/gencode_r32/\\\n",
    "# nohup.filtered.gencode.v32.transcripts.fa'\n",
    "\n",
    "gcp_lsci_pipe_cmd = 'mkdir -p /gcloud-shared/reference; \\\n",
    "salmon --no-version-check index -t ${REF_TX_FASTA} -i /gcloud-shared/reference \\\n",
    "-k 31 --gencode --threads $(nproc); \\\n",
    "gsutil -mq cp -r /gcloud-shared/reference ${GS_SALMON_INDEX_OUT}; \\\n",
    "ls -lhR /gcloud-shared'\n",
    "\n",
    "gcp_lsci_pipe_vars = f'GS_SALMON_INDEX_OUT={prj_bucket}/resources/references/\\\n",
    "salmon/chess_test'\n",
    "\n",
    "cloud_cmd = f'gcloud beta lifesciences pipelines run \\\n",
    "--project {project_id} \\\n",
    "--docker-image {docker_img} \\\n",
    "--machine-type n1-standard-4 \\\n",
    "--zones us-central1-f \\\n",
    "--logging {prj_bucket}/resources/references/logs/salmon_index_chess.log \\\n",
    "--command-line \\'{gcp_lsci_pipe_cmd}\\' \\\n",
    "--inputs REF_TX_FASTA={gcs_transcriptome_fasta} \\\n",
    "--env-vars {gcp_lsci_pipe_vars} \\\n",
    "--labels=pipe=salmonindex,reference=gencode,user={my_user} \\\n",
    "--preemptible'\n",
    "\n",
    "print(f'{cloud_cmd}\\n')\n",
    "\n",
    "!{cloud_cmd}"
   ]
  },
  {
   "cell_type": "code",
   "execution_count": null,
   "metadata": {},
   "outputs": [],
   "source": [
    "#check job status, id OPID above\n",
    "op_id = 448973225553939675\n",
    "\n",
    "!gcloud beta lifesciences operations describe {op_id}"
   ]
  },
  {
   "cell_type": "markdown",
   "metadata": {},
   "source": [
    "#### run a test of quantifying an RNA sample"
   ]
  },
  {
   "cell_type": "code",
   "execution_count": null,
   "metadata": {},
   "outputs": [],
   "source": [
    "##get full sample list to run\n",
    "%%bash\n",
    "\n",
    "#make sure all the desired bams made it up\n",
    "#gsutil ls gs://nihnialngcbg-eqtl/rosmap/fastqs/*_R1.fastq.gz > bucket.fastqs.list\n",
    "gsutil ls gs://nihnialngcbg-eqtl/rosmap/fastqs/*_R2.fastq.gz > bucket.fastqs.list\n",
    "#sed -i s\"/_R1\\.fastq\\.gz//\"g bucket.fastqs.list\n",
    "sed -i -e s\"/_R2\\.fastq\\.gz//\"g bucket.fastqs.list\n",
    "sed -i -e s\"/gs\\:\\/\\/nihnialngcbg-eqtl\\/rosmap\\/fastqs\\///\"g bucket.fastqs.list\n",
    "\n",
    "head -3 bucket.fastqs.list > test.bucket.fastqs.list\n"
   ]
  },
  {
   "cell_type": "code",
   "execution_count": 22,
   "metadata": {},
   "outputs": [],
   "source": [
    "###get list of samples in python (need to finish this)\n",
    "samples = ['03_120405', '05_120405','08_120410']\n",
    "#sample_list = ['03_120405','05_120405']"
   ]
  },
  {
   "cell_type": "code",
   "execution_count": 69,
   "metadata": {},
   "outputs": [
    {
     "name": "stdout",
     "output_type": "stream",
     "text": [
      "gcloud beta lifesciences pipelines run --project nih-nia-lng-cbg --docker-image us.gcr.io/nih-nia-lng-cbg/nihnialngcbg-salmon:2020-1 --machine-type n1-standard-4 --logging gs://nihnialngcbg-eqtl/rosmap_test/logs/salmon/03_120405 --command-line 'mkdir -p /gcloud-shared/reference; gsutil -mq cp ${SALMONTRANSCRIPTMODELS}/* /gcloud-shared/reference; salmon --no-version-check quant -i /gcloud-shared/reference -l A -1 ${FASTQR1} -2 ${FASTQR2} --validateMappings --seqBias --gcBias --posBias --threads $(nproc) -o /gcloud-shared/sample; gsutil -mq cp -r /gcloud-shared/sample ${GS_OUTPATH}; ls -lhR /gcloud-shared' --inputs FASTQR1=gs://nihnialngcbg-eqtl/rosmap/fastqs/${sample}_R1.fastq.gz --inputs FASTQR2=gs://nihnialngcbg-eqtl/rosmap/fastqs/${sample}R2.fastq.gz --env-vars SALMONTRANSCRIPTMODELS=gs://nihnialngcbg-eqtl/resources/references/salmon/chess/reference,GS_OUTPATH=gs://nihnialngcbg-eqtl/rosmap_test/quants/chess/03_120405,FASTQR1=/gcloud-shared/inputR1.gz,FASTQR2=/gcloud-shared/inputR2.gz --labels=pipe=salmonquant,sample=03_120405,user=mooreank --preemptible \n",
      "\n"
     ]
    }
   ],
   "source": [
    "###for chess reference\n",
    "\n",
    "# run a test of quantifying an RNA sample\n",
    "# in_bucket = 'gs://nihnialngcbg-eqtl/rosmap'\n",
    "# out_bucket = 'gs://nihnialngcbg-eqtl/rosmap_test'\n",
    "# sample = '03_120405'\n",
    "# project_id = 'nih-nia-lng-cbg'\n",
    "# prj_bucket = 'gs://nihnialngcbg-eqtl'\n",
    "# docker_img = 'us.gcr.io/nih-nia-lng-cbg/nihnialngcbg-salmon:2020-1'\n",
    "# my_user = 'mooreank'\n",
    "\n",
    "\n",
    "\n",
    "# gcp_lsci_pipe_cmd = 'mkdir -p /gcloud-shared/reference; \\\n",
    "# gsutil -mq cp ${SALMONTRANSCRIPTMODELS}/* /gcloud-shared/reference; \\\n",
    "# salmon --no-version-check quant -i /gcloud-shared/reference -l A -1 ${FASTQR1} -2 ${FASTQR2} \\\n",
    "# --validateMappings --seqBias --gcBias --posBias --threads $(nproc) \\\n",
    "# -o /gcloud-shared/sample; \\\n",
    "# gsutil -mq cp -r /gcloud-shared/sample ${GS_OUTPATH}; \\\n",
    "# ls -lhR /gcloud-shared'\n",
    "\n",
    "# gcp_lsci_pipe_vars = f'SALMONTRANSCRIPTMODELS={prj_bucket}/resources/references/\\\n",
    "# salmon/chess/reference,\\\n",
    "# GS_OUTPATH={out_bucket}/quants/chess/{sample},\\\n",
    "# FASTQR1=/gcloud-shared/inputR1.gz,\\\n",
    "# FASTQR2=/gcloud-shared/inputR2.gz'\n",
    "\n",
    "# cloud_cmd = f'gcloud beta lifesciences pipelines run \\\n",
    "# --project {project_id} \\\n",
    "# --docker-image {docker_img} \\\n",
    "# --machine-type n1-standard-4 \\\n",
    "# --logging {out_bucket}/logs/salmon/{sample} \\\n",
    "# --command-line \\'{gcp_lsci_pipe_cmd}\\' \\\n",
    "# --inputs FASTQR1={in_bucket}/fastqs/${{sample}}_R1.fastq.gz \\\n",
    "# --inputs FASTQR2={in_bucket}/fastqs/${{sample}}R2.fastq.gz \\\n",
    "# --env-vars {gcp_lsci_pipe_vars} \\\n",
    "# --labels=pipe=salmonquant,sample={sample},user={my_user} \\\n",
    "# --preemptible ' \n",
    "\n",
    "# print(f'{cloud_cmd}\\n')\n",
    "\n",
    "# #!{cloud_cmd}\n",
    "\n",
    "\n",
    "\n",
    "\n"
   ]
  },
  {
   "cell_type": "code",
   "execution_count": null,
   "metadata": {},
   "outputs": [],
   "source": []
  }
 ],
 "metadata": {
  "kernelspec": {
   "display_name": "Python 3",
   "language": "python",
   "name": "python3"
  },
  "language_info": {
   "codemirror_mode": {
    "name": "ipython",
    "version": 3
   },
   "file_extension": ".py",
   "mimetype": "text/x-python",
   "name": "python",
   "nbconvert_exporter": "python",
   "pygments_lexer": "ipython3",
   "version": "3.7.3"
  }
 },
 "nbformat": 4,
 "nbformat_minor": 4
}
