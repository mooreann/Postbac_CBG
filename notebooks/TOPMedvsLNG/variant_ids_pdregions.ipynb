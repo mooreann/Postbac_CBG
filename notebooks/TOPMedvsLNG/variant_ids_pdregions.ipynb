{
 "cells": [
  {
   "cell_type": "code",
   "execution_count": null,
   "metadata": {},
   "outputs": [],
   "source": [
    "%%bash \n",
    "\n",
    "##\n",
    "#CONVERTING VCF TO BINARY PLINK FILES\n",
    "\n",
    "plink --vcf topmed.freeze5b.chr2.vcf.gz --make-bed --out /labshare/anni/TOPMed/topmed.freeze5b.chr2\n",
    "\n",
    "plink --vcf topmed.freeze5b.chr2.vcf.gz --make-bed --keep-allele-order --out /labshare/anni/TOPMed_order/topmed.freeze5b.chr22\n"
   ]
  },
  {
   "cell_type": "code",
   "execution_count": 1,
   "metadata": {},
   "outputs": [
    {
     "name": "stdout",
     "output_type": "stream",
     "text": [
      "plink --vcf topmed.freeze5b.chr1.pd_regions.filtered.sorted.vcf.gz --mac 5 --maf 0.001 --make-bed --out /labshare/anni/TOPMed1.9/topmed.freeze5b.chr1.pd_regions.filtered.sorted.plinkfilt &\n",
      "plink --vcf topmed.freeze5b.chr2.pd_regions.filtered.sorted.vcf.gz --mac 5 --maf 0.001 --make-bed --out /labshare/anni/TOPMed1.9/topmed.freeze5b.chr2.pd_regions.filtered.sorted.plinkfilt &\n",
      "plink --vcf topmed.freeze5b.chr3.pd_regions.filtered.sorted.vcf.gz --mac 5 --maf 0.001 --make-bed --out /labshare/anni/TOPMed1.9/topmed.freeze5b.chr3.pd_regions.filtered.sorted.plinkfilt &\n",
      "plink --vcf topmed.freeze5b.chr4.pd_regions.filtered.sorted.vcf.gz --mac 5 --maf 0.001 --make-bed --out /labshare/anni/TOPMed1.9/topmed.freeze5b.chr4.pd_regions.filtered.sorted.plinkfilt &\n",
      "plink --vcf topmed.freeze5b.chr5.pd_regions.filtered.sorted.vcf.gz --mac 5 --maf 0.001 --make-bed --out /labshare/anni/TOPMed1.9/topmed.freeze5b.chr5.pd_regions.filtered.sorted.plinkfilt &\n",
      "plink --vcf topmed.freeze5b.chr6.pd_regions.filtered.sorted.vcf.gz --mac 5 --maf 0.001 --make-bed --out /labshare/anni/TOPMed1.9/topmed.freeze5b.chr6.pd_regions.filtered.sorted.plinkfilt &\n",
      "plink --vcf topmed.freeze5b.chr7.pd_regions.filtered.sorted.vcf.gz --mac 5 --maf 0.001 --make-bed --out /labshare/anni/TOPMed1.9/topmed.freeze5b.chr7.pd_regions.filtered.sorted.plinkfilt &\n",
      "plink --vcf topmed.freeze5b.chr8.pd_regions.filtered.sorted.vcf.gz --mac 5 --maf 0.001 --make-bed --out /labshare/anni/TOPMed1.9/topmed.freeze5b.chr8.pd_regions.filtered.sorted.plinkfilt &\n",
      "plink --vcf topmed.freeze5b.chr9.pd_regions.filtered.sorted.vcf.gz --mac 5 --maf 0.001 --make-bed --out /labshare/anni/TOPMed1.9/topmed.freeze5b.chr9.pd_regions.filtered.sorted.plinkfilt &\n",
      "plink --vcf topmed.freeze5b.chr10.pd_regions.filtered.sorted.vcf.gz --mac 5 --maf 0.001 --make-bed --out /labshare/anni/TOPMed1.9/topmed.freeze5b.chr10.pd_regions.filtered.sorted.plinkfilt &\n",
      "plink --vcf topmed.freeze5b.chr11.pd_regions.filtered.sorted.vcf.gz --mac 5 --maf 0.001 --make-bed --out /labshare/anni/TOPMed1.9/topmed.freeze5b.chr11.pd_regions.filtered.sorted.plinkfilt &\n",
      "plink --vcf topmed.freeze5b.chr12.pd_regions.filtered.sorted.vcf.gz --mac 5 --maf 0.001 --make-bed --out /labshare/anni/TOPMed1.9/topmed.freeze5b.chr12.pd_regions.filtered.sorted.plinkfilt &\n",
      "plink --vcf topmed.freeze5b.chr13.pd_regions.filtered.sorted.vcf.gz --mac 5 --maf 0.001 --make-bed --out /labshare/anni/TOPMed1.9/topmed.freeze5b.chr13.pd_regions.filtered.sorted.plinkfilt &\n",
      "plink --vcf topmed.freeze5b.chr14.pd_regions.filtered.sorted.vcf.gz --mac 5 --maf 0.001 --make-bed --out /labshare/anni/TOPMed1.9/topmed.freeze5b.chr14.pd_regions.filtered.sorted.plinkfilt &\n",
      "plink --vcf topmed.freeze5b.chr15.pd_regions.filtered.sorted.vcf.gz --mac 5 --maf 0.001 --make-bed --out /labshare/anni/TOPMed1.9/topmed.freeze5b.chr15.pd_regions.filtered.sorted.plinkfilt &\n",
      "plink --vcf topmed.freeze5b.chr16.pd_regions.filtered.sorted.vcf.gz --mac 5 --maf 0.001 --make-bed --out /labshare/anni/TOPMed1.9/topmed.freeze5b.chr16.pd_regions.filtered.sorted.plinkfilt &\n",
      "plink --vcf topmed.freeze5b.chr17.pd_regions.filtered.sorted.vcf.gz --mac 5 --maf 0.001 --make-bed --out /labshare/anni/TOPMed1.9/topmed.freeze5b.chr17.pd_regions.filtered.sorted.plinkfilt &\n",
      "plink --vcf topmed.freeze5b.chr18.pd_regions.filtered.sorted.vcf.gz --mac 5 --maf 0.001 --make-bed --out /labshare/anni/TOPMed1.9/topmed.freeze5b.chr18.pd_regions.filtered.sorted.plinkfilt &\n",
      "plink --vcf topmed.freeze5b.chr19.pd_regions.filtered.sorted.vcf.gz --mac 5 --maf 0.001 --make-bed --out /labshare/anni/TOPMed1.9/topmed.freeze5b.chr19.pd_regions.filtered.sorted.plinkfilt &\n",
      "plink --vcf topmed.freeze5b.chr20.pd_regions.filtered.sorted.vcf.gz --mac 5 --maf 0.001 --make-bed --out /labshare/anni/TOPMed1.9/topmed.freeze5b.chr20.pd_regions.filtered.sorted.plinkfilt &\n",
      "plink --vcf topmed.freeze5b.chr21.pd_regions.filtered.sorted.vcf.gz --mac 5 --maf 0.001 --make-bed --out /labshare/anni/TOPMed1.9/topmed.freeze5b.chr21.pd_regions.filtered.sorted.plinkfilt &\n"
     ]
    }
   ],
   "source": [
    "##convert topmed to plink binary files\n",
    "##filter topmed plink files, MAC >= 5 and MAF >= 0.001\n",
    "#directory = /labshare/raph/spd/finemap/reference_panels/\n",
    "\n",
    "out = '/labshare/anni/TOPMed1.9/'\n",
    "\n",
    "# for num in range(1,22):\n",
    "#     print(\"plink --vcf topmed.freeze5b.chr{}.pd_regions.filtered.sorted.vcf.gz --mac 5 --maf 0.001 --make-bed --out {}topmed.freeze5b.chr{}.pd_regions.filtered.sorted.plinkfilt &\".format(num,out,num))\n",
    "\n"
   ]
  },
  {
   "cell_type": "code",
   "execution_count": 1,
   "metadata": {},
   "outputs": [
    {
     "name": "stdout",
     "output_type": "stream",
     "text": [
      "plink --vcf topmed.freeze5b.chr1.pd_regions.filtered.sorted.vcf.gz --mac 5 --make-bed --out /labshare/anni/pd_regions/topmed.freeze5b.chr1.pd_regions.filtered.sorted.mac5 &\n",
      "plink --vcf topmed.freeze5b.chr2.pd_regions.filtered.sorted.vcf.gz --mac 5 --make-bed --out /labshare/anni/pd_regions/topmed.freeze5b.chr2.pd_regions.filtered.sorted.mac5 &\n",
      "plink --vcf topmed.freeze5b.chr3.pd_regions.filtered.sorted.vcf.gz --mac 5 --make-bed --out /labshare/anni/pd_regions/topmed.freeze5b.chr3.pd_regions.filtered.sorted.mac5 &\n",
      "plink --vcf topmed.freeze5b.chr4.pd_regions.filtered.sorted.vcf.gz --mac 5 --make-bed --out /labshare/anni/pd_regions/topmed.freeze5b.chr4.pd_regions.filtered.sorted.mac5 &\n",
      "plink --vcf topmed.freeze5b.chr5.pd_regions.filtered.sorted.vcf.gz --mac 5 --make-bed --out /labshare/anni/pd_regions/topmed.freeze5b.chr5.pd_regions.filtered.sorted.mac5 &\n",
      "plink --vcf topmed.freeze5b.chr6.pd_regions.filtered.sorted.vcf.gz --mac 5 --make-bed --out /labshare/anni/pd_regions/topmed.freeze5b.chr6.pd_regions.filtered.sorted.mac5 &\n",
      "plink --vcf topmed.freeze5b.chr7.pd_regions.filtered.sorted.vcf.gz --mac 5 --make-bed --out /labshare/anni/pd_regions/topmed.freeze5b.chr7.pd_regions.filtered.sorted.mac5 &\n",
      "plink --vcf topmed.freeze5b.chr8.pd_regions.filtered.sorted.vcf.gz --mac 5 --make-bed --out /labshare/anni/pd_regions/topmed.freeze5b.chr8.pd_regions.filtered.sorted.mac5 &\n",
      "plink --vcf topmed.freeze5b.chr9.pd_regions.filtered.sorted.vcf.gz --mac 5 --make-bed --out /labshare/anni/pd_regions/topmed.freeze5b.chr9.pd_regions.filtered.sorted.mac5 &\n",
      "plink --vcf topmed.freeze5b.chr10.pd_regions.filtered.sorted.vcf.gz --mac 5 --make-bed --out /labshare/anni/pd_regions/topmed.freeze5b.chr10.pd_regions.filtered.sorted.mac5 &\n",
      "plink --vcf topmed.freeze5b.chr11.pd_regions.filtered.sorted.vcf.gz --mac 5 --make-bed --out /labshare/anni/pd_regions/topmed.freeze5b.chr11.pd_regions.filtered.sorted.mac5 &\n",
      "plink --vcf topmed.freeze5b.chr12.pd_regions.filtered.sorted.vcf.gz --mac 5 --make-bed --out /labshare/anni/pd_regions/topmed.freeze5b.chr12.pd_regions.filtered.sorted.mac5 &\n",
      "plink --vcf topmed.freeze5b.chr13.pd_regions.filtered.sorted.vcf.gz --mac 5 --make-bed --out /labshare/anni/pd_regions/topmed.freeze5b.chr13.pd_regions.filtered.sorted.mac5 &\n",
      "plink --vcf topmed.freeze5b.chr14.pd_regions.filtered.sorted.vcf.gz --mac 5 --make-bed --out /labshare/anni/pd_regions/topmed.freeze5b.chr14.pd_regions.filtered.sorted.mac5 &\n",
      "plink --vcf topmed.freeze5b.chr15.pd_regions.filtered.sorted.vcf.gz --mac 5 --make-bed --out /labshare/anni/pd_regions/topmed.freeze5b.chr15.pd_regions.filtered.sorted.mac5 &\n",
      "plink --vcf topmed.freeze5b.chr16.pd_regions.filtered.sorted.vcf.gz --mac 5 --make-bed --out /labshare/anni/pd_regions/topmed.freeze5b.chr16.pd_regions.filtered.sorted.mac5 &\n",
      "plink --vcf topmed.freeze5b.chr17.pd_regions.filtered.sorted.vcf.gz --mac 5 --make-bed --out /labshare/anni/pd_regions/topmed.freeze5b.chr17.pd_regions.filtered.sorted.mac5 &\n",
      "plink --vcf topmed.freeze5b.chr18.pd_regions.filtered.sorted.vcf.gz --mac 5 --make-bed --out /labshare/anni/pd_regions/topmed.freeze5b.chr18.pd_regions.filtered.sorted.mac5 &\n",
      "plink --vcf topmed.freeze5b.chr19.pd_regions.filtered.sorted.vcf.gz --mac 5 --make-bed --out /labshare/anni/pd_regions/topmed.freeze5b.chr19.pd_regions.filtered.sorted.mac5 &\n",
      "plink --vcf topmed.freeze5b.chr20.pd_regions.filtered.sorted.vcf.gz --mac 5 --make-bed --out /labshare/anni/pd_regions/topmed.freeze5b.chr20.pd_regions.filtered.sorted.mac5 &\n",
      "plink --vcf topmed.freeze5b.chr21.pd_regions.filtered.sorted.vcf.gz --mac 5 --make-bed --out /labshare/anni/pd_regions/topmed.freeze5b.chr21.pd_regions.filtered.sorted.mac5 &\n"
     ]
    }
   ],
   "source": [
    "##convert topmed to plink binary files\n",
    "##filter topmed plink files\n",
    "#directory = /labshare/raph/spd/finemap/reference_panels/\n",
    "\n",
    "###ONLY MAC >= 5 \n",
    "out = '/labshare/anni/pd_regions/'\n",
    "\n",
    "for num in range(1,22):\n",
    "    print(\"plink --vcf topmed.freeze5b.chr{}.pd_regions.filtered.sorted.vcf.gz --mac 5 --make-bed --out {}topmed.freeze5b.chr{}.pd_regions.filtered.sorted.mac5 &\".format(num,out,num))\n",
    "\n"
   ]
  },
  {
   "cell_type": "code",
   "execution_count": 2,
   "metadata": {},
   "outputs": [
    {
     "name": "stdout",
     "output_type": "stream",
     "text": [
      "plink --vcf topmed.freeze5b.chr1.pd_regions.filtered.sorted.vcf.gz --maf 0.001 --make-bed --out /labshare/anni/pd_regions/topmed.freeze5b.chr1.pd_regions.filtered.sorted.maf0.001 &\n",
      "plink --vcf topmed.freeze5b.chr2.pd_regions.filtered.sorted.vcf.gz --maf 0.001 --make-bed --out /labshare/anni/pd_regions/topmed.freeze5b.chr2.pd_regions.filtered.sorted.maf0.001 &\n",
      "plink --vcf topmed.freeze5b.chr3.pd_regions.filtered.sorted.vcf.gz --maf 0.001 --make-bed --out /labshare/anni/pd_regions/topmed.freeze5b.chr3.pd_regions.filtered.sorted.maf0.001 &\n",
      "plink --vcf topmed.freeze5b.chr4.pd_regions.filtered.sorted.vcf.gz --maf 0.001 --make-bed --out /labshare/anni/pd_regions/topmed.freeze5b.chr4.pd_regions.filtered.sorted.maf0.001 &\n",
      "plink --vcf topmed.freeze5b.chr5.pd_regions.filtered.sorted.vcf.gz --maf 0.001 --make-bed --out /labshare/anni/pd_regions/topmed.freeze5b.chr5.pd_regions.filtered.sorted.maf0.001 &\n",
      "plink --vcf topmed.freeze5b.chr6.pd_regions.filtered.sorted.vcf.gz --maf 0.001 --make-bed --out /labshare/anni/pd_regions/topmed.freeze5b.chr6.pd_regions.filtered.sorted.maf0.001 &\n",
      "plink --vcf topmed.freeze5b.chr7.pd_regions.filtered.sorted.vcf.gz --maf 0.001 --make-bed --out /labshare/anni/pd_regions/topmed.freeze5b.chr7.pd_regions.filtered.sorted.maf0.001 &\n",
      "plink --vcf topmed.freeze5b.chr8.pd_regions.filtered.sorted.vcf.gz --maf 0.001 --make-bed --out /labshare/anni/pd_regions/topmed.freeze5b.chr8.pd_regions.filtered.sorted.maf0.001 &\n",
      "plink --vcf topmed.freeze5b.chr9.pd_regions.filtered.sorted.vcf.gz --maf 0.001 --make-bed --out /labshare/anni/pd_regions/topmed.freeze5b.chr9.pd_regions.filtered.sorted.maf0.001 &\n",
      "plink --vcf topmed.freeze5b.chr10.pd_regions.filtered.sorted.vcf.gz --maf 0.001 --make-bed --out /labshare/anni/pd_regions/topmed.freeze5b.chr10.pd_regions.filtered.sorted.maf0.001 &\n",
      "plink --vcf topmed.freeze5b.chr11.pd_regions.filtered.sorted.vcf.gz --maf 0.001 --make-bed --out /labshare/anni/pd_regions/topmed.freeze5b.chr11.pd_regions.filtered.sorted.maf0.001 &\n",
      "plink --vcf topmed.freeze5b.chr12.pd_regions.filtered.sorted.vcf.gz --maf 0.001 --make-bed --out /labshare/anni/pd_regions/topmed.freeze5b.chr12.pd_regions.filtered.sorted.maf0.001 &\n",
      "plink --vcf topmed.freeze5b.chr13.pd_regions.filtered.sorted.vcf.gz --maf 0.001 --make-bed --out /labshare/anni/pd_regions/topmed.freeze5b.chr13.pd_regions.filtered.sorted.maf0.001 &\n",
      "plink --vcf topmed.freeze5b.chr14.pd_regions.filtered.sorted.vcf.gz --maf 0.001 --make-bed --out /labshare/anni/pd_regions/topmed.freeze5b.chr14.pd_regions.filtered.sorted.maf0.001 &\n",
      "plink --vcf topmed.freeze5b.chr15.pd_regions.filtered.sorted.vcf.gz --maf 0.001 --make-bed --out /labshare/anni/pd_regions/topmed.freeze5b.chr15.pd_regions.filtered.sorted.maf0.001 &\n",
      "plink --vcf topmed.freeze5b.chr16.pd_regions.filtered.sorted.vcf.gz --maf 0.001 --make-bed --out /labshare/anni/pd_regions/topmed.freeze5b.chr16.pd_regions.filtered.sorted.maf0.001 &\n",
      "plink --vcf topmed.freeze5b.chr17.pd_regions.filtered.sorted.vcf.gz --maf 0.001 --make-bed --out /labshare/anni/pd_regions/topmed.freeze5b.chr17.pd_regions.filtered.sorted.maf0.001 &\n",
      "plink --vcf topmed.freeze5b.chr18.pd_regions.filtered.sorted.vcf.gz --maf 0.001 --make-bed --out /labshare/anni/pd_regions/topmed.freeze5b.chr18.pd_regions.filtered.sorted.maf0.001 &\n",
      "plink --vcf topmed.freeze5b.chr19.pd_regions.filtered.sorted.vcf.gz --maf 0.001 --make-bed --out /labshare/anni/pd_regions/topmed.freeze5b.chr19.pd_regions.filtered.sorted.maf0.001 &\n",
      "plink --vcf topmed.freeze5b.chr20.pd_regions.filtered.sorted.vcf.gz --maf 0.001 --make-bed --out /labshare/anni/pd_regions/topmed.freeze5b.chr20.pd_regions.filtered.sorted.maf0.001 &\n",
      "plink --vcf topmed.freeze5b.chr21.pd_regions.filtered.sorted.vcf.gz --maf 0.001 --make-bed --out /labshare/anni/pd_regions/topmed.freeze5b.chr21.pd_regions.filtered.sorted.maf0.001 &\n"
     ]
    }
   ],
   "source": [
    "##convert topmed to plink binary files\n",
    "##filter topmed plink files\n",
    "#directory = /labshare/raph/spd/finemap/reference_panels/\n",
    "\n",
    "##ONLY MAF >= 0.001\n",
    "out = '/labshare/anni/pd_regions/'\n",
    "\n",
    "for num in range(1,22):\n",
    "    print(\"plink --vcf topmed.freeze5b.chr{}.pd_regions.filtered.sorted.vcf.gz --maf 0.001 --make-bed --out {}topmed.freeze5b.chr{}.pd_regions.filtered.sorted.maf0.001 &\".format(num,out,num))\n",
    "\n"
   ]
  },
  {
   "cell_type": "code",
   "execution_count": 3,
   "metadata": {},
   "outputs": [
    {
     "name": "stdout",
     "output_type": "stream",
     "text": [
      "plink --vcf neurod.june2019.chr1.pd_regions.filtered.sorted.vcf.gz --mac 5 --maf 0.001 --make-bed --out /labshare/anni/LNG1.9/neurod.june2019.chr1.pd_regions.filtered.sorted.plinkfilt &\n",
      "plink --vcf neurod.june2019.chr2.pd_regions.filtered.sorted.vcf.gz --mac 5 --maf 0.001 --make-bed --out /labshare/anni/LNG1.9/neurod.june2019.chr2.pd_regions.filtered.sorted.plinkfilt &\n",
      "plink --vcf neurod.june2019.chr3.pd_regions.filtered.sorted.vcf.gz --mac 5 --maf 0.001 --make-bed --out /labshare/anni/LNG1.9/neurod.june2019.chr3.pd_regions.filtered.sorted.plinkfilt &\n",
      "plink --vcf neurod.june2019.chr4.pd_regions.filtered.sorted.vcf.gz --mac 5 --maf 0.001 --make-bed --out /labshare/anni/LNG1.9/neurod.june2019.chr4.pd_regions.filtered.sorted.plinkfilt &\n",
      "plink --vcf neurod.june2019.chr5.pd_regions.filtered.sorted.vcf.gz --mac 5 --maf 0.001 --make-bed --out /labshare/anni/LNG1.9/neurod.june2019.chr5.pd_regions.filtered.sorted.plinkfilt &\n",
      "plink --vcf neurod.june2019.chr6.pd_regions.filtered.sorted.vcf.gz --mac 5 --maf 0.001 --make-bed --out /labshare/anni/LNG1.9/neurod.june2019.chr6.pd_regions.filtered.sorted.plinkfilt &\n",
      "plink --vcf neurod.june2019.chr7.pd_regions.filtered.sorted.vcf.gz --mac 5 --maf 0.001 --make-bed --out /labshare/anni/LNG1.9/neurod.june2019.chr7.pd_regions.filtered.sorted.plinkfilt &\n",
      "plink --vcf neurod.june2019.chr8.pd_regions.filtered.sorted.vcf.gz --mac 5 --maf 0.001 --make-bed --out /labshare/anni/LNG1.9/neurod.june2019.chr8.pd_regions.filtered.sorted.plinkfilt &\n",
      "plink --vcf neurod.june2019.chr9.pd_regions.filtered.sorted.vcf.gz --mac 5 --maf 0.001 --make-bed --out /labshare/anni/LNG1.9/neurod.june2019.chr9.pd_regions.filtered.sorted.plinkfilt &\n",
      "plink --vcf neurod.june2019.chr10.pd_regions.filtered.sorted.vcf.gz --mac 5 --maf 0.001 --make-bed --out /labshare/anni/LNG1.9/neurod.june2019.chr10.pd_regions.filtered.sorted.plinkfilt &\n",
      "plink --vcf neurod.june2019.chr11.pd_regions.filtered.sorted.vcf.gz --mac 5 --maf 0.001 --make-bed --out /labshare/anni/LNG1.9/neurod.june2019.chr11.pd_regions.filtered.sorted.plinkfilt &\n",
      "plink --vcf neurod.june2019.chr12.pd_regions.filtered.sorted.vcf.gz --mac 5 --maf 0.001 --make-bed --out /labshare/anni/LNG1.9/neurod.june2019.chr12.pd_regions.filtered.sorted.plinkfilt &\n",
      "plink --vcf neurod.june2019.chr13.pd_regions.filtered.sorted.vcf.gz --mac 5 --maf 0.001 --make-bed --out /labshare/anni/LNG1.9/neurod.june2019.chr13.pd_regions.filtered.sorted.plinkfilt &\n",
      "plink --vcf neurod.june2019.chr14.pd_regions.filtered.sorted.vcf.gz --mac 5 --maf 0.001 --make-bed --out /labshare/anni/LNG1.9/neurod.june2019.chr14.pd_regions.filtered.sorted.plinkfilt &\n",
      "plink --vcf neurod.june2019.chr15.pd_regions.filtered.sorted.vcf.gz --mac 5 --maf 0.001 --make-bed --out /labshare/anni/LNG1.9/neurod.june2019.chr15.pd_regions.filtered.sorted.plinkfilt &\n",
      "plink --vcf neurod.june2019.chr16.pd_regions.filtered.sorted.vcf.gz --mac 5 --maf 0.001 --make-bed --out /labshare/anni/LNG1.9/neurod.june2019.chr16.pd_regions.filtered.sorted.plinkfilt &\n",
      "plink --vcf neurod.june2019.chr17.pd_regions.filtered.sorted.vcf.gz --mac 5 --maf 0.001 --make-bed --out /labshare/anni/LNG1.9/neurod.june2019.chr17.pd_regions.filtered.sorted.plinkfilt &\n",
      "plink --vcf neurod.june2019.chr18.pd_regions.filtered.sorted.vcf.gz --mac 5 --maf 0.001 --make-bed --out /labshare/anni/LNG1.9/neurod.june2019.chr18.pd_regions.filtered.sorted.plinkfilt &\n",
      "plink --vcf neurod.june2019.chr19.pd_regions.filtered.sorted.vcf.gz --mac 5 --maf 0.001 --make-bed --out /labshare/anni/LNG1.9/neurod.june2019.chr19.pd_regions.filtered.sorted.plinkfilt &\n",
      "plink --vcf neurod.june2019.chr20.pd_regions.filtered.sorted.vcf.gz --mac 5 --maf 0.001 --make-bed --out /labshare/anni/LNG1.9/neurod.june2019.chr20.pd_regions.filtered.sorted.plinkfilt &\n",
      "plink --vcf neurod.june2019.chr21.pd_regions.filtered.sorted.vcf.gz --mac 5 --maf 0.001 --make-bed --out /labshare/anni/LNG1.9/neurod.june2019.chr21.pd_regions.filtered.sorted.plinkfilt &\n"
     ]
    }
   ],
   "source": [
    "#convert neurod to plink binary files\n",
    "##filter topmed plink files, MAC >= 5 and MAF >= 0.001\n",
    "\n",
    "#directory = /labshare/raph/spd/finemap/reference_panels/\n",
    "# out = '/labshare/anni/LNG1.9/'\n",
    "\n",
    "# for num in range(1,22):\n",
    "#     print(\"plink --vcf neurod.june2019.chr{}.pd_regions.filtered.sorted.vcf.gz --mac 5 --maf 0.001 --make-bed --out {}neurod.june2019.chr{}.pd_regions.filtered.sorted.plinkfilt &\".format(num,out,num))\n",
    "\n"
   ]
  },
  {
   "cell_type": "code",
   "execution_count": 4,
   "metadata": {},
   "outputs": [
    {
     "name": "stdout",
     "output_type": "stream",
     "text": [
      "plink --vcf neurod.june2019.chr1.pd_regions.filtered.sorted.vcf.gz --mac 5 --make-bed --out /labshare/anni/pd_regions/neurod.june2019.chr1.pd_regions.filtered.sorted.mac5 &\n",
      "plink --vcf neurod.june2019.chr2.pd_regions.filtered.sorted.vcf.gz --mac 5 --make-bed --out /labshare/anni/pd_regions/neurod.june2019.chr2.pd_regions.filtered.sorted.mac5 &\n",
      "plink --vcf neurod.june2019.chr3.pd_regions.filtered.sorted.vcf.gz --mac 5 --make-bed --out /labshare/anni/pd_regions/neurod.june2019.chr3.pd_regions.filtered.sorted.mac5 &\n",
      "plink --vcf neurod.june2019.chr4.pd_regions.filtered.sorted.vcf.gz --mac 5 --make-bed --out /labshare/anni/pd_regions/neurod.june2019.chr4.pd_regions.filtered.sorted.mac5 &\n",
      "plink --vcf neurod.june2019.chr5.pd_regions.filtered.sorted.vcf.gz --mac 5 --make-bed --out /labshare/anni/pd_regions/neurod.june2019.chr5.pd_regions.filtered.sorted.mac5 &\n",
      "plink --vcf neurod.june2019.chr6.pd_regions.filtered.sorted.vcf.gz --mac 5 --make-bed --out /labshare/anni/pd_regions/neurod.june2019.chr6.pd_regions.filtered.sorted.mac5 &\n",
      "plink --vcf neurod.june2019.chr7.pd_regions.filtered.sorted.vcf.gz --mac 5 --make-bed --out /labshare/anni/pd_regions/neurod.june2019.chr7.pd_regions.filtered.sorted.mac5 &\n",
      "plink --vcf neurod.june2019.chr8.pd_regions.filtered.sorted.vcf.gz --mac 5 --make-bed --out /labshare/anni/pd_regions/neurod.june2019.chr8.pd_regions.filtered.sorted.mac5 &\n",
      "plink --vcf neurod.june2019.chr9.pd_regions.filtered.sorted.vcf.gz --mac 5 --make-bed --out /labshare/anni/pd_regions/neurod.june2019.chr9.pd_regions.filtered.sorted.mac5 &\n",
      "plink --vcf neurod.june2019.chr10.pd_regions.filtered.sorted.vcf.gz --mac 5 --make-bed --out /labshare/anni/pd_regions/neurod.june2019.chr10.pd_regions.filtered.sorted.mac5 &\n",
      "plink --vcf neurod.june2019.chr11.pd_regions.filtered.sorted.vcf.gz --mac 5 --make-bed --out /labshare/anni/pd_regions/neurod.june2019.chr11.pd_regions.filtered.sorted.mac5 &\n",
      "plink --vcf neurod.june2019.chr12.pd_regions.filtered.sorted.vcf.gz --mac 5 --make-bed --out /labshare/anni/pd_regions/neurod.june2019.chr12.pd_regions.filtered.sorted.mac5 &\n",
      "plink --vcf neurod.june2019.chr13.pd_regions.filtered.sorted.vcf.gz --mac 5 --make-bed --out /labshare/anni/pd_regions/neurod.june2019.chr13.pd_regions.filtered.sorted.mac5 &\n",
      "plink --vcf neurod.june2019.chr14.pd_regions.filtered.sorted.vcf.gz --mac 5 --make-bed --out /labshare/anni/pd_regions/neurod.june2019.chr14.pd_regions.filtered.sorted.mac5 &\n",
      "plink --vcf neurod.june2019.chr15.pd_regions.filtered.sorted.vcf.gz --mac 5 --make-bed --out /labshare/anni/pd_regions/neurod.june2019.chr15.pd_regions.filtered.sorted.mac5 &\n",
      "plink --vcf neurod.june2019.chr16.pd_regions.filtered.sorted.vcf.gz --mac 5 --make-bed --out /labshare/anni/pd_regions/neurod.june2019.chr16.pd_regions.filtered.sorted.mac5 &\n",
      "plink --vcf neurod.june2019.chr17.pd_regions.filtered.sorted.vcf.gz --mac 5 --make-bed --out /labshare/anni/pd_regions/neurod.june2019.chr17.pd_regions.filtered.sorted.mac5 &\n",
      "plink --vcf neurod.june2019.chr18.pd_regions.filtered.sorted.vcf.gz --mac 5 --make-bed --out /labshare/anni/pd_regions/neurod.june2019.chr18.pd_regions.filtered.sorted.mac5 &\n",
      "plink --vcf neurod.june2019.chr19.pd_regions.filtered.sorted.vcf.gz --mac 5 --make-bed --out /labshare/anni/pd_regions/neurod.june2019.chr19.pd_regions.filtered.sorted.mac5 &\n",
      "plink --vcf neurod.june2019.chr20.pd_regions.filtered.sorted.vcf.gz --mac 5 --make-bed --out /labshare/anni/pd_regions/neurod.june2019.chr20.pd_regions.filtered.sorted.mac5 &\n",
      "plink --vcf neurod.june2019.chr21.pd_regions.filtered.sorted.vcf.gz --mac 5 --make-bed --out /labshare/anni/pd_regions/neurod.june2019.chr21.pd_regions.filtered.sorted.mac5 &\n"
     ]
    }
   ],
   "source": [
    "#convert neurod to plink binary files\n",
    "##filter topmed plink files\n",
    "\n",
    "##ONLY MAC >= 5 \n",
    "#directory = /labshare/raph/spd/finemap/reference_panels/\n",
    "out = '/labshare/anni/pd_regions/'\n",
    "\n",
    "for num in range(1,22):\n",
    "    print(\"plink --vcf neurod.june2019.chr{}.pd_regions.filtered.sorted.vcf.gz --mac 5 --make-bed --out {}neurod.june2019.chr{}.pd_regions.filtered.sorted.mac5 &\".format(num,out,num))\n",
    "    "
   ]
  },
  {
   "cell_type": "code",
   "execution_count": 5,
   "metadata": {},
   "outputs": [
    {
     "name": "stdout",
     "output_type": "stream",
     "text": [
      "plink --vcf neurod.june2019.chr1.pd_regions.filtered.sorted.vcf.gz --maf 0.001 --make-bed --out /labshare/anni/pd_regions/neurod.june2019.chr1.pd_regions.filtered.sorted.maf0.001 &\n",
      "plink --vcf neurod.june2019.chr2.pd_regions.filtered.sorted.vcf.gz --maf 0.001 --make-bed --out /labshare/anni/pd_regions/neurod.june2019.chr2.pd_regions.filtered.sorted.maf0.001 &\n",
      "plink --vcf neurod.june2019.chr3.pd_regions.filtered.sorted.vcf.gz --maf 0.001 --make-bed --out /labshare/anni/pd_regions/neurod.june2019.chr3.pd_regions.filtered.sorted.maf0.001 &\n",
      "plink --vcf neurod.june2019.chr4.pd_regions.filtered.sorted.vcf.gz --maf 0.001 --make-bed --out /labshare/anni/pd_regions/neurod.june2019.chr4.pd_regions.filtered.sorted.maf0.001 &\n",
      "plink --vcf neurod.june2019.chr5.pd_regions.filtered.sorted.vcf.gz --maf 0.001 --make-bed --out /labshare/anni/pd_regions/neurod.june2019.chr5.pd_regions.filtered.sorted.maf0.001 &\n",
      "plink --vcf neurod.june2019.chr6.pd_regions.filtered.sorted.vcf.gz --maf 0.001 --make-bed --out /labshare/anni/pd_regions/neurod.june2019.chr6.pd_regions.filtered.sorted.maf0.001 &\n",
      "plink --vcf neurod.june2019.chr7.pd_regions.filtered.sorted.vcf.gz --maf 0.001 --make-bed --out /labshare/anni/pd_regions/neurod.june2019.chr7.pd_regions.filtered.sorted.maf0.001 &\n",
      "plink --vcf neurod.june2019.chr8.pd_regions.filtered.sorted.vcf.gz --maf 0.001 --make-bed --out /labshare/anni/pd_regions/neurod.june2019.chr8.pd_regions.filtered.sorted.maf0.001 &\n",
      "plink --vcf neurod.june2019.chr9.pd_regions.filtered.sorted.vcf.gz --maf 0.001 --make-bed --out /labshare/anni/pd_regions/neurod.june2019.chr9.pd_regions.filtered.sorted.maf0.001 &\n",
      "plink --vcf neurod.june2019.chr10.pd_regions.filtered.sorted.vcf.gz --maf 0.001 --make-bed --out /labshare/anni/pd_regions/neurod.june2019.chr10.pd_regions.filtered.sorted.maf0.001 &\n",
      "plink --vcf neurod.june2019.chr11.pd_regions.filtered.sorted.vcf.gz --maf 0.001 --make-bed --out /labshare/anni/pd_regions/neurod.june2019.chr11.pd_regions.filtered.sorted.maf0.001 &\n",
      "plink --vcf neurod.june2019.chr12.pd_regions.filtered.sorted.vcf.gz --maf 0.001 --make-bed --out /labshare/anni/pd_regions/neurod.june2019.chr12.pd_regions.filtered.sorted.maf0.001 &\n",
      "plink --vcf neurod.june2019.chr13.pd_regions.filtered.sorted.vcf.gz --maf 0.001 --make-bed --out /labshare/anni/pd_regions/neurod.june2019.chr13.pd_regions.filtered.sorted.maf0.001 &\n",
      "plink --vcf neurod.june2019.chr14.pd_regions.filtered.sorted.vcf.gz --maf 0.001 --make-bed --out /labshare/anni/pd_regions/neurod.june2019.chr14.pd_regions.filtered.sorted.maf0.001 &\n",
      "plink --vcf neurod.june2019.chr15.pd_regions.filtered.sorted.vcf.gz --maf 0.001 --make-bed --out /labshare/anni/pd_regions/neurod.june2019.chr15.pd_regions.filtered.sorted.maf0.001 &\n",
      "plink --vcf neurod.june2019.chr16.pd_regions.filtered.sorted.vcf.gz --maf 0.001 --make-bed --out /labshare/anni/pd_regions/neurod.june2019.chr16.pd_regions.filtered.sorted.maf0.001 &\n",
      "plink --vcf neurod.june2019.chr17.pd_regions.filtered.sorted.vcf.gz --maf 0.001 --make-bed --out /labshare/anni/pd_regions/neurod.june2019.chr17.pd_regions.filtered.sorted.maf0.001 &\n",
      "plink --vcf neurod.june2019.chr18.pd_regions.filtered.sorted.vcf.gz --maf 0.001 --make-bed --out /labshare/anni/pd_regions/neurod.june2019.chr18.pd_regions.filtered.sorted.maf0.001 &\n",
      "plink --vcf neurod.june2019.chr19.pd_regions.filtered.sorted.vcf.gz --maf 0.001 --make-bed --out /labshare/anni/pd_regions/neurod.june2019.chr19.pd_regions.filtered.sorted.maf0.001 &\n",
      "plink --vcf neurod.june2019.chr20.pd_regions.filtered.sorted.vcf.gz --maf 0.001 --make-bed --out /labshare/anni/pd_regions/neurod.june2019.chr20.pd_regions.filtered.sorted.maf0.001 &\n",
      "plink --vcf neurod.june2019.chr21.pd_regions.filtered.sorted.vcf.gz --maf 0.001 --make-bed --out /labshare/anni/pd_regions/neurod.june2019.chr21.pd_regions.filtered.sorted.maf0.001 &\n"
     ]
    }
   ],
   "source": [
    "#convert neurod to plink binary files\n",
    "##filter topmed plink files\n",
    "\n",
    "##ONLY MAF >= 0.001\n",
    "\n",
    "# #directory = /labshare/raph/spd/finemap/reference_panels/\n",
    "out = '/labshare/anni/pd_regions/'\n",
    "\n",
    "for num in range(1,22):\n",
    "    print(\"plink --vcf neurod.june2019.chr{}.pd_regions.filtered.sorted.vcf.gz --maf 0.001 --make-bed --out {}neurod.june2019.chr{}.pd_regions.filtered.sorted.maf0.001 &\".format(num,out,num))\n"
   ]
  },
  {
   "cell_type": "code",
   "execution_count": 31,
   "metadata": {},
   "outputs": [
    {
     "name": "stdout",
     "output_type": "stream",
     "text": [
      "awk '{print $2}' topmed.freeze5b.chr1.pd_regions.filtered.sorted.plinkfilt.bim > topmed.freeze5b.chr1.pd_regions.filtered.sorted.plinkfilt.vars &\n",
      "awk '{print $2}' topmed.freeze5b.chr2.pd_regions.filtered.sorted.plinkfilt.bim > topmed.freeze5b.chr2.pd_regions.filtered.sorted.plinkfilt.vars &\n",
      "awk '{print $2}' topmed.freeze5b.chr3.pd_regions.filtered.sorted.plinkfilt.bim > topmed.freeze5b.chr3.pd_regions.filtered.sorted.plinkfilt.vars &\n",
      "awk '{print $2}' topmed.freeze5b.chr4.pd_regions.filtered.sorted.plinkfilt.bim > topmed.freeze5b.chr4.pd_regions.filtered.sorted.plinkfilt.vars &\n",
      "awk '{print $2}' topmed.freeze5b.chr5.pd_regions.filtered.sorted.plinkfilt.bim > topmed.freeze5b.chr5.pd_regions.filtered.sorted.plinkfilt.vars &\n",
      "awk '{print $2}' topmed.freeze5b.chr6.pd_regions.filtered.sorted.plinkfilt.bim > topmed.freeze5b.chr6.pd_regions.filtered.sorted.plinkfilt.vars &\n",
      "awk '{print $2}' topmed.freeze5b.chr7.pd_regions.filtered.sorted.plinkfilt.bim > topmed.freeze5b.chr7.pd_regions.filtered.sorted.plinkfilt.vars &\n",
      "awk '{print $2}' topmed.freeze5b.chr8.pd_regions.filtered.sorted.plinkfilt.bim > topmed.freeze5b.chr8.pd_regions.filtered.sorted.plinkfilt.vars &\n",
      "awk '{print $2}' topmed.freeze5b.chr9.pd_regions.filtered.sorted.plinkfilt.bim > topmed.freeze5b.chr9.pd_regions.filtered.sorted.plinkfilt.vars &\n",
      "awk '{print $2}' topmed.freeze5b.chr10.pd_regions.filtered.sorted.plinkfilt.bim > topmed.freeze5b.chr10.pd_regions.filtered.sorted.plinkfilt.vars &\n",
      "awk '{print $2}' topmed.freeze5b.chr11.pd_regions.filtered.sorted.plinkfilt.bim > topmed.freeze5b.chr11.pd_regions.filtered.sorted.plinkfilt.vars &\n",
      "awk '{print $2}' topmed.freeze5b.chr12.pd_regions.filtered.sorted.plinkfilt.bim > topmed.freeze5b.chr12.pd_regions.filtered.sorted.plinkfilt.vars &\n",
      "awk '{print $2}' topmed.freeze5b.chr13.pd_regions.filtered.sorted.plinkfilt.bim > topmed.freeze5b.chr13.pd_regions.filtered.sorted.plinkfilt.vars &\n",
      "awk '{print $2}' topmed.freeze5b.chr14.pd_regions.filtered.sorted.plinkfilt.bim > topmed.freeze5b.chr14.pd_regions.filtered.sorted.plinkfilt.vars &\n",
      "awk '{print $2}' topmed.freeze5b.chr15.pd_regions.filtered.sorted.plinkfilt.bim > topmed.freeze5b.chr15.pd_regions.filtered.sorted.plinkfilt.vars &\n",
      "awk '{print $2}' topmed.freeze5b.chr16.pd_regions.filtered.sorted.plinkfilt.bim > topmed.freeze5b.chr16.pd_regions.filtered.sorted.plinkfilt.vars &\n",
      "awk '{print $2}' topmed.freeze5b.chr17.pd_regions.filtered.sorted.plinkfilt.bim > topmed.freeze5b.chr17.pd_regions.filtered.sorted.plinkfilt.vars &\n",
      "awk '{print $2}' topmed.freeze5b.chr18.pd_regions.filtered.sorted.plinkfilt.bim > topmed.freeze5b.chr18.pd_regions.filtered.sorted.plinkfilt.vars &\n",
      "awk '{print $2}' topmed.freeze5b.chr19.pd_regions.filtered.sorted.plinkfilt.bim > topmed.freeze5b.chr19.pd_regions.filtered.sorted.plinkfilt.vars &\n",
      "awk '{print $2}' topmed.freeze5b.chr20.pd_regions.filtered.sorted.plinkfilt.bim > topmed.freeze5b.chr20.pd_regions.filtered.sorted.plinkfilt.vars &\n",
      "awk '{print $2}' topmed.freeze5b.chr21.pd_regions.filtered.sorted.plinkfilt.bim > topmed.freeze5b.chr21.pd_regions.filtered.sorted.plinkfilt.vars &\n",
      "\n",
      "cat topmed.freeze5b*pd_regions.filtered.sorted.plinkfilt.vars > topmed.freeze5b.all.pd_regions.filtered.sorted.plinkfilt.vars\n"
     ]
    }
   ],
   "source": [
    "##make separate file of just topmed variants\n",
    "for num in range(1,22):\n",
    "    print(\"awk '{{print $2}}' topmed.freeze5b.chr{}.pd_regions.filtered.sorted.plinkfilt.bim > topmed.freeze5b.chr{}.pd_regions.filtered.sorted.plinkfilt.vars &\".format(num,num))\n",
    "\n",
    "print(\"\")\n",
    "#combining all topmed variant ids\n",
    "print(\"cat topmed.freeze5b*pd_regions.filtered.sorted.plinkfilt.vars > topmed.freeze5b.all.pd_regions.filtered.sorted.plinkfilt.vars\")"
   ]
  },
  {
   "cell_type": "code",
   "execution_count": 1,
   "metadata": {},
   "outputs": [
    {
     "name": "stdout",
     "output_type": "stream",
     "text": [
      "awk '{print $2}' topmed.freeze5b.chr1.pd_regions.filtered.sorted.mac5.bim > topmed.freeze5b.chr1.pd_regions.filtered.sorted.mac5.vars &\n",
      "awk '{print $2}' topmed.freeze5b.chr2.pd_regions.filtered.sorted.mac5.bim > topmed.freeze5b.chr2.pd_regions.filtered.sorted.mac5.vars &\n",
      "awk '{print $2}' topmed.freeze5b.chr3.pd_regions.filtered.sorted.mac5.bim > topmed.freeze5b.chr3.pd_regions.filtered.sorted.mac5.vars &\n",
      "awk '{print $2}' topmed.freeze5b.chr4.pd_regions.filtered.sorted.mac5.bim > topmed.freeze5b.chr4.pd_regions.filtered.sorted.mac5.vars &\n",
      "awk '{print $2}' topmed.freeze5b.chr5.pd_regions.filtered.sorted.mac5.bim > topmed.freeze5b.chr5.pd_regions.filtered.sorted.mac5.vars &\n",
      "awk '{print $2}' topmed.freeze5b.chr6.pd_regions.filtered.sorted.mac5.bim > topmed.freeze5b.chr6.pd_regions.filtered.sorted.mac5.vars &\n",
      "awk '{print $2}' topmed.freeze5b.chr7.pd_regions.filtered.sorted.mac5.bim > topmed.freeze5b.chr7.pd_regions.filtered.sorted.mac5.vars &\n",
      "awk '{print $2}' topmed.freeze5b.chr8.pd_regions.filtered.sorted.mac5.bim > topmed.freeze5b.chr8.pd_regions.filtered.sorted.mac5.vars &\n",
      "awk '{print $2}' topmed.freeze5b.chr9.pd_regions.filtered.sorted.mac5.bim > topmed.freeze5b.chr9.pd_regions.filtered.sorted.mac5.vars &\n",
      "awk '{print $2}' topmed.freeze5b.chr10.pd_regions.filtered.sorted.mac5.bim > topmed.freeze5b.chr10.pd_regions.filtered.sorted.mac5.vars &\n",
      "awk '{print $2}' topmed.freeze5b.chr11.pd_regions.filtered.sorted.mac5.bim > topmed.freeze5b.chr11.pd_regions.filtered.sorted.mac5.vars &\n",
      "awk '{print $2}' topmed.freeze5b.chr12.pd_regions.filtered.sorted.mac5.bim > topmed.freeze5b.chr12.pd_regions.filtered.sorted.mac5.vars &\n",
      "awk '{print $2}' topmed.freeze5b.chr13.pd_regions.filtered.sorted.mac5.bim > topmed.freeze5b.chr13.pd_regions.filtered.sorted.mac5.vars &\n",
      "awk '{print $2}' topmed.freeze5b.chr14.pd_regions.filtered.sorted.mac5.bim > topmed.freeze5b.chr14.pd_regions.filtered.sorted.mac5.vars &\n",
      "awk '{print $2}' topmed.freeze5b.chr15.pd_regions.filtered.sorted.mac5.bim > topmed.freeze5b.chr15.pd_regions.filtered.sorted.mac5.vars &\n",
      "awk '{print $2}' topmed.freeze5b.chr16.pd_regions.filtered.sorted.mac5.bim > topmed.freeze5b.chr16.pd_regions.filtered.sorted.mac5.vars &\n",
      "awk '{print $2}' topmed.freeze5b.chr17.pd_regions.filtered.sorted.mac5.bim > topmed.freeze5b.chr17.pd_regions.filtered.sorted.mac5.vars &\n",
      "awk '{print $2}' topmed.freeze5b.chr18.pd_regions.filtered.sorted.mac5.bim > topmed.freeze5b.chr18.pd_regions.filtered.sorted.mac5.vars &\n",
      "awk '{print $2}' topmed.freeze5b.chr19.pd_regions.filtered.sorted.mac5.bim > topmed.freeze5b.chr19.pd_regions.filtered.sorted.mac5.vars &\n",
      "awk '{print $2}' topmed.freeze5b.chr20.pd_regions.filtered.sorted.mac5.bim > topmed.freeze5b.chr20.pd_regions.filtered.sorted.mac5.vars &\n",
      "awk '{print $2}' topmed.freeze5b.chr21.pd_regions.filtered.sorted.mac5.bim > topmed.freeze5b.chr21.pd_regions.filtered.sorted.mac5.vars &\n",
      "\n",
      "awk '{print $2}' topmed.freeze5b.chr1.pd_regions.filtered.sorted.maf0.001.bim > topmed.freeze5b.chr1.pd_regions.filtered.sorted.maf0.001.vars &\n",
      "awk '{print $2}' topmed.freeze5b.chr2.pd_regions.filtered.sorted.maf0.001.bim > topmed.freeze5b.chr2.pd_regions.filtered.sorted.maf0.001.vars &\n",
      "awk '{print $2}' topmed.freeze5b.chr3.pd_regions.filtered.sorted.maf0.001.bim > topmed.freeze5b.chr3.pd_regions.filtered.sorted.maf0.001.vars &\n",
      "awk '{print $2}' topmed.freeze5b.chr4.pd_regions.filtered.sorted.maf0.001.bim > topmed.freeze5b.chr4.pd_regions.filtered.sorted.maf0.001.vars &\n",
      "awk '{print $2}' topmed.freeze5b.chr5.pd_regions.filtered.sorted.maf0.001.bim > topmed.freeze5b.chr5.pd_regions.filtered.sorted.maf0.001.vars &\n",
      "awk '{print $2}' topmed.freeze5b.chr6.pd_regions.filtered.sorted.maf0.001.bim > topmed.freeze5b.chr6.pd_regions.filtered.sorted.maf0.001.vars &\n",
      "awk '{print $2}' topmed.freeze5b.chr7.pd_regions.filtered.sorted.maf0.001.bim > topmed.freeze5b.chr7.pd_regions.filtered.sorted.maf0.001.vars &\n",
      "awk '{print $2}' topmed.freeze5b.chr8.pd_regions.filtered.sorted.maf0.001.bim > topmed.freeze5b.chr8.pd_regions.filtered.sorted.maf0.001.vars &\n",
      "awk '{print $2}' topmed.freeze5b.chr9.pd_regions.filtered.sorted.maf0.001.bim > topmed.freeze5b.chr9.pd_regions.filtered.sorted.maf0.001.vars &\n",
      "awk '{print $2}' topmed.freeze5b.chr10.pd_regions.filtered.sorted.maf0.001.bim > topmed.freeze5b.chr10.pd_regions.filtered.sorted.maf0.001.vars &\n",
      "awk '{print $2}' topmed.freeze5b.chr11.pd_regions.filtered.sorted.maf0.001.bim > topmed.freeze5b.chr11.pd_regions.filtered.sorted.maf0.001.vars &\n",
      "awk '{print $2}' topmed.freeze5b.chr12.pd_regions.filtered.sorted.maf0.001.bim > topmed.freeze5b.chr12.pd_regions.filtered.sorted.maf0.001.vars &\n",
      "awk '{print $2}' topmed.freeze5b.chr13.pd_regions.filtered.sorted.maf0.001.bim > topmed.freeze5b.chr13.pd_regions.filtered.sorted.maf0.001.vars &\n",
      "awk '{print $2}' topmed.freeze5b.chr14.pd_regions.filtered.sorted.maf0.001.bim > topmed.freeze5b.chr14.pd_regions.filtered.sorted.maf0.001.vars &\n",
      "awk '{print $2}' topmed.freeze5b.chr15.pd_regions.filtered.sorted.maf0.001.bim > topmed.freeze5b.chr15.pd_regions.filtered.sorted.maf0.001.vars &\n",
      "awk '{print $2}' topmed.freeze5b.chr16.pd_regions.filtered.sorted.maf0.001.bim > topmed.freeze5b.chr16.pd_regions.filtered.sorted.maf0.001.vars &\n",
      "awk '{print $2}' topmed.freeze5b.chr17.pd_regions.filtered.sorted.maf0.001.bim > topmed.freeze5b.chr17.pd_regions.filtered.sorted.maf0.001.vars &\n",
      "awk '{print $2}' topmed.freeze5b.chr18.pd_regions.filtered.sorted.maf0.001.bim > topmed.freeze5b.chr18.pd_regions.filtered.sorted.maf0.001.vars &\n",
      "awk '{print $2}' topmed.freeze5b.chr19.pd_regions.filtered.sorted.maf0.001.bim > topmed.freeze5b.chr19.pd_regions.filtered.sorted.maf0.001.vars &\n",
      "awk '{print $2}' topmed.freeze5b.chr20.pd_regions.filtered.sorted.maf0.001.bim > topmed.freeze5b.chr20.pd_regions.filtered.sorted.maf0.001.vars &\n",
      "awk '{print $2}' topmed.freeze5b.chr21.pd_regions.filtered.sorted.maf0.001.bim > topmed.freeze5b.chr21.pd_regions.filtered.sorted.maf0.001.vars &\n",
      "\n",
      "cat topmed.freeze5b*pd_regions.filtered.sorted.mac5.vars > topmed.freeze5b.all.pd_regions.filtered.sorted.mac5.vars\n",
      "\n",
      "cat topmed.freeze5b*pd_regions.filtered.sorted.maf0.001.vars > topmed.freeze5b.all.pd_regions.filtered.sorted.maf0.001.vars\n"
     ]
    }
   ],
   "source": [
    "##make separate file of just topmed variants\n",
    "for num in range(1,22):\n",
    "    print(\"awk '{{print $2}}' topmed.freeze5b.chr{}.pd_regions.filtered.sorted.mac5.bim > topmed.freeze5b.chr{}.pd_regions.filtered.sorted.mac5.vars &\".format(num,num))\n",
    "\n",
    "print(\"\")    \n",
    "    \n",
    "##make separate file of just topmed variants\n",
    "for num in range(1,22):\n",
    "    print(\"awk '{{print $2}}' topmed.freeze5b.chr{}.pd_regions.filtered.sorted.maf0.001.bim > topmed.freeze5b.chr{}.pd_regions.filtered.sorted.maf0.001.vars &\".format(num,num))\n",
    "\n",
    "\n",
    "\n",
    "print(\"\")\n",
    "#combining all topmed variant ids\n",
    "print(\"cat topmed.freeze5b*pd_regions.filtered.sorted.mac5.vars > topmed.freeze5b.all.pd_regions.filtered.sorted.mac5.vars\")\n",
    "\n",
    "print(\"\")\n",
    "#combining all topmed variant ids\n",
    "print(\"cat topmed.freeze5b*pd_regions.filtered.sorted.maf0.001.vars > topmed.freeze5b.all.pd_regions.filtered.sorted.maf0.001.vars\")"
   ]
  },
  {
   "cell_type": "code",
   "execution_count": 31,
   "metadata": {},
   "outputs": [
    {
     "name": "stdout",
     "output_type": "stream",
     "text": [
      "awk '{print $2}' neurod.june2019.chr1.pd_regions.filtered.sorted.mac5.bim > neurod.june2019.chr1.pd_regions.filtered.sorted.mac5.vars &\n",
      "awk '{print $2}' neurod.june2019.chr2.pd_regions.filtered.sorted.mac5.bim > neurod.june2019.chr2.pd_regions.filtered.sorted.mac5.vars &\n",
      "awk '{print $2}' neurod.june2019.chr3.pd_regions.filtered.sorted.mac5.bim > neurod.june2019.chr3.pd_regions.filtered.sorted.mac5.vars &\n",
      "awk '{print $2}' neurod.june2019.chr4.pd_regions.filtered.sorted.mac5.bim > neurod.june2019.chr4.pd_regions.filtered.sorted.mac5.vars &\n",
      "awk '{print $2}' neurod.june2019.chr5.pd_regions.filtered.sorted.mac5.bim > neurod.june2019.chr5.pd_regions.filtered.sorted.mac5.vars &\n",
      "awk '{print $2}' neurod.june2019.chr6.pd_regions.filtered.sorted.mac5.bim > neurod.june2019.chr6.pd_regions.filtered.sorted.mac5.vars &\n",
      "awk '{print $2}' neurod.june2019.chr7.pd_regions.filtered.sorted.mac5.bim > neurod.june2019.chr7.pd_regions.filtered.sorted.mac5.vars &\n",
      "awk '{print $2}' neurod.june2019.chr8.pd_regions.filtered.sorted.mac5.bim > neurod.june2019.chr8.pd_regions.filtered.sorted.mac5.vars &\n",
      "awk '{print $2}' neurod.june2019.chr9.pd_regions.filtered.sorted.mac5.bim > neurod.june2019.chr9.pd_regions.filtered.sorted.mac5.vars &\n",
      "awk '{print $2}' neurod.june2019.chr10.pd_regions.filtered.sorted.mac5.bim > neurod.june2019.chr10.pd_regions.filtered.sorted.mac5.vars &\n",
      "awk '{print $2}' neurod.june2019.chr11.pd_regions.filtered.sorted.mac5.bim > neurod.june2019.chr11.pd_regions.filtered.sorted.mac5.vars &\n",
      "awk '{print $2}' neurod.june2019.chr12.pd_regions.filtered.sorted.mac5.bim > neurod.june2019.chr12.pd_regions.filtered.sorted.mac5.vars &\n",
      "awk '{print $2}' neurod.june2019.chr13.pd_regions.filtered.sorted.mac5.bim > neurod.june2019.chr13.pd_regions.filtered.sorted.mac5.vars &\n",
      "awk '{print $2}' neurod.june2019.chr14.pd_regions.filtered.sorted.mac5.bim > neurod.june2019.chr14.pd_regions.filtered.sorted.mac5.vars &\n",
      "awk '{print $2}' neurod.june2019.chr15.pd_regions.filtered.sorted.mac5.bim > neurod.june2019.chr15.pd_regions.filtered.sorted.mac5.vars &\n",
      "awk '{print $2}' neurod.june2019.chr16.pd_regions.filtered.sorted.mac5.bim > neurod.june2019.chr16.pd_regions.filtered.sorted.mac5.vars &\n",
      "awk '{print $2}' neurod.june2019.chr17.pd_regions.filtered.sorted.mac5.bim > neurod.june2019.chr17.pd_regions.filtered.sorted.mac5.vars &\n",
      "awk '{print $2}' neurod.june2019.chr18.pd_regions.filtered.sorted.mac5.bim > neurod.june2019.chr18.pd_regions.filtered.sorted.mac5.vars &\n",
      "awk '{print $2}' neurod.june2019.chr19.pd_regions.filtered.sorted.mac5.bim > neurod.june2019.chr19.pd_regions.filtered.sorted.mac5.vars &\n",
      "awk '{print $2}' neurod.june2019.chr20.pd_regions.filtered.sorted.mac5.bim > neurod.june2019.chr20.pd_regions.filtered.sorted.mac5.vars &\n",
      "awk '{print $2}' neurod.june2019.chr21.pd_regions.filtered.sorted.mac5.bim > neurod.june2019.chr21.pd_regions.filtered.sorted.mac5.vars &\n",
      "\n",
      "awk '{print $2}' neurod.june2019.chr1.pd_regions.filtered.sorted.maf0.001.bim > neurod.june2019.chr1.pd_regions.filtered.sorted.maf0.001.vars &\n",
      "awk '{print $2}' neurod.june2019.chr2.pd_regions.filtered.sorted.maf0.001.bim > neurod.june2019.chr2.pd_regions.filtered.sorted.maf0.001.vars &\n",
      "awk '{print $2}' neurod.june2019.chr3.pd_regions.filtered.sorted.maf0.001.bim > neurod.june2019.chr3.pd_regions.filtered.sorted.maf0.001.vars &\n",
      "awk '{print $2}' neurod.june2019.chr4.pd_regions.filtered.sorted.maf0.001.bim > neurod.june2019.chr4.pd_regions.filtered.sorted.maf0.001.vars &\n",
      "awk '{print $2}' neurod.june2019.chr5.pd_regions.filtered.sorted.maf0.001.bim > neurod.june2019.chr5.pd_regions.filtered.sorted.maf0.001.vars &\n",
      "awk '{print $2}' neurod.june2019.chr6.pd_regions.filtered.sorted.maf0.001.bim > neurod.june2019.chr6.pd_regions.filtered.sorted.maf0.001.vars &\n",
      "awk '{print $2}' neurod.june2019.chr7.pd_regions.filtered.sorted.maf0.001.bim > neurod.june2019.chr7.pd_regions.filtered.sorted.maf0.001.vars &\n",
      "awk '{print $2}' neurod.june2019.chr8.pd_regions.filtered.sorted.maf0.001.bim > neurod.june2019.chr8.pd_regions.filtered.sorted.maf0.001.vars &\n",
      "awk '{print $2}' neurod.june2019.chr9.pd_regions.filtered.sorted.maf0.001.bim > neurod.june2019.chr9.pd_regions.filtered.sorted.maf0.001.vars &\n",
      "awk '{print $2}' neurod.june2019.chr10.pd_regions.filtered.sorted.maf0.001.bim > neurod.june2019.chr10.pd_regions.filtered.sorted.maf0.001.vars &\n",
      "awk '{print $2}' neurod.june2019.chr11.pd_regions.filtered.sorted.maf0.001.bim > neurod.june2019.chr11.pd_regions.filtered.sorted.maf0.001.vars &\n",
      "awk '{print $2}' neurod.june2019.chr12.pd_regions.filtered.sorted.maf0.001.bim > neurod.june2019.chr12.pd_regions.filtered.sorted.maf0.001.vars &\n",
      "awk '{print $2}' neurod.june2019.chr13.pd_regions.filtered.sorted.maf0.001.bim > neurod.june2019.chr13.pd_regions.filtered.sorted.maf0.001.vars &\n",
      "awk '{print $2}' neurod.june2019.chr14.pd_regions.filtered.sorted.maf0.001.bim > neurod.june2019.chr14.pd_regions.filtered.sorted.maf0.001.vars &\n",
      "awk '{print $2}' neurod.june2019.chr15.pd_regions.filtered.sorted.maf0.001.bim > neurod.june2019.chr15.pd_regions.filtered.sorted.maf0.001.vars &\n",
      "awk '{print $2}' neurod.june2019.chr16.pd_regions.filtered.sorted.maf0.001.bim > neurod.june2019.chr16.pd_regions.filtered.sorted.maf0.001.vars &\n",
      "awk '{print $2}' neurod.june2019.chr17.pd_regions.filtered.sorted.maf0.001.bim > neurod.june2019.chr17.pd_regions.filtered.sorted.maf0.001.vars &\n",
      "awk '{print $2}' neurod.june2019.chr18.pd_regions.filtered.sorted.maf0.001.bim > neurod.june2019.chr18.pd_regions.filtered.sorted.maf0.001.vars &\n",
      "awk '{print $2}' neurod.june2019.chr19.pd_regions.filtered.sorted.maf0.001.bim > neurod.june2019.chr19.pd_regions.filtered.sorted.maf0.001.vars &\n",
      "awk '{print $2}' neurod.june2019.chr20.pd_regions.filtered.sorted.maf0.001.bim > neurod.june2019.chr20.pd_regions.filtered.sorted.maf0.001.vars &\n",
      "awk '{print $2}' neurod.june2019.chr21.pd_regions.filtered.sorted.maf0.001.bim > neurod.june2019.chr21.pd_regions.filtered.sorted.maf0.001.vars &\n",
      "\n",
      "cat neurod.june2019*pd_regions.filtered.sorted.mac5.vars > neurod.june2019.all.pd_regions.filtered.sorted.mac5.vars\n",
      "\n",
      "cat neurod.june2019*pd_regions.filtered.sorted.maf0.001.vars > neurod.june2019.all.pd_regions.filtered.sorted.maf0.001.vars\n"
     ]
    }
   ],
   "source": [
    "##make separate file of just neurod variants\n",
    "for num in range(1,22):\n",
    "    print(\"awk '{{print $2}}' neurod.june2019.chr{}.pd_regions.filtered.sorted.mac5.bim > neurod.june2019.chr{}.pd_regions.filtered.sorted.mac5.vars &\".format(num,num))\n",
    "\n",
    "print(\"\")\n",
    "\n",
    "for num in range(1,22):\n",
    "    print(\"awk '{{print $2}}' neurod.june2019.chr{}.pd_regions.filtered.sorted.maf0.001.bim > neurod.june2019.chr{}.pd_regions.filtered.sorted.maf0.001.vars &\".format(num,num))\n",
    "print(\"\")\n",
    "\n",
    "#combining all neurod variant ids \n",
    "print(\"cat neurod.june2019*pd_regions.filtered.sorted.mac5.vars > neurod.june2019.all.pd_regions.filtered.sorted.mac5.vars\")\n",
    "\n",
    "print(\"\")\n",
    "#combining all neurod variant ids \n",
    "print(\"cat neurod.june2019*pd_regions.filtered.sorted.maf0.001.vars > neurod.june2019.all.pd_regions.filtered.sorted.maf0.001.vars\")"
   ]
  },
  {
   "cell_type": "code",
   "execution_count": 36,
   "metadata": {},
   "outputs": [
    {
     "name": "stdout",
     "output_type": "stream",
     "text": [
      "grep -wFf topmed.freeze5b.all.pd_regions.filtered.sorted.plinkfilt.vars /labshare/anni/LNG1.9/neurod.june2019.all.pd_regions.filtered.sorted.plinkfilt.vars > /labshare/anni/TOPMed_neurod/topmed.neurod.all.pd_regions.filtered.sorted.plinkfilt.vars\n"
     ]
    }
   ],
   "source": [
    "##make list of topmed/neurod overlapping variant ids\n",
    "##directory in topmed files\n",
    "\n",
    "topmed = \"topmed.freeze5b.all.pd_regions.filtered.sorted.plinkfilt.vars\"\n",
    "neurod = \"/labshare/anni/LNG1.9/neurod.june2019.all.pd_regions.filtered.sorted.plinkfilt.vars\"\n",
    "output = \"/labshare/anni/TOPMed_neurod/topmed.neurod.all.pd_regions.filtered.sorted.plinkfilt.vars\"\n",
    "\n",
    "print(\"grep -wFf {} {} > {}\".format(topmed, neurod, output))"
   ]
  },
  {
   "cell_type": "code",
   "execution_count": null,
   "metadata": {},
   "outputs": [],
   "source": [
    "##lifting HRC from GRCh37 to hg 19\n",
    "(Dir = ~/picard)\n",
    "\n",
    "java -jar build/libs/picard.jar LiftoverVcf \\\n",
    "I=/labshare/anni/HRC/HRC.r1-1.GRCh37.wgs.mac5.sites.vcf.gz \\\n",
    "O=/labshare/anni/HRC/lifted.hg19.HRC.r1-1.GRCh37.wgs.mac5.sites.vcf.gz \\\n",
    "CHAIN=/labshare/raph/datasets/ucsc/chains/GRCh37ToHg19.over.chain.gz \\\n",
    "REJECT=rejected.hg19.variants.vcf \\\n",
    "R=/labseq/Genomes/hg19/hg19_genome.fa\n",
    "\n"
   ]
  },
  {
   "cell_type": "code",
   "execution_count": null,
   "metadata": {},
   "outputs": [],
   "source": [
    "##lifting HRC from hg19 to hg38\n",
    "\n",
    "java -jar build/libs/picard.jar LiftoverVcf \\\n",
    "I=/labshare/anni/HRC/lifted.hg19HRC.r1-1.GRCh37.wgs.mac5.sites.vcf.gz \\\n",
    "O=/labshare/anni/HRC/lifted.hg38.HRC.r1-1.GRCh37.wgs.mac5.sites.vcf.gz \\\n",
    "CHAIN=/labshare/raph/datasets/ucsc/chains/hg19ToHg38.over.chain.gz \\\n",
    "REJECT=rejected.hg38.variants.vcf \\\n",
    "R=/labseq/Genomes/GRCh38_hg38/broad.v0/Homo_sapiens_assembly38.fasta"
   ]
  },
  {
   "cell_type": "code",
   "execution_count": 37,
   "metadata": {},
   "outputs": [
    {
     "name": "stdout",
     "output_type": "stream",
     "text": [
      "bedtools intersect -header -wa -a lifted.hg38.HRC.r1-1.GRCh37.wgs.mac5.sites.vcf.gz -b regions_with_flank.txt > lifted.hg38.HRC.r1-1.GRCh37.wgs.mac5.sites.pdregions.vcf\n"
     ]
    }
   ],
   "source": [
    "##subsetting HRC vcf by PD subregions\n",
    "#directory is /labshare/anni/HRC/\n",
    "\n",
    "\n",
    "print(\"bedtools intersect -header -wa -a lifted.hg38.HRC.r1-1.GRCh37.wgs.mac5.sites.vcf.gz -b regions_with_flank.txt > lifted.hg38.HRC.r1-1.GRCh37.wgs.mac5.sites.pdregions.vcf\")"
   ]
  },
  {
   "cell_type": "code",
   "execution_count": 3,
   "metadata": {},
   "outputs": [
    {
     "name": "stdout",
     "output_type": "stream",
     "text": [
      "bcftools query -f '%CHROM'\":\"'%POS'\":\"'%REF'\":\"'%ALT %AF\\n' lifted.hg38.HRC.r1-1.GRCh37.wgs.mac5.sites.pdregions.vcf > lifted.hg38.HRC.r1-1.GRCh37.wgs.mac5.sites.pdregions.AF.var\n"
     ]
    }
   ],
   "source": [
    "##getting list of HRC variants with AF\n",
    "\n",
    "\n",
    "print(\"\"\"bcftools query -f '%CHROM'\":\"'%POS'\":\"'%REF'\":\"'%ALT %AF\\\\n' lifted.hg38.HRC.r1-1.GRCh37.wgs.mac5.sites.pdregions.vcf > lifted.hg38.HRC.r1-1.GRCh37.wgs.mac5.sites.pdregions.AF.var\"\"\")\n",
    "\n"
   ]
  },
  {
   "cell_type": "code",
   "execution_count": 5,
   "metadata": {},
   "outputs": [
    {
     "name": "stdout",
     "output_type": "stream",
     "text": [
      "awk '{ if ($2 >= 0.001) { print } }' lifted.hg38.HRC.r1-1.GRCh37.wgs.mac5.sites.pdregions.AF.var > lifted.hg38.HRC.r1-1.GRCh37.wgs.mac5.sites.pdregions.AF0.001.var\n"
     ]
    }
   ],
   "source": [
    "##filtering pd_region HRC by AF (allele frequency), maf 0.001\n",
    "\n",
    "print(\"\"\"awk '{ if ($2 >= 0.001) { print } }' lifted.hg38.HRC.r1-1.GRCh37.wgs.mac5.sites.pdregions.AF.var > lifted.hg38.HRC.r1-1.GRCh37.wgs.mac5.sites.pdregions.AF0.001.var\"\"\")"
   ]
  },
  {
   "cell_type": "code",
   "execution_count": 10,
   "metadata": {},
   "outputs": [
    {
     "name": "stdout",
     "output_type": "stream",
     "text": [
      "grep -Fvxf /labshare/raph/spd/finemap/reference_panels/topmed.freeze5b.variants.failed_svm_disc.chr1.list neurod.june2019.chr1.pd_regions.filtered.sorted.mac5.vars > neurod.june2019.chr1.pd_regions.filtered.sorted.mac5.nofailed.vars\n",
      "grep -Fvxf /labshare/raph/spd/finemap/reference_panels/topmed.freeze5b.variants.failed_svm_disc.chr2.list neurod.june2019.chr2.pd_regions.filtered.sorted.mac5.vars > neurod.june2019.chr2.pd_regions.filtered.sorted.mac5.nofailed.vars\n",
      "grep -Fvxf /labshare/raph/spd/finemap/reference_panels/topmed.freeze5b.variants.failed_svm_disc.chr3.list neurod.june2019.chr3.pd_regions.filtered.sorted.mac5.vars > neurod.june2019.chr3.pd_regions.filtered.sorted.mac5.nofailed.vars\n",
      "grep -Fvxf /labshare/raph/spd/finemap/reference_panels/topmed.freeze5b.variants.failed_svm_disc.chr4.list neurod.june2019.chr4.pd_regions.filtered.sorted.mac5.vars > neurod.june2019.chr4.pd_regions.filtered.sorted.mac5.nofailed.vars\n",
      "grep -Fvxf /labshare/raph/spd/finemap/reference_panels/topmed.freeze5b.variants.failed_svm_disc.chr5.list neurod.june2019.chr5.pd_regions.filtered.sorted.mac5.vars > neurod.june2019.chr5.pd_regions.filtered.sorted.mac5.nofailed.vars\n",
      "grep -Fvxf /labshare/raph/spd/finemap/reference_panels/topmed.freeze5b.variants.failed_svm_disc.chr6.list neurod.june2019.chr6.pd_regions.filtered.sorted.mac5.vars > neurod.june2019.chr6.pd_regions.filtered.sorted.mac5.nofailed.vars\n",
      "grep -Fvxf /labshare/raph/spd/finemap/reference_panels/topmed.freeze5b.variants.failed_svm_disc.chr7.list neurod.june2019.chr7.pd_regions.filtered.sorted.mac5.vars > neurod.june2019.chr7.pd_regions.filtered.sorted.mac5.nofailed.vars\n",
      "grep -Fvxf /labshare/raph/spd/finemap/reference_panels/topmed.freeze5b.variants.failed_svm_disc.chr8.list neurod.june2019.chr8.pd_regions.filtered.sorted.mac5.vars > neurod.june2019.chr8.pd_regions.filtered.sorted.mac5.nofailed.vars\n",
      "grep -Fvxf /labshare/raph/spd/finemap/reference_panels/topmed.freeze5b.variants.failed_svm_disc.chr9.list neurod.june2019.chr9.pd_regions.filtered.sorted.mac5.vars > neurod.june2019.chr9.pd_regions.filtered.sorted.mac5.nofailed.vars\n",
      "grep -Fvxf /labshare/raph/spd/finemap/reference_panels/topmed.freeze5b.variants.failed_svm_disc.chr10.list neurod.june2019.chr10.pd_regions.filtered.sorted.mac5.vars > neurod.june2019.chr10.pd_regions.filtered.sorted.mac5.nofailed.vars\n",
      "grep -Fvxf /labshare/raph/spd/finemap/reference_panels/topmed.freeze5b.variants.failed_svm_disc.chr11.list neurod.june2019.chr11.pd_regions.filtered.sorted.mac5.vars > neurod.june2019.chr11.pd_regions.filtered.sorted.mac5.nofailed.vars\n",
      "grep -Fvxf /labshare/raph/spd/finemap/reference_panels/topmed.freeze5b.variants.failed_svm_disc.chr12.list neurod.june2019.chr12.pd_regions.filtered.sorted.mac5.vars > neurod.june2019.chr12.pd_regions.filtered.sorted.mac5.nofailed.vars\n",
      "grep -Fvxf /labshare/raph/spd/finemap/reference_panels/topmed.freeze5b.variants.failed_svm_disc.chr13.list neurod.june2019.chr13.pd_regions.filtered.sorted.mac5.vars > neurod.june2019.chr13.pd_regions.filtered.sorted.mac5.nofailed.vars\n",
      "grep -Fvxf /labshare/raph/spd/finemap/reference_panels/topmed.freeze5b.variants.failed_svm_disc.chr14.list neurod.june2019.chr14.pd_regions.filtered.sorted.mac5.vars > neurod.june2019.chr14.pd_regions.filtered.sorted.mac5.nofailed.vars\n",
      "grep -Fvxf /labshare/raph/spd/finemap/reference_panels/topmed.freeze5b.variants.failed_svm_disc.chr15.list neurod.june2019.chr15.pd_regions.filtered.sorted.mac5.vars > neurod.june2019.chr15.pd_regions.filtered.sorted.mac5.nofailed.vars\n",
      "grep -Fvxf /labshare/raph/spd/finemap/reference_panels/topmed.freeze5b.variants.failed_svm_disc.chr16.list neurod.june2019.chr16.pd_regions.filtered.sorted.mac5.vars > neurod.june2019.chr16.pd_regions.filtered.sorted.mac5.nofailed.vars\n",
      "grep -Fvxf /labshare/raph/spd/finemap/reference_panels/topmed.freeze5b.variants.failed_svm_disc.chr17.list neurod.june2019.chr17.pd_regions.filtered.sorted.mac5.vars > neurod.june2019.chr17.pd_regions.filtered.sorted.mac5.nofailed.vars\n",
      "grep -Fvxf /labshare/raph/spd/finemap/reference_panels/topmed.freeze5b.variants.failed_svm_disc.chr18.list neurod.june2019.chr18.pd_regions.filtered.sorted.mac5.vars > neurod.june2019.chr18.pd_regions.filtered.sorted.mac5.nofailed.vars\n",
      "grep -Fvxf /labshare/raph/spd/finemap/reference_panels/topmed.freeze5b.variants.failed_svm_disc.chr19.list neurod.june2019.chr19.pd_regions.filtered.sorted.mac5.vars > neurod.june2019.chr19.pd_regions.filtered.sorted.mac5.nofailed.vars\n",
      "grep -Fvxf /labshare/raph/spd/finemap/reference_panels/topmed.freeze5b.variants.failed_svm_disc.chr20.list neurod.june2019.chr20.pd_regions.filtered.sorted.mac5.vars > neurod.june2019.chr20.pd_regions.filtered.sorted.mac5.nofailed.vars\n",
      "grep -Fvxf /labshare/raph/spd/finemap/reference_panels/topmed.freeze5b.variants.failed_svm_disc.chr21.list neurod.june2019.chr21.pd_regions.filtered.sorted.mac5.vars > neurod.june2019.chr21.pd_regions.filtered.sorted.mac5.nofailed.vars\n"
     ]
    }
   ],
   "source": [
    "##removing TOPMed failed variants from LNG pd region sets (mac5)\n",
    "for num in range (1,22):\n",
    "    print(\"grep -Fvxf /labshare/raph/spd/finemap/reference_panels/topmed.freeze5b.variants.failed_svm_disc.chr{}.list neurod.june2019.chr{}.pd_regions.filtered.sorted.mac5.vars > neurod.june2019.chr{}.pd_regions.filtered.sorted.mac5.nofailed.vars\".format(num,num,num))"
   ]
  },
  {
   "cell_type": "code",
   "execution_count": 12,
   "metadata": {},
   "outputs": [
    {
     "name": "stdout",
     "output_type": "stream",
     "text": [
      "grep -Fvxf /labshare/raph/spd/finemap/reference_panels/topmed.freeze5b.variants.failed_svm_disc.chr1.list neurod.june2019.chr1.pd_regions.filtered.sorted.maf0.001.vars > neurod.june2019.chr1.pd_regions.filtered.sorted.maf0.001.nofailed.vars\n",
      "grep -Fvxf /labshare/raph/spd/finemap/reference_panels/topmed.freeze5b.variants.failed_svm_disc.chr2.list neurod.june2019.chr2.pd_regions.filtered.sorted.maf0.001.vars > neurod.june2019.chr2.pd_regions.filtered.sorted.maf0.001.nofailed.vars\n",
      "grep -Fvxf /labshare/raph/spd/finemap/reference_panels/topmed.freeze5b.variants.failed_svm_disc.chr3.list neurod.june2019.chr3.pd_regions.filtered.sorted.maf0.001.vars > neurod.june2019.chr3.pd_regions.filtered.sorted.maf0.001.nofailed.vars\n",
      "grep -Fvxf /labshare/raph/spd/finemap/reference_panels/topmed.freeze5b.variants.failed_svm_disc.chr4.list neurod.june2019.chr4.pd_regions.filtered.sorted.maf0.001.vars > neurod.june2019.chr4.pd_regions.filtered.sorted.maf0.001.nofailed.vars\n",
      "grep -Fvxf /labshare/raph/spd/finemap/reference_panels/topmed.freeze5b.variants.failed_svm_disc.chr5.list neurod.june2019.chr5.pd_regions.filtered.sorted.maf0.001.vars > neurod.june2019.chr5.pd_regions.filtered.sorted.maf0.001.nofailed.vars\n",
      "grep -Fvxf /labshare/raph/spd/finemap/reference_panels/topmed.freeze5b.variants.failed_svm_disc.chr6.list neurod.june2019.chr6.pd_regions.filtered.sorted.maf0.001.vars > neurod.june2019.chr6.pd_regions.filtered.sorted.maf0.001.nofailed.vars\n",
      "grep -Fvxf /labshare/raph/spd/finemap/reference_panels/topmed.freeze5b.variants.failed_svm_disc.chr7.list neurod.june2019.chr7.pd_regions.filtered.sorted.maf0.001.vars > neurod.june2019.chr7.pd_regions.filtered.sorted.maf0.001.nofailed.vars\n",
      "grep -Fvxf /labshare/raph/spd/finemap/reference_panels/topmed.freeze5b.variants.failed_svm_disc.chr8.list neurod.june2019.chr8.pd_regions.filtered.sorted.maf0.001.vars > neurod.june2019.chr8.pd_regions.filtered.sorted.maf0.001.nofailed.vars\n",
      "grep -Fvxf /labshare/raph/spd/finemap/reference_panels/topmed.freeze5b.variants.failed_svm_disc.chr9.list neurod.june2019.chr9.pd_regions.filtered.sorted.maf0.001.vars > neurod.june2019.chr9.pd_regions.filtered.sorted.maf0.001.nofailed.vars\n",
      "grep -Fvxf /labshare/raph/spd/finemap/reference_panels/topmed.freeze5b.variants.failed_svm_disc.chr10.list neurod.june2019.chr10.pd_regions.filtered.sorted.maf0.001.vars > neurod.june2019.chr10.pd_regions.filtered.sorted.maf0.001.nofailed.vars\n",
      "grep -Fvxf /labshare/raph/spd/finemap/reference_panels/topmed.freeze5b.variants.failed_svm_disc.chr11.list neurod.june2019.chr11.pd_regions.filtered.sorted.maf0.001.vars > neurod.june2019.chr11.pd_regions.filtered.sorted.maf0.001.nofailed.vars\n",
      "grep -Fvxf /labshare/raph/spd/finemap/reference_panels/topmed.freeze5b.variants.failed_svm_disc.chr12.list neurod.june2019.chr12.pd_regions.filtered.sorted.maf0.001.vars > neurod.june2019.chr12.pd_regions.filtered.sorted.maf0.001.nofailed.vars\n",
      "grep -Fvxf /labshare/raph/spd/finemap/reference_panels/topmed.freeze5b.variants.failed_svm_disc.chr13.list neurod.june2019.chr13.pd_regions.filtered.sorted.maf0.001.vars > neurod.june2019.chr13.pd_regions.filtered.sorted.maf0.001.nofailed.vars\n",
      "grep -Fvxf /labshare/raph/spd/finemap/reference_panels/topmed.freeze5b.variants.failed_svm_disc.chr14.list neurod.june2019.chr14.pd_regions.filtered.sorted.maf0.001.vars > neurod.june2019.chr14.pd_regions.filtered.sorted.maf0.001.nofailed.vars\n",
      "grep -Fvxf /labshare/raph/spd/finemap/reference_panels/topmed.freeze5b.variants.failed_svm_disc.chr15.list neurod.june2019.chr15.pd_regions.filtered.sorted.maf0.001.vars > neurod.june2019.chr15.pd_regions.filtered.sorted.maf0.001.nofailed.vars\n",
      "grep -Fvxf /labshare/raph/spd/finemap/reference_panels/topmed.freeze5b.variants.failed_svm_disc.chr16.list neurod.june2019.chr16.pd_regions.filtered.sorted.maf0.001.vars > neurod.june2019.chr16.pd_regions.filtered.sorted.maf0.001.nofailed.vars\n",
      "grep -Fvxf /labshare/raph/spd/finemap/reference_panels/topmed.freeze5b.variants.failed_svm_disc.chr17.list neurod.june2019.chr17.pd_regions.filtered.sorted.maf0.001.vars > neurod.june2019.chr17.pd_regions.filtered.sorted.maf0.001.nofailed.vars\n",
      "grep -Fvxf /labshare/raph/spd/finemap/reference_panels/topmed.freeze5b.variants.failed_svm_disc.chr18.list neurod.june2019.chr18.pd_regions.filtered.sorted.maf0.001.vars > neurod.june2019.chr18.pd_regions.filtered.sorted.maf0.001.nofailed.vars\n",
      "grep -Fvxf /labshare/raph/spd/finemap/reference_panels/topmed.freeze5b.variants.failed_svm_disc.chr19.list neurod.june2019.chr19.pd_regions.filtered.sorted.maf0.001.vars > neurod.june2019.chr19.pd_regions.filtered.sorted.maf0.001.nofailed.vars\n",
      "grep -Fvxf /labshare/raph/spd/finemap/reference_panels/topmed.freeze5b.variants.failed_svm_disc.chr20.list neurod.june2019.chr20.pd_regions.filtered.sorted.maf0.001.vars > neurod.june2019.chr20.pd_regions.filtered.sorted.maf0.001.nofailed.vars\n",
      "grep -Fvxf /labshare/raph/spd/finemap/reference_panels/topmed.freeze5b.variants.failed_svm_disc.chr21.list neurod.june2019.chr21.pd_regions.filtered.sorted.maf0.001.vars > neurod.june2019.chr21.pd_regions.filtered.sorted.maf0.001.nofailed.vars\n"
     ]
    }
   ],
   "source": [
    "##removing selected variants from LNG (maf0.001)\n",
    "for num in range (1,22):\n",
    "    print(\"grep -Fvxf /labshare/raph/spd/finemap/reference_panels/topmed.freeze5b.variants.failed_svm_disc.chr{}.list neurod.june2019.chr{}.pd_regions.filtered.sorted.maf0.001.vars > neurod.june2019.chr{}.pd_regions.filtered.sorted.maf0.001.nofailed.vars\".format(num,num,num))"
   ]
  },
  {
   "cell_type": "code",
   "execution_count": 13,
   "metadata": {},
   "outputs": [
    {
     "name": "stdout",
     "output_type": "stream",
     "text": [
      "cat neurod.june2019.chr*.pd_regions.filtered.sorted.mac5.nofailed.vars > neurod.june2019.all.pd_regions.filtered.sorted.mac5.nofailed.vars\n",
      "cat neurod.june2019.chr*.pd_regions.filtered.sorted.maf0.001.nofailed.vars > neurod.june2019.all.pd_regions.filtered.sorted.maf0.001.nofailed.vars\n"
     ]
    }
   ],
   "source": [
    "##directory = /labshare/raph/spd/finemap/reference_panels/\n",
    "##get full list of topmemd failed variants to remove from LNG\n",
    "\n",
    "print('cat neurod.june2019.chr*.pd_regions.filtered.sorted.mac5.nofailed.vars > neurod.june2019.all.pd_regions.filtered.sorted.mac5.nofailed.vars')\n",
    "\n",
    "print('cat neurod.june2019.chr*.pd_regions.filtered.sorted.maf0.001.nofailed.vars > neurod.june2019.all.pd_regions.filtered.sorted.maf0.001.nofailed.vars')"
   ]
  },
  {
   "cell_type": "code",
   "execution_count": 10,
   "metadata": {},
   "outputs": [
    {
     "name": "stdout",
     "output_type": "stream",
     "text": [
      "grep -Fvxf /labshare/raph/spd/finemap/reference_panels/topmed.freeze5b.variants.failed_svm_disc.chr1.list neurod.june2019.chr1.pd_regions.filtered.sorted.mac5.vars > neurod.june2019.chr1.pd_regions.filtered.sorted.mac5.nofailed.vars\n",
      "grep -Fvxf /labshare/raph/spd/finemap/reference_panels/topmed.freeze5b.variants.failed_svm_disc.chr2.list neurod.june2019.chr2.pd_regions.filtered.sorted.mac5.vars > neurod.june2019.chr2.pd_regions.filtered.sorted.mac5.nofailed.vars\n",
      "grep -Fvxf /labshare/raph/spd/finemap/reference_panels/topmed.freeze5b.variants.failed_svm_disc.chr3.list neurod.june2019.chr3.pd_regions.filtered.sorted.mac5.vars > neurod.june2019.chr3.pd_regions.filtered.sorted.mac5.nofailed.vars\n",
      "grep -Fvxf /labshare/raph/spd/finemap/reference_panels/topmed.freeze5b.variants.failed_svm_disc.chr4.list neurod.june2019.chr4.pd_regions.filtered.sorted.mac5.vars > neurod.june2019.chr4.pd_regions.filtered.sorted.mac5.nofailed.vars\n",
      "grep -Fvxf /labshare/raph/spd/finemap/reference_panels/topmed.freeze5b.variants.failed_svm_disc.chr5.list neurod.june2019.chr5.pd_regions.filtered.sorted.mac5.vars > neurod.june2019.chr5.pd_regions.filtered.sorted.mac5.nofailed.vars\n",
      "grep -Fvxf /labshare/raph/spd/finemap/reference_panels/topmed.freeze5b.variants.failed_svm_disc.chr6.list neurod.june2019.chr6.pd_regions.filtered.sorted.mac5.vars > neurod.june2019.chr6.pd_regions.filtered.sorted.mac5.nofailed.vars\n",
      "grep -Fvxf /labshare/raph/spd/finemap/reference_panels/topmed.freeze5b.variants.failed_svm_disc.chr7.list neurod.june2019.chr7.pd_regions.filtered.sorted.mac5.vars > neurod.june2019.chr7.pd_regions.filtered.sorted.mac5.nofailed.vars\n",
      "grep -Fvxf /labshare/raph/spd/finemap/reference_panels/topmed.freeze5b.variants.failed_svm_disc.chr8.list neurod.june2019.chr8.pd_regions.filtered.sorted.mac5.vars > neurod.june2019.chr8.pd_regions.filtered.sorted.mac5.nofailed.vars\n",
      "grep -Fvxf /labshare/raph/spd/finemap/reference_panels/topmed.freeze5b.variants.failed_svm_disc.chr9.list neurod.june2019.chr9.pd_regions.filtered.sorted.mac5.vars > neurod.june2019.chr9.pd_regions.filtered.sorted.mac5.nofailed.vars\n",
      "grep -Fvxf /labshare/raph/spd/finemap/reference_panels/topmed.freeze5b.variants.failed_svm_disc.chr10.list neurod.june2019.chr10.pd_regions.filtered.sorted.mac5.vars > neurod.june2019.chr10.pd_regions.filtered.sorted.mac5.nofailed.vars\n",
      "grep -Fvxf /labshare/raph/spd/finemap/reference_panels/topmed.freeze5b.variants.failed_svm_disc.chr11.list neurod.june2019.chr11.pd_regions.filtered.sorted.mac5.vars > neurod.june2019.chr11.pd_regions.filtered.sorted.mac5.nofailed.vars\n",
      "grep -Fvxf /labshare/raph/spd/finemap/reference_panels/topmed.freeze5b.variants.failed_svm_disc.chr12.list neurod.june2019.chr12.pd_regions.filtered.sorted.mac5.vars > neurod.june2019.chr12.pd_regions.filtered.sorted.mac5.nofailed.vars\n",
      "grep -Fvxf /labshare/raph/spd/finemap/reference_panels/topmed.freeze5b.variants.failed_svm_disc.chr13.list neurod.june2019.chr13.pd_regions.filtered.sorted.mac5.vars > neurod.june2019.chr13.pd_regions.filtered.sorted.mac5.nofailed.vars\n",
      "grep -Fvxf /labshare/raph/spd/finemap/reference_panels/topmed.freeze5b.variants.failed_svm_disc.chr14.list neurod.june2019.chr14.pd_regions.filtered.sorted.mac5.vars > neurod.june2019.chr14.pd_regions.filtered.sorted.mac5.nofailed.vars\n",
      "grep -Fvxf /labshare/raph/spd/finemap/reference_panels/topmed.freeze5b.variants.failed_svm_disc.chr15.list neurod.june2019.chr15.pd_regions.filtered.sorted.mac5.vars > neurod.june2019.chr15.pd_regions.filtered.sorted.mac5.nofailed.vars\n",
      "grep -Fvxf /labshare/raph/spd/finemap/reference_panels/topmed.freeze5b.variants.failed_svm_disc.chr16.list neurod.june2019.chr16.pd_regions.filtered.sorted.mac5.vars > neurod.june2019.chr16.pd_regions.filtered.sorted.mac5.nofailed.vars\n",
      "grep -Fvxf /labshare/raph/spd/finemap/reference_panels/topmed.freeze5b.variants.failed_svm_disc.chr17.list neurod.june2019.chr17.pd_regions.filtered.sorted.mac5.vars > neurod.june2019.chr17.pd_regions.filtered.sorted.mac5.nofailed.vars\n",
      "grep -Fvxf /labshare/raph/spd/finemap/reference_panels/topmed.freeze5b.variants.failed_svm_disc.chr18.list neurod.june2019.chr18.pd_regions.filtered.sorted.mac5.vars > neurod.june2019.chr18.pd_regions.filtered.sorted.mac5.nofailed.vars\n",
      "grep -Fvxf /labshare/raph/spd/finemap/reference_panels/topmed.freeze5b.variants.failed_svm_disc.chr19.list neurod.june2019.chr19.pd_regions.filtered.sorted.mac5.vars > neurod.june2019.chr19.pd_regions.filtered.sorted.mac5.nofailed.vars\n",
      "grep -Fvxf /labshare/raph/spd/finemap/reference_panels/topmed.freeze5b.variants.failed_svm_disc.chr20.list neurod.june2019.chr20.pd_regions.filtered.sorted.mac5.vars > neurod.june2019.chr20.pd_regions.filtered.sorted.mac5.nofailed.vars\n",
      "grep -Fvxf /labshare/raph/spd/finemap/reference_panels/topmed.freeze5b.variants.failed_svm_disc.chr21.list neurod.june2019.chr21.pd_regions.filtered.sorted.mac5.vars > neurod.june2019.chr21.pd_regions.filtered.sorted.mac5.nofailed.vars\n"
     ]
    }
   ],
   "source": [
    "##removing TOPMed failed variants from TOPMed sets (mac5)\n",
    "for num in range (1,22):\n",
    "    print(\"grep -Fvxf /labshare/raph/spd/finemap/reference_panels/topmed.freeze5b.variants.failed_svm_disc.chr{}.list neurod.june2019.chr{}.pd_regions.filtered.sorted.mac5.vars > neurod.june2019.chr{}.pd_regions.filtered.sorted.mac5.nofailed.vars\".format(num,num,num))"
   ]
  },
  {
   "cell_type": "code",
   "execution_count": null,
   "metadata": {},
   "outputs": [],
   "source": [
    "##removing all topmed fails "
   ]
  },
  {
   "cell_type": "code",
   "execution_count": null,
   "metadata": {},
   "outputs": [],
   "source": [
    "%%bash\n",
    "\n",
    "#REWRITING SNP IDS TO chr#:pos:ref:alt\n",
    "\n",
    "awk '{if($2 == \".\") {print $1,”chr”$1\":\"$4\":\"$5\":\"$6,$4,$5,$6} else {print $0}}' topmed.freeze5b.chr21.bim > TOPMed_clean/topmed.freeze5b.chr21_clean.bim\n",
    "\n",
    "awk '{if($2 == \".\") {print $1,”chr”$1\":\"$4\":\"$5\":\"$6,$4,$5,$6} else {print $0}}' neurod.june2019.chr22.gtonly.bim > LNG_clean/neurod.june2019.chr22_clean.gtonly.bim\n",
    "\n",
    "awk '$1 !~ \"#\" {print \"chr\"$1\":\"$4\":\"$5\":\"$6}' topmed.freeze5b.chr21.bim > topmed.freeze5b.chr21.var\n",
    "\n",
    "awk '{print $2}' neurod.june2019.chr22.gtonly.bim > neurod.june2019.chr22.vars\n",
    "\n",
    "*\n",
    "awk '$2=\"chr\"$2' topmed.freeze5b.chr5_clean.bim > topmed.freeze5b.chr5_final.bim\n",
    "\n",
    "(Plink2)\n",
    "awk '$1 !~ \"#\" {print \"chr\"$1\":\"$2\":\"$4\":\"$5}' topmed.freeze5b.chr22.pvar > /labshare/anni/vars/topmed.freeze5b.chr22.var\n",
    "awk '{print $3}' neurod.june2019.chr22.pvar > /labshare/anni/vars/neurod.june2019.chr22.var\n",
    "awk '$1 !~ \"#\" {print $2,$6}’ topmed.freeze5b.chr22.pvar > /labshare/anni/vars/\n",
    "\n"
   ]
  },
  {
   "cell_type": "code",
   "execution_count": null,
   "metadata": {},
   "outputs": [],
   "source": [
    "#FILETRING MAF AND MAC IN PLINK2 FILES\n",
    "\n",
    " plink2 --pfile topmed.freeze5b.chr21 --maf 0.001 --mac 5 --make-pgen --out filtered.topmed.freeze5b.chr21\n",
    "\n",
    "COPYING FAM/BED FILES SO THEYRE IN THE SAME LOCATION\n",
    "\n",
    "cp topmed.freeze5b.chr2.fam TOPMed_clean/topmed.freeze5b.chr2_clean.fam\n",
    "\n",
    "cp topmed.freeze5b.chr2.bed TOPMed_clean/topmed.freeze5b.chr2_clean.bed\n",
    "\n",
    "SORTING THROUGH TO SEE IF ANY SNPS HAVE , (MULTIALLELIC)\n",
    "\n",
    "awk '$1 ~ /,/ { print }’ TOPMed/chr22_check.txt > multiall_chr22.txt"
   ]
  }
 ],
 "metadata": {
  "kernelspec": {
   "display_name": "Python 3",
   "language": "python",
   "name": "python3"
  },
  "language_info": {
   "codemirror_mode": {
    "name": "ipython",
    "version": 3
   },
   "file_extension": ".py",
   "mimetype": "text/x-python",
   "name": "python",
   "nbconvert_exporter": "python",
   "pygments_lexer": "ipython3",
   "version": "3.7.3"
  }
 },
 "nbformat": 4,
 "nbformat_minor": 2
}
