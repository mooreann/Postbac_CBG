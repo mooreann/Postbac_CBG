{
 "cells": [
  {
   "cell_type": "code",
   "execution_count": 1,
   "metadata": {},
   "outputs": [],
   "source": [
    "import sys\n",
    "#from sets import Set\n",
    "from Bio import SeqIO\n",
    "\n",
    "WRKDIR = '/home/mooreank/salmon/'\n",
    "\n",
    "original_fasta = '{}gencode.v32.transcripts.fa'.format(WRKDIR)\n",
    "corrected_fasta = '{}filtered.gencode.v32.transcripts.fa'.format(WRKDIR)\n",
    "ids = '{}bad.gencode.v32.transcript_ids.txt'.format(WRKDIR)"
   ]
  },
  {
   "cell_type": "code",
   "execution_count": 2,
   "metadata": {},
   "outputs": [],
   "source": [
    "# read the first file given and generate a set (faster iteration respect lists\n",
    "##get list of transcript ids to remove\n",
    "identifiers = []\n",
    "\n",
    "with open(ids, 'r') as fi:\n",
    "    for line in fi:\n",
    "        line = line.strip()\n",
    "        identifiers.append(str(line).replace(\">\", \"\"))\n",
    "        \n",
    "##get list of all record ids in original fasta\n",
    "record_ids = []\n",
    "\n",
    "with open('{}gencode.v32.transcripts.fa'.format(WRKDIR)):\n",
    "    records = SeqIO.parse(original_fasta, 'fasta')\n",
    "    for record in records:\n",
    "        record_ids.append(record.id)"
   ]
  },
  {
   "cell_type": "code",
   "execution_count": 3,
   "metadata": {},
   "outputs": [],
   "source": [
    "record_ids = record_ids[:20]"
   ]
  },
  {
   "cell_type": "code",
   "execution_count": 4,
   "metadata": {},
   "outputs": [],
   "source": [
    "##get list of record ids to keep\n",
    "filtered = [i for i in record_ids if not any(i for j in identifiers if str(j) in i)]"
   ]
  },
  {
   "cell_type": "code",
   "execution_count": 6,
   "metadata": {},
   "outputs": [
    {
     "data": {
      "text/plain": [
       "19"
      ]
     },
     "execution_count": 6,
     "metadata": {},
     "output_type": "execute_result"
    }
   ],
   "source": [
    "len(filtered)"
   ]
  },
  {
   "cell_type": "code",
   "execution_count": 64,
   "metadata": {},
   "outputs": [
    {
     "name": "stdout",
     "output_type": "stream",
     "text": [
      "223800\n",
      "3662\n"
     ]
    }
   ],
   "source": [
    "print(len(filtered))\n",
    "print(len(identifiers))"
   ]
  },
  {
   "cell_type": "code",
   "execution_count": 5,
   "metadata": {},
   "outputs": [],
   "source": [
    "##run through original fasta and keep only records with record ids in filtered list\n",
    "with open('{}gencode.v32.transcripts.fa'.format(WRKDIR)) as original_fasta, open('{}test.filtered.gencode.v32.transcripts.fa'.format(WRKDIR), 'w') as corrected_fasta:\n",
    "        records = SeqIO.parse(original_fasta, 'fasta')\n",
    "        for record in records:\n",
    "            for x in filtered:\n",
    "                if x == record.id:\n",
    "                    SeqIO.write(record, corrected_fasta, 'fasta')\n",
    "                    \n",
    "                    \n",
    "                    \n",
    "                    \n",
    "                    \n",
    "                    \n",
    "                    \n",
    "                    \n",
    "                    \n",
    "                    \n",
    "                    \n",
    "                    \n",
    "                    \n",
    "                    \n",
    "                    \n",
    "                    \n",
    "                    "
   ]
  },
  {
   "cell_type": "code",
   "execution_count": 42,
   "metadata": {},
   "outputs": [
    {
     "name": "stdout",
     "output_type": "stream",
     "text": [
      "['ENST00000610542.1', 'ENST00000618181.4', 'ENST00000622503.4', 'ENST00000618323.4', 'ENST00000616016.4', 'ENST00000618779.4', 'ENST00000616125.4', 'ENST00000620200.4', 'ENST00000617307.4', 'ENST00000622660.1']\n"
     ]
    }
   ],
   "source": [
    "# test_ids = identifiers[:10]\n",
    "# print(test_ids)"
   ]
  },
  {
   "cell_type": "code",
   "execution_count": 59,
   "metadata": {},
   "outputs": [
    {
     "data": {
      "text/plain": [
       "[SeqRecord(seq=Seq('GTGTCTGACTTCCAGCAACTGCTGGCCTGTGCCAGGGTGCAAGCTGAGTTGGAG...GAA', SingleLetterAlphabet()), id='ENST00000450305.2|ENSG00000223972.5|OTTHUMG00000000961.2|OTTHUMT00000002844.2|DDX11L1-201|DDX11L1|632|transcribed_unprocessed_pseudogene|', name='ENST00000450305.2|ENSG00000223972.5|OTTHUMG00000000961.2|OTTHUMT00000002844.2|DDX11L1-201|DDX11L1|632|transcribed_unprocessed_pseudogene|', description='ENST00000450305.2|ENSG00000223972.5|OTTHUMG00000000961.2|OTTHUMT00000002844.2|DDX11L1-201|DDX11L1|632|transcribed_unprocessed_pseudogene|', dbxrefs=[]),\n",
       " SeqRecord(seq=Seq('ATGGGAGCCGTGTGCACGTCGGGAGCTCGGAGTGAGCGCACCATGACTCCTGTG...AAA', SingleLetterAlphabet()), id='ENST00000488147.1|ENSG00000227232.5|OTTHUMG00000000958.1|OTTHUMT00000002839.1|WASH7P-201|WASH7P|1351|unprocessed_pseudogene|', name='ENST00000488147.1|ENSG00000227232.5|OTTHUMG00000000958.1|OTTHUMT00000002839.1|WASH7P-201|WASH7P|1351|unprocessed_pseudogene|', description='ENST00000488147.1|ENSG00000227232.5|OTTHUMG00000000958.1|OTTHUMT00000002839.1|WASH7P-201|WASH7P|1351|unprocessed_pseudogene|', dbxrefs=[]),\n",
       " SeqRecord(seq=Seq('TGTGGGAGAGGAACATGGGCTCAGGACAGCGGGTGTCAGCTTGCCTGACCCCCA...TAG', SingleLetterAlphabet()), id='ENST00000619216.1|ENSG00000278267.1|-|-|MIR6859-1-201|MIR6859-1|68|miRNA|', name='ENST00000619216.1|ENSG00000278267.1|-|-|MIR6859-1-201|MIR6859-1|68|miRNA|', description='ENST00000619216.1|ENSG00000278267.1|-|-|MIR6859-1-201|MIR6859-1|68|miRNA|', dbxrefs=[]),\n",
       " SeqRecord(seq=Seq('GTGCACACGGCTCCCATGCGTTGTCTTCCGAGCGTCAGGCCGCCCCTACCCGTG...TAT', SingleLetterAlphabet()), id='ENST00000473358.1|ENSG00000243485.5|OTTHUMG00000000959.2|OTTHUMT00000002840.1|MIR1302-2HG-202|MIR1302-2HG|712|lncRNA|', name='ENST00000473358.1|ENSG00000243485.5|OTTHUMG00000000959.2|OTTHUMT00000002840.1|MIR1302-2HG-202|MIR1302-2HG|712|lncRNA|', description='ENST00000473358.1|ENSG00000243485.5|OTTHUMG00000000959.2|OTTHUMT00000002840.1|MIR1302-2HG-202|MIR1302-2HG|712|lncRNA|', dbxrefs=[]),\n",
       " SeqRecord(seq=Seq('TCATCAGTCCAAAGTCCAGCAGTTGTCCCTCCTGGAATCCGTTGGCTTGCCTCC...GTC', SingleLetterAlphabet()), id='ENST00000469289.1|ENSG00000243485.5|OTTHUMG00000000959.2|OTTHUMT00000002841.2|MIR1302-2HG-201|MIR1302-2HG|535|lncRNA|', name='ENST00000469289.1|ENSG00000243485.5|OTTHUMG00000000959.2|OTTHUMT00000002841.2|MIR1302-2HG-201|MIR1302-2HG|535|lncRNA|', description='ENST00000469289.1|ENSG00000243485.5|OTTHUMG00000000959.2|OTTHUMT00000002841.2|MIR1302-2HG-201|MIR1302-2HG|535|lncRNA|', dbxrefs=[]),\n",
       " SeqRecord(seq=Seq('GGATGCCCAGCTAGTTTGAATTTTAGATAAACAACGAATAATTTCGTAGCATAA...TTA', SingleLetterAlphabet()), id='ENST00000607096.1|ENSG00000284332.1|-|-|MIR1302-2-201|MIR1302-2|138|miRNA|', name='ENST00000607096.1|ENSG00000284332.1|-|-|MIR1302-2-201|MIR1302-2|138|miRNA|', description='ENST00000607096.1|ENSG00000284332.1|-|-|MIR1302-2-201|MIR1302-2|138|miRNA|', dbxrefs=[]),\n",
       " SeqRecord(seq=Seq('CACACAACGGGGTTTCGGGGCTGTGGACCCTGTGCCAGGAAAGGAAGGGCGCAG...GCT', SingleLetterAlphabet()), id='ENST00000417324.1|ENSG00000237613.2|OTTHUMG00000000960.1|OTTHUMT00000002842.1|FAM138A-201|FAM138A|1187|lncRNA|', name='ENST00000417324.1|ENSG00000237613.2|OTTHUMG00000000960.1|OTTHUMT00000002842.1|FAM138A-201|FAM138A|1187|lncRNA|', description='ENST00000417324.1|ENSG00000237613.2|OTTHUMG00000000960.1|OTTHUMT00000002842.1|FAM138A-201|FAM138A|1187|lncRNA|', dbxrefs=[]),\n",
       " SeqRecord(seq=Seq('GGGGTTTCGGGGCTGTGGACCCTGTGCCAGGAAAGGAAGGGCGCAGCTCCTGCA...GAA', SingleLetterAlphabet()), id='ENST00000461467.1|ENSG00000237613.2|OTTHUMG00000000960.1|OTTHUMT00000002843.1|FAM138A-202|FAM138A|590|lncRNA|', name='ENST00000461467.1|ENSG00000237613.2|OTTHUMG00000000960.1|OTTHUMT00000002843.1|FAM138A-202|FAM138A|590|lncRNA|', description='ENST00000461467.1|ENSG00000237613.2|OTTHUMG00000000960.1|OTTHUMT00000002843.1|FAM138A-202|FAM138A|590|lncRNA|', dbxrefs=[]),\n",
       " SeqRecord(seq=Seq('GCGGTATCTAAATTTGTATTGATTGGACTTTCAAGCTCTTGGGAGATGCATCTT...AAC', SingleLetterAlphabet()), id='ENST00000606857.1|ENSG00000268020.3|OTTHUMG00000185779.1|OTTHUMT00000471235.1|OR4G4P-201|OR4G4P|840|unprocessed_pseudogene|', name='ENST00000606857.1|ENSG00000268020.3|OTTHUMG00000185779.1|OTTHUMT00000471235.1|OR4G4P-201|OR4G4P|840|unprocessed_pseudogene|', description='ENST00000606857.1|ENSG00000268020.3|OTTHUMG00000185779.1|OTTHUMT00000471235.1|OR4G4P-201|OR4G4P|840|unprocessed_pseudogene|', dbxrefs=[]),\n",
       " SeqRecord(seq=Seq('AGCTATCTGAATTTCTCCTTCTCCTAAAAATGCACATCCTATGACTGAAAAGAC...AGC', SingleLetterAlphabet()), id='ENST00000642116.1|ENSG00000240361.2|OTTHUMG00000001095.3|OTTHUMT00000492680.1|OR4G11P-202|OR4G11P|1414|lncRNA|', name='ENST00000642116.1|ENSG00000240361.2|OTTHUMG00000001095.3|OTTHUMT00000492680.1|OR4G11P-202|OR4G11P|1414|lncRNA|', description='ENST00000642116.1|ENSG00000240361.2|OTTHUMG00000001095.3|OTTHUMT00000492680.1|OR4G11P-202|OR4G11P|1414|lncRNA|', dbxrefs=[])]"
      ]
     },
     "execution_count": 59,
     "metadata": {},
     "output_type": "execute_result"
    }
   ],
   "source": [
    "#'ENST00000610542.1' in filtered\n",
    "\n",
    "filtered[:10]\n",
    "filtered = [i for i in record_ids if not any(i for j in identifiers if str(j) in i)]"
   ]
  },
  {
   "cell_type": "code",
   "execution_count": 60,
   "metadata": {},
   "outputs": [
    {
     "name": "stdout",
     "output_type": "stream",
     "text": [
      "227461\n"
     ]
    }
   ],
   "source": []
  },
  {
   "cell_type": "code",
   "execution_count": 50,
   "metadata": {},
   "outputs": [
    {
     "data": {
      "text/plain": [
       "223800"
      ]
     },
     "execution_count": 50,
     "metadata": {},
     "output_type": "execute_result"
    }
   ],
   "source": [
    "len(filtered)"
   ]
  },
  {
   "cell_type": "code",
   "execution_count": 37,
   "metadata": {},
   "outputs": [
    {
     "data": {
      "text/plain": [
       "['sdjfkhjks', 'yellow']"
      ]
     },
     "execution_count": 37,
     "metadata": {},
     "output_type": "execute_result"
    }
   ],
   "source": [
    "test_ids = ['hell','good']\n",
    "test_records = ['hellothere','sdjfkhjks','goodbye','yellow','hell']\n",
    "good_list = []\n",
    "\n",
    "# for x in test_transcripts:\n",
    "#     for y in test_ids:\n",
    "#if not any ([y in test_transcripts for x in test_ids]):\n",
    "#if any(e in test_ids for e in test_records):\n",
    "[i for i in test_records if not any(i for j in test_ids if str(j) in i)]\n",
    "    #good_list.append(i)\n",
    "            "
   ]
  },
  {
   "cell_type": "code",
   "execution_count": null,
   "metadata": {},
   "outputs": [],
   "source": [
    "test = []\n",
    "# for id in identifiers:\n",
    "#         if not any(id not in record for id in record_ids):\n",
    "\n",
    "for record in record_ids:\n",
    "    for id in identifiers:\n",
    "        if not any([id in identifiers for record in record_ids]):\n",
    "            test.append(record)"
   ]
  },
  {
   "cell_type": "code",
   "execution_count": null,
   "metadata": {},
   "outputs": [],
   "source": [
    "#with open(original_fasta) as original_fasta, open(corrected_fasta, 'w') as corrected_fasta:\n",
    "with open('{}gencode.v32.transcripts.fa'.format(WRKDIR)) as original_fasta:\n",
    "    records = list(SeqIO.parse(original_fasta, 'fasta'))\n"
   ]
  }
 ],
 "metadata": {
  "kernelspec": {
   "display_name": "Python 3",
   "language": "python",
   "name": "python3"
  },
  "language_info": {
   "codemirror_mode": {
    "name": "ipython",
    "version": 3
   },
   "file_extension": ".py",
   "mimetype": "text/x-python",
   "name": "python",
   "nbconvert_exporter": "python",
   "pygments_lexer": "ipython3",
   "version": "3.7.3"
  }
 },
 "nbformat": 4,
 "nbformat_minor": 2
}
